{
 "cells": [
  {
   "cell_type": "code",
   "execution_count": 1,
   "metadata": {},
   "outputs": [],
   "source": [
    "# Importação das blibliotecas principais\n",
    "import pandas as pd\n",
    "import numpy as np\n",
    "import warnings\n",
    "\n",
    "# Importação do modelo e suas dependencias\n",
    "from sklearn.cluster import KMeans\n",
    "from sklearn.metrics import adjusted_rand_score, silhouette_score\n",
    "from sklearn.preprocessing import StandardScaler, MinMaxScaler\n",
    "from sklearn.decomposition import PCA\n",
    "from yellowbrick.cluster import KElbowVisualizer\n",
    "\n",
    "\n",
    "# Importação das bibliotecas de plotagem\n",
    "import seaborn as sns\n",
    "import matplotlib.pyplot as plt\n",
    "import plotly.express as px\n",
    "from plotly.subplots import make_subplots"
   ]
  },
  {
   "cell_type": "code",
   "execution_count": 2,
   "metadata": {},
   "outputs": [],
   "source": [
    "warnings.filterwarnings(\"ignore\")"
   ]
  },
  {
   "cell_type": "code",
   "execution_count": 3,
   "metadata": {},
   "outputs": [
    {
     "data": {
      "text/html": [
       "<div>\n",
       "<style scoped>\n",
       "    .dataframe tbody tr th:only-of-type {\n",
       "        vertical-align: middle;\n",
       "    }\n",
       "\n",
       "    .dataframe tbody tr th {\n",
       "        vertical-align: top;\n",
       "    }\n",
       "\n",
       "    .dataframe thead th {\n",
       "        text-align: right;\n",
       "    }\n",
       "</style>\n",
       "<table border=\"1\" class=\"dataframe\">\n",
       "  <thead>\n",
       "    <tr style=\"text-align: right;\">\n",
       "      <th></th>\n",
       "      <th>A002</th>\n",
       "      <th>A003</th>\n",
       "      <th>A004</th>\n",
       "      <th>A005</th>\n",
       "      <th>UF</th>\n",
       "      <th>V1012</th>\n",
       "      <th>V1022</th>\n",
       "      <th>B0101</th>\n",
       "      <th>B0102</th>\n",
       "      <th>B0103</th>\n",
       "      <th>...</th>\n",
       "      <th>B009F</th>\n",
       "      <th>B011</th>\n",
       "      <th>B007</th>\n",
       "      <th>C013</th>\n",
       "      <th>C002</th>\n",
       "      <th>C004</th>\n",
       "      <th>D0053</th>\n",
       "      <th>D0051</th>\n",
       "      <th>mes_numero</th>\n",
       "      <th>mes_descricao</th>\n",
       "    </tr>\n",
       "  </thead>\n",
       "  <tbody>\n",
       "    <tr>\n",
       "      <th>0</th>\n",
       "      <td>36</td>\n",
       "      <td>1</td>\n",
       "      <td>4</td>\n",
       "      <td>5</td>\n",
       "      <td>11</td>\n",
       "      <td>4</td>\n",
       "      <td>1</td>\n",
       "      <td>2</td>\n",
       "      <td>2</td>\n",
       "      <td>2</td>\n",
       "      <td>...</td>\n",
       "      <td>0.0</td>\n",
       "      <td>2</td>\n",
       "      <td>1</td>\n",
       "      <td>0.0</td>\n",
       "      <td>0.0</td>\n",
       "      <td>0.0</td>\n",
       "      <td>1200.0</td>\n",
       "      <td>1</td>\n",
       "      <td>9</td>\n",
       "      <td>setembro</td>\n",
       "    </tr>\n",
       "    <tr>\n",
       "      <th>1</th>\n",
       "      <td>30</td>\n",
       "      <td>2</td>\n",
       "      <td>4</td>\n",
       "      <td>7</td>\n",
       "      <td>11</td>\n",
       "      <td>4</td>\n",
       "      <td>1</td>\n",
       "      <td>2</td>\n",
       "      <td>2</td>\n",
       "      <td>2</td>\n",
       "      <td>...</td>\n",
       "      <td>0.0</td>\n",
       "      <td>2</td>\n",
       "      <td>2</td>\n",
       "      <td>0.0</td>\n",
       "      <td>0.0</td>\n",
       "      <td>0.0</td>\n",
       "      <td>1200.0</td>\n",
       "      <td>1</td>\n",
       "      <td>9</td>\n",
       "      <td>setembro</td>\n",
       "    </tr>\n",
       "    <tr>\n",
       "      <th>2</th>\n",
       "      <td>13</td>\n",
       "      <td>1</td>\n",
       "      <td>4</td>\n",
       "      <td>2</td>\n",
       "      <td>11</td>\n",
       "      <td>4</td>\n",
       "      <td>1</td>\n",
       "      <td>2</td>\n",
       "      <td>2</td>\n",
       "      <td>2</td>\n",
       "      <td>...</td>\n",
       "      <td>0.0</td>\n",
       "      <td>4</td>\n",
       "      <td>1</td>\n",
       "      <td>0.0</td>\n",
       "      <td>0.0</td>\n",
       "      <td>0.0</td>\n",
       "      <td>1200.0</td>\n",
       "      <td>1</td>\n",
       "      <td>9</td>\n",
       "      <td>setembro</td>\n",
       "    </tr>\n",
       "    <tr>\n",
       "      <th>3</th>\n",
       "      <td>11</td>\n",
       "      <td>1</td>\n",
       "      <td>4</td>\n",
       "      <td>2</td>\n",
       "      <td>11</td>\n",
       "      <td>4</td>\n",
       "      <td>1</td>\n",
       "      <td>2</td>\n",
       "      <td>2</td>\n",
       "      <td>2</td>\n",
       "      <td>...</td>\n",
       "      <td>0.0</td>\n",
       "      <td>4</td>\n",
       "      <td>1</td>\n",
       "      <td>0.0</td>\n",
       "      <td>0.0</td>\n",
       "      <td>0.0</td>\n",
       "      <td>1200.0</td>\n",
       "      <td>1</td>\n",
       "      <td>9</td>\n",
       "      <td>setembro</td>\n",
       "    </tr>\n",
       "    <tr>\n",
       "      <th>4</th>\n",
       "      <td>57</td>\n",
       "      <td>2</td>\n",
       "      <td>1</td>\n",
       "      <td>2</td>\n",
       "      <td>11</td>\n",
       "      <td>1</td>\n",
       "      <td>1</td>\n",
       "      <td>2</td>\n",
       "      <td>2</td>\n",
       "      <td>2</td>\n",
       "      <td>...</td>\n",
       "      <td>0.0</td>\n",
       "      <td>2</td>\n",
       "      <td>2</td>\n",
       "      <td>0.0</td>\n",
       "      <td>2.0</td>\n",
       "      <td>0.0</td>\n",
       "      <td>0.0</td>\n",
       "      <td>2</td>\n",
       "      <td>9</td>\n",
       "      <td>setembro</td>\n",
       "    </tr>\n",
       "  </tbody>\n",
       "</table>\n",
       "<p>5 rows × 40 columns</p>\n",
       "</div>"
      ],
      "text/plain": [
       "   A002  A003  A004  A005  UF  V1012  V1022  B0101  B0102  B0103  ...  B009F  \\\n",
       "0    36     1     4     5  11      4      1      2      2      2  ...    0.0   \n",
       "1    30     2     4     7  11      4      1      2      2      2  ...    0.0   \n",
       "2    13     1     4     2  11      4      1      2      2      2  ...    0.0   \n",
       "3    11     1     4     2  11      4      1      2      2      2  ...    0.0   \n",
       "4    57     2     1     2  11      1      1      2      2      2  ...    0.0   \n",
       "\n",
       "   B011  B007  C013  C002  C004   D0053  D0051  mes_numero  mes_descricao  \n",
       "0     2     1   0.0   0.0   0.0  1200.0      1           9       setembro  \n",
       "1     2     2   0.0   0.0   0.0  1200.0      1           9       setembro  \n",
       "2     4     1   0.0   0.0   0.0  1200.0      1           9       setembro  \n",
       "3     4     1   0.0   0.0   0.0  1200.0      1           9       setembro  \n",
       "4     2     2   0.0   2.0   0.0     0.0      2           9       setembro  \n",
       "\n",
       "[5 rows x 40 columns]"
      ]
     },
     "execution_count": 3,
     "metadata": {},
     "output_type": "execute_result"
    }
   ],
   "source": [
    "# Importação do arquivo usado para modelagem\n",
    "df = pd.read_csv('df_dados_1_2.csv', sep=';')\n",
    "df.head()"
   ]
  },
  {
   "cell_type": "code",
   "execution_count": 4,
   "metadata": {},
   "outputs": [
    {
     "data": {
      "text/html": [
       "<div>\n",
       "<style scoped>\n",
       "    .dataframe tbody tr th:only-of-type {\n",
       "        vertical-align: middle;\n",
       "    }\n",
       "\n",
       "    .dataframe tbody tr th {\n",
       "        vertical-align: top;\n",
       "    }\n",
       "\n",
       "    .dataframe thead th {\n",
       "        text-align: right;\n",
       "    }\n",
       "</style>\n",
       "<table border=\"1\" class=\"dataframe\">\n",
       "  <thead>\n",
       "    <tr style=\"text-align: right;\">\n",
       "      <th></th>\n",
       "      <th>A002</th>\n",
       "      <th>A003</th>\n",
       "      <th>A004</th>\n",
       "      <th>A005</th>\n",
       "      <th>UF</th>\n",
       "      <th>V1012</th>\n",
       "      <th>V1022</th>\n",
       "      <th>B0101</th>\n",
       "      <th>B0102</th>\n",
       "      <th>B0103</th>\n",
       "      <th>...</th>\n",
       "      <th>B009E</th>\n",
       "      <th>B009F</th>\n",
       "      <th>B011</th>\n",
       "      <th>B007</th>\n",
       "      <th>C013</th>\n",
       "      <th>C002</th>\n",
       "      <th>C004</th>\n",
       "      <th>D0053</th>\n",
       "      <th>D0051</th>\n",
       "      <th>mes_numero</th>\n",
       "    </tr>\n",
       "  </thead>\n",
       "  <tbody>\n",
       "    <tr>\n",
       "      <th>0</th>\n",
       "      <td>36</td>\n",
       "      <td>1</td>\n",
       "      <td>4</td>\n",
       "      <td>5</td>\n",
       "      <td>11</td>\n",
       "      <td>4</td>\n",
       "      <td>1</td>\n",
       "      <td>2</td>\n",
       "      <td>2</td>\n",
       "      <td>2</td>\n",
       "      <td>...</td>\n",
       "      <td>0.0</td>\n",
       "      <td>0.0</td>\n",
       "      <td>2</td>\n",
       "      <td>1</td>\n",
       "      <td>0.0</td>\n",
       "      <td>0.0</td>\n",
       "      <td>0.0</td>\n",
       "      <td>1200.0</td>\n",
       "      <td>1</td>\n",
       "      <td>9</td>\n",
       "    </tr>\n",
       "    <tr>\n",
       "      <th>1</th>\n",
       "      <td>30</td>\n",
       "      <td>2</td>\n",
       "      <td>4</td>\n",
       "      <td>7</td>\n",
       "      <td>11</td>\n",
       "      <td>4</td>\n",
       "      <td>1</td>\n",
       "      <td>2</td>\n",
       "      <td>2</td>\n",
       "      <td>2</td>\n",
       "      <td>...</td>\n",
       "      <td>0.0</td>\n",
       "      <td>0.0</td>\n",
       "      <td>2</td>\n",
       "      <td>2</td>\n",
       "      <td>0.0</td>\n",
       "      <td>0.0</td>\n",
       "      <td>0.0</td>\n",
       "      <td>1200.0</td>\n",
       "      <td>1</td>\n",
       "      <td>9</td>\n",
       "    </tr>\n",
       "    <tr>\n",
       "      <th>2</th>\n",
       "      <td>13</td>\n",
       "      <td>1</td>\n",
       "      <td>4</td>\n",
       "      <td>2</td>\n",
       "      <td>11</td>\n",
       "      <td>4</td>\n",
       "      <td>1</td>\n",
       "      <td>2</td>\n",
       "      <td>2</td>\n",
       "      <td>2</td>\n",
       "      <td>...</td>\n",
       "      <td>0.0</td>\n",
       "      <td>0.0</td>\n",
       "      <td>4</td>\n",
       "      <td>1</td>\n",
       "      <td>0.0</td>\n",
       "      <td>0.0</td>\n",
       "      <td>0.0</td>\n",
       "      <td>1200.0</td>\n",
       "      <td>1</td>\n",
       "      <td>9</td>\n",
       "    </tr>\n",
       "    <tr>\n",
       "      <th>3</th>\n",
       "      <td>11</td>\n",
       "      <td>1</td>\n",
       "      <td>4</td>\n",
       "      <td>2</td>\n",
       "      <td>11</td>\n",
       "      <td>4</td>\n",
       "      <td>1</td>\n",
       "      <td>2</td>\n",
       "      <td>2</td>\n",
       "      <td>2</td>\n",
       "      <td>...</td>\n",
       "      <td>0.0</td>\n",
       "      <td>0.0</td>\n",
       "      <td>4</td>\n",
       "      <td>1</td>\n",
       "      <td>0.0</td>\n",
       "      <td>0.0</td>\n",
       "      <td>0.0</td>\n",
       "      <td>1200.0</td>\n",
       "      <td>1</td>\n",
       "      <td>9</td>\n",
       "    </tr>\n",
       "    <tr>\n",
       "      <th>4</th>\n",
       "      <td>57</td>\n",
       "      <td>2</td>\n",
       "      <td>1</td>\n",
       "      <td>2</td>\n",
       "      <td>11</td>\n",
       "      <td>1</td>\n",
       "      <td>1</td>\n",
       "      <td>2</td>\n",
       "      <td>2</td>\n",
       "      <td>2</td>\n",
       "      <td>...</td>\n",
       "      <td>0.0</td>\n",
       "      <td>0.0</td>\n",
       "      <td>2</td>\n",
       "      <td>2</td>\n",
       "      <td>0.0</td>\n",
       "      <td>2.0</td>\n",
       "      <td>0.0</td>\n",
       "      <td>0.0</td>\n",
       "      <td>2</td>\n",
       "      <td>9</td>\n",
       "    </tr>\n",
       "  </tbody>\n",
       "</table>\n",
       "<p>5 rows × 39 columns</p>\n",
       "</div>"
      ],
      "text/plain": [
       "   A002  A003  A004  A005  UF  V1012  V1022  B0101  B0102  B0103  ...  B009E  \\\n",
       "0    36     1     4     5  11      4      1      2      2      2  ...    0.0   \n",
       "1    30     2     4     7  11      4      1      2      2      2  ...    0.0   \n",
       "2    13     1     4     2  11      4      1      2      2      2  ...    0.0   \n",
       "3    11     1     4     2  11      4      1      2      2      2  ...    0.0   \n",
       "4    57     2     1     2  11      1      1      2      2      2  ...    0.0   \n",
       "\n",
       "   B009F  B011  B007  C013  C002  C004   D0053  D0051  mes_numero  \n",
       "0    0.0     2     1   0.0   0.0   0.0  1200.0      1           9  \n",
       "1    0.0     2     2   0.0   0.0   0.0  1200.0      1           9  \n",
       "2    0.0     4     1   0.0   0.0   0.0  1200.0      1           9  \n",
       "3    0.0     4     1   0.0   0.0   0.0  1200.0      1           9  \n",
       "4    0.0     2     2   0.0   2.0   0.0     0.0      2           9  \n",
       "\n",
       "[5 rows x 39 columns]"
      ]
     },
     "execution_count": 4,
     "metadata": {},
     "output_type": "execute_result"
    }
   ],
   "source": [
    "df_new = df.copy().drop(columns='mes_descricao')\n",
    "df_new.head()"
   ]
  },
  {
   "cell_type": "code",
   "execution_count": 5,
   "metadata": {},
   "outputs": [],
   "source": [
    "# Cria um dataframe apenas com registros de amostras positivadas\n",
    "selecao = df_new['B009B'].isin([1,3,4]) | df_new['B009D'].isin([1,3,4]) | df_new['B009F'].isin([1,3,4])\n",
    "df_positivado = df_new[selecao]"
   ]
  },
  {
   "cell_type": "code",
   "execution_count": 6,
   "metadata": {},
   "outputs": [
    {
     "data": {
      "text/plain": [
       "(1149197, 39)"
      ]
     },
     "execution_count": 6,
     "metadata": {},
     "output_type": "execute_result"
    }
   ],
   "source": [
    "df_new.shape"
   ]
  },
  {
   "cell_type": "code",
   "execution_count": 7,
   "metadata": {},
   "outputs": [
    {
     "data": {
      "text/html": [
       "<style type=\"text/css\">\n",
       "#T_759a5_row0_col0, #T_759a5_row1_col1, #T_759a5_row2_col2, #T_759a5_row3_col3, #T_759a5_row4_col4, #T_759a5_row5_col5, #T_759a5_row6_col6, #T_759a5_row7_col7, #T_759a5_row8_col8, #T_759a5_row9_col9, #T_759a5_row10_col10, #T_759a5_row11_col11, #T_759a5_row12_col12, #T_759a5_row13_col13, #T_759a5_row14_col14, #T_759a5_row15_col15, #T_759a5_row16_col16, #T_759a5_row17_col17, #T_759a5_row18_col18, #T_759a5_row19_col19, #T_759a5_row20_col20, #T_759a5_row21_col21, #T_759a5_row22_col22, #T_759a5_row23_col23, #T_759a5_row24_col24, #T_759a5_row25_col25, #T_759a5_row26_col26, #T_759a5_row27_col27, #T_759a5_row28_col28, #T_759a5_row29_col29, #T_759a5_row30_col30, #T_759a5_row31_col31, #T_759a5_row32_col32, #T_759a5_row33_col33, #T_759a5_row34_col34, #T_759a5_row35_col35, #T_759a5_row36_col36, #T_759a5_row37_col37 {\n",
       "  background-color: #b40426;\n",
       "  color: #f1f1f1;\n",
       "}\n",
       "#T_759a5_row0_col1, #T_759a5_row0_col10, #T_759a5_row0_col14, #T_759a5_row0_col16, #T_759a5_row1_col16, #T_759a5_row4_col12, #T_759a5_row4_col16, #T_759a5_row4_col24, #T_759a5_row5_col10, #T_759a5_row6_col11, #T_759a5_row6_col19, #T_759a5_row6_col20, #T_759a5_row6_col21, #T_759a5_row6_col23, #T_759a5_row7_col18, #T_759a5_row8_col20, #T_759a5_row8_col21, #T_759a5_row8_col23, #T_759a5_row9_col20, #T_759a5_row9_col21, #T_759a5_row9_col23, #T_759a5_row13_col26, #T_759a5_row29_col11, #T_759a5_row29_col14, #T_759a5_row31_col32, #T_759a5_row34_col10, #T_759a5_row35_col4, #T_759a5_row35_col12, #T_759a5_row35_col18, #T_759a5_row36_col12, #T_759a5_row36_col16 {\n",
       "  background-color: #5572df;\n",
       "  color: #f1f1f1;\n",
       "}\n",
       "#T_759a5_row0_col2, #T_759a5_row0_col28, #T_759a5_row0_col31, #T_759a5_row1_col37, #T_759a5_row2_col37, #T_759a5_row3_col37, #T_759a5_row4_col37, #T_759a5_row9_col32, #T_759a5_row12_col32, #T_759a5_row14_col32, #T_759a5_row15_col32, #T_759a5_row17_col37, #T_759a5_row18_col37, #T_759a5_row19_col37, #T_759a5_row20_col37, #T_759a5_row21_col37, #T_759a5_row22_col37, #T_759a5_row23_col37, #T_759a5_row27_col6, #T_759a5_row27_col18, #T_759a5_row29_col18, #T_759a5_row29_col19, #T_759a5_row29_col22, #T_759a5_row33_col8, #T_759a5_row37_col32, #T_759a5_row37_col33 {\n",
       "  background-color: #688aef;\n",
       "  color: #f1f1f1;\n",
       "}\n",
       "#T_759a5_row0_col3 {\n",
       "  background-color: #9fbfff;\n",
       "  color: #000000;\n",
       "}\n",
       "#T_759a5_row0_col4, #T_759a5_row3_col8, #T_759a5_row27_col0, #T_759a5_row29_col0 {\n",
       "  background-color: #94b6ff;\n",
       "  color: #000000;\n",
       "}\n",
       "#T_759a5_row0_col5, #T_759a5_row2_col5, #T_759a5_row6_col3, #T_759a5_row6_col24, #T_759a5_row6_col28, #T_759a5_row7_col5, #T_759a5_row8_col17, #T_759a5_row8_col34, #T_759a5_row9_col5, #T_759a5_row12_col18, #T_759a5_row12_col19, #T_759a5_row12_col20, #T_759a5_row12_col21, #T_759a5_row12_col22, #T_759a5_row16_col5, #T_759a5_row16_col10, #T_759a5_row16_col12, #T_759a5_row17_col9, #T_759a5_row18_col5, #T_759a5_row19_col5, #T_759a5_row20_col5, #T_759a5_row21_col5, #T_759a5_row22_col5, #T_759a5_row23_col5, #T_759a5_row27_col5, #T_759a5_row30_col24, #T_759a5_row32_col9, #T_759a5_row33_col27, #T_759a5_row34_col9, #T_759a5_row35_col27 {\n",
       "  background-color: #3f53c6;\n",
       "  color: #f1f1f1;\n",
       "}\n",
       "#T_759a5_row0_col6, #T_759a5_row3_col29, #T_759a5_row9_col33, #T_759a5_row29_col30, #T_759a5_row34_col33 {\n",
       "  background-color: #6f92f3;\n",
       "  color: #f1f1f1;\n",
       "}\n",
       "#T_759a5_row0_col7, #T_759a5_row0_col8, #T_759a5_row2_col4, #T_759a5_row3_col6, #T_759a5_row3_col30, #T_759a5_row4_col2, #T_759a5_row4_col9, #T_759a5_row6_col34, #T_759a5_row8_col0, #T_759a5_row8_col1, #T_759a5_row10_col16, #T_759a5_row10_col17, #T_759a5_row11_col17, #T_759a5_row11_col22, #T_759a5_row11_col23, #T_759a5_row13_col17, #T_759a5_row14_col16, #T_759a5_row14_col18, #T_759a5_row14_col19, #T_759a5_row14_col20, #T_759a5_row14_col21, #T_759a5_row14_col22, #T_759a5_row14_col23, #T_759a5_row15_col17, #T_759a5_row18_col10, #T_759a5_row18_col13, #T_759a5_row18_col15, #T_759a5_row19_col11, #T_759a5_row19_col14, #T_759a5_row20_col10, #T_759a5_row20_col11, #T_759a5_row20_col12, #T_759a5_row20_col13, #T_759a5_row20_col14, #T_759a5_row20_col15, #T_759a5_row21_col10, #T_759a5_row21_col11, #T_759a5_row21_col12, #T_759a5_row21_col13, #T_759a5_row21_col14, #T_759a5_row21_col15, #T_759a5_row22_col10, #T_759a5_row22_col11, #T_759a5_row22_col12, #T_759a5_row22_col13, #T_759a5_row22_col14, #T_759a5_row22_col15, #T_759a5_row23_col10, #T_759a5_row23_col11, #T_759a5_row23_col12, #T_759a5_row23_col13, #T_759a5_row23_col14, #T_759a5_row23_col15, #T_759a5_row26_col9, #T_759a5_row30_col3, #T_759a5_row30_col5, #T_759a5_row30_col27, #T_759a5_row31_col24, #T_759a5_row31_col25, #T_759a5_row31_col26, #T_759a5_row31_col27, #T_759a5_row31_col28, #T_759a5_row31_col29, #T_759a5_row32_col1, #T_759a5_row32_col33, #T_759a5_row33_col32, #T_759a5_row35_col5, #T_759a5_row35_col36, #T_759a5_row35_col37, #T_759a5_row36_col31, #T_759a5_row36_col35 {\n",
       "  background-color: #3b4cc0;\n",
       "  color: #f1f1f1;\n",
       "}\n",
       "#T_759a5_row0_col9, #T_759a5_row3_col17, #T_759a5_row6_col25, #T_759a5_row6_col26, #T_759a5_row6_col29, #T_759a5_row9_col34, #T_759a5_row13_col34, #T_759a5_row14_col1, #T_759a5_row30_col28, #T_759a5_row30_col29, #T_759a5_row35_col24, #T_759a5_row37_col17 {\n",
       "  background-color: #4358cb;\n",
       "  color: #f1f1f1;\n",
       "}\n",
       "#T_759a5_row0_col11, #T_759a5_row0_col27, #T_759a5_row1_col10, #T_759a5_row1_col14, #T_759a5_row2_col12, #T_759a5_row2_col18, #T_759a5_row3_col34, #T_759a5_row4_col10, #T_759a5_row5_col11, #T_759a5_row5_col24, #T_759a5_row6_col14, #T_759a5_row7_col19, #T_759a5_row7_col20, #T_759a5_row7_col21, #T_759a5_row7_col22, #T_759a5_row7_col23, #T_759a5_row7_col26, #T_759a5_row16_col27, #T_759a5_row17_col29, #T_759a5_row26_col31, #T_759a5_row30_col32, #T_759a5_row31_col20, #T_759a5_row31_col21, #T_759a5_row31_col23, #T_759a5_row32_col10, #T_759a5_row32_col29, #T_759a5_row34_col11, #T_759a5_row35_col19, #T_759a5_row35_col22, #T_759a5_row37_col11 {\n",
       "  background-color: #5673e0;\n",
       "  color: #f1f1f1;\n",
       "}\n",
       "#T_759a5_row0_col12, #T_759a5_row1_col12, #T_759a5_row2_col26, #T_759a5_row3_col12, #T_759a5_row5_col12, #T_759a5_row5_col16, #T_759a5_row6_col10, #T_759a5_row6_col22, #T_759a5_row7_col25, #T_759a5_row8_col18, #T_759a5_row8_col19, #T_759a5_row8_col22, #T_759a5_row8_col26, #T_759a5_row9_col18, #T_759a5_row9_col19, #T_759a5_row9_col22, #T_759a5_row9_col26, #T_759a5_row10_col26, #T_759a5_row12_col26, #T_759a5_row15_col26, #T_759a5_row27_col11, #T_759a5_row27_col14, #T_759a5_row31_col19, #T_759a5_row31_col22, #T_759a5_row32_col12, #T_759a5_row32_col16, #T_759a5_row33_col16, #T_759a5_row37_col10, #T_759a5_row37_col16, #T_759a5_row37_col29 {\n",
       "  background-color: #5470de;\n",
       "  color: #f1f1f1;\n",
       "}\n",
       "#T_759a5_row0_col13, #T_759a5_row2_col9, #T_759a5_row4_col1, #T_759a5_row5_col1, #T_759a5_row6_col13, #T_759a5_row7_col27, #T_759a5_row9_col27, #T_759a5_row10_col1, #T_759a5_row13_col27, #T_759a5_row15_col27, #T_759a5_row17_col1, #T_759a5_row17_col15, #T_759a5_row25_col34, #T_759a5_row27_col13, #T_759a5_row27_col34, #T_759a5_row29_col13, #T_759a5_row30_col17, #T_759a5_row30_col26, #T_759a5_row33_col9, #T_759a5_row33_col28, #T_759a5_row35_col25, #T_759a5_row35_col26, #T_759a5_row37_col1 {\n",
       "  background-color: #465ecf;\n",
       "  color: #f1f1f1;\n",
       "}\n",
       "#T_759a5_row0_col15, #T_759a5_row1_col27, #T_759a5_row1_col34, #T_759a5_row2_col13, #T_759a5_row2_col29, #T_759a5_row5_col27, #T_759a5_row6_col15, #T_759a5_row7_col29, #T_759a5_row10_col29, #T_759a5_row11_col29, #T_759a5_row12_col29, #T_759a5_row13_col19, #T_759a5_row13_col21, #T_759a5_row15_col29, #T_759a5_row16_col34, #T_759a5_row24_col17, #T_759a5_row25_col17, #T_759a5_row29_col15, #T_759a5_row35_col34 {\n",
       "  background-color: #4b64d5;\n",
       "  color: #f1f1f1;\n",
       "}\n",
       "#T_759a5_row0_col17, #T_759a5_row5_col13, #T_759a5_row24_col34, #T_759a5_row26_col34, #T_759a5_row27_col1, #T_759a5_row27_col17, #T_759a5_row29_col1, #T_759a5_row30_col34, #T_759a5_row37_col13 {\n",
       "  background-color: #485fd1;\n",
       "  color: #f1f1f1;\n",
       "}\n",
       "#T_759a5_row0_col18, #T_759a5_row1_col18, #T_759a5_row1_col28, #T_759a5_row4_col18, #T_759a5_row4_col19, #T_759a5_row4_col22, #T_759a5_row4_col23, #T_759a5_row4_col33, #T_759a5_row6_col32, #T_759a5_row19_col27, #T_759a5_row22_col27, #T_759a5_row24_col33, #T_759a5_row31_col4, #T_759a5_row33_col11, #T_759a5_row33_col14, #T_759a5_row33_col20, #T_759a5_row33_col21, #T_759a5_row33_col23, #T_759a5_row34_col28, #T_759a5_row36_col18, #T_759a5_row36_col19, #T_759a5_row36_col20, #T_759a5_row36_col21, #T_759a5_row36_col22 {\n",
       "  background-color: #5b7ae5;\n",
       "  color: #f1f1f1;\n",
       "}\n",
       "#T_759a5_row0_col19, #T_759a5_row0_col20, #T_759a5_row0_col21, #T_759a5_row0_col22, #T_759a5_row0_col23, #T_759a5_row0_col29, #T_759a5_row1_col7, #T_759a5_row1_col19, #T_759a5_row1_col20, #T_759a5_row1_col22, #T_759a5_row1_col23, #T_759a5_row3_col23, #T_759a5_row4_col7, #T_759a5_row4_col20, #T_759a5_row4_col21, #T_759a5_row5_col26, #T_759a5_row16_col29, #T_759a5_row17_col24, #T_759a5_row20_col27, #T_759a5_row21_col27, #T_759a5_row23_col27, #T_759a5_row24_col7, #T_759a5_row24_col31, #T_759a5_row37_col24 {\n",
       "  background-color: #5d7ce6;\n",
       "  color: #f1f1f1;\n",
       "}\n",
       "#T_759a5_row0_col24, #T_759a5_row3_col33, #T_759a5_row4_col26, #T_759a5_row7_col37, #T_759a5_row9_col37, #T_759a5_row10_col37, #T_759a5_row11_col37, #T_759a5_row12_col37, #T_759a5_row13_col37, #T_759a5_row15_col37, #T_759a5_row17_col26, #T_759a5_row24_col30, #T_759a5_row28_col30, #T_759a5_row31_col37, #T_759a5_row32_col26, #T_759a5_row32_col30 {\n",
       "  background-color: #6687ed;\n",
       "  color: #f1f1f1;\n",
       "}\n",
       "#T_759a5_row0_col25, #T_759a5_row16_col7, #T_759a5_row17_col25, #T_759a5_row17_col28, #T_759a5_row24_col6, #T_759a5_row29_col16, #T_759a5_row29_col33, #T_759a5_row30_col1, #T_759a5_row30_col20, #T_759a5_row30_col21, #T_759a5_row30_col23, #T_759a5_row34_col18, #T_759a5_row37_col25 {\n",
       "  background-color: #6180e9;\n",
       "  color: #f1f1f1;\n",
       "}\n",
       "#T_759a5_row0_col26, #T_759a5_row4_col25, #T_759a5_row8_col32, #T_759a5_row11_col33, #T_759a5_row13_col33, #T_759a5_row14_col33, #T_759a5_row15_col33, #T_759a5_row16_col24, #T_759a5_row20_col33, #T_759a5_row23_col33, #T_759a5_row29_col37, #T_759a5_row34_col6, #T_759a5_row35_col33 {\n",
       "  background-color: #6c8ff1;\n",
       "  color: #f1f1f1;\n",
       "}\n",
       "#T_759a5_row0_col30, #T_759a5_row0_col37, #T_759a5_row3_col7, #T_759a5_row3_col27, #T_759a5_row5_col32, #T_759a5_row5_col33, #T_759a5_row10_col32, #T_759a5_row11_col32, #T_759a5_row13_col32, #T_759a5_row16_col37, #T_759a5_row17_col32, #T_759a5_row20_col32, #T_759a5_row21_col32, #T_759a5_row23_col32, #T_759a5_row27_col19, #T_759a5_row27_col22, #T_759a5_row27_col29, #T_759a5_row29_col6, #T_759a5_row29_col20, #T_759a5_row29_col21, #T_759a5_row29_col23, #T_759a5_row35_col7, #T_759a5_row36_col24 {\n",
       "  background-color: #6a8bef;\n",
       "  color: #f1f1f1;\n",
       "}\n",
       "#T_759a5_row0_col32, #T_759a5_row5_col30, #T_759a5_row5_col31, #T_759a5_row8_col4, #T_759a5_row16_col28, #T_759a5_row17_col31, #T_759a5_row25_col16, #T_759a5_row26_col32, #T_759a5_row32_col2, #T_759a5_row33_col3 {\n",
       "  background-color: #7699f6;\n",
       "  color: #f1f1f1;\n",
       "}\n",
       "#T_759a5_row0_col33, #T_759a5_row10_col31, #T_759a5_row11_col30, #T_759a5_row13_col31, #T_759a5_row14_col30 {\n",
       "  background-color: #cedaeb;\n",
       "  color: #000000;\n",
       "}\n",
       "#T_759a5_row0_col34, #T_759a5_row4_col31, #T_759a5_row6_col18, #T_759a5_row7_col28, #T_759a5_row8_col25, #T_759a5_row11_col26, #T_759a5_row13_col25, #T_759a5_row13_col28, #T_759a5_row14_col26, #T_759a5_row17_col14, #T_759a5_row24_col14, #T_759a5_row25_col14, #T_759a5_row27_col10, #T_759a5_row29_col10, #T_759a5_row30_col37, #T_759a5_row33_col7, #T_759a5_row34_col12, #T_759a5_row35_col3, #T_759a5_row36_col6, #T_759a5_row37_col12 {\n",
       "  background-color: #536edd;\n",
       "  color: #f1f1f1;\n",
       "}\n",
       "#T_759a5_row0_col35, #T_759a5_row30_col7, #T_759a5_row30_col33 {\n",
       "  background-color: #a6c4fe;\n",
       "  color: #000000;\n",
       "}\n",
       "#T_759a5_row0_col36, #T_759a5_row29_col24 {\n",
       "  background-color: #e8d6cc;\n",
       "  color: #000000;\n",
       "}\n",
       "#T_759a5_row1_col0, #T_759a5_row17_col21, #T_759a5_row34_col0 {\n",
       "  background-color: #96b7ff;\n",
       "  color: #000000;\n",
       "}\n",
       "#T_759a5_row1_col2, #T_759a5_row4_col30, #T_759a5_row10_col3, #T_759a5_row11_col3, #T_759a5_row13_col3, #T_759a5_row24_col2, #T_759a5_row29_col2, #T_759a5_row31_col0, #T_759a5_row37_col3 {\n",
       "  background-color: #7b9ff9;\n",
       "  color: #f1f1f1;\n",
       "}\n",
       "#T_759a5_row1_col3, #T_759a5_row17_col0 {\n",
       "  background-color: #8db0fe;\n",
       "  color: #000000;\n",
       "}\n",
       "#T_759a5_row1_col4, #T_759a5_row4_col8, #T_759a5_row5_col2, #T_759a5_row10_col2, #T_759a5_row11_col2, #T_759a5_row12_col2, #T_759a5_row13_col2, #T_759a5_row14_col2, #T_759a5_row15_col2, #T_759a5_row16_col3, #T_759a5_row16_col30, #T_759a5_row17_col4, #T_759a5_row19_col3, #T_759a5_row20_col25, #T_759a5_row21_col3, #T_759a5_row21_col25, #T_759a5_row22_col3, #T_759a5_row22_col25, #T_759a5_row24_col4, #T_759a5_row25_col23, #T_759a5_row26_col18, #T_759a5_row26_col19, #T_759a5_row26_col22, #T_759a5_row28_col20, #T_759a5_row28_col21, #T_759a5_row28_col23, #T_759a5_row29_col25, #T_759a5_row30_col4, #T_759a5_row31_col33, #T_759a5_row34_col2 {\n",
       "  background-color: #80a3fa;\n",
       "  color: #f1f1f1;\n",
       "}\n",
       "#T_759a5_row1_col5, #T_759a5_row1_col9, #T_759a5_row3_col5, #T_759a5_row6_col5, #T_759a5_row8_col5, #T_759a5_row12_col16, #T_759a5_row12_col23, #T_759a5_row16_col9, #T_759a5_row17_col5, #T_759a5_row31_col5, #T_759a5_row32_col5, #T_759a5_row33_col5, #T_759a5_row36_col5, #T_759a5_row37_col9 {\n",
       "  background-color: #3e51c5;\n",
       "  color: #f1f1f1;\n",
       "}\n",
       "#T_759a5_row1_col6, #T_759a5_row7_col32, #T_759a5_row16_col32, #T_759a5_row16_col33, #T_759a5_row18_col32, #T_759a5_row18_col33, #T_759a5_row19_col32, #T_759a5_row19_col33, #T_759a5_row21_col33, #T_759a5_row22_col32, #T_759a5_row22_col33, #T_759a5_row24_col16, #T_759a5_row25_col27, #T_759a5_row27_col20, #T_759a5_row27_col21, #T_759a5_row27_col23, #T_759a5_row27_col30, #T_759a5_row36_col25 {\n",
       "  background-color: #6b8df0;\n",
       "  color: #f1f1f1;\n",
       "}\n",
       "#T_759a5_row1_col8, #T_759a5_row18_col2, #T_759a5_row18_col28, #T_759a5_row19_col17, #T_759a5_row19_col28, #T_759a5_row22_col28, #T_759a5_row23_col28, #T_759a5_row27_col2, #T_759a5_row27_col4, #T_759a5_row34_col4 {\n",
       "  background-color: #7da0f9;\n",
       "  color: #f1f1f1;\n",
       "}\n",
       "#T_759a5_row1_col11, #T_759a5_row1_col24, #T_759a5_row2_col10, #T_759a5_row2_col19, #T_759a5_row2_col22, #T_759a5_row3_col10, #T_759a5_row3_col14, #T_759a5_row4_col11, #T_759a5_row5_col14, #T_759a5_row30_col16, #T_759a5_row32_col11, #T_759a5_row32_col14, #T_759a5_row33_col12, #T_759a5_row34_col14, #T_759a5_row34_col24, #T_759a5_row35_col10, #T_759a5_row35_col20, #T_759a5_row35_col21, #T_759a5_row35_col23, #T_759a5_row36_col10, #T_759a5_row36_col27 {\n",
       "  background-color: #5875e1;\n",
       "  color: #f1f1f1;\n",
       "}\n",
       "#T_759a5_row1_col13, #T_759a5_row2_col27, #T_759a5_row4_col13, #T_759a5_row4_col27, #T_759a5_row8_col29, #T_759a5_row8_col33, #T_759a5_row16_col1, #T_759a5_row24_col15, #T_759a5_row25_col1, #T_759a5_row25_col15, #T_759a5_row26_col15, #T_759a5_row28_col15, #T_759a5_row28_col34, #T_759a5_row32_col13, #T_759a5_row33_col34, #T_759a5_row34_col13, #T_759a5_row36_col1 {\n",
       "  background-color: #4961d2;\n",
       "  color: #f1f1f1;\n",
       "}\n",
       "#T_759a5_row1_col15, #T_759a5_row3_col15, #T_759a5_row4_col15, #T_759a5_row6_col16, #T_759a5_row8_col24, #T_759a5_row10_col24, #T_759a5_row11_col24, #T_759a5_row12_col24, #T_759a5_row26_col12, #T_759a5_row26_col17, #T_759a5_row28_col12, #T_759a5_row32_col15, #T_759a5_row34_col1, #T_759a5_row36_col15 {\n",
       "  background-color: #4e68d8;\n",
       "  color: #f1f1f1;\n",
       "}\n",
       "#T_759a5_row1_col17, #T_759a5_row2_col1, #T_759a5_row2_col17, #T_759a5_row4_col34, #T_759a5_row5_col9, #T_759a5_row5_col17, #T_759a5_row5_col34, #T_759a5_row6_col17, #T_759a5_row7_col34, #T_759a5_row10_col34, #T_759a5_row11_col34, #T_759a5_row12_col34, #T_759a5_row14_col34, #T_759a5_row15_col34, #T_759a5_row16_col11, #T_759a5_row17_col13, #T_759a5_row26_col5, #T_759a5_row31_col1, #T_759a5_row32_col17, #T_759a5_row35_col9, #T_759a5_row35_col29 {\n",
       "  background-color: #4257c9;\n",
       "  color: #f1f1f1;\n",
       "}\n",
       "#T_759a5_row1_col21, #T_759a5_row1_col26, #T_759a5_row3_col2, #T_759a5_row3_col18, #T_759a5_row3_col19, #T_759a5_row3_col20, #T_759a5_row3_col21, #T_759a5_row3_col22, #T_759a5_row25_col7, #T_759a5_row25_col33, #T_759a5_row26_col6, #T_759a5_row26_col7, #T_759a5_row27_col7, #T_759a5_row28_col6, #T_759a5_row28_col7, #T_759a5_row29_col7, #T_759a5_row30_col18, #T_759a5_row34_col26 {\n",
       "  background-color: #5e7de7;\n",
       "  color: #f1f1f1;\n",
       "}\n",
       "#T_759a5_row1_col25, #T_759a5_row2_col3, #T_759a5_row2_col11, #T_759a5_row2_col14, #T_759a5_row3_col1, #T_759a5_row4_col6, #T_759a5_row5_col20, #T_759a5_row5_col21, #T_759a5_row5_col23, #T_759a5_row5_col28, #T_759a5_row7_col33, #T_759a5_row18_col27, #T_759a5_row25_col31, #T_759a5_row26_col33, #T_759a5_row28_col31, #T_759a5_row28_col33, #T_759a5_row32_col21, #T_759a5_row33_col10, #T_759a5_row33_col19, #T_759a5_row33_col22, #T_759a5_row34_col16, #T_759a5_row34_col25, #T_759a5_row35_col14, #T_759a5_row36_col7, #T_759a5_row36_col14, #T_759a5_row36_col23 {\n",
       "  background-color: #5a78e4;\n",
       "  color: #f1f1f1;\n",
       "}\n",
       "#T_759a5_row1_col29, #T_759a5_row2_col16, #T_759a5_row2_col24, #T_759a5_row2_col28, #T_759a5_row4_col29, #T_759a5_row6_col12, #T_759a5_row7_col16, #T_759a5_row8_col28, #T_759a5_row9_col25, #T_759a5_row9_col28, #T_759a5_row15_col25, #T_759a5_row15_col28, #T_759a5_row17_col11, #T_759a5_row24_col11, #T_759a5_row25_col11, #T_759a5_row26_col11, #T_759a5_row26_col14, #T_759a5_row28_col11, #T_759a5_row28_col14, #T_759a5_row29_col12, #T_759a5_row31_col18, #T_759a5_row33_col15 {\n",
       "  background-color: #516ddb;\n",
       "  color: #f1f1f1;\n",
       "}\n",
       "#T_759a5_row1_col30, #T_759a5_row3_col4, #T_759a5_row6_col2, #T_759a5_row17_col23, #T_759a5_row32_col0 {\n",
       "  background-color: #93b5fe;\n",
       "  color: #000000;\n",
       "}\n",
       "#T_759a5_row1_col31, #T_759a5_row2_col0, #T_759a5_row2_col33, #T_759a5_row14_col6, #T_759a5_row15_col6, #T_759a5_row16_col17, #T_759a5_row16_col31, #T_759a5_row18_col24, #T_759a5_row19_col24, #T_759a5_row20_col31, #T_759a5_row21_col31, #T_759a5_row22_col24, #T_759a5_row26_col16, #T_759a5_row26_col37, #T_759a5_row28_col37, #T_759a5_row36_col26 {\n",
       "  background-color: #7396f5;\n",
       "  color: #f1f1f1;\n",
       "}\n",
       "#T_759a5_row1_col32, #T_759a5_row4_col28, #T_759a5_row17_col7, #T_759a5_row18_col7, #T_759a5_row18_col29, #T_759a5_row19_col7, #T_759a5_row19_col29, #T_759a5_row20_col7, #T_759a5_row20_col29, #T_759a5_row21_col7, #T_759a5_row21_col29, #T_759a5_row22_col7, #T_759a5_row22_col29, #T_759a5_row23_col7, #T_759a5_row23_col29, #T_759a5_row27_col16, #T_759a5_row27_col33, #T_759a5_row30_col19, #T_759a5_row30_col22, #T_759a5_row32_col24, #T_759a5_row32_col25, #T_759a5_row34_col7, #T_759a5_row35_col32, #T_759a5_row36_col29, #T_759a5_row37_col7 {\n",
       "  background-color: #5f7fe8;\n",
       "  color: #f1f1f1;\n",
       "}\n",
       "#T_759a5_row1_col33, #T_759a5_row2_col31, #T_759a5_row17_col18, #T_759a5_row31_col6 {\n",
       "  background-color: #a1c0ff;\n",
       "  color: #000000;\n",
       "}\n",
       "#T_759a5_row1_col35, #T_759a5_row7_col13, #T_759a5_row16_col35, #T_759a5_row17_col35, #T_759a5_row19_col35, #T_759a5_row20_col35, #T_759a5_row21_col35, #T_759a5_row22_col35, #T_759a5_row23_col35 {\n",
       "  background-color: #c7d7f0;\n",
       "  color: #000000;\n",
       "}\n",
       "#T_759a5_row1_col36, #T_759a5_row9_col13, #T_759a5_row16_col36, #T_759a5_row17_col36, #T_759a5_row18_col36, #T_759a5_row19_col36, #T_759a5_row20_col36, #T_759a5_row21_col36, #T_759a5_row22_col36, #T_759a5_row23_col36, #T_759a5_row31_col9, #T_759a5_row33_col35 {\n",
       "  background-color: #cad8ef;\n",
       "  color: #000000;\n",
       "}\n",
       "#T_759a5_row2_col6, #T_759a5_row3_col28, #T_759a5_row9_col0, #T_759a5_row16_col0, #T_759a5_row32_col8 {\n",
       "  background-color: #8badfd;\n",
       "  color: #000000;\n",
       "}\n",
       "#T_759a5_row2_col7, #T_759a5_row5_col37, #T_759a5_row6_col37, #T_759a5_row14_col37, #T_759a5_row26_col30, #T_759a5_row27_col31, #T_759a5_row32_col6, #T_759a5_row32_col37, #T_759a5_row33_col37, #T_759a5_row36_col33 {\n",
       "  background-color: #6788ee;\n",
       "  color: #f1f1f1;\n",
       "}\n",
       "#T_759a5_row2_col8, #T_759a5_row18_col17 {\n",
       "  background-color: #8fb1fe;\n",
       "  color: #000000;\n",
       "}\n",
       "#T_759a5_row2_col15, #T_759a5_row5_col29, #T_759a5_row8_col16, #T_759a5_row9_col16, #T_759a5_row10_col25, #T_759a5_row10_col28, #T_759a5_row11_col25, #T_759a5_row11_col28, #T_759a5_row12_col25, #T_759a5_row12_col28, #T_759a5_row13_col24, #T_759a5_row17_col12, #T_759a5_row24_col10, #T_759a5_row25_col10, #T_759a5_row26_col10, #T_759a5_row27_col12, #T_759a5_row28_col10, #T_759a5_row32_col27, #T_759a5_row34_col29, #T_759a5_row35_col15, #T_759a5_row35_col16, #T_759a5_row36_col2, #T_759a5_row37_col27 {\n",
       "  background-color: #506bda;\n",
       "  color: #f1f1f1;\n",
       "}\n",
       "#T_759a5_row2_col20, #T_759a5_row2_col21, #T_759a5_row2_col23, #T_759a5_row3_col11, #T_759a5_row3_col16, #T_759a5_row4_col14, #T_759a5_row5_col18, #T_759a5_row5_col19, #T_759a5_row5_col22, #T_759a5_row5_col25, #T_759a5_row32_col18, #T_759a5_row32_col19, #T_759a5_row32_col20, #T_759a5_row32_col22, #T_759a5_row32_col23, #T_759a5_row33_col18, #T_759a5_row35_col0, #T_759a5_row35_col11, #T_759a5_row36_col11, #T_759a5_row37_col14, #T_759a5_row37_col18, #T_759a5_row37_col19, #T_759a5_row37_col20, #T_759a5_row37_col21, #T_759a5_row37_col22, #T_759a5_row37_col23 {\n",
       "  background-color: #5977e3;\n",
       "  color: #f1f1f1;\n",
       "}\n",
       "#T_759a5_row2_col25, #T_759a5_row5_col15, #T_759a5_row13_col29, #T_759a5_row14_col24, #T_759a5_row18_col34, #T_759a5_row19_col34, #T_759a5_row20_col34, #T_759a5_row21_col34, #T_759a5_row22_col34, #T_759a5_row23_col34, #T_759a5_row28_col17, #T_759a5_row33_col13, #T_759a5_row34_col15, #T_759a5_row34_col27, #T_759a5_row37_col15 {\n",
       "  background-color: #4c66d6;\n",
       "  color: #f1f1f1;\n",
       "}\n",
       "#T_759a5_row2_col30, #T_759a5_row5_col3, #T_759a5_row9_col3, #T_759a5_row12_col3, #T_759a5_row15_col3, #T_759a5_row16_col25, #T_759a5_row16_col26, #T_759a5_row17_col3, #T_759a5_row24_col21 {\n",
       "  background-color: #7a9df8;\n",
       "  color: #f1f1f1;\n",
       "}\n",
       "#T_759a5_row2_col32, #T_759a5_row5_col7, #T_759a5_row7_col0, #T_759a5_row25_col6, #T_759a5_row29_col31, #T_759a5_row32_col28, #T_759a5_row32_col31, #T_759a5_row34_col19, #T_759a5_row34_col22, #T_759a5_row34_col23, #T_759a5_row34_col32, #T_759a5_row34_col37, #T_759a5_row37_col28 {\n",
       "  background-color: #6282ea;\n",
       "  color: #f1f1f1;\n",
       "}\n",
       "#T_759a5_row2_col34, #T_759a5_row4_col17, #T_759a5_row6_col9, #T_759a5_row9_col1, #T_759a5_row15_col18, #T_759a5_row26_col13, #T_759a5_row28_col13, #T_759a5_row31_col34, #T_759a5_row34_col17, #T_759a5_row36_col17 {\n",
       "  background-color: #445acc;\n",
       "  color: #f1f1f1;\n",
       "}\n",
       "#T_759a5_row2_col35 {\n",
       "  background-color: #dddcdc;\n",
       "  color: #000000;\n",
       "}\n",
       "#T_759a5_row2_col36, #T_759a5_row24_col3, #T_759a5_row31_col2 {\n",
       "  background-color: #a7c5fe;\n",
       "  color: #000000;\n",
       "}\n",
       "#T_759a5_row3_col0, #T_759a5_row4_col35, #T_759a5_row26_col3, #T_759a5_row35_col31 {\n",
       "  background-color: #abc8fd;\n",
       "  color: #000000;\n",
       "}\n",
       "#T_759a5_row3_col9, #T_759a5_row7_col1, #T_759a5_row7_col17, #T_759a5_row9_col17, #T_759a5_row15_col16, #T_759a5_row16_col14, #T_759a5_row24_col5, #T_759a5_row25_col5, #T_759a5_row28_col5, #T_759a5_row29_col5, #T_759a5_row31_col3, #T_759a5_row31_col17, #T_759a5_row35_col17, #T_759a5_row36_col9 {\n",
       "  background-color: #4055c8;\n",
       "  color: #f1f1f1;\n",
       "}\n",
       "#T_759a5_row3_col13, #T_759a5_row9_col29, #T_759a5_row13_col18, #T_759a5_row13_col20, #T_759a5_row13_col22, #T_759a5_row13_col23, #T_759a5_row14_col29, #T_759a5_row18_col1, #T_759a5_row19_col1, #T_759a5_row20_col1, #T_759a5_row21_col1, #T_759a5_row22_col1, #T_759a5_row23_col1, #T_759a5_row24_col1, #T_759a5_row26_col1, #T_759a5_row27_col15, #T_759a5_row28_col1, #T_759a5_row29_col17, #T_759a5_row30_col25, #T_759a5_row33_col25, #T_759a5_row33_col26, #T_759a5_row35_col13, #T_759a5_row36_col13 {\n",
       "  background-color: #4a63d3;\n",
       "  color: #f1f1f1;\n",
       "}\n",
       "#T_759a5_row3_col24, #T_759a5_row8_col2, #T_759a5_row14_col0, #T_759a5_row15_col0, #T_759a5_row17_col8, #T_759a5_row18_col8, #T_759a5_row22_col8, #T_759a5_row25_col8, #T_759a5_row34_col8, #T_759a5_row37_col8 {\n",
       "  background-color: #85a8fc;\n",
       "  color: #f1f1f1;\n",
       "}\n",
       "#T_759a5_row3_col25, #T_759a5_row5_col4, #T_759a5_row10_col4, #T_759a5_row11_col4, #T_759a5_row12_col4, #T_759a5_row13_col4, #T_759a5_row14_col4, #T_759a5_row15_col4, #T_759a5_row16_col2, #T_759a5_row17_col2, #T_759a5_row17_col30, #T_759a5_row19_col2, #T_759a5_row19_col25, #T_759a5_row20_col2, #T_759a5_row20_col3, #T_759a5_row20_col28, #T_759a5_row21_col2, #T_759a5_row21_col28, #T_759a5_row22_col2, #T_759a5_row23_col2, #T_759a5_row23_col3, #T_759a5_row23_col17, #T_759a5_row23_col25, #T_759a5_row28_col18, #T_759a5_row28_col19, #T_759a5_row28_col22, #T_759a5_row30_col2, #T_759a5_row34_col30, #T_759a5_row37_col2, #T_759a5_row37_col4 {\n",
       "  background-color: #7ea1fa;\n",
       "  color: #f1f1f1;\n",
       "}\n",
       "#T_759a5_row3_col26, #T_759a5_row4_col3 {\n",
       "  background-color: #90b2fe;\n",
       "  color: #000000;\n",
       "}\n",
       "#T_759a5_row3_col31, #T_759a5_row6_col1, #T_759a5_row11_col16, #T_759a5_row11_col18, #T_759a5_row11_col19, #T_759a5_row11_col20, #T_759a5_row11_col21, #T_759a5_row14_col17, #T_759a5_row16_col13, #T_759a5_row16_col15, #T_759a5_row18_col11, #T_759a5_row18_col12, #T_759a5_row18_col14, #T_759a5_row19_col10, #T_759a5_row19_col12, #T_759a5_row19_col13, #T_759a5_row19_col15, #T_759a5_row24_col9, #T_759a5_row25_col9, #T_759a5_row28_col9, #T_759a5_row29_col9, #T_759a5_row32_col34, #T_759a5_row36_col34 {\n",
       "  background-color: #3c4ec2;\n",
       "  color: #f1f1f1;\n",
       "}\n",
       "#T_759a5_row3_col32, #T_759a5_row6_col31, #T_759a5_row29_col28 {\n",
       "  background-color: #a2c1ff;\n",
       "  color: #000000;\n",
       "}\n",
       "#T_759a5_row3_col35, #T_759a5_row8_col30, #T_759a5_row31_col30 {\n",
       "  background-color: #adc9fd;\n",
       "  color: #000000;\n",
       "}\n",
       "#T_759a5_row3_col36, #T_759a5_row4_col36, #T_759a5_row31_col35 {\n",
       "  background-color: #e5d8d1;\n",
       "  color: #000000;\n",
       "}\n",
       "#T_759a5_row4_col0, #T_759a5_row31_col36 {\n",
       "  background-color: #9dbdff;\n",
       "  color: #000000;\n",
       "}\n",
       "#T_759a5_row4_col5, #T_759a5_row6_col27, #T_759a5_row10_col5, #T_759a5_row10_col18, #T_759a5_row10_col19, #T_759a5_row10_col20, #T_759a5_row10_col21, #T_759a5_row10_col22, #T_759a5_row10_col23, #T_759a5_row11_col5, #T_759a5_row12_col5, #T_759a5_row12_col17, #T_759a5_row13_col5, #T_759a5_row14_col5, #T_759a5_row15_col5, #T_759a5_row18_col9, #T_759a5_row19_col9, #T_759a5_row20_col9, #T_759a5_row21_col9, #T_759a5_row22_col9, #T_759a5_row23_col9, #T_759a5_row27_col9, #T_759a5_row34_col5, #T_759a5_row37_col5, #T_759a5_row37_col34 {\n",
       "  background-color: #3d50c3;\n",
       "  color: #f1f1f1;\n",
       "}\n",
       "#T_759a5_row4_col32, #T_759a5_row6_col33, #T_759a5_row10_col33, #T_759a5_row12_col33, #T_759a5_row17_col33, #T_759a5_row25_col30, #T_759a5_row27_col37, #T_759a5_row36_col28 {\n",
       "  background-color: #6e90f2;\n",
       "  color: #f1f1f1;\n",
       "}\n",
       "#T_759a5_row5_col0, #T_759a5_row5_col8, #T_759a5_row26_col4, #T_759a5_row37_col0 {\n",
       "  background-color: #89acfd;\n",
       "  color: #000000;\n",
       "}\n",
       "#T_759a5_row5_col6, #T_759a5_row8_col6, #T_759a5_row17_col6, #T_759a5_row20_col24, #T_759a5_row21_col24, #T_759a5_row23_col24, #T_759a5_row23_col31, #T_759a5_row24_col32, #T_759a5_row25_col2, #T_759a5_row28_col32, #T_759a5_row37_col6, #T_759a5_row37_col31 {\n",
       "  background-color: #7597f6;\n",
       "  color: #f1f1f1;\n",
       "}\n",
       "#T_759a5_row5_col35, #T_759a5_row18_col35, #T_759a5_row30_col36, #T_759a5_row33_col36 {\n",
       "  background-color: #c6d6f1;\n",
       "  color: #000000;\n",
       "}\n",
       "#T_759a5_row5_col36, #T_759a5_row7_col15, #T_759a5_row9_col35, #T_759a5_row9_col36, #T_759a5_row10_col35, #T_759a5_row10_col36, #T_759a5_row11_col35, #T_759a5_row11_col36, #T_759a5_row12_col35, #T_759a5_row12_col36, #T_759a5_row13_col35, #T_759a5_row13_col36, #T_759a5_row14_col35, #T_759a5_row14_col36, #T_759a5_row15_col35, #T_759a5_row15_col36 {\n",
       "  background-color: #c9d7f0;\n",
       "  color: #000000;\n",
       "}\n",
       "#T_759a5_row6_col0, #T_759a5_row7_col2, #T_759a5_row9_col2, #T_759a5_row19_col8, #T_759a5_row20_col8, #T_759a5_row20_col17, #T_759a5_row21_col8, #T_759a5_row23_col8, #T_759a5_row27_col8, #T_759a5_row28_col8, #T_759a5_row29_col8 {\n",
       "  background-color: #84a7fc;\n",
       "  color: #f1f1f1;\n",
       "}\n",
       "#T_759a5_row6_col4, #T_759a5_row6_col7, #T_759a5_row8_col37, #T_759a5_row29_col27, #T_759a5_row37_col26, #T_759a5_row37_col30 {\n",
       "  background-color: #6485ec;\n",
       "  color: #f1f1f1;\n",
       "}\n",
       "#T_759a5_row6_col8, #T_759a5_row10_col0, #T_759a5_row17_col22, #T_759a5_row33_col2 {\n",
       "  background-color: #88abfd;\n",
       "  color: #000000;\n",
       "}\n",
       "#T_759a5_row6_col30, #T_759a5_row8_col3, #T_759a5_row11_col0, #T_759a5_row12_col0, #T_759a5_row13_col0, #T_759a5_row16_col8, #T_759a5_row28_col4 {\n",
       "  background-color: #86a9fc;\n",
       "  color: #f1f1f1;\n",
       "}\n",
       "#T_759a5_row6_col35 {\n",
       "  background-color: #d8dce2;\n",
       "  color: #000000;\n",
       "}\n",
       "#T_759a5_row6_col36, #T_759a5_row31_col13 {\n",
       "  background-color: #b1cbfc;\n",
       "  color: #000000;\n",
       "}\n",
       "#T_759a5_row7_col3, #T_759a5_row17_col16, #T_759a5_row18_col4, #T_759a5_row18_col26, #T_759a5_row20_col26, #T_759a5_row21_col26, #T_759a5_row22_col4, #T_759a5_row24_col8, #T_759a5_row25_col21, #T_759a5_row26_col8, #T_759a5_row30_col6, #T_759a5_row32_col4, #T_759a5_row35_col30 {\n",
       "  background-color: #82a6fb;\n",
       "  color: #f1f1f1;\n",
       "}\n",
       "#T_759a5_row7_col4, #T_759a5_row9_col4, #T_759a5_row9_col6, #T_759a5_row14_col3, #T_759a5_row24_col19, #T_759a5_row24_col20, #T_759a5_row24_col23, #T_759a5_row26_col2, #T_759a5_row28_col2, #T_759a5_row30_col0, #T_759a5_row33_col6, #T_759a5_row36_col8, #T_759a5_row36_col32 {\n",
       "  background-color: #799cf8;\n",
       "  color: #f1f1f1;\n",
       "}\n",
       "#T_759a5_row7_col6, #T_759a5_row24_col18, #T_759a5_row24_col22, #T_759a5_row25_col29, #T_759a5_row27_col25, #T_759a5_row34_col31, #T_759a5_row36_col30 {\n",
       "  background-color: #779af7;\n",
       "  color: #f1f1f1;\n",
       "}\n",
       "#T_759a5_row7_col8 {\n",
       "  background-color: #ee8468;\n",
       "  color: #f1f1f1;\n",
       "}\n",
       "#T_759a5_row7_col9 {\n",
       "  background-color: #f59c7d;\n",
       "  color: #000000;\n",
       "}\n",
       "#T_759a5_row7_col10, #T_759a5_row7_col11, #T_759a5_row7_col14, #T_759a5_row9_col12, #T_759a5_row12_col31, #T_759a5_row15_col31, #T_759a5_row30_col35, #T_759a5_row34_col35, #T_759a5_row37_col36 {\n",
       "  background-color: #cdd9ec;\n",
       "  color: #000000;\n",
       "}\n",
       "#T_759a5_row7_col12, #T_759a5_row9_col15 {\n",
       "  background-color: #cbd8ee;\n",
       "  color: #000000;\n",
       "}\n",
       "#T_759a5_row7_col24, #T_759a5_row9_col24, #T_759a5_row14_col25, #T_759a5_row14_col28, #T_759a5_row15_col24, #T_759a5_row17_col10, #T_759a5_row17_col27, #T_759a5_row24_col12, #T_759a5_row25_col12, #T_759a5_row31_col16 {\n",
       "  background-color: #4f69d9;\n",
       "  color: #f1f1f1;\n",
       "}\n",
       "#T_759a5_row7_col30, #T_759a5_row30_col11, #T_759a5_row30_col12, #T_759a5_row31_col11 {\n",
       "  background-color: #b9d0f9;\n",
       "  color: #000000;\n",
       "}\n",
       "#T_759a5_row7_col31 {\n",
       "  background-color: #e0dbd8;\n",
       "  color: #000000;\n",
       "}\n",
       "#T_759a5_row7_col35, #T_759a5_row11_col31, #T_759a5_row14_col31 {\n",
       "  background-color: #ccd9ed;\n",
       "  color: #000000;\n",
       "}\n",
       "#T_759a5_row7_col36, #T_759a5_row34_col36 {\n",
       "  background-color: #c4d5f3;\n",
       "  color: #000000;\n",
       "}\n",
       "#T_759a5_row8_col7 {\n",
       "  background-color: #f29274;\n",
       "  color: #f1f1f1;\n",
       "}\n",
       "#T_759a5_row8_col9, #T_759a5_row16_col23, #T_759a5_row26_col25 {\n",
       "  background-color: #f6bda2;\n",
       "  color: #000000;\n",
       "}\n",
       "#T_759a5_row8_col10, #T_759a5_row9_col30, #T_759a5_row36_col0 {\n",
       "  background-color: #bfd3f6;\n",
       "  color: #000000;\n",
       "}\n",
       "#T_759a5_row8_col11, #T_759a5_row8_col14, #T_759a5_row14_col9, #T_759a5_row29_col35 {\n",
       "  background-color: #c0d4f5;\n",
       "  color: #000000;\n",
       "}\n",
       "#T_759a5_row8_col12, #T_759a5_row8_col36, #T_759a5_row24_col35, #T_759a5_row25_col35 {\n",
       "  background-color: #bed2f6;\n",
       "  color: #000000;\n",
       "}\n",
       "#T_759a5_row8_col13, #T_759a5_row30_col8, #T_759a5_row31_col12 {\n",
       "  background-color: #b7cff9;\n",
       "  color: #000000;\n",
       "}\n",
       "#T_759a5_row8_col15, #T_759a5_row26_col27, #T_759a5_row26_col35 {\n",
       "  background-color: #bbd1f8;\n",
       "  color: #000000;\n",
       "}\n",
       "#T_759a5_row8_col27, #T_759a5_row10_col27, #T_759a5_row11_col1, #T_759a5_row11_col27, #T_759a5_row12_col1, #T_759a5_row12_col27, #T_759a5_row13_col1, #T_759a5_row13_col16, #T_759a5_row14_col27, #T_759a5_row15_col1, #T_759a5_row15_col19, #T_759a5_row15_col20, #T_759a5_row15_col21, #T_759a5_row15_col22, #T_759a5_row15_col23, #T_759a5_row17_col34, #T_759a5_row24_col13, #T_759a5_row25_col13, #T_759a5_row29_col34, #T_759a5_row33_col17, #T_759a5_row33_col24, #T_759a5_row33_col29, #T_759a5_row35_col1, #T_759a5_row35_col28 {\n",
       "  background-color: #455cce;\n",
       "  color: #f1f1f1;\n",
       "}\n",
       "#T_759a5_row8_col31, #T_759a5_row26_col36 {\n",
       "  background-color: #d6dce4;\n",
       "  color: #000000;\n",
       "}\n",
       "#T_759a5_row8_col35, #T_759a5_row11_col7, #T_759a5_row14_col7, #T_759a5_row29_col36 {\n",
       "  background-color: #d2dbe8;\n",
       "  color: #000000;\n",
       "}\n",
       "#T_759a5_row9_col7 {\n",
       "  background-color: #f29072;\n",
       "  color: #f1f1f1;\n",
       "}\n",
       "#T_759a5_row9_col8 {\n",
       "  background-color: #f6a283;\n",
       "  color: #000000;\n",
       "}\n",
       "#T_759a5_row9_col10, #T_759a5_row9_col11, #T_759a5_row9_col14, #T_759a5_row10_col30, #T_759a5_row12_col30, #T_759a5_row27_col36 {\n",
       "  background-color: #cfdaea;\n",
       "  color: #000000;\n",
       "}\n",
       "#T_759a5_row9_col31 {\n",
       "  background-color: #e3d9d3;\n",
       "  color: #000000;\n",
       "}\n",
       "#T_759a5_row10_col6, #T_759a5_row11_col6, #T_759a5_row12_col6, #T_759a5_row13_col6, #T_759a5_row19_col6, #T_759a5_row19_col31, #T_759a5_row20_col6, #T_759a5_row21_col6, #T_759a5_row22_col17, #T_759a5_row22_col31, #T_759a5_row23_col6, #T_759a5_row24_col37, #T_759a5_row25_col32, #T_759a5_row25_col37, #T_759a5_row28_col16 {\n",
       "  background-color: #7295f4;\n",
       "  color: #f1f1f1;\n",
       "}\n",
       "#T_759a5_row10_col7, #T_759a5_row12_col7 {\n",
       "  background-color: #d3dbe7;\n",
       "  color: #000000;\n",
       "}\n",
       "#T_759a5_row10_col8 {\n",
       "  background-color: #dbdcde;\n",
       "  color: #000000;\n",
       "}\n",
       "#T_759a5_row10_col9, #T_759a5_row15_col9 {\n",
       "  background-color: #c3d5f4;\n",
       "  color: #000000;\n",
       "}\n",
       "#T_759a5_row10_col11, #T_759a5_row10_col12, #T_759a5_row10_col15, #T_759a5_row11_col10, #T_759a5_row11_col12, #T_759a5_row12_col10, #T_759a5_row12_col11, #T_759a5_row13_col11, #T_759a5_row15_col10, #T_759a5_row15_col12, #T_759a5_row19_col21, #T_759a5_row21_col19 {\n",
       "  background-color: #c43032;\n",
       "  color: #f1f1f1;\n",
       "}\n",
       "#T_759a5_row10_col13, #T_759a5_row12_col13, #T_759a5_row13_col12, #T_759a5_row20_col22, #T_759a5_row22_col20 {\n",
       "  background-color: #c32e31;\n",
       "  color: #f1f1f1;\n",
       "}\n",
       "#T_759a5_row10_col14, #T_759a5_row14_col10, #T_759a5_row14_col12, #T_759a5_row19_col23, #T_759a5_row23_col19 {\n",
       "  background-color: #c83836;\n",
       "  color: #f1f1f1;\n",
       "}\n",
       "#T_759a5_row11_col8, #T_759a5_row12_col8, #T_759a5_row14_col8 {\n",
       "  background-color: #dadce0;\n",
       "  color: #000000;\n",
       "}\n",
       "#T_759a5_row11_col9, #T_759a5_row12_col9, #T_759a5_row27_col35, #T_759a5_row32_col35 {\n",
       "  background-color: #c1d4f4;\n",
       "  color: #000000;\n",
       "}\n",
       "#T_759a5_row11_col13, #T_759a5_row12_col15, #T_759a5_row13_col14, #T_759a5_row15_col14, #T_759a5_row19_col20, #T_759a5_row20_col19, #T_759a5_row22_col23, #T_759a5_row23_col22 {\n",
       "  background-color: #c53334;\n",
       "  color: #f1f1f1;\n",
       "}\n",
       "#T_759a5_row11_col14, #T_759a5_row14_col11, #T_759a5_row19_col22, #T_759a5_row22_col19 {\n",
       "  background-color: #ca3b37;\n",
       "  color: #f1f1f1;\n",
       "}\n",
       "#T_759a5_row11_col15, #T_759a5_row12_col14, #T_759a5_row14_col13, #T_759a5_row14_col15, #T_759a5_row15_col11 {\n",
       "  background-color: #c73635;\n",
       "  color: #f1f1f1;\n",
       "}\n",
       "#T_759a5_row13_col7, #T_759a5_row28_col36 {\n",
       "  background-color: #d5dbe5;\n",
       "  color: #000000;\n",
       "}\n",
       "#T_759a5_row13_col8, #T_759a5_row15_col8 {\n",
       "  background-color: #dcdddd;\n",
       "  color: #000000;\n",
       "}\n",
       "#T_759a5_row13_col9, #T_759a5_row27_col26 {\n",
       "  background-color: #c5d6f2;\n",
       "  color: #000000;\n",
       "}\n",
       "#T_759a5_row13_col10, #T_759a5_row21_col22, #T_759a5_row22_col21 {\n",
       "  background-color: #c12b30;\n",
       "  color: #f1f1f1;\n",
       "}\n",
       "#T_759a5_row13_col15, #T_759a5_row15_col13, #T_759a5_row21_col23, #T_759a5_row23_col21 {\n",
       "  background-color: #be242e;\n",
       "  color: #f1f1f1;\n",
       "}\n",
       "#T_759a5_row13_col30, #T_759a5_row15_col30, #T_759a5_row32_col36 {\n",
       "  background-color: #d1dae9;\n",
       "  color: #000000;\n",
       "}\n",
       "#T_759a5_row15_col7, #T_759a5_row24_col36, #T_759a5_row25_col36 {\n",
       "  background-color: #d4dbe6;\n",
       "  color: #000000;\n",
       "}\n",
       "#T_759a5_row16_col4, #T_759a5_row18_col3, #T_759a5_row18_col25, #T_759a5_row18_col30, #T_759a5_row19_col4, #T_759a5_row19_col26, #T_759a5_row19_col30, #T_759a5_row20_col4, #T_759a5_row20_col30, #T_759a5_row21_col4, #T_759a5_row21_col17, #T_759a5_row21_col30, #T_759a5_row22_col26, #T_759a5_row22_col30, #T_759a5_row23_col4, #T_759a5_row23_col26, #T_759a5_row23_col30, #T_759a5_row25_col18, #T_759a5_row25_col19, #T_759a5_row25_col20, #T_759a5_row25_col22, #T_759a5_row26_col20, #T_759a5_row26_col21, #T_759a5_row26_col23, #T_759a5_row29_col4, #T_759a5_row33_col1 {\n",
       "  background-color: #81a4fb;\n",
       "  color: #f1f1f1;\n",
       "}\n",
       "#T_759a5_row16_col6, #T_759a5_row18_col6, #T_759a5_row18_col31, #T_759a5_row22_col6, #T_759a5_row27_col32, #T_759a5_row29_col32, #T_759a5_row33_col4, #T_759a5_row36_col37 {\n",
       "  background-color: #7093f3;\n",
       "  color: #f1f1f1;\n",
       "}\n",
       "#T_759a5_row16_col18 {\n",
       "  background-color: #f08a6c;\n",
       "  color: #f1f1f1;\n",
       "}\n",
       "#T_759a5_row16_col19, #T_759a5_row28_col25 {\n",
       "  background-color: #f2cab5;\n",
       "  color: #000000;\n",
       "}\n",
       "#T_759a5_row16_col20 {\n",
       "  background-color: #f7aa8c;\n",
       "  color: #000000;\n",
       "}\n",
       "#T_759a5_row16_col21 {\n",
       "  background-color: #f7b599;\n",
       "  color: #000000;\n",
       "}\n",
       "#T_759a5_row16_col22 {\n",
       "  background-color: #f4c6af;\n",
       "  color: #000000;\n",
       "}\n",
       "#T_759a5_row17_col19, #T_759a5_row25_col0, #T_759a5_row25_col4, #T_759a5_row30_col9, #T_759a5_row35_col6 {\n",
       "  background-color: #92b4fe;\n",
       "  color: #000000;\n",
       "}\n",
       "#T_759a5_row17_col20, #T_759a5_row24_col0, #T_759a5_row26_col0, #T_759a5_row29_col3 {\n",
       "  background-color: #98b9ff;\n",
       "  color: #000000;\n",
       "}\n",
       "#T_759a5_row18_col0, #T_759a5_row19_col0, #T_759a5_row20_col0, #T_759a5_row21_col0, #T_759a5_row22_col0, #T_759a5_row23_col0, #T_759a5_row33_col31, #T_759a5_row34_col3 {\n",
       "  background-color: #8caffe;\n",
       "  color: #000000;\n",
       "}\n",
       "#T_759a5_row18_col16 {\n",
       "  background-color: #f08b6e;\n",
       "  color: #f1f1f1;\n",
       "}\n",
       "#T_759a5_row18_col19, #T_759a5_row19_col18 {\n",
       "  background-color: #d85646;\n",
       "  color: #f1f1f1;\n",
       "}\n",
       "#T_759a5_row18_col20, #T_759a5_row20_col18, #T_759a5_row24_col28 {\n",
       "  background-color: #d24b40;\n",
       "  color: #f1f1f1;\n",
       "}\n",
       "#T_759a5_row18_col21, #T_759a5_row21_col18 {\n",
       "  background-color: #cf453c;\n",
       "  color: #f1f1f1;\n",
       "}\n",
       "#T_759a5_row18_col22, #T_759a5_row22_col18 {\n",
       "  background-color: #d65244;\n",
       "  color: #f1f1f1;\n",
       "}\n",
       "#T_759a5_row18_col23, #T_759a5_row23_col18 {\n",
       "  background-color: #d55042;\n",
       "  color: #f1f1f1;\n",
       "}\n",
       "#T_759a5_row19_col16 {\n",
       "  background-color: #f1ccb8;\n",
       "  color: #000000;\n",
       "}\n",
       "#T_759a5_row20_col16, #T_759a5_row27_col28 {\n",
       "  background-color: #f7ad90;\n",
       "  color: #000000;\n",
       "}\n",
       "#T_759a5_row20_col21, #T_759a5_row21_col20 {\n",
       "  background-color: #bb1b2c;\n",
       "  color: #f1f1f1;\n",
       "}\n",
       "#T_759a5_row20_col23, #T_759a5_row23_col20 {\n",
       "  background-color: #c0282f;\n",
       "  color: #f1f1f1;\n",
       "}\n",
       "#T_759a5_row21_col16 {\n",
       "  background-color: #f7b89c;\n",
       "  color: #000000;\n",
       "}\n",
       "#T_759a5_row22_col16 {\n",
       "  background-color: #f3c8b2;\n",
       "  color: #000000;\n",
       "}\n",
       "#T_759a5_row23_col16 {\n",
       "  background-color: #f6bfa6;\n",
       "  color: #000000;\n",
       "}\n",
       "#T_759a5_row24_col25, #T_759a5_row30_col13, #T_759a5_row36_col4 {\n",
       "  background-color: #b2ccfb;\n",
       "  color: #000000;\n",
       "}\n",
       "#T_759a5_row24_col26 {\n",
       "  background-color: #dd5f4b;\n",
       "  color: #f1f1f1;\n",
       "}\n",
       "#T_759a5_row24_col27 {\n",
       "  background-color: #f7ac8e;\n",
       "  color: #000000;\n",
       "}\n",
       "#T_759a5_row24_col29 {\n",
       "  background-color: #e6d7cf;\n",
       "  color: #000000;\n",
       "}\n",
       "#T_759a5_row25_col3 {\n",
       "  background-color: #9ebeff;\n",
       "  color: #000000;\n",
       "}\n",
       "#T_759a5_row25_col24, #T_759a5_row32_col3 {\n",
       "  background-color: #afcafc;\n",
       "  color: #000000;\n",
       "}\n",
       "#T_759a5_row25_col26 {\n",
       "  background-color: #f7bca1;\n",
       "  color: #000000;\n",
       "}\n",
       "#T_759a5_row25_col28 {\n",
       "  background-color: #f2c9b4;\n",
       "  color: #000000;\n",
       "}\n",
       "#T_759a5_row26_col24 {\n",
       "  background-color: #de614d;\n",
       "  color: #f1f1f1;\n",
       "}\n",
       "#T_759a5_row26_col28, #T_759a5_row28_col26 {\n",
       "  background-color: #d75445;\n",
       "  color: #f1f1f1;\n",
       "}\n",
       "#T_759a5_row26_col29 {\n",
       "  background-color: #edd2c3;\n",
       "  color: #000000;\n",
       "}\n",
       "#T_759a5_row27_col3, #T_759a5_row28_col0, #T_759a5_row35_col8 {\n",
       "  background-color: #97b8ff;\n",
       "  color: #000000;\n",
       "}\n",
       "#T_759a5_row27_col24 {\n",
       "  background-color: #f7a98b;\n",
       "  color: #000000;\n",
       "}\n",
       "#T_759a5_row28_col3, #T_759a5_row37_col35 {\n",
       "  background-color: #a9c6fd;\n",
       "  color: #000000;\n",
       "}\n",
       "#T_759a5_row28_col24 {\n",
       "  background-color: #d44e41;\n",
       "  color: #f1f1f1;\n",
       "}\n",
       "#T_759a5_row28_col27 {\n",
       "  background-color: #f7b194;\n",
       "  color: #000000;\n",
       "}\n",
       "#T_759a5_row28_col29 {\n",
       "  background-color: #9bbcff;\n",
       "  color: #000000;\n",
       "}\n",
       "#T_759a5_row28_col35 {\n",
       "  background-color: #bcd2f7;\n",
       "  color: #000000;\n",
       "}\n",
       "#T_759a5_row29_col26 {\n",
       "  background-color: #efcebd;\n",
       "  color: #000000;\n",
       "}\n",
       "#T_759a5_row30_col10, #T_759a5_row30_col14, #T_759a5_row31_col10, #T_759a5_row31_col14 {\n",
       "  background-color: #bad0f8;\n",
       "  color: #000000;\n",
       "}\n",
       "#T_759a5_row30_col15 {\n",
       "  background-color: #b5cdfa;\n",
       "  color: #000000;\n",
       "}\n",
       "#T_759a5_row30_col31 {\n",
       "  background-color: #aac7fd;\n",
       "  color: #000000;\n",
       "}\n",
       "#T_759a5_row31_col7 {\n",
       "  background-color: #d7dce3;\n",
       "  color: #000000;\n",
       "}\n",
       "#T_759a5_row31_col8, #T_759a5_row33_col0 {\n",
       "  background-color: #dedcdb;\n",
       "  color: #000000;\n",
       "}\n",
       "#T_759a5_row31_col15, #T_759a5_row33_col30 {\n",
       "  background-color: #b3cdfb;\n",
       "  color: #000000;\n",
       "}\n",
       "#T_759a5_row32_col7, #T_759a5_row34_col20, #T_759a5_row34_col21 {\n",
       "  background-color: #6384eb;\n",
       "  color: #f1f1f1;\n",
       "}\n",
       "#T_759a5_row35_col2 {\n",
       "  background-color: #a3c2fe;\n",
       "  color: #000000;\n",
       "}\n",
       "#T_759a5_row36_col3 {\n",
       "  background-color: #aec9fc;\n",
       "  color: #000000;\n",
       "}\n",
       "</style>\n",
       "<table id=\"T_759a5\">\n",
       "  <thead>\n",
       "    <tr>\n",
       "      <th class=\"blank level0\" >&nbsp;</th>\n",
       "      <th id=\"T_759a5_level0_col0\" class=\"col_heading level0 col0\" >A002</th>\n",
       "      <th id=\"T_759a5_level0_col1\" class=\"col_heading level0 col1\" >A003</th>\n",
       "      <th id=\"T_759a5_level0_col2\" class=\"col_heading level0 col2\" >A004</th>\n",
       "      <th id=\"T_759a5_level0_col3\" class=\"col_heading level0 col3\" >A005</th>\n",
       "      <th id=\"T_759a5_level0_col4\" class=\"col_heading level0 col4\" >UF</th>\n",
       "      <th id=\"T_759a5_level0_col5\" class=\"col_heading level0 col5\" >V1012</th>\n",
       "      <th id=\"T_759a5_level0_col6\" class=\"col_heading level0 col6\" >V1022</th>\n",
       "      <th id=\"T_759a5_level0_col7\" class=\"col_heading level0 col7\" >B0101</th>\n",
       "      <th id=\"T_759a5_level0_col8\" class=\"col_heading level0 col8\" >B0102</th>\n",
       "      <th id=\"T_759a5_level0_col9\" class=\"col_heading level0 col9\" >B0103</th>\n",
       "      <th id=\"T_759a5_level0_col10\" class=\"col_heading level0 col10\" >B0011</th>\n",
       "      <th id=\"T_759a5_level0_col11\" class=\"col_heading level0 col11\" >B0012</th>\n",
       "      <th id=\"T_759a5_level0_col12\" class=\"col_heading level0 col12\" >B0013</th>\n",
       "      <th id=\"T_759a5_level0_col13\" class=\"col_heading level0 col13\" >B0014</th>\n",
       "      <th id=\"T_759a5_level0_col14\" class=\"col_heading level0 col14\" >B0015</th>\n",
       "      <th id=\"T_759a5_level0_col15\" class=\"col_heading level0 col15\" >B0019</th>\n",
       "      <th id=\"T_759a5_level0_col16\" class=\"col_heading level0 col16\" >B005</th>\n",
       "      <th id=\"T_759a5_level0_col17\" class=\"col_heading level0 col17\" >B006</th>\n",
       "      <th id=\"T_759a5_level0_col18\" class=\"col_heading level0 col18\" >B0041</th>\n",
       "      <th id=\"T_759a5_level0_col19\" class=\"col_heading level0 col19\" >B0042</th>\n",
       "      <th id=\"T_759a5_level0_col20\" class=\"col_heading level0 col20\" >B0044</th>\n",
       "      <th id=\"T_759a5_level0_col21\" class=\"col_heading level0 col21\" >B0045</th>\n",
       "      <th id=\"T_759a5_level0_col22\" class=\"col_heading level0 col22\" >B0043</th>\n",
       "      <th id=\"T_759a5_level0_col23\" class=\"col_heading level0 col23\" >B0046</th>\n",
       "      <th id=\"T_759a5_level0_col24\" class=\"col_heading level0 col24\" >B009A</th>\n",
       "      <th id=\"T_759a5_level0_col25\" class=\"col_heading level0 col25\" >B009B</th>\n",
       "      <th id=\"T_759a5_level0_col26\" class=\"col_heading level0 col26\" >B009C</th>\n",
       "      <th id=\"T_759a5_level0_col27\" class=\"col_heading level0 col27\" >B009D</th>\n",
       "      <th id=\"T_759a5_level0_col28\" class=\"col_heading level0 col28\" >B009E</th>\n",
       "      <th id=\"T_759a5_level0_col29\" class=\"col_heading level0 col29\" >B009F</th>\n",
       "      <th id=\"T_759a5_level0_col30\" class=\"col_heading level0 col30\" >B011</th>\n",
       "      <th id=\"T_759a5_level0_col31\" class=\"col_heading level0 col31\" >B007</th>\n",
       "      <th id=\"T_759a5_level0_col32\" class=\"col_heading level0 col32\" >C013</th>\n",
       "      <th id=\"T_759a5_level0_col33\" class=\"col_heading level0 col33\" >C002</th>\n",
       "      <th id=\"T_759a5_level0_col34\" class=\"col_heading level0 col34\" >C004</th>\n",
       "      <th id=\"T_759a5_level0_col35\" class=\"col_heading level0 col35\" >D0053</th>\n",
       "      <th id=\"T_759a5_level0_col36\" class=\"col_heading level0 col36\" >D0051</th>\n",
       "      <th id=\"T_759a5_level0_col37\" class=\"col_heading level0 col37\" >mes_numero</th>\n",
       "    </tr>\n",
       "  </thead>\n",
       "  <tbody>\n",
       "    <tr>\n",
       "      <th id=\"T_759a5_level0_row0\" class=\"row_heading level0 row0\" >A002</th>\n",
       "      <td id=\"T_759a5_row0_col0\" class=\"data row0 col0\" >1.000000</td>\n",
       "      <td id=\"T_759a5_row0_col1\" class=\"data row0 col1\" >0.048482</td>\n",
       "      <td id=\"T_759a5_row0_col2\" class=\"data row0 col2\" >-0.079444</td>\n",
       "      <td id=\"T_759a5_row0_col3\" class=\"data row0 col3\" >0.130180</td>\n",
       "      <td id=\"T_759a5_row0_col4\" class=\"data row0 col4\" >0.075270</td>\n",
       "      <td id=\"T_759a5_row0_col5\" class=\"data row0 col5\" >0.003774</td>\n",
       "      <td id=\"T_759a5_row0_col6\" class=\"data row0 col6\" >-0.019772</td>\n",
       "      <td id=\"T_759a5_row0_col7\" class=\"data row0 col7\" >-0.146071</td>\n",
       "      <td id=\"T_759a5_row0_col8\" class=\"data row0 col8\" >-0.312380</td>\n",
       "      <td id=\"T_759a5_row0_col9\" class=\"data row0 col9\" >0.005785</td>\n",
       "      <td id=\"T_759a5_row0_col10\" class=\"data row0 col10\" >-0.003399</td>\n",
       "      <td id=\"T_759a5_row0_col11\" class=\"data row0 col11\" >-0.008877</td>\n",
       "      <td id=\"T_759a5_row0_col12\" class=\"data row0 col12\" >-0.004822</td>\n",
       "      <td id=\"T_759a5_row0_col13\" class=\"data row0 col13\" >-0.008025</td>\n",
       "      <td id=\"T_759a5_row0_col14\" class=\"data row0 col14\" >-0.013899</td>\n",
       "      <td id=\"T_759a5_row0_col15\" class=\"data row0 col15\" >-0.012291</td>\n",
       "      <td id=\"T_759a5_row0_col16\" class=\"data row0 col16\" >0.007918</td>\n",
       "      <td id=\"T_759a5_row0_col17\" class=\"data row0 col17\" >0.016252</td>\n",
       "      <td id=\"T_759a5_row0_col18\" class=\"data row0 col18\" >0.012400</td>\n",
       "      <td id=\"T_759a5_row0_col19\" class=\"data row0 col19\" >0.012237</td>\n",
       "      <td id=\"T_759a5_row0_col20\" class=\"data row0 col20\" >0.011995</td>\n",
       "      <td id=\"T_759a5_row0_col21\" class=\"data row0 col21\" >0.011940</td>\n",
       "      <td id=\"T_759a5_row0_col22\" class=\"data row0 col22\" >0.011890</td>\n",
       "      <td id=\"T_759a5_row0_col23\" class=\"data row0 col23\" >0.011659</td>\n",
       "      <td id=\"T_759a5_row0_col24\" class=\"data row0 col24\" >0.060568</td>\n",
       "      <td id=\"T_759a5_row0_col25\" class=\"data row0 col25\" >0.033488</td>\n",
       "      <td id=\"T_759a5_row0_col26\" class=\"data row0 col26\" >0.058630</td>\n",
       "      <td id=\"T_759a5_row0_col27\" class=\"data row0 col27\" >0.042194</td>\n",
       "      <td id=\"T_759a5_row0_col28\" class=\"data row0 col28\" >0.055815</td>\n",
       "      <td id=\"T_759a5_row0_col29\" class=\"data row0 col29\" >0.045577</td>\n",
       "      <td id=\"T_759a5_row0_col30\" class=\"data row0 col30\" >-0.057867</td>\n",
       "      <td id=\"T_759a5_row0_col31\" class=\"data row0 col31\" >-0.050914</td>\n",
       "      <td id=\"T_759a5_row0_col32\" class=\"data row0 col32\" >0.039244</td>\n",
       "      <td id=\"T_759a5_row0_col33\" class=\"data row0 col33\" >0.349248</td>\n",
       "      <td id=\"T_759a5_row0_col34\" class=\"data row0 col34\" >0.049441</td>\n",
       "      <td id=\"T_759a5_row0_col35\" class=\"data row0 col35\" >-0.184004</td>\n",
       "      <td id=\"T_759a5_row0_col36\" class=\"data row0 col36\" >0.207607</td>\n",
       "      <td id=\"T_759a5_row0_col37\" class=\"data row0 col37\" >0.003910</td>\n",
       "    </tr>\n",
       "    <tr>\n",
       "      <th id=\"T_759a5_level0_row1\" class=\"row_heading level0 row1\" >A003</th>\n",
       "      <td id=\"T_759a5_row1_col0\" class=\"data row1 col0\" >0.048482</td>\n",
       "      <td id=\"T_759a5_row1_col1\" class=\"data row1 col1\" >1.000000</td>\n",
       "      <td id=\"T_759a5_row1_col2\" class=\"data row1 col2\" >-0.013371</td>\n",
       "      <td id=\"T_759a5_row1_col3\" class=\"data row1 col3\" >0.066038</td>\n",
       "      <td id=\"T_759a5_row1_col4\" class=\"data row1 col4\" >0.001069</td>\n",
       "      <td id=\"T_759a5_row1_col5\" class=\"data row1 col5\" >0.000169</td>\n",
       "      <td id=\"T_759a5_row1_col6\" class=\"data row1 col6\" >-0.034067</td>\n",
       "      <td id=\"T_759a5_row1_col7\" class=\"data row1 col7\" >-0.019790</td>\n",
       "      <td id=\"T_759a5_row1_col8\" class=\"data row1 col8\" >-0.041660</td>\n",
       "      <td id=\"T_759a5_row1_col9\" class=\"data row1 col9\" >-0.008456</td>\n",
       "      <td id=\"T_759a5_row1_col10\" class=\"data row1 col10\" >-0.000715</td>\n",
       "      <td id=\"T_759a5_row1_col11\" class=\"data row1 col11\" >-0.001522</td>\n",
       "      <td id=\"T_759a5_row1_col12\" class=\"data row1 col12\" >-0.003630</td>\n",
       "      <td id=\"T_759a5_row1_col13\" class=\"data row1 col13\" >-0.001513</td>\n",
       "      <td id=\"T_759a5_row1_col14\" class=\"data row1 col14\" >-0.009525</td>\n",
       "      <td id=\"T_759a5_row1_col15\" class=\"data row1 col15\" >-0.002741</td>\n",
       "      <td id=\"T_759a5_row1_col16\" class=\"data row1 col16\" >0.008590</td>\n",
       "      <td id=\"T_759a5_row1_col17\" class=\"data row1 col17\" >-0.000462</td>\n",
       "      <td id=\"T_759a5_row1_col18\" class=\"data row1 col18\" >0.011825</td>\n",
       "      <td id=\"T_759a5_row1_col19\" class=\"data row1 col19\" >0.013414</td>\n",
       "      <td id=\"T_759a5_row1_col20\" class=\"data row1 col20\" >0.013367</td>\n",
       "      <td id=\"T_759a5_row1_col21\" class=\"data row1 col21\" >0.013380</td>\n",
       "      <td id=\"T_759a5_row1_col22\" class=\"data row1 col22\" >0.012950</td>\n",
       "      <td id=\"T_759a5_row1_col23\" class=\"data row1 col23\" >0.013603</td>\n",
       "      <td id=\"T_759a5_row1_col24\" class=\"data row1 col24\" >0.011672</td>\n",
       "      <td id=\"T_759a5_row1_col25\" class=\"data row1 col25\" >0.010552</td>\n",
       "      <td id=\"T_759a5_row1_col26\" class=\"data row1 col26\" >0.013158</td>\n",
       "      <td id=\"T_759a5_row1_col27\" class=\"data row1 col27\" >0.005633</td>\n",
       "      <td id=\"T_759a5_row1_col28\" class=\"data row1 col28\" >0.012409</td>\n",
       "      <td id=\"T_759a5_row1_col29\" class=\"data row1 col29\" >0.006883</td>\n",
       "      <td id=\"T_759a5_row1_col30\" class=\"data row1 col30\" >0.085277</td>\n",
       "      <td id=\"T_759a5_row1_col31\" class=\"data row1 col31\" >-0.014539</td>\n",
       "      <td id=\"T_759a5_row1_col32\" class=\"data row1 col32\" >-0.038255</td>\n",
       "      <td id=\"T_759a5_row1_col33\" class=\"data row1 col33\" >0.183004</td>\n",
       "      <td id=\"T_759a5_row1_col34\" class=\"data row1 col34\" >0.024181</td>\n",
       "      <td id=\"T_759a5_row1_col35\" class=\"data row1 col35\" >-0.004117</td>\n",
       "      <td id=\"T_759a5_row1_col36\" class=\"data row1 col36\" >0.009043</td>\n",
       "      <td id=\"T_759a5_row1_col37\" class=\"data row1 col37\" >0.000675</td>\n",
       "    </tr>\n",
       "    <tr>\n",
       "      <th id=\"T_759a5_level0_row2\" class=\"row_heading level0 row2\" >A004</th>\n",
       "      <td id=\"T_759a5_row2_col0\" class=\"data row2 col0\" >-0.079444</td>\n",
       "      <td id=\"T_759a5_row2_col1\" class=\"data row2 col1\" >-0.013371</td>\n",
       "      <td id=\"T_759a5_row2_col2\" class=\"data row2 col2\" >1.000000</td>\n",
       "      <td id=\"T_759a5_row2_col3\" class=\"data row2 col3\" >-0.119791</td>\n",
       "      <td id=\"T_759a5_row2_col4\" class=\"data row2 col4\" >-0.266116</td>\n",
       "      <td id=\"T_759a5_row2_col5\" class=\"data row2 col5\" >0.001253</td>\n",
       "      <td id=\"T_759a5_row2_col6\" class=\"data row2 col6\" >0.073349</td>\n",
       "      <td id=\"T_759a5_row2_col7\" class=\"data row2 col7\" >0.016299</td>\n",
       "      <td id=\"T_759a5_row2_col8\" class=\"data row2 col8\" >0.025245</td>\n",
       "      <td id=\"T_759a5_row2_col9\" class=\"data row2 col9\" >0.018847</td>\n",
       "      <td id=\"T_759a5_row2_col10\" class=\"data row2 col10\" >0.003489</td>\n",
       "      <td id=\"T_759a5_row2_col11\" class=\"data row2 col11\" >0.003864</td>\n",
       "      <td id=\"T_759a5_row2_col12\" class=\"data row2 col12\" >0.003704</td>\n",
       "      <td id=\"T_759a5_row2_col13\" class=\"data row2 col13\" >0.004440</td>\n",
       "      <td id=\"T_759a5_row2_col14\" class=\"data row2 col14\" >0.004262</td>\n",
       "      <td id=\"T_759a5_row2_col15\" class=\"data row2 col15\" >0.005513</td>\n",
       "      <td id=\"T_759a5_row2_col16\" class=\"data row2 col16\" >-0.002797</td>\n",
       "      <td id=\"T_759a5_row2_col17\" class=\"data row2 col17\" >-0.001546</td>\n",
       "      <td id=\"T_759a5_row2_col18\" class=\"data row2 col18\" >-0.005104</td>\n",
       "      <td id=\"T_759a5_row2_col19\" class=\"data row2 col19\" >-0.003054</td>\n",
       "      <td id=\"T_759a5_row2_col20\" class=\"data row2 col20\" >-0.001186</td>\n",
       "      <td id=\"T_759a5_row2_col21\" class=\"data row2 col21\" >-0.001989</td>\n",
       "      <td id=\"T_759a5_row2_col22\" class=\"data row2 col22\" >-0.003396</td>\n",
       "      <td id=\"T_759a5_row2_col23\" class=\"data row2 col23\" >-0.000863</td>\n",
       "      <td id=\"T_759a5_row2_col24\" class=\"data row2 col24\" >-0.010679</td>\n",
       "      <td id=\"T_759a5_row2_col25\" class=\"data row2 col25\" >-0.034633</td>\n",
       "      <td id=\"T_759a5_row2_col26\" class=\"data row2 col26\" >-0.023672</td>\n",
       "      <td id=\"T_759a5_row2_col27\" class=\"data row2 col27\" >-0.004457</td>\n",
       "      <td id=\"T_759a5_row2_col28\" class=\"data row2 col28\" >-0.019880</td>\n",
       "      <td id=\"T_759a5_row2_col29\" class=\"data row2 col29\" >-0.010689</td>\n",
       "      <td id=\"T_759a5_row2_col30\" class=\"data row2 col30\" >-0.003592</td>\n",
       "      <td id=\"T_759a5_row2_col31\" class=\"data row2 col31\" >0.145641</td>\n",
       "      <td id=\"T_759a5_row2_col32\" class=\"data row2 col32\" >-0.028868</td>\n",
       "      <td id=\"T_759a5_row2_col33\" class=\"data row2 col33\" >0.030931</td>\n",
       "      <td id=\"T_759a5_row2_col34\" class=\"data row2 col34\" >0.002127</td>\n",
       "      <td id=\"T_759a5_row2_col35\" class=\"data row2 col35\" >0.133862</td>\n",
       "      <td id=\"T_759a5_row2_col36\" class=\"data row2 col36\" >-0.172679</td>\n",
       "      <td id=\"T_759a5_row2_col37\" class=\"data row2 col37\" >-0.000290</td>\n",
       "    </tr>\n",
       "    <tr>\n",
       "      <th id=\"T_759a5_level0_row3\" class=\"row_heading level0 row3\" >A005</th>\n",
       "      <td id=\"T_759a5_row3_col0\" class=\"data row3 col0\" >0.130180</td>\n",
       "      <td id=\"T_759a5_row3_col1\" class=\"data row3 col1\" >0.066038</td>\n",
       "      <td id=\"T_759a5_row3_col2\" class=\"data row3 col2\" >-0.119791</td>\n",
       "      <td id=\"T_759a5_row3_col3\" class=\"data row3 col3\" >1.000000</td>\n",
       "      <td id=\"T_759a5_row3_col4\" class=\"data row3 col4\" >0.074401</td>\n",
       "      <td id=\"T_759a5_row3_col5\" class=\"data row3 col5\" >0.000856</td>\n",
       "      <td id=\"T_759a5_row3_col6\" class=\"data row3 col6\" >-0.225389</td>\n",
       "      <td id=\"T_759a5_row3_col7\" class=\"data row3 col7\" >0.026796</td>\n",
       "      <td id=\"T_759a5_row3_col8\" class=\"data row3 col8\" >0.042757</td>\n",
       "      <td id=\"T_759a5_row3_col9\" class=\"data row3 col9\" >-0.002880</td>\n",
       "      <td id=\"T_759a5_row3_col10\" class=\"data row3 col10\" >0.001924</td>\n",
       "      <td id=\"T_759a5_row3_col11\" class=\"data row3 col11\" >0.002542</td>\n",
       "      <td id=\"T_759a5_row3_col12\" class=\"data row3 col12\" >-0.001755</td>\n",
       "      <td id=\"T_759a5_row3_col13\" class=\"data row3 col13\" >0.001608</td>\n",
       "      <td id=\"T_759a5_row3_col14\" class=\"data row3 col14\" >-0.006304</td>\n",
       "      <td id=\"T_759a5_row3_col15\" class=\"data row3 col15\" >-0.001032</td>\n",
       "      <td id=\"T_759a5_row3_col16\" class=\"data row3 col16\" >0.018677</td>\n",
       "      <td id=\"T_759a5_row3_col17\" class=\"data row3 col17\" >0.000115</td>\n",
       "      <td id=\"T_759a5_row3_col18\" class=\"data row3 col18\" >0.021147</td>\n",
       "      <td id=\"T_759a5_row3_col19\" class=\"data row3 col19\" >0.017153</td>\n",
       "      <td id=\"T_759a5_row3_col20\" class=\"data row3 col20\" >0.015238</td>\n",
       "      <td id=\"T_759a5_row3_col21\" class=\"data row3 col21\" >0.015906</td>\n",
       "      <td id=\"T_759a5_row3_col22\" class=\"data row3 col22\" >0.017957</td>\n",
       "      <td id=\"T_759a5_row3_col23\" class=\"data row3 col23\" >0.013856</td>\n",
       "      <td id=\"T_759a5_row3_col24\" class=\"data row3 col24\" >0.157993</td>\n",
       "      <td id=\"T_759a5_row3_col25\" class=\"data row3 col25\" >0.127758</td>\n",
       "      <td id=\"T_759a5_row3_col26\" class=\"data row3 col26\" >0.173058</td>\n",
       "      <td id=\"T_759a5_row3_col27\" class=\"data row3 col27\" >0.101148</td>\n",
       "      <td id=\"T_759a5_row3_col28\" class=\"data row3 col28\" >0.165528</td>\n",
       "      <td id=\"T_759a5_row3_col29\" class=\"data row3 col29\" >0.105476</td>\n",
       "      <td id=\"T_759a5_row3_col30\" class=\"data row3 col30\" >-0.247241</td>\n",
       "      <td id=\"T_759a5_row3_col31\" class=\"data row3 col31\" >-0.222515</td>\n",
       "      <td id=\"T_759a5_row3_col32\" class=\"data row3 col32\" >0.189155</td>\n",
       "      <td id=\"T_759a5_row3_col33\" class=\"data row3 col33\" >-0.016666</td>\n",
       "      <td id=\"T_759a5_row3_col34\" class=\"data row3 col34\" >0.061244</td>\n",
       "      <td id=\"T_759a5_row3_col35\" class=\"data row3 col35\" >-0.147925</td>\n",
       "      <td id=\"T_759a5_row3_col36\" class=\"data row3 col36\" >0.185116</td>\n",
       "      <td id=\"T_759a5_row3_col37\" class=\"data row3 col37\" >0.001280</td>\n",
       "    </tr>\n",
       "    <tr>\n",
       "      <th id=\"T_759a5_level0_row4\" class=\"row_heading level0 row4\" >UF</th>\n",
       "      <td id=\"T_759a5_row4_col0\" class=\"data row4 col0\" >0.075270</td>\n",
       "      <td id=\"T_759a5_row4_col1\" class=\"data row4 col1\" >0.001069</td>\n",
       "      <td id=\"T_759a5_row4_col2\" class=\"data row4 col2\" >-0.266116</td>\n",
       "      <td id=\"T_759a5_row4_col3\" class=\"data row4 col3\" >0.074401</td>\n",
       "      <td id=\"T_759a5_row4_col4\" class=\"data row4 col4\" >1.000000</td>\n",
       "      <td id=\"T_759a5_row4_col5\" class=\"data row4 col5\" >-0.003434</td>\n",
       "      <td id=\"T_759a5_row4_col6\" class=\"data row4 col6\" >-0.096999</td>\n",
       "      <td id=\"T_759a5_row4_col7\" class=\"data row4 col7\" >-0.020397</td>\n",
       "      <td id=\"T_759a5_row4_col8\" class=\"data row4 col8\" >-0.032107</td>\n",
       "      <td id=\"T_759a5_row4_col9\" class=\"data row4 col9\" >-0.023769</td>\n",
       "      <td id=\"T_759a5_row4_col10\" class=\"data row4 col10\" >0.000705</td>\n",
       "      <td id=\"T_759a5_row4_col11\" class=\"data row4 col11\" >-0.001419</td>\n",
       "      <td id=\"T_759a5_row4_col12\" class=\"data row4 col12\" >-0.000246</td>\n",
       "      <td id=\"T_759a5_row4_col13\" class=\"data row4 col13\" >-0.002078</td>\n",
       "      <td id=\"T_759a5_row4_col14\" class=\"data row4 col14\" >-0.002247</td>\n",
       "      <td id=\"T_759a5_row4_col15\" class=\"data row4 col15\" >-0.002437</td>\n",
       "      <td id=\"T_759a5_row4_col16\" class=\"data row4 col16\" >0.008266</td>\n",
       "      <td id=\"T_759a5_row4_col17\" class=\"data row4 col17\" >0.003874</td>\n",
       "      <td id=\"T_759a5_row4_col18\" class=\"data row4 col18\" >0.012674</td>\n",
       "      <td id=\"T_759a5_row4_col19\" class=\"data row4 col19\" >0.010127</td>\n",
       "      <td id=\"T_759a5_row4_col20\" class=\"data row4 col20\" >0.009304</td>\n",
       "      <td id=\"T_759a5_row4_col21\" class=\"data row4 col21\" >0.010266</td>\n",
       "      <td id=\"T_759a5_row4_col22\" class=\"data row4 col22\" >0.011174</td>\n",
       "      <td id=\"T_759a5_row4_col23\" class=\"data row4 col23\" >0.009461</td>\n",
       "      <td id=\"T_759a5_row4_col24\" class=\"data row4 col24\" >0.003572</td>\n",
       "      <td id=\"T_759a5_row4_col25\" class=\"data row4 col25\" >0.069904</td>\n",
       "      <td id=\"T_759a5_row4_col26\" class=\"data row4 col26\" >0.037021</td>\n",
       "      <td id=\"T_759a5_row4_col27\" class=\"data row4 col27\" >-0.006222</td>\n",
       "      <td id=\"T_759a5_row4_col28\" class=\"data row4 col28\" >0.027851</td>\n",
       "      <td id=\"T_759a5_row4_col29\" class=\"data row4 col29\" >0.007370</td>\n",
       "      <td id=\"T_759a5_row4_col30\" class=\"data row4 col30\" >0.001808</td>\n",
       "      <td id=\"T_759a5_row4_col31\" class=\"data row4 col31\" >-0.131018</td>\n",
       "      <td id=\"T_759a5_row4_col32\" class=\"data row4 col32\" >0.013344</td>\n",
       "      <td id=\"T_759a5_row4_col33\" class=\"data row4 col33\" >-0.050929</td>\n",
       "      <td id=\"T_759a5_row4_col34\" class=\"data row4 col34\" >-0.008124</td>\n",
       "      <td id=\"T_759a5_row4_col35\" class=\"data row4 col35\" >-0.157253</td>\n",
       "      <td id=\"T_759a5_row4_col36\" class=\"data row4 col36\" >0.188540</td>\n",
       "      <td id=\"T_759a5_row4_col37\" class=\"data row4 col37\" >0.000068</td>\n",
       "    </tr>\n",
       "    <tr>\n",
       "      <th id=\"T_759a5_level0_row5\" class=\"row_heading level0 row5\" >V1012</th>\n",
       "      <td id=\"T_759a5_row5_col0\" class=\"data row5 col0\" >0.003774</td>\n",
       "      <td id=\"T_759a5_row5_col1\" class=\"data row5 col1\" >0.000169</td>\n",
       "      <td id=\"T_759a5_row5_col2\" class=\"data row5 col2\" >0.001253</td>\n",
       "      <td id=\"T_759a5_row5_col3\" class=\"data row5 col3\" >0.000856</td>\n",
       "      <td id=\"T_759a5_row5_col4\" class=\"data row5 col4\" >-0.003434</td>\n",
       "      <td id=\"T_759a5_row5_col5\" class=\"data row5 col5\" >1.000000</td>\n",
       "      <td id=\"T_759a5_row5_col6\" class=\"data row5 col6\" >-0.001212</td>\n",
       "      <td id=\"T_759a5_row5_col7\" class=\"data row5 col7\" >0.001116</td>\n",
       "      <td id=\"T_759a5_row5_col8\" class=\"data row5 col8\" >0.000398</td>\n",
       "      <td id=\"T_759a5_row5_col9\" class=\"data row5 col9\" >0.003062</td>\n",
       "      <td id=\"T_759a5_row5_col10\" class=\"data row5 col10\" >-0.005247</td>\n",
       "      <td id=\"T_759a5_row5_col11\" class=\"data row5 col11\" >-0.004938</td>\n",
       "      <td id=\"T_759a5_row5_col12\" class=\"data row5 col12\" >-0.005102</td>\n",
       "      <td id=\"T_759a5_row5_col13\" class=\"data row5 col13\" >-0.005173</td>\n",
       "      <td id=\"T_759a5_row5_col14\" class=\"data row5 col14\" >-0.004777</td>\n",
       "      <td id=\"T_759a5_row5_col15\" class=\"data row5 col15\" >-0.004970</td>\n",
       "      <td id=\"T_759a5_row5_col16\" class=\"data row5 col16\" >0.002675</td>\n",
       "      <td id=\"T_759a5_row5_col17\" class=\"data row5 col17\" >-0.000483</td>\n",
       "      <td id=\"T_759a5_row5_col18\" class=\"data row5 col18\" >0.002840</td>\n",
       "      <td id=\"T_759a5_row5_col19\" class=\"data row5 col19\" >0.002847</td>\n",
       "      <td id=\"T_759a5_row5_col20\" class=\"data row5 col20\" >0.002507</td>\n",
       "      <td id=\"T_759a5_row5_col21\" class=\"data row5 col21\" >0.002583</td>\n",
       "      <td id=\"T_759a5_row5_col22\" class=\"data row5 col22\" >0.002418</td>\n",
       "      <td id=\"T_759a5_row5_col23\" class=\"data row5 col23\" >0.002410</td>\n",
       "      <td id=\"T_759a5_row5_col24\" class=\"data row5 col24\" >0.008626</td>\n",
       "      <td id=\"T_759a5_row5_col25\" class=\"data row5 col25\" >0.006584</td>\n",
       "      <td id=\"T_759a5_row5_col26\" class=\"data row5 col26\" >0.010123</td>\n",
       "      <td id=\"T_759a5_row5_col27\" class=\"data row5 col27\" >0.004490</td>\n",
       "      <td id=\"T_759a5_row5_col28\" class=\"data row5 col28\" >0.008575</td>\n",
       "      <td id=\"T_759a5_row5_col29\" class=\"data row5 col29\" >0.006245</td>\n",
       "      <td id=\"T_759a5_row5_col30\" class=\"data row5 col30\" >-0.014740</td>\n",
       "      <td id=\"T_759a5_row5_col31\" class=\"data row5 col31\" >-0.002609</td>\n",
       "      <td id=\"T_759a5_row5_col32\" class=\"data row5 col32\" >-0.001742</td>\n",
       "      <td id=\"T_759a5_row5_col33\" class=\"data row5 col33\" >-0.000300</td>\n",
       "      <td id=\"T_759a5_row5_col34\" class=\"data row5 col34\" >-0.005617</td>\n",
       "      <td id=\"T_759a5_row5_col35\" class=\"data row5 col35\" >-0.014505</td>\n",
       "      <td id=\"T_759a5_row5_col36\" class=\"data row5 col36\" >-0.000789</td>\n",
       "      <td id=\"T_759a5_row5_col37\" class=\"data row5 col37\" >-0.003796</td>\n",
       "    </tr>\n",
       "    <tr>\n",
       "      <th id=\"T_759a5_level0_row6\" class=\"row_heading level0 row6\" >V1022</th>\n",
       "      <td id=\"T_759a5_row6_col0\" class=\"data row6 col0\" >-0.019772</td>\n",
       "      <td id=\"T_759a5_row6_col1\" class=\"data row6 col1\" >-0.034067</td>\n",
       "      <td id=\"T_759a5_row6_col2\" class=\"data row6 col2\" >0.073349</td>\n",
       "      <td id=\"T_759a5_row6_col3\" class=\"data row6 col3\" >-0.225389</td>\n",
       "      <td id=\"T_759a5_row6_col4\" class=\"data row6 col4\" >-0.096999</td>\n",
       "      <td id=\"T_759a5_row6_col5\" class=\"data row6 col5\" >-0.001212</td>\n",
       "      <td id=\"T_759a5_row6_col6\" class=\"data row6 col6\" >1.000000</td>\n",
       "      <td id=\"T_759a5_row6_col7\" class=\"data row6 col7\" >0.006546</td>\n",
       "      <td id=\"T_759a5_row6_col8\" class=\"data row6 col8\" >-0.001520</td>\n",
       "      <td id=\"T_759a5_row6_col9\" class=\"data row6 col9\" >0.009544</td>\n",
       "      <td id=\"T_759a5_row6_col10\" class=\"data row6 col10\" >-0.010789</td>\n",
       "      <td id=\"T_759a5_row6_col11\" class=\"data row6 col11\" >-0.010635</td>\n",
       "      <td id=\"T_759a5_row6_col12\" class=\"data row6 col12\" >-0.010500</td>\n",
       "      <td id=\"T_759a5_row6_col13\" class=\"data row6 col13\" >-0.011027</td>\n",
       "      <td id=\"T_759a5_row6_col14\" class=\"data row6 col14\" >-0.009701</td>\n",
       "      <td id=\"T_759a5_row6_col15\" class=\"data row6 col15\" >-0.009653</td>\n",
       "      <td id=\"T_759a5_row6_col16\" class=\"data row6 col16\" >-0.015721</td>\n",
       "      <td id=\"T_759a5_row6_col17\" class=\"data row6 col17\" >-0.004245</td>\n",
       "      <td id=\"T_759a5_row6_col18\" class=\"data row6 col18\" >-0.017157</td>\n",
       "      <td id=\"T_759a5_row6_col19\" class=\"data row6 col19\" >-0.012939</td>\n",
       "      <td id=\"T_759a5_row6_col20\" class=\"data row6 col20\" >-0.013397</td>\n",
       "      <td id=\"T_759a5_row6_col21\" class=\"data row6 col21\" >-0.014007</td>\n",
       "      <td id=\"T_759a5_row6_col22\" class=\"data row6 col22\" >-0.015326</td>\n",
       "      <td id=\"T_759a5_row6_col23\" class=\"data row6 col23\" >-0.012977</td>\n",
       "      <td id=\"T_759a5_row6_col24\" class=\"data row6 col24\" >-0.073153</td>\n",
       "      <td id=\"T_759a5_row6_col25\" class=\"data row6 col25\" >-0.070518</td>\n",
       "      <td id=\"T_759a5_row6_col26\" class=\"data row6 col26\" >-0.085204</td>\n",
       "      <td id=\"T_759a5_row6_col27\" class=\"data row6 col27\" >-0.044831</td>\n",
       "      <td id=\"T_759a5_row6_col28\" class=\"data row6 col28\" >-0.083298</td>\n",
       "      <td id=\"T_759a5_row6_col29\" class=\"data row6 col29\" >-0.040785</td>\n",
       "      <td id=\"T_759a5_row6_col30\" class=\"data row6 col30\" >0.044070</td>\n",
       "      <td id=\"T_759a5_row6_col31\" class=\"data row6 col31\" >0.149118</td>\n",
       "      <td id=\"T_759a5_row6_col32\" class=\"data row6 col32\" >-0.049787</td>\n",
       "      <td id=\"T_759a5_row6_col33\" class=\"data row6 col33\" >0.011169</td>\n",
       "      <td id=\"T_759a5_row6_col34\" class=\"data row6 col34\" >-0.032866</td>\n",
       "      <td id=\"T_759a5_row6_col35\" class=\"data row6 col35\" >0.098390</td>\n",
       "      <td id=\"T_759a5_row6_col36\" class=\"data row6 col36\" >-0.127359</td>\n",
       "      <td id=\"T_759a5_row6_col37\" class=\"data row6 col37\" >-0.003053</td>\n",
       "    </tr>\n",
       "    <tr>\n",
       "      <th id=\"T_759a5_level0_row7\" class=\"row_heading level0 row7\" >B0101</th>\n",
       "      <td id=\"T_759a5_row7_col0\" class=\"data row7 col0\" >-0.146071</td>\n",
       "      <td id=\"T_759a5_row7_col1\" class=\"data row7 col1\" >-0.019790</td>\n",
       "      <td id=\"T_759a5_row7_col2\" class=\"data row7 col2\" >0.016299</td>\n",
       "      <td id=\"T_759a5_row7_col3\" class=\"data row7 col3\" >0.026796</td>\n",
       "      <td id=\"T_759a5_row7_col4\" class=\"data row7 col4\" >-0.020397</td>\n",
       "      <td id=\"T_759a5_row7_col5\" class=\"data row7 col5\" >0.001116</td>\n",
       "      <td id=\"T_759a5_row7_col6\" class=\"data row7 col6\" >0.006546</td>\n",
       "      <td id=\"T_759a5_row7_col7\" class=\"data row7 col7\" >1.000000</td>\n",
       "      <td id=\"T_759a5_row7_col8\" class=\"data row7 col8\" >0.735455</td>\n",
       "      <td id=\"T_759a5_row7_col9\" class=\"data row7 col9\" >0.736408</td>\n",
       "      <td id=\"T_759a5_row7_col10\" class=\"data row7 col10\" >0.386504</td>\n",
       "      <td id=\"T_759a5_row7_col11\" class=\"data row7 col11\" >0.381154</td>\n",
       "      <td id=\"T_759a5_row7_col12\" class=\"data row7 col12\" >0.382233</td>\n",
       "      <td id=\"T_759a5_row7_col13\" class=\"data row7 col13\" >0.391227</td>\n",
       "      <td id=\"T_759a5_row7_col14\" class=\"data row7 col14\" >0.378659</td>\n",
       "      <td id=\"T_759a5_row7_col15\" class=\"data row7 col15\" >0.387935</td>\n",
       "      <td id=\"T_759a5_row7_col16\" class=\"data row7 col16\" >-0.004679</td>\n",
       "      <td id=\"T_759a5_row7_col17\" class=\"data row7 col17\" >-0.008016</td>\n",
       "      <td id=\"T_759a5_row7_col18\" class=\"data row7 col18\" >-0.009694</td>\n",
       "      <td id=\"T_759a5_row7_col19\" class=\"data row7 col19\" >-0.009324</td>\n",
       "      <td id=\"T_759a5_row7_col20\" class=\"data row7 col20\" >-0.009466</td>\n",
       "      <td id=\"T_759a5_row7_col21\" class=\"data row7 col21\" >-0.009352</td>\n",
       "      <td id=\"T_759a5_row7_col22\" class=\"data row7 col22\" >-0.009098</td>\n",
       "      <td id=\"T_759a5_row7_col23\" class=\"data row7 col23\" >-0.009217</td>\n",
       "      <td id=\"T_759a5_row7_col24\" class=\"data row7 col24\" >-0.016686</td>\n",
       "      <td id=\"T_759a5_row7_col25\" class=\"data row7 col25\" >-0.011790</td>\n",
       "      <td id=\"T_759a5_row7_col26\" class=\"data row7 col26\" >-0.015386</td>\n",
       "      <td id=\"T_759a5_row7_col27\" class=\"data row7 col27\" >-0.012360</td>\n",
       "      <td id=\"T_759a5_row7_col28\" class=\"data row7 col28\" >-0.013929</td>\n",
       "      <td id=\"T_759a5_row7_col29\" class=\"data row7 col29\" >-0.014087</td>\n",
       "      <td id=\"T_759a5_row7_col30\" class=\"data row7 col30\" >0.225030</td>\n",
       "      <td id=\"T_759a5_row7_col31\" class=\"data row7 col31\" >0.401686</td>\n",
       "      <td id=\"T_759a5_row7_col32\" class=\"data row7 col32\" >0.002527</td>\n",
       "      <td id=\"T_759a5_row7_col33\" class=\"data row7 col33\" >-0.054585</td>\n",
       "      <td id=\"T_759a5_row7_col34\" class=\"data row7 col34\" >-0.008380</td>\n",
       "      <td id=\"T_759a5_row7_col35\" class=\"data row7 col35\" >0.025214</td>\n",
       "      <td id=\"T_759a5_row7_col36\" class=\"data row7 col36\" >-0.026272</td>\n",
       "      <td id=\"T_759a5_row7_col37\" class=\"data row7 col37\" >-0.010475</td>\n",
       "    </tr>\n",
       "    <tr>\n",
       "      <th id=\"T_759a5_level0_row8\" class=\"row_heading level0 row8\" >B0102</th>\n",
       "      <td id=\"T_759a5_row8_col0\" class=\"data row8 col0\" >-0.312380</td>\n",
       "      <td id=\"T_759a5_row8_col1\" class=\"data row8 col1\" >-0.041660</td>\n",
       "      <td id=\"T_759a5_row8_col2\" class=\"data row8 col2\" >0.025245</td>\n",
       "      <td id=\"T_759a5_row8_col3\" class=\"data row8 col3\" >0.042757</td>\n",
       "      <td id=\"T_759a5_row8_col4\" class=\"data row8 col4\" >-0.032107</td>\n",
       "      <td id=\"T_759a5_row8_col5\" class=\"data row8 col5\" >0.000398</td>\n",
       "      <td id=\"T_759a5_row8_col6\" class=\"data row8 col6\" >-0.001520</td>\n",
       "      <td id=\"T_759a5_row8_col7\" class=\"data row8 col7\" >0.735455</td>\n",
       "      <td id=\"T_759a5_row8_col8\" class=\"data row8 col8\" >1.000000</td>\n",
       "      <td id=\"T_759a5_row8_col9\" class=\"data row8 col9\" >0.641274</td>\n",
       "      <td id=\"T_759a5_row8_col10\" class=\"data row8 col10\" >0.336055</td>\n",
       "      <td id=\"T_759a5_row8_col11\" class=\"data row8 col11\" >0.333312</td>\n",
       "      <td id=\"T_759a5_row8_col12\" class=\"data row8 col12\" >0.332934</td>\n",
       "      <td id=\"T_759a5_row8_col13\" class=\"data row8 col13\" >0.340993</td>\n",
       "      <td id=\"T_759a5_row8_col14\" class=\"data row8 col14\" >0.332527</td>\n",
       "      <td id=\"T_759a5_row8_col15\" class=\"data row8 col15\" >0.339483</td>\n",
       "      <td id=\"T_759a5_row8_col16\" class=\"data row8 col16\" >-0.007321</td>\n",
       "      <td id=\"T_759a5_row8_col17\" class=\"data row8 col17\" >-0.011571</td>\n",
       "      <td id=\"T_759a5_row8_col18\" class=\"data row8 col18\" >-0.014352</td>\n",
       "      <td id=\"T_759a5_row8_col19\" class=\"data row8 col19\" >-0.015052</td>\n",
       "      <td id=\"T_759a5_row8_col20\" class=\"data row8 col20\" >-0.015047</td>\n",
       "      <td id=\"T_759a5_row8_col21\" class=\"data row8 col21\" >-0.015232</td>\n",
       "      <td id=\"T_759a5_row8_col22\" class=\"data row8 col22\" >-0.014851</td>\n",
       "      <td id=\"T_759a5_row8_col23\" class=\"data row8 col23\" >-0.015371</td>\n",
       "      <td id=\"T_759a5_row8_col24\" class=\"data row8 col24\" >-0.022766</td>\n",
       "      <td id=\"T_759a5_row8_col25\" class=\"data row8 col25\" >-0.013403</td>\n",
       "      <td id=\"T_759a5_row8_col26\" class=\"data row8 col26\" >-0.020771</td>\n",
       "      <td id=\"T_759a5_row8_col27\" class=\"data row8 col27\" >-0.017077</td>\n",
       "      <td id=\"T_759a5_row8_col28\" class=\"data row8 col28\" >-0.018512</td>\n",
       "      <td id=\"T_759a5_row8_col29\" class=\"data row8 col29\" >-0.020155</td>\n",
       "      <td id=\"T_759a5_row8_col30\" class=\"data row8 col30\" >0.178556</td>\n",
       "      <td id=\"T_759a5_row8_col31\" class=\"data row8 col31\" >0.353239</td>\n",
       "      <td id=\"T_759a5_row8_col32\" class=\"data row8 col32\" >0.007997</td>\n",
       "      <td id=\"T_759a5_row8_col33\" class=\"data row8 col33\" >-0.119937</td>\n",
       "      <td id=\"T_759a5_row8_col34\" class=\"data row8 col34\" >-0.013982</td>\n",
       "      <td id=\"T_759a5_row8_col35\" class=\"data row8 col35\" >0.054272</td>\n",
       "      <td id=\"T_759a5_row8_col36\" class=\"data row8 col36\" >-0.057912</td>\n",
       "      <td id=\"T_759a5_row8_col37\" class=\"data row8 col37\" >-0.010807</td>\n",
       "    </tr>\n",
       "    <tr>\n",
       "      <th id=\"T_759a5_level0_row9\" class=\"row_heading level0 row9\" >B0103</th>\n",
       "      <td id=\"T_759a5_row9_col0\" class=\"data row9 col0\" >0.005785</td>\n",
       "      <td id=\"T_759a5_row9_col1\" class=\"data row9 col1\" >-0.008456</td>\n",
       "      <td id=\"T_759a5_row9_col2\" class=\"data row9 col2\" >0.018847</td>\n",
       "      <td id=\"T_759a5_row9_col3\" class=\"data row9 col3\" >-0.002880</td>\n",
       "      <td id=\"T_759a5_row9_col4\" class=\"data row9 col4\" >-0.023769</td>\n",
       "      <td id=\"T_759a5_row9_col5\" class=\"data row9 col5\" >0.003062</td>\n",
       "      <td id=\"T_759a5_row9_col6\" class=\"data row9 col6\" >0.009544</td>\n",
       "      <td id=\"T_759a5_row9_col7\" class=\"data row9 col7\" >0.736408</td>\n",
       "      <td id=\"T_759a5_row9_col8\" class=\"data row9 col8\" >0.641274</td>\n",
       "      <td id=\"T_759a5_row9_col9\" class=\"data row9 col9\" >1.000000</td>\n",
       "      <td id=\"T_759a5_row9_col10\" class=\"data row9 col10\" >0.395178</td>\n",
       "      <td id=\"T_759a5_row9_col11\" class=\"data row9 col11\" >0.390707</td>\n",
       "      <td id=\"T_759a5_row9_col12\" class=\"data row9 col12\" >0.392019</td>\n",
       "      <td id=\"T_759a5_row9_col13\" class=\"data row9 col13\" >0.401538</td>\n",
       "      <td id=\"T_759a5_row9_col14\" class=\"data row9 col14\" >0.388018</td>\n",
       "      <td id=\"T_759a5_row9_col15\" class=\"data row9 col15\" >0.395947</td>\n",
       "      <td id=\"T_759a5_row9_col16\" class=\"data row9 col16\" >-0.009224</td>\n",
       "      <td id=\"T_759a5_row9_col17\" class=\"data row9 col17\" >-0.006642</td>\n",
       "      <td id=\"T_759a5_row9_col18\" class=\"data row9 col18\" >-0.015627</td>\n",
       "      <td id=\"T_759a5_row9_col19\" class=\"data row9 col19\" >-0.015323</td>\n",
       "      <td id=\"T_759a5_row9_col20\" class=\"data row9 col20\" >-0.015284</td>\n",
       "      <td id=\"T_759a5_row9_col21\" class=\"data row9 col21\" >-0.015765</td>\n",
       "      <td id=\"T_759a5_row9_col22\" class=\"data row9 col22\" >-0.015367</td>\n",
       "      <td id=\"T_759a5_row9_col23\" class=\"data row9 col23\" >-0.015486</td>\n",
       "      <td id=\"T_759a5_row9_col24\" class=\"data row9 col24\" >-0.018980</td>\n",
       "      <td id=\"T_759a5_row9_col25\" class=\"data row9 col25\" >-0.019725</td>\n",
       "      <td id=\"T_759a5_row9_col26\" class=\"data row9 col26\" >-0.020442</td>\n",
       "      <td id=\"T_759a5_row9_col27\" class=\"data row9 col27\" >-0.013391</td>\n",
       "      <td id=\"T_759a5_row9_col28\" class=\"data row9 col28\" >-0.018200</td>\n",
       "      <td id=\"T_759a5_row9_col29\" class=\"data row9 col29\" >-0.016296</td>\n",
       "      <td id=\"T_759a5_row9_col30\" class=\"data row9 col30\" >0.245805</td>\n",
       "      <td id=\"T_759a5_row9_col31\" class=\"data row9 col31\" >0.418020</td>\n",
       "      <td id=\"T_759a5_row9_col32\" class=\"data row9 col32\" >-0.005875</td>\n",
       "      <td id=\"T_759a5_row9_col33\" class=\"data row9 col33\" >0.017014</td>\n",
       "      <td id=\"T_759a5_row9_col34\" class=\"data row9 col34\" >-0.004161</td>\n",
       "      <td id=\"T_759a5_row9_col35\" class=\"data row9 col35\" >0.000808</td>\n",
       "      <td id=\"T_759a5_row9_col36\" class=\"data row9 col36\" >-0.000296</td>\n",
       "      <td id=\"T_759a5_row9_col37\" class=\"data row9 col37\" >-0.010500</td>\n",
       "    </tr>\n",
       "    <tr>\n",
       "      <th id=\"T_759a5_level0_row10\" class=\"row_heading level0 row10\" >B0011</th>\n",
       "      <td id=\"T_759a5_row10_col0\" class=\"data row10 col0\" >-0.003399</td>\n",
       "      <td id=\"T_759a5_row10_col1\" class=\"data row10 col1\" >-0.000715</td>\n",
       "      <td id=\"T_759a5_row10_col2\" class=\"data row10 col2\" >0.003489</td>\n",
       "      <td id=\"T_759a5_row10_col3\" class=\"data row10 col3\" >0.001924</td>\n",
       "      <td id=\"T_759a5_row10_col4\" class=\"data row10 col4\" >0.000705</td>\n",
       "      <td id=\"T_759a5_row10_col5\" class=\"data row10 col5\" >-0.005247</td>\n",
       "      <td id=\"T_759a5_row10_col6\" class=\"data row10 col6\" >-0.010789</td>\n",
       "      <td id=\"T_759a5_row10_col7\" class=\"data row10 col7\" >0.386504</td>\n",
       "      <td id=\"T_759a5_row10_col8\" class=\"data row10 col8\" >0.336055</td>\n",
       "      <td id=\"T_759a5_row10_col9\" class=\"data row10 col9\" >0.395178</td>\n",
       "      <td id=\"T_759a5_row10_col10\" class=\"data row10 col10\" >1.000000</td>\n",
       "      <td id=\"T_759a5_row10_col11\" class=\"data row10 col11\" >0.950047</td>\n",
       "      <td id=\"T_759a5_row10_col12\" class=\"data row10 col12\" >0.952500</td>\n",
       "      <td id=\"T_759a5_row10_col13\" class=\"data row10 col13\" >0.958395</td>\n",
       "      <td id=\"T_759a5_row10_col14\" class=\"data row10 col14\" >0.937943</td>\n",
       "      <td id=\"T_759a5_row10_col15\" class=\"data row10 col15\" >0.951407</td>\n",
       "      <td id=\"T_759a5_row10_col16\" class=\"data row10 col16\" >-0.083665</td>\n",
       "      <td id=\"T_759a5_row10_col17\" class=\"data row10 col17\" >-0.027987</td>\n",
       "      <td id=\"T_759a5_row10_col18\" class=\"data row10 col18\" >-0.098567</td>\n",
       "      <td id=\"T_759a5_row10_col19\" class=\"data row10 col19\" >-0.097712</td>\n",
       "      <td id=\"T_759a5_row10_col20\" class=\"data row10 col20\" >-0.101955</td>\n",
       "      <td id=\"T_759a5_row10_col21\" class=\"data row10 col21\" >-0.102155</td>\n",
       "      <td id=\"T_759a5_row10_col22\" class=\"data row10 col22\" >-0.098672</td>\n",
       "      <td id=\"T_759a5_row10_col23\" class=\"data row10 col23\" >-0.100926</td>\n",
       "      <td id=\"T_759a5_row10_col24\" class=\"data row10 col24\" >-0.021919</td>\n",
       "      <td id=\"T_759a5_row10_col25\" class=\"data row10 col25\" >-0.022336</td>\n",
       "      <td id=\"T_759a5_row10_col26\" class=\"data row10 col26\" >-0.024310</td>\n",
       "      <td id=\"T_759a5_row10_col27\" class=\"data row10 col27\" >-0.015123</td>\n",
       "      <td id=\"T_759a5_row10_col28\" class=\"data row10 col28\" >-0.024648</td>\n",
       "      <td id=\"T_759a5_row10_col29\" class=\"data row10 col29\" >-0.012136</td>\n",
       "      <td id=\"T_759a5_row10_col30\" class=\"data row10 col30\" >0.317629</td>\n",
       "      <td id=\"T_759a5_row10_col31\" class=\"data row10 col31\" >0.317200</td>\n",
       "      <td id=\"T_759a5_row10_col32\" class=\"data row10 col32\" >-0.002810</td>\n",
       "      <td id=\"T_759a5_row10_col33\" class=\"data row10 col33\" >0.011888</td>\n",
       "      <td id=\"T_759a5_row10_col34\" class=\"data row10 col34\" >-0.005395</td>\n",
       "      <td id=\"T_759a5_row10_col35\" class=\"data row10 col35\" >0.001655</td>\n",
       "      <td id=\"T_759a5_row10_col36\" class=\"data row10 col36\" >0.002480</td>\n",
       "      <td id=\"T_759a5_row10_col37\" class=\"data row10 col37\" >-0.007710</td>\n",
       "    </tr>\n",
       "    <tr>\n",
       "      <th id=\"T_759a5_level0_row11\" class=\"row_heading level0 row11\" >B0012</th>\n",
       "      <td id=\"T_759a5_row11_col0\" class=\"data row11 col0\" >-0.008877</td>\n",
       "      <td id=\"T_759a5_row11_col1\" class=\"data row11 col1\" >-0.001522</td>\n",
       "      <td id=\"T_759a5_row11_col2\" class=\"data row11 col2\" >0.003864</td>\n",
       "      <td id=\"T_759a5_row11_col3\" class=\"data row11 col3\" >0.002542</td>\n",
       "      <td id=\"T_759a5_row11_col4\" class=\"data row11 col4\" >-0.001419</td>\n",
       "      <td id=\"T_759a5_row11_col5\" class=\"data row11 col5\" >-0.004938</td>\n",
       "      <td id=\"T_759a5_row11_col6\" class=\"data row11 col6\" >-0.010635</td>\n",
       "      <td id=\"T_759a5_row11_col7\" class=\"data row11 col7\" >0.381154</td>\n",
       "      <td id=\"T_759a5_row11_col8\" class=\"data row11 col8\" >0.333312</td>\n",
       "      <td id=\"T_759a5_row11_col9\" class=\"data row11 col9\" >0.390707</td>\n",
       "      <td id=\"T_759a5_row11_col10\" class=\"data row11 col10\" >0.950047</td>\n",
       "      <td id=\"T_759a5_row11_col11\" class=\"data row11 col11\" >1.000000</td>\n",
       "      <td id=\"T_759a5_row11_col12\" class=\"data row11 col12\" >0.951429</td>\n",
       "      <td id=\"T_759a5_row11_col13\" class=\"data row11 col13\" >0.948549</td>\n",
       "      <td id=\"T_759a5_row11_col14\" class=\"data row11 col14\" >0.930707</td>\n",
       "      <td id=\"T_759a5_row11_col15\" class=\"data row11 col15\" >0.941771</td>\n",
       "      <td id=\"T_759a5_row11_col16\" class=\"data row11 col16\" >-0.081883</td>\n",
       "      <td id=\"T_759a5_row11_col17\" class=\"data row11 col17\" >-0.026166</td>\n",
       "      <td id=\"T_759a5_row11_col18\" class=\"data row11 col18\" >-0.101915</td>\n",
       "      <td id=\"T_759a5_row11_col19\" class=\"data row11 col19\" >-0.105074</td>\n",
       "      <td id=\"T_759a5_row11_col20\" class=\"data row11 col20\" >-0.107454</td>\n",
       "      <td id=\"T_759a5_row11_col21\" class=\"data row11 col21\" >-0.108008</td>\n",
       "      <td id=\"T_759a5_row11_col22\" class=\"data row11 col22\" >-0.105926</td>\n",
       "      <td id=\"T_759a5_row11_col23\" class=\"data row11 col23\" >-0.108789</td>\n",
       "      <td id=\"T_759a5_row11_col24\" class=\"data row11 col24\" >-0.022820</td>\n",
       "      <td id=\"T_759a5_row11_col25\" class=\"data row11 col25\" >-0.024314</td>\n",
       "      <td id=\"T_759a5_row11_col26\" class=\"data row11 col26\" >-0.025205</td>\n",
       "      <td id=\"T_759a5_row11_col27\" class=\"data row11 col27\" >-0.015788</td>\n",
       "      <td id=\"T_759a5_row11_col28\" class=\"data row11 col28\" >-0.025552</td>\n",
       "      <td id=\"T_759a5_row11_col29\" class=\"data row11 col29\" >-0.012771</td>\n",
       "      <td id=\"T_759a5_row11_col30\" class=\"data row11 col30\" >0.311038</td>\n",
       "      <td id=\"T_759a5_row11_col31\" class=\"data row11 col31\" >0.311075</td>\n",
       "      <td id=\"T_759a5_row11_col32\" class=\"data row11 col32\" >-0.002893</td>\n",
       "      <td id=\"T_759a5_row11_col33\" class=\"data row11 col33\" >0.009098</td>\n",
       "      <td id=\"T_759a5_row11_col34\" class=\"data row11 col34\" >-0.006405</td>\n",
       "      <td id=\"T_759a5_row11_col35\" class=\"data row11 col35\" >0.002838</td>\n",
       "      <td id=\"T_759a5_row11_col36\" class=\"data row11 col36\" >0.001392</td>\n",
       "      <td id=\"T_759a5_row11_col37\" class=\"data row11 col37\" >-0.006993</td>\n",
       "    </tr>\n",
       "    <tr>\n",
       "      <th id=\"T_759a5_level0_row12\" class=\"row_heading level0 row12\" >B0013</th>\n",
       "      <td id=\"T_759a5_row12_col0\" class=\"data row12 col0\" >-0.004822</td>\n",
       "      <td id=\"T_759a5_row12_col1\" class=\"data row12 col1\" >-0.003630</td>\n",
       "      <td id=\"T_759a5_row12_col2\" class=\"data row12 col2\" >0.003704</td>\n",
       "      <td id=\"T_759a5_row12_col3\" class=\"data row12 col3\" >-0.001755</td>\n",
       "      <td id=\"T_759a5_row12_col4\" class=\"data row12 col4\" >-0.000246</td>\n",
       "      <td id=\"T_759a5_row12_col5\" class=\"data row12 col5\" >-0.005102</td>\n",
       "      <td id=\"T_759a5_row12_col6\" class=\"data row12 col6\" >-0.010500</td>\n",
       "      <td id=\"T_759a5_row12_col7\" class=\"data row12 col7\" >0.382233</td>\n",
       "      <td id=\"T_759a5_row12_col8\" class=\"data row12 col8\" >0.332934</td>\n",
       "      <td id=\"T_759a5_row12_col9\" class=\"data row12 col9\" >0.392019</td>\n",
       "      <td id=\"T_759a5_row12_col10\" class=\"data row12 col10\" >0.952500</td>\n",
       "      <td id=\"T_759a5_row12_col11\" class=\"data row12 col11\" >0.951429</td>\n",
       "      <td id=\"T_759a5_row12_col12\" class=\"data row12 col12\" >1.000000</td>\n",
       "      <td id=\"T_759a5_row12_col13\" class=\"data row12 col13\" >0.957005</td>\n",
       "      <td id=\"T_759a5_row12_col14\" class=\"data row12 col14\" >0.939684</td>\n",
       "      <td id=\"T_759a5_row12_col15\" class=\"data row12 col15\" >0.949070</td>\n",
       "      <td id=\"T_759a5_row12_col16\" class=\"data row12 col16\" >-0.074125</td>\n",
       "      <td id=\"T_759a5_row12_col17\" class=\"data row12 col17\" >-0.017297</td>\n",
       "      <td id=\"T_759a5_row12_col18\" class=\"data row12 col18\" >-0.088165</td>\n",
       "      <td id=\"T_759a5_row12_col19\" class=\"data row12 col19\" >-0.090501</td>\n",
       "      <td id=\"T_759a5_row12_col20\" class=\"data row12 col20\" >-0.094126</td>\n",
       "      <td id=\"T_759a5_row12_col21\" class=\"data row12 col21\" >-0.093916</td>\n",
       "      <td id=\"T_759a5_row12_col22\" class=\"data row12 col22\" >-0.091505</td>\n",
       "      <td id=\"T_759a5_row12_col23\" class=\"data row12 col23\" >-0.095003</td>\n",
       "      <td id=\"T_759a5_row12_col24\" class=\"data row12 col24\" >-0.021358</td>\n",
       "      <td id=\"T_759a5_row12_col25\" class=\"data row12 col25\" >-0.022200</td>\n",
       "      <td id=\"T_759a5_row12_col26\" class=\"data row12 col26\" >-0.023114</td>\n",
       "      <td id=\"T_759a5_row12_col27\" class=\"data row12 col27\" >-0.015125</td>\n",
       "      <td id=\"T_759a5_row12_col28\" class=\"data row12 col28\" >-0.023427</td>\n",
       "      <td id=\"T_759a5_row12_col29\" class=\"data row12 col29\" >-0.012300</td>\n",
       "      <td id=\"T_759a5_row12_col30\" class=\"data row12 col30\" >0.316443</td>\n",
       "      <td id=\"T_759a5_row12_col31\" class=\"data row12 col31\" >0.313014</td>\n",
       "      <td id=\"T_759a5_row12_col32\" class=\"data row12 col32\" >-0.004034</td>\n",
       "      <td id=\"T_759a5_row12_col33\" class=\"data row12 col33\" >0.011461</td>\n",
       "      <td id=\"T_759a5_row12_col34\" class=\"data row12 col34\" >-0.005992</td>\n",
       "      <td id=\"T_759a5_row12_col35\" class=\"data row12 col35\" >0.002002</td>\n",
       "      <td id=\"T_759a5_row12_col36\" class=\"data row12 col36\" >0.002374</td>\n",
       "      <td id=\"T_759a5_row12_col37\" class=\"data row12 col37\" >-0.008295</td>\n",
       "    </tr>\n",
       "    <tr>\n",
       "      <th id=\"T_759a5_level0_row13\" class=\"row_heading level0 row13\" >B0014</th>\n",
       "      <td id=\"T_759a5_row13_col0\" class=\"data row13 col0\" >-0.008025</td>\n",
       "      <td id=\"T_759a5_row13_col1\" class=\"data row13 col1\" >-0.001513</td>\n",
       "      <td id=\"T_759a5_row13_col2\" class=\"data row13 col2\" >0.004440</td>\n",
       "      <td id=\"T_759a5_row13_col3\" class=\"data row13 col3\" >0.001608</td>\n",
       "      <td id=\"T_759a5_row13_col4\" class=\"data row13 col4\" >-0.002078</td>\n",
       "      <td id=\"T_759a5_row13_col5\" class=\"data row13 col5\" >-0.005173</td>\n",
       "      <td id=\"T_759a5_row13_col6\" class=\"data row13 col6\" >-0.011027</td>\n",
       "      <td id=\"T_759a5_row13_col7\" class=\"data row13 col7\" >0.391227</td>\n",
       "      <td id=\"T_759a5_row13_col8\" class=\"data row13 col8\" >0.340993</td>\n",
       "      <td id=\"T_759a5_row13_col9\" class=\"data row13 col9\" >0.401538</td>\n",
       "      <td id=\"T_759a5_row13_col10\" class=\"data row13 col10\" >0.958395</td>\n",
       "      <td id=\"T_759a5_row13_col11\" class=\"data row13 col11\" >0.948549</td>\n",
       "      <td id=\"T_759a5_row13_col12\" class=\"data row13 col12\" >0.957005</td>\n",
       "      <td id=\"T_759a5_row13_col13\" class=\"data row13 col13\" >1.000000</td>\n",
       "      <td id=\"T_759a5_row13_col14\" class=\"data row13 col14\" >0.944939</td>\n",
       "      <td id=\"T_759a5_row13_col15\" class=\"data row13 col15\" >0.967536</td>\n",
       "      <td id=\"T_759a5_row13_col16\" class=\"data row13 col16\" >-0.046625</td>\n",
       "      <td id=\"T_759a5_row13_col17\" class=\"data row13 col17\" >-0.028391</td>\n",
       "      <td id=\"T_759a5_row13_col18\" class=\"data row13 col18\" >-0.050904</td>\n",
       "      <td id=\"T_759a5_row13_col19\" class=\"data row13 col19\" >-0.048127</td>\n",
       "      <td id=\"T_759a5_row13_col20\" class=\"data row13 col20\" >-0.052081</td>\n",
       "      <td id=\"T_759a5_row13_col21\" class=\"data row13 col21\" >-0.051965</td>\n",
       "      <td id=\"T_759a5_row13_col22\" class=\"data row13 col22\" >-0.049314</td>\n",
       "      <td id=\"T_759a5_row13_col23\" class=\"data row13 col23\" >-0.053173</td>\n",
       "      <td id=\"T_759a5_row13_col24\" class=\"data row13 col24\" >-0.015507</td>\n",
       "      <td id=\"T_759a5_row13_col25\" class=\"data row13 col25\" >-0.014881</td>\n",
       "      <td id=\"T_759a5_row13_col26\" class=\"data row13 col26\" >-0.016262</td>\n",
       "      <td id=\"T_759a5_row13_col27\" class=\"data row13 col27\" >-0.011625</td>\n",
       "      <td id=\"T_759a5_row13_col28\" class=\"data row13 col28\" >-0.016545</td>\n",
       "      <td id=\"T_759a5_row13_col29\" class=\"data row13 col29\" >-0.009743</td>\n",
       "      <td id=\"T_759a5_row13_col30\" class=\"data row13 col30\" >0.322764</td>\n",
       "      <td id=\"T_759a5_row13_col31\" class=\"data row13 col31\" >0.319947</td>\n",
       "      <td id=\"T_759a5_row13_col32\" class=\"data row13 col32\" >-0.002909</td>\n",
       "      <td id=\"T_759a5_row13_col33\" class=\"data row13 col33\" >0.009870</td>\n",
       "      <td id=\"T_759a5_row13_col34\" class=\"data row13 col34\" >-0.003527</td>\n",
       "      <td id=\"T_759a5_row13_col35\" class=\"data row13 col35\" >0.003411</td>\n",
       "      <td id=\"T_759a5_row13_col36\" class=\"data row13 col36\" >0.000661</td>\n",
       "      <td id=\"T_759a5_row13_col37\" class=\"data row13 col37\" >-0.007015</td>\n",
       "    </tr>\n",
       "    <tr>\n",
       "      <th id=\"T_759a5_level0_row14\" class=\"row_heading level0 row14\" >B0015</th>\n",
       "      <td id=\"T_759a5_row14_col0\" class=\"data row14 col0\" >-0.013899</td>\n",
       "      <td id=\"T_759a5_row14_col1\" class=\"data row14 col1\" >-0.009525</td>\n",
       "      <td id=\"T_759a5_row14_col2\" class=\"data row14 col2\" >0.004262</td>\n",
       "      <td id=\"T_759a5_row14_col3\" class=\"data row14 col3\" >-0.006304</td>\n",
       "      <td id=\"T_759a5_row14_col4\" class=\"data row14 col4\" >-0.002247</td>\n",
       "      <td id=\"T_759a5_row14_col5\" class=\"data row14 col5\" >-0.004777</td>\n",
       "      <td id=\"T_759a5_row14_col6\" class=\"data row14 col6\" >-0.009701</td>\n",
       "      <td id=\"T_759a5_row14_col7\" class=\"data row14 col7\" >0.378659</td>\n",
       "      <td id=\"T_759a5_row14_col8\" class=\"data row14 col8\" >0.332527</td>\n",
       "      <td id=\"T_759a5_row14_col9\" class=\"data row14 col9\" >0.388018</td>\n",
       "      <td id=\"T_759a5_row14_col10\" class=\"data row14 col10\" >0.937943</td>\n",
       "      <td id=\"T_759a5_row14_col11\" class=\"data row14 col11\" >0.930707</td>\n",
       "      <td id=\"T_759a5_row14_col12\" class=\"data row14 col12\" >0.939684</td>\n",
       "      <td id=\"T_759a5_row14_col13\" class=\"data row14 col13\" >0.944939</td>\n",
       "      <td id=\"T_759a5_row14_col14\" class=\"data row14 col14\" >1.000000</td>\n",
       "      <td id=\"T_759a5_row14_col15\" class=\"data row14 col15\" >0.944540</td>\n",
       "      <td id=\"T_759a5_row14_col16\" class=\"data row14 col16\" >-0.087759</td>\n",
       "      <td id=\"T_759a5_row14_col17\" class=\"data row14 col17\" >-0.022245</td>\n",
       "      <td id=\"T_759a5_row14_col18\" class=\"data row14 col18\" >-0.107281</td>\n",
       "      <td id=\"T_759a5_row14_col19\" class=\"data row14 col19\" >-0.109856</td>\n",
       "      <td id=\"T_759a5_row14_col20\" class=\"data row14 col20\" >-0.112545</td>\n",
       "      <td id=\"T_759a5_row14_col21\" class=\"data row14 col21\" >-0.113088</td>\n",
       "      <td id=\"T_759a5_row14_col22\" class=\"data row14 col22\" >-0.109944</td>\n",
       "      <td id=\"T_759a5_row14_col23\" class=\"data row14 col23\" >-0.111513</td>\n",
       "      <td id=\"T_759a5_row14_col24\" class=\"data row14 col24\" >-0.025653</td>\n",
       "      <td id=\"T_759a5_row14_col25\" class=\"data row14 col25\" >-0.026090</td>\n",
       "      <td id=\"T_759a5_row14_col26\" class=\"data row14 col26\" >-0.027930</td>\n",
       "      <td id=\"T_759a5_row14_col27\" class=\"data row14 col27\" >-0.017916</td>\n",
       "      <td id=\"T_759a5_row14_col28\" class=\"data row14 col28\" >-0.028086</td>\n",
       "      <td id=\"T_759a5_row14_col29\" class=\"data row14 col29\" >-0.014991</td>\n",
       "      <td id=\"T_759a5_row14_col30\" class=\"data row14 col30\" >0.311522</td>\n",
       "      <td id=\"T_759a5_row14_col31\" class=\"data row14 col31\" >0.309108</td>\n",
       "      <td id=\"T_759a5_row14_col32\" class=\"data row14 col32\" >-0.005419</td>\n",
       "      <td id=\"T_759a5_row14_col33\" class=\"data row14 col33\" >0.007574</td>\n",
       "      <td id=\"T_759a5_row14_col34\" class=\"data row14 col34\" >-0.008299</td>\n",
       "      <td id=\"T_759a5_row14_col35\" class=\"data row14 col35\" >0.001984</td>\n",
       "      <td id=\"T_759a5_row14_col36\" class=\"data row14 col36\" >0.001384</td>\n",
       "      <td id=\"T_759a5_row14_col37\" class=\"data row14 col37\" >-0.004331</td>\n",
       "    </tr>\n",
       "    <tr>\n",
       "      <th id=\"T_759a5_level0_row15\" class=\"row_heading level0 row15\" >B0019</th>\n",
       "      <td id=\"T_759a5_row15_col0\" class=\"data row15 col0\" >-0.012291</td>\n",
       "      <td id=\"T_759a5_row15_col1\" class=\"data row15 col1\" >-0.002741</td>\n",
       "      <td id=\"T_759a5_row15_col2\" class=\"data row15 col2\" >0.005513</td>\n",
       "      <td id=\"T_759a5_row15_col3\" class=\"data row15 col3\" >-0.001032</td>\n",
       "      <td id=\"T_759a5_row15_col4\" class=\"data row15 col4\" >-0.002437</td>\n",
       "      <td id=\"T_759a5_row15_col5\" class=\"data row15 col5\" >-0.004970</td>\n",
       "      <td id=\"T_759a5_row15_col6\" class=\"data row15 col6\" >-0.009653</td>\n",
       "      <td id=\"T_759a5_row15_col7\" class=\"data row15 col7\" >0.387935</td>\n",
       "      <td id=\"T_759a5_row15_col8\" class=\"data row15 col8\" >0.339483</td>\n",
       "      <td id=\"T_759a5_row15_col9\" class=\"data row15 col9\" >0.395947</td>\n",
       "      <td id=\"T_759a5_row15_col10\" class=\"data row15 col10\" >0.951407</td>\n",
       "      <td id=\"T_759a5_row15_col11\" class=\"data row15 col11\" >0.941771</td>\n",
       "      <td id=\"T_759a5_row15_col12\" class=\"data row15 col12\" >0.949070</td>\n",
       "      <td id=\"T_759a5_row15_col13\" class=\"data row15 col13\" >0.967536</td>\n",
       "      <td id=\"T_759a5_row15_col14\" class=\"data row15 col14\" >0.944540</td>\n",
       "      <td id=\"T_759a5_row15_col15\" class=\"data row15 col15\" >1.000000</td>\n",
       "      <td id=\"T_759a5_row15_col16\" class=\"data row15 col16\" >-0.063431</td>\n",
       "      <td id=\"T_759a5_row15_col17\" class=\"data row15 col17\" >-0.026150</td>\n",
       "      <td id=\"T_759a5_row15_col18\" class=\"data row15 col18\" >-0.069241</td>\n",
       "      <td id=\"T_759a5_row15_col19\" class=\"data row15 col19\" >-0.066820</td>\n",
       "      <td id=\"T_759a5_row15_col20\" class=\"data row15 col20\" >-0.070996</td>\n",
       "      <td id=\"T_759a5_row15_col21\" class=\"data row15 col21\" >-0.071297</td>\n",
       "      <td id=\"T_759a5_row15_col22\" class=\"data row15 col22\" >-0.068705</td>\n",
       "      <td id=\"T_759a5_row15_col23\" class=\"data row15 col23\" >-0.071690</td>\n",
       "      <td id=\"T_759a5_row15_col24\" class=\"data row15 col24\" >-0.019068</td>\n",
       "      <td id=\"T_759a5_row15_col25\" class=\"data row15 col25\" >-0.019715</td>\n",
       "      <td id=\"T_759a5_row15_col26\" class=\"data row15 col26\" >-0.021005</td>\n",
       "      <td id=\"T_759a5_row15_col27\" class=\"data row15 col27\" >-0.013243</td>\n",
       "      <td id=\"T_759a5_row15_col28\" class=\"data row15 col28\" >-0.020989</td>\n",
       "      <td id=\"T_759a5_row15_col29\" class=\"data row15 col29\" >-0.011602</td>\n",
       "      <td id=\"T_759a5_row15_col30\" class=\"data row15 col30\" >0.318436</td>\n",
       "      <td id=\"T_759a5_row15_col31\" class=\"data row15 col31\" >0.316934</td>\n",
       "      <td id=\"T_759a5_row15_col32\" class=\"data row15 col32\" >-0.003511</td>\n",
       "      <td id=\"T_759a5_row15_col33\" class=\"data row15 col33\" >0.008642</td>\n",
       "      <td id=\"T_759a5_row15_col34\" class=\"data row15 col34\" >-0.005674</td>\n",
       "      <td id=\"T_759a5_row15_col35\" class=\"data row15 col35\" >0.004654</td>\n",
       "      <td id=\"T_759a5_row15_col36\" class=\"data row15 col36\" >-0.000634</td>\n",
       "      <td id=\"T_759a5_row15_col37\" class=\"data row15 col37\" >-0.007042</td>\n",
       "    </tr>\n",
       "    <tr>\n",
       "      <th id=\"T_759a5_level0_row16\" class=\"row_heading level0 row16\" >B005</th>\n",
       "      <td id=\"T_759a5_row16_col0\" class=\"data row16 col0\" >0.007918</td>\n",
       "      <td id=\"T_759a5_row16_col1\" class=\"data row16 col1\" >0.008590</td>\n",
       "      <td id=\"T_759a5_row16_col2\" class=\"data row16 col2\" >-0.002797</td>\n",
       "      <td id=\"T_759a5_row16_col3\" class=\"data row16 col3\" >0.018677</td>\n",
       "      <td id=\"T_759a5_row16_col4\" class=\"data row16 col4\" >0.008266</td>\n",
       "      <td id=\"T_759a5_row16_col5\" class=\"data row16 col5\" >0.002675</td>\n",
       "      <td id=\"T_759a5_row16_col6\" class=\"data row16 col6\" >-0.015721</td>\n",
       "      <td id=\"T_759a5_row16_col7\" class=\"data row16 col7\" >-0.004679</td>\n",
       "      <td id=\"T_759a5_row16_col8\" class=\"data row16 col8\" >-0.007321</td>\n",
       "      <td id=\"T_759a5_row16_col9\" class=\"data row16 col9\" >-0.009224</td>\n",
       "      <td id=\"T_759a5_row16_col10\" class=\"data row16 col10\" >-0.083665</td>\n",
       "      <td id=\"T_759a5_row16_col11\" class=\"data row16 col11\" >-0.081883</td>\n",
       "      <td id=\"T_759a5_row16_col12\" class=\"data row16 col12\" >-0.074125</td>\n",
       "      <td id=\"T_759a5_row16_col13\" class=\"data row16 col13\" >-0.046625</td>\n",
       "      <td id=\"T_759a5_row16_col14\" class=\"data row16 col14\" >-0.087759</td>\n",
       "      <td id=\"T_759a5_row16_col15\" class=\"data row16 col15\" >-0.063431</td>\n",
       "      <td id=\"T_759a5_row16_col16\" class=\"data row16 col16\" >1.000000</td>\n",
       "      <td id=\"T_759a5_row16_col17\" class=\"data row16 col17\" >0.154417</td>\n",
       "      <td id=\"T_759a5_row16_col18\" class=\"data row16 col18\" >0.764201</td>\n",
       "      <td id=\"T_759a5_row16_col19\" class=\"data row16 col19\" >0.559170</td>\n",
       "      <td id=\"T_759a5_row16_col20\" class=\"data row16 col20\" >0.670563</td>\n",
       "      <td id=\"T_759a5_row16_col21\" class=\"data row16 col21\" >0.638449</td>\n",
       "      <td id=\"T_759a5_row16_col22\" class=\"data row16 col22\" >0.576861</td>\n",
       "      <td id=\"T_759a5_row16_col23\" class=\"data row16 col23\" >0.611148</td>\n",
       "      <td id=\"T_759a5_row16_col24\" class=\"data row16 col24\" >0.080891</td>\n",
       "      <td id=\"T_759a5_row16_col25\" class=\"data row16 col25\" >0.113764</td>\n",
       "      <td id=\"T_759a5_row16_col26\" class=\"data row16 col26\" >0.105897</td>\n",
       "      <td id=\"T_759a5_row16_col27\" class=\"data row16 col27\" >0.042965</td>\n",
       "      <td id=\"T_759a5_row16_col28\" class=\"data row16 col28\" >0.100192</td>\n",
       "      <td id=\"T_759a5_row16_col29\" class=\"data row16 col29\" >0.047552</td>\n",
       "      <td id=\"T_759a5_row16_col30\" class=\"data row16 col30\" >0.017885</td>\n",
       "      <td id=\"T_759a5_row16_col31\" class=\"data row16 col31\" >-0.014661</td>\n",
       "      <td id=\"T_759a5_row16_col32\" class=\"data row16 col32\" >0.002093</td>\n",
       "      <td id=\"T_759a5_row16_col33\" class=\"data row16 col33\" >0.003318</td>\n",
       "      <td id=\"T_759a5_row16_col34\" class=\"data row16 col34\" >0.025497</td>\n",
       "      <td id=\"T_759a5_row16_col35\" class=\"data row16 col35\" >-0.007185</td>\n",
       "      <td id=\"T_759a5_row16_col36\" class=\"data row16 col36\" >0.007562</td>\n",
       "      <td id=\"T_759a5_row16_col37\" class=\"data row16 col37\" >0.004067</td>\n",
       "    </tr>\n",
       "    <tr>\n",
       "      <th id=\"T_759a5_level0_row17\" class=\"row_heading level0 row17\" >B006</th>\n",
       "      <td id=\"T_759a5_row17_col0\" class=\"data row17 col0\" >0.016252</td>\n",
       "      <td id=\"T_759a5_row17_col1\" class=\"data row17 col1\" >-0.000462</td>\n",
       "      <td id=\"T_759a5_row17_col2\" class=\"data row17 col2\" >-0.001546</td>\n",
       "      <td id=\"T_759a5_row17_col3\" class=\"data row17 col3\" >0.000115</td>\n",
       "      <td id=\"T_759a5_row17_col4\" class=\"data row17 col4\" >0.003874</td>\n",
       "      <td id=\"T_759a5_row17_col5\" class=\"data row17 col5\" >-0.000483</td>\n",
       "      <td id=\"T_759a5_row17_col6\" class=\"data row17 col6\" >-0.004245</td>\n",
       "      <td id=\"T_759a5_row17_col7\" class=\"data row17 col7\" >-0.008016</td>\n",
       "      <td id=\"T_759a5_row17_col8\" class=\"data row17 col8\" >-0.011571</td>\n",
       "      <td id=\"T_759a5_row17_col9\" class=\"data row17 col9\" >-0.006642</td>\n",
       "      <td id=\"T_759a5_row17_col10\" class=\"data row17 col10\" >-0.027987</td>\n",
       "      <td id=\"T_759a5_row17_col11\" class=\"data row17 col11\" >-0.026166</td>\n",
       "      <td id=\"T_759a5_row17_col12\" class=\"data row17 col12\" >-0.017297</td>\n",
       "      <td id=\"T_759a5_row17_col13\" class=\"data row17 col13\" >-0.028391</td>\n",
       "      <td id=\"T_759a5_row17_col14\" class=\"data row17 col14\" >-0.022245</td>\n",
       "      <td id=\"T_759a5_row17_col15\" class=\"data row17 col15\" >-0.026150</td>\n",
       "      <td id=\"T_759a5_row17_col16\" class=\"data row17 col16\" >0.154417</td>\n",
       "      <td id=\"T_759a5_row17_col17\" class=\"data row17 col17\" >1.000000</td>\n",
       "      <td id=\"T_759a5_row17_col18\" class=\"data row17 col18\" >0.233468</td>\n",
       "      <td id=\"T_759a5_row17_col19\" class=\"data row17 col19\" >0.182191</td>\n",
       "      <td id=\"T_759a5_row17_col20\" class=\"data row17 col20\" >0.203126</td>\n",
       "      <td id=\"T_759a5_row17_col21\" class=\"data row17 col21\" >0.195174</td>\n",
       "      <td id=\"T_759a5_row17_col22\" class=\"data row17 col22\" >0.151481</td>\n",
       "      <td id=\"T_759a5_row17_col23\" class=\"data row17 col23\" >0.187169</td>\n",
       "      <td id=\"T_759a5_row17_col24\" class=\"data row17 col24\" >0.031180</td>\n",
       "      <td id=\"T_759a5_row17_col25\" class=\"data row17 col25\" >0.031616</td>\n",
       "      <td id=\"T_759a5_row17_col26\" class=\"data row17 col26\" >0.038717</td>\n",
       "      <td id=\"T_759a5_row17_col27\" class=\"data row17 col27\" >0.017594</td>\n",
       "      <td id=\"T_759a5_row17_col28\" class=\"data row17 col28\" >0.033569</td>\n",
       "      <td id=\"T_759a5_row17_col29\" class=\"data row17 col29\" >0.027381</td>\n",
       "      <td id=\"T_759a5_row17_col30\" class=\"data row17 col30\" >0.013545</td>\n",
       "      <td id=\"T_759a5_row17_col31\" class=\"data row17 col31\" >-0.004315</td>\n",
       "      <td id=\"T_759a5_row17_col32\" class=\"data row17 col32\" >-0.002481</td>\n",
       "      <td id=\"T_759a5_row17_col33\" class=\"data row17 col33\" >0.010961</td>\n",
       "      <td id=\"T_759a5_row17_col34\" class=\"data row17 col34\" >0.005755</td>\n",
       "      <td id=\"T_759a5_row17_col35\" class=\"data row17 col35\" >-0.004445</td>\n",
       "      <td id=\"T_759a5_row17_col36\" class=\"data row17 col36\" >0.004972</td>\n",
       "      <td id=\"T_759a5_row17_col37\" class=\"data row17 col37\" >0.000466</td>\n",
       "    </tr>\n",
       "    <tr>\n",
       "      <th id=\"T_759a5_level0_row18\" class=\"row_heading level0 row18\" >B0041</th>\n",
       "      <td id=\"T_759a5_row18_col0\" class=\"data row18 col0\" >0.012400</td>\n",
       "      <td id=\"T_759a5_row18_col1\" class=\"data row18 col1\" >0.011825</td>\n",
       "      <td id=\"T_759a5_row18_col2\" class=\"data row18 col2\" >-0.005104</td>\n",
       "      <td id=\"T_759a5_row18_col3\" class=\"data row18 col3\" >0.021147</td>\n",
       "      <td id=\"T_759a5_row18_col4\" class=\"data row18 col4\" >0.012674</td>\n",
       "      <td id=\"T_759a5_row18_col5\" class=\"data row18 col5\" >0.002840</td>\n",
       "      <td id=\"T_759a5_row18_col6\" class=\"data row18 col6\" >-0.017157</td>\n",
       "      <td id=\"T_759a5_row18_col7\" class=\"data row18 col7\" >-0.009694</td>\n",
       "      <td id=\"T_759a5_row18_col8\" class=\"data row18 col8\" >-0.014352</td>\n",
       "      <td id=\"T_759a5_row18_col9\" class=\"data row18 col9\" >-0.015627</td>\n",
       "      <td id=\"T_759a5_row18_col10\" class=\"data row18 col10\" >-0.098567</td>\n",
       "      <td id=\"T_759a5_row18_col11\" class=\"data row18 col11\" >-0.101915</td>\n",
       "      <td id=\"T_759a5_row18_col12\" class=\"data row18 col12\" >-0.088165</td>\n",
       "      <td id=\"T_759a5_row18_col13\" class=\"data row18 col13\" >-0.050904</td>\n",
       "      <td id=\"T_759a5_row18_col14\" class=\"data row18 col14\" >-0.107281</td>\n",
       "      <td id=\"T_759a5_row18_col15\" class=\"data row18 col15\" >-0.069241</td>\n",
       "      <td id=\"T_759a5_row18_col16\" class=\"data row18 col16\" >0.764201</td>\n",
       "      <td id=\"T_759a5_row18_col17\" class=\"data row18 col17\" >0.233468</td>\n",
       "      <td id=\"T_759a5_row18_col18\" class=\"data row18 col18\" >1.000000</td>\n",
       "      <td id=\"T_759a5_row18_col19\" class=\"data row18 col19\" >0.882144</td>\n",
       "      <td id=\"T_759a5_row18_col20\" class=\"data row18 col20\" >0.903436</td>\n",
       "      <td id=\"T_759a5_row18_col21\" class=\"data row18 col21\" >0.914714</td>\n",
       "      <td id=\"T_759a5_row18_col22\" class=\"data row18 col22\" >0.889127</td>\n",
       "      <td id=\"T_759a5_row18_col23\" class=\"data row18 col23\" >0.893793</td>\n",
       "      <td id=\"T_759a5_row18_col24\" class=\"data row18 col24\" >0.100366</td>\n",
       "      <td id=\"T_759a5_row18_col25\" class=\"data row18 col25\" >0.134726</td>\n",
       "      <td id=\"T_759a5_row18_col26\" class=\"data row18 col26\" >0.129637</td>\n",
       "      <td id=\"T_759a5_row18_col27\" class=\"data row18 col27\" >0.054715</td>\n",
       "      <td id=\"T_759a5_row18_col28\" class=\"data row18 col28\" >0.122642</td>\n",
       "      <td id=\"T_759a5_row18_col29\" class=\"data row18 col29\" >0.056427</td>\n",
       "      <td id=\"T_759a5_row18_col30\" class=\"data row18 col30\" >0.022136</td>\n",
       "      <td id=\"T_759a5_row18_col31\" class=\"data row18 col31\" >-0.020796</td>\n",
       "      <td id=\"T_759a5_row18_col32\" class=\"data row18 col32\" >0.002762</td>\n",
       "      <td id=\"T_759a5_row18_col33\" class=\"data row18 col33\" >0.003968</td>\n",
       "      <td id=\"T_759a5_row18_col34\" class=\"data row18 col34\" >0.028911</td>\n",
       "      <td id=\"T_759a5_row18_col35\" class=\"data row18 col35\" >-0.009826</td>\n",
       "      <td id=\"T_759a5_row18_col36\" class=\"data row18 col36\" >0.011218</td>\n",
       "      <td id=\"T_759a5_row18_col37\" class=\"data row18 col37\" >0.001146</td>\n",
       "    </tr>\n",
       "    <tr>\n",
       "      <th id=\"T_759a5_level0_row19\" class=\"row_heading level0 row19\" >B0042</th>\n",
       "      <td id=\"T_759a5_row19_col0\" class=\"data row19 col0\" >0.012237</td>\n",
       "      <td id=\"T_759a5_row19_col1\" class=\"data row19 col1\" >0.013414</td>\n",
       "      <td id=\"T_759a5_row19_col2\" class=\"data row19 col2\" >-0.003054</td>\n",
       "      <td id=\"T_759a5_row19_col3\" class=\"data row19 col3\" >0.017153</td>\n",
       "      <td id=\"T_759a5_row19_col4\" class=\"data row19 col4\" >0.010127</td>\n",
       "      <td id=\"T_759a5_row19_col5\" class=\"data row19 col5\" >0.002847</td>\n",
       "      <td id=\"T_759a5_row19_col6\" class=\"data row19 col6\" >-0.012939</td>\n",
       "      <td id=\"T_759a5_row19_col7\" class=\"data row19 col7\" >-0.009324</td>\n",
       "      <td id=\"T_759a5_row19_col8\" class=\"data row19 col8\" >-0.015052</td>\n",
       "      <td id=\"T_759a5_row19_col9\" class=\"data row19 col9\" >-0.015323</td>\n",
       "      <td id=\"T_759a5_row19_col10\" class=\"data row19 col10\" >-0.097712</td>\n",
       "      <td id=\"T_759a5_row19_col11\" class=\"data row19 col11\" >-0.105074</td>\n",
       "      <td id=\"T_759a5_row19_col12\" class=\"data row19 col12\" >-0.090501</td>\n",
       "      <td id=\"T_759a5_row19_col13\" class=\"data row19 col13\" >-0.048127</td>\n",
       "      <td id=\"T_759a5_row19_col14\" class=\"data row19 col14\" >-0.109856</td>\n",
       "      <td id=\"T_759a5_row19_col15\" class=\"data row19 col15\" >-0.066820</td>\n",
       "      <td id=\"T_759a5_row19_col16\" class=\"data row19 col16\" >0.559170</td>\n",
       "      <td id=\"T_759a5_row19_col17\" class=\"data row19 col17\" >0.182191</td>\n",
       "      <td id=\"T_759a5_row19_col18\" class=\"data row19 col18\" >0.882144</td>\n",
       "      <td id=\"T_759a5_row19_col19\" class=\"data row19 col19\" >1.000000</td>\n",
       "      <td id=\"T_759a5_row19_col20\" class=\"data row19 col20\" >0.945199</td>\n",
       "      <td id=\"T_759a5_row19_col21\" class=\"data row19 col21\" >0.951142</td>\n",
       "      <td id=\"T_759a5_row19_col22\" class=\"data row19 col22\" >0.934299</td>\n",
       "      <td id=\"T_759a5_row19_col23\" class=\"data row19 col23\" >0.936279</td>\n",
       "      <td id=\"T_759a5_row19_col24\" class=\"data row19 col24\" >0.102866</td>\n",
       "      <td id=\"T_759a5_row19_col25\" class=\"data row19 col25\" >0.129199</td>\n",
       "      <td id=\"T_759a5_row19_col26\" class=\"data row19 col26\" >0.128202</td>\n",
       "      <td id=\"T_759a5_row19_col27\" class=\"data row19 col27\" >0.058674</td>\n",
       "      <td id=\"T_759a5_row19_col28\" class=\"data row19 col28\" >0.123725</td>\n",
       "      <td id=\"T_759a5_row19_col29\" class=\"data row19 col29\" >0.054608</td>\n",
       "      <td id=\"T_759a5_row19_col30\" class=\"data row19 col30\" >0.023748</td>\n",
       "      <td id=\"T_759a5_row19_col31\" class=\"data row19 col31\" >-0.016431</td>\n",
       "      <td id=\"T_759a5_row19_col32\" class=\"data row19 col32\" >0.001660</td>\n",
       "      <td id=\"T_759a5_row19_col33\" class=\"data row19 col33\" >0.005295</td>\n",
       "      <td id=\"T_759a5_row19_col34\" class=\"data row19 col34\" >0.029540</td>\n",
       "      <td id=\"T_759a5_row19_col35\" class=\"data row19 col35\" >-0.007845</td>\n",
       "      <td id=\"T_759a5_row19_col36\" class=\"data row19 col36\" >0.009285</td>\n",
       "      <td id=\"T_759a5_row19_col37\" class=\"data row19 col37\" >-0.001191</td>\n",
       "    </tr>\n",
       "    <tr>\n",
       "      <th id=\"T_759a5_level0_row20\" class=\"row_heading level0 row20\" >B0044</th>\n",
       "      <td id=\"T_759a5_row20_col0\" class=\"data row20 col0\" >0.011995</td>\n",
       "      <td id=\"T_759a5_row20_col1\" class=\"data row20 col1\" >0.013367</td>\n",
       "      <td id=\"T_759a5_row20_col2\" class=\"data row20 col2\" >-0.001186</td>\n",
       "      <td id=\"T_759a5_row20_col3\" class=\"data row20 col3\" >0.015238</td>\n",
       "      <td id=\"T_759a5_row20_col4\" class=\"data row20 col4\" >0.009304</td>\n",
       "      <td id=\"T_759a5_row20_col5\" class=\"data row20 col5\" >0.002507</td>\n",
       "      <td id=\"T_759a5_row20_col6\" class=\"data row20 col6\" >-0.013397</td>\n",
       "      <td id=\"T_759a5_row20_col7\" class=\"data row20 col7\" >-0.009466</td>\n",
       "      <td id=\"T_759a5_row20_col8\" class=\"data row20 col8\" >-0.015047</td>\n",
       "      <td id=\"T_759a5_row20_col9\" class=\"data row20 col9\" >-0.015284</td>\n",
       "      <td id=\"T_759a5_row20_col10\" class=\"data row20 col10\" >-0.101955</td>\n",
       "      <td id=\"T_759a5_row20_col11\" class=\"data row20 col11\" >-0.107454</td>\n",
       "      <td id=\"T_759a5_row20_col12\" class=\"data row20 col12\" >-0.094126</td>\n",
       "      <td id=\"T_759a5_row20_col13\" class=\"data row20 col13\" >-0.052081</td>\n",
       "      <td id=\"T_759a5_row20_col14\" class=\"data row20 col14\" >-0.112545</td>\n",
       "      <td id=\"T_759a5_row20_col15\" class=\"data row20 col15\" >-0.070996</td>\n",
       "      <td id=\"T_759a5_row20_col16\" class=\"data row20 col16\" >0.670563</td>\n",
       "      <td id=\"T_759a5_row20_col17\" class=\"data row20 col17\" >0.203126</td>\n",
       "      <td id=\"T_759a5_row20_col18\" class=\"data row20 col18\" >0.903436</td>\n",
       "      <td id=\"T_759a5_row20_col19\" class=\"data row20 col19\" >0.945199</td>\n",
       "      <td id=\"T_759a5_row20_col20\" class=\"data row20 col20\" >1.000000</td>\n",
       "      <td id=\"T_759a5_row20_col21\" class=\"data row20 col21\" >0.974340</td>\n",
       "      <td id=\"T_759a5_row20_col22\" class=\"data row20 col22\" >0.954001</td>\n",
       "      <td id=\"T_759a5_row20_col23\" class=\"data row20 col23\" >0.963904</td>\n",
       "      <td id=\"T_759a5_row20_col24\" class=\"data row20 col24\" >0.104667</td>\n",
       "      <td id=\"T_759a5_row20_col25\" class=\"data row20 col25\" >0.130121</td>\n",
       "      <td id=\"T_759a5_row20_col26\" class=\"data row20 col26\" >0.129316</td>\n",
       "      <td id=\"T_759a5_row20_col27\" class=\"data row20 col27\" >0.060373</td>\n",
       "      <td id=\"T_759a5_row20_col28\" class=\"data row20 col28\" >0.125442</td>\n",
       "      <td id=\"T_759a5_row20_col29\" class=\"data row20 col29\" >0.055585</td>\n",
       "      <td id=\"T_759a5_row20_col30\" class=\"data row20 col30\" >0.024177</td>\n",
       "      <td id=\"T_759a5_row20_col31\" class=\"data row20 col31\" >-0.010267</td>\n",
       "      <td id=\"T_759a5_row20_col32\" class=\"data row20 col32\" >0.000380</td>\n",
       "      <td id=\"T_759a5_row20_col33\" class=\"data row20 col33\" >0.006541</td>\n",
       "      <td id=\"T_759a5_row20_col34\" class=\"data row20 col34\" >0.030945</td>\n",
       "      <td id=\"T_759a5_row20_col35\" class=\"data row20 col35\" >-0.006024</td>\n",
       "      <td id=\"T_759a5_row20_col36\" class=\"data row20 col36\" >0.006107</td>\n",
       "      <td id=\"T_759a5_row20_col37\" class=\"data row20 col37\" >-0.000418</td>\n",
       "    </tr>\n",
       "    <tr>\n",
       "      <th id=\"T_759a5_level0_row21\" class=\"row_heading level0 row21\" >B0045</th>\n",
       "      <td id=\"T_759a5_row21_col0\" class=\"data row21 col0\" >0.011940</td>\n",
       "      <td id=\"T_759a5_row21_col1\" class=\"data row21 col1\" >0.013380</td>\n",
       "      <td id=\"T_759a5_row21_col2\" class=\"data row21 col2\" >-0.001989</td>\n",
       "      <td id=\"T_759a5_row21_col3\" class=\"data row21 col3\" >0.015906</td>\n",
       "      <td id=\"T_759a5_row21_col4\" class=\"data row21 col4\" >0.010266</td>\n",
       "      <td id=\"T_759a5_row21_col5\" class=\"data row21 col5\" >0.002583</td>\n",
       "      <td id=\"T_759a5_row21_col6\" class=\"data row21 col6\" >-0.014007</td>\n",
       "      <td id=\"T_759a5_row21_col7\" class=\"data row21 col7\" >-0.009352</td>\n",
       "      <td id=\"T_759a5_row21_col8\" class=\"data row21 col8\" >-0.015232</td>\n",
       "      <td id=\"T_759a5_row21_col9\" class=\"data row21 col9\" >-0.015765</td>\n",
       "      <td id=\"T_759a5_row21_col10\" class=\"data row21 col10\" >-0.102155</td>\n",
       "      <td id=\"T_759a5_row21_col11\" class=\"data row21 col11\" >-0.108008</td>\n",
       "      <td id=\"T_759a5_row21_col12\" class=\"data row21 col12\" >-0.093916</td>\n",
       "      <td id=\"T_759a5_row21_col13\" class=\"data row21 col13\" >-0.051965</td>\n",
       "      <td id=\"T_759a5_row21_col14\" class=\"data row21 col14\" >-0.113088</td>\n",
       "      <td id=\"T_759a5_row21_col15\" class=\"data row21 col15\" >-0.071297</td>\n",
       "      <td id=\"T_759a5_row21_col16\" class=\"data row21 col16\" >0.638449</td>\n",
       "      <td id=\"T_759a5_row21_col17\" class=\"data row21 col17\" >0.195174</td>\n",
       "      <td id=\"T_759a5_row21_col18\" class=\"data row21 col18\" >0.914714</td>\n",
       "      <td id=\"T_759a5_row21_col19\" class=\"data row21 col19\" >0.951142</td>\n",
       "      <td id=\"T_759a5_row21_col20\" class=\"data row21 col20\" >0.974340</td>\n",
       "      <td id=\"T_759a5_row21_col21\" class=\"data row21 col21\" >1.000000</td>\n",
       "      <td id=\"T_759a5_row21_col22\" class=\"data row21 col22\" >0.960866</td>\n",
       "      <td id=\"T_759a5_row21_col23\" class=\"data row21 col23\" >0.969070</td>\n",
       "      <td id=\"T_759a5_row21_col24\" class=\"data row21 col24\" >0.104914</td>\n",
       "      <td id=\"T_759a5_row21_col25\" class=\"data row21 col25\" >0.130806</td>\n",
       "      <td id=\"T_759a5_row21_col26\" class=\"data row21 col26\" >0.129755</td>\n",
       "      <td id=\"T_759a5_row21_col27\" class=\"data row21 col27\" >0.060323</td>\n",
       "      <td id=\"T_759a5_row21_col28\" class=\"data row21 col28\" >0.125776</td>\n",
       "      <td id=\"T_759a5_row21_col29\" class=\"data row21 col29\" >0.055541</td>\n",
       "      <td id=\"T_759a5_row21_col30\" class=\"data row21 col30\" >0.023753</td>\n",
       "      <td id=\"T_759a5_row21_col31\" class=\"data row21 col31\" >-0.011414</td>\n",
       "      <td id=\"T_759a5_row21_col32\" class=\"data row21 col32\" >0.000649</td>\n",
       "      <td id=\"T_759a5_row21_col33\" class=\"data row21 col33\" >0.005875</td>\n",
       "      <td id=\"T_759a5_row21_col34\" class=\"data row21 col34\" >0.030632</td>\n",
       "      <td id=\"T_759a5_row21_col35\" class=\"data row21 col35\" >-0.006556</td>\n",
       "      <td id=\"T_759a5_row21_col36\" class=\"data row21 col36\" >0.006933</td>\n",
       "      <td id=\"T_759a5_row21_col37\" class=\"data row21 col37\" >-0.000551</td>\n",
       "    </tr>\n",
       "    <tr>\n",
       "      <th id=\"T_759a5_level0_row22\" class=\"row_heading level0 row22\" >B0043</th>\n",
       "      <td id=\"T_759a5_row22_col0\" class=\"data row22 col0\" >0.011890</td>\n",
       "      <td id=\"T_759a5_row22_col1\" class=\"data row22 col1\" >0.012950</td>\n",
       "      <td id=\"T_759a5_row22_col2\" class=\"data row22 col2\" >-0.003396</td>\n",
       "      <td id=\"T_759a5_row22_col3\" class=\"data row22 col3\" >0.017957</td>\n",
       "      <td id=\"T_759a5_row22_col4\" class=\"data row22 col4\" >0.011174</td>\n",
       "      <td id=\"T_759a5_row22_col5\" class=\"data row22 col5\" >0.002418</td>\n",
       "      <td id=\"T_759a5_row22_col6\" class=\"data row22 col6\" >-0.015326</td>\n",
       "      <td id=\"T_759a5_row22_col7\" class=\"data row22 col7\" >-0.009098</td>\n",
       "      <td id=\"T_759a5_row22_col8\" class=\"data row22 col8\" >-0.014851</td>\n",
       "      <td id=\"T_759a5_row22_col9\" class=\"data row22 col9\" >-0.015367</td>\n",
       "      <td id=\"T_759a5_row22_col10\" class=\"data row22 col10\" >-0.098672</td>\n",
       "      <td id=\"T_759a5_row22_col11\" class=\"data row22 col11\" >-0.105926</td>\n",
       "      <td id=\"T_759a5_row22_col12\" class=\"data row22 col12\" >-0.091505</td>\n",
       "      <td id=\"T_759a5_row22_col13\" class=\"data row22 col13\" >-0.049314</td>\n",
       "      <td id=\"T_759a5_row22_col14\" class=\"data row22 col14\" >-0.109944</td>\n",
       "      <td id=\"T_759a5_row22_col15\" class=\"data row22 col15\" >-0.068705</td>\n",
       "      <td id=\"T_759a5_row22_col16\" class=\"data row22 col16\" >0.576861</td>\n",
       "      <td id=\"T_759a5_row22_col17\" class=\"data row22 col17\" >0.151481</td>\n",
       "      <td id=\"T_759a5_row22_col18\" class=\"data row22 col18\" >0.889127</td>\n",
       "      <td id=\"T_759a5_row22_col19\" class=\"data row22 col19\" >0.934299</td>\n",
       "      <td id=\"T_759a5_row22_col20\" class=\"data row22 col20\" >0.954001</td>\n",
       "      <td id=\"T_759a5_row22_col21\" class=\"data row22 col21\" >0.960866</td>\n",
       "      <td id=\"T_759a5_row22_col22\" class=\"data row22 col22\" >1.000000</td>\n",
       "      <td id=\"T_759a5_row22_col23\" class=\"data row22 col23\" >0.947201</td>\n",
       "      <td id=\"T_759a5_row22_col24\" class=\"data row22 col24\" >0.101580</td>\n",
       "      <td id=\"T_759a5_row22_col25\" class=\"data row22 col25\" >0.130268</td>\n",
       "      <td id=\"T_759a5_row22_col26\" class=\"data row22 col26\" >0.127266</td>\n",
       "      <td id=\"T_759a5_row22_col27\" class=\"data row22 col27\" >0.058253</td>\n",
       "      <td id=\"T_759a5_row22_col28\" class=\"data row22 col28\" >0.123304</td>\n",
       "      <td id=\"T_759a5_row22_col29\" class=\"data row22 col29\" >0.053484</td>\n",
       "      <td id=\"T_759a5_row22_col30\" class=\"data row22 col30\" >0.022561</td>\n",
       "      <td id=\"T_759a5_row22_col31\" class=\"data row22 col31\" >-0.015437</td>\n",
       "      <td id=\"T_759a5_row22_col32\" class=\"data row22 col32\" >0.001806</td>\n",
       "      <td id=\"T_759a5_row22_col33\" class=\"data row22 col33\" >0.004502</td>\n",
       "      <td id=\"T_759a5_row22_col34\" class=\"data row22 col34\" >0.029746</td>\n",
       "      <td id=\"T_759a5_row22_col35\" class=\"data row22 col35\" >-0.007667</td>\n",
       "      <td id=\"T_759a5_row22_col36\" class=\"data row22 col36\" >0.008537</td>\n",
       "      <td id=\"T_759a5_row22_col37\" class=\"data row22 col37\" >-0.000051</td>\n",
       "    </tr>\n",
       "    <tr>\n",
       "      <th id=\"T_759a5_level0_row23\" class=\"row_heading level0 row23\" >B0046</th>\n",
       "      <td id=\"T_759a5_row23_col0\" class=\"data row23 col0\" >0.011659</td>\n",
       "      <td id=\"T_759a5_row23_col1\" class=\"data row23 col1\" >0.013603</td>\n",
       "      <td id=\"T_759a5_row23_col2\" class=\"data row23 col2\" >-0.000863</td>\n",
       "      <td id=\"T_759a5_row23_col3\" class=\"data row23 col3\" >0.013856</td>\n",
       "      <td id=\"T_759a5_row23_col4\" class=\"data row23 col4\" >0.009461</td>\n",
       "      <td id=\"T_759a5_row23_col5\" class=\"data row23 col5\" >0.002410</td>\n",
       "      <td id=\"T_759a5_row23_col6\" class=\"data row23 col6\" >-0.012977</td>\n",
       "      <td id=\"T_759a5_row23_col7\" class=\"data row23 col7\" >-0.009217</td>\n",
       "      <td id=\"T_759a5_row23_col8\" class=\"data row23 col8\" >-0.015371</td>\n",
       "      <td id=\"T_759a5_row23_col9\" class=\"data row23 col9\" >-0.015486</td>\n",
       "      <td id=\"T_759a5_row23_col10\" class=\"data row23 col10\" >-0.100926</td>\n",
       "      <td id=\"T_759a5_row23_col11\" class=\"data row23 col11\" >-0.108789</td>\n",
       "      <td id=\"T_759a5_row23_col12\" class=\"data row23 col12\" >-0.095003</td>\n",
       "      <td id=\"T_759a5_row23_col13\" class=\"data row23 col13\" >-0.053173</td>\n",
       "      <td id=\"T_759a5_row23_col14\" class=\"data row23 col14\" >-0.111513</td>\n",
       "      <td id=\"T_759a5_row23_col15\" class=\"data row23 col15\" >-0.071690</td>\n",
       "      <td id=\"T_759a5_row23_col16\" class=\"data row23 col16\" >0.611148</td>\n",
       "      <td id=\"T_759a5_row23_col17\" class=\"data row23 col17\" >0.187169</td>\n",
       "      <td id=\"T_759a5_row23_col18\" class=\"data row23 col18\" >0.893793</td>\n",
       "      <td id=\"T_759a5_row23_col19\" class=\"data row23 col19\" >0.936279</td>\n",
       "      <td id=\"T_759a5_row23_col20\" class=\"data row23 col20\" >0.963904</td>\n",
       "      <td id=\"T_759a5_row23_col21\" class=\"data row23 col21\" >0.969070</td>\n",
       "      <td id=\"T_759a5_row23_col22\" class=\"data row23 col22\" >0.947201</td>\n",
       "      <td id=\"T_759a5_row23_col23\" class=\"data row23 col23\" >1.000000</td>\n",
       "      <td id=\"T_759a5_row23_col24\" class=\"data row23 col24\" >0.104201</td>\n",
       "      <td id=\"T_759a5_row23_col25\" class=\"data row23 col25\" >0.127129</td>\n",
       "      <td id=\"T_759a5_row23_col26\" class=\"data row23 col26\" >0.127655</td>\n",
       "      <td id=\"T_759a5_row23_col27\" class=\"data row23 col27\" >0.060112</td>\n",
       "      <td id=\"T_759a5_row23_col28\" class=\"data row23 col28\" >0.124300</td>\n",
       "      <td id=\"T_759a5_row23_col29\" class=\"data row23 col29\" >0.054294</td>\n",
       "      <td id=\"T_759a5_row23_col30\" class=\"data row23 col30\" >0.023628</td>\n",
       "      <td id=\"T_759a5_row23_col31\" class=\"data row23 col31\" >-0.008324</td>\n",
       "      <td id=\"T_759a5_row23_col32\" class=\"data row23 col32\" >0.000267</td>\n",
       "      <td id=\"T_759a5_row23_col33\" class=\"data row23 col33\" >0.006224</td>\n",
       "      <td id=\"T_759a5_row23_col34\" class=\"data row23 col34\" >0.030006</td>\n",
       "      <td id=\"T_759a5_row23_col35\" class=\"data row23 col35\" >-0.005664</td>\n",
       "      <td id=\"T_759a5_row23_col36\" class=\"data row23 col36\" >0.005685</td>\n",
       "      <td id=\"T_759a5_row23_col37\" class=\"data row23 col37\" >-0.001135</td>\n",
       "    </tr>\n",
       "    <tr>\n",
       "      <th id=\"T_759a5_level0_row24\" class=\"row_heading level0 row24\" >B009A</th>\n",
       "      <td id=\"T_759a5_row24_col0\" class=\"data row24 col0\" >0.060568</td>\n",
       "      <td id=\"T_759a5_row24_col1\" class=\"data row24 col1\" >0.011672</td>\n",
       "      <td id=\"T_759a5_row24_col2\" class=\"data row24 col2\" >-0.010679</td>\n",
       "      <td id=\"T_759a5_row24_col3\" class=\"data row24 col3\" >0.157993</td>\n",
       "      <td id=\"T_759a5_row24_col4\" class=\"data row24 col4\" >0.003572</td>\n",
       "      <td id=\"T_759a5_row24_col5\" class=\"data row24 col5\" >0.008626</td>\n",
       "      <td id=\"T_759a5_row24_col6\" class=\"data row24 col6\" >-0.073153</td>\n",
       "      <td id=\"T_759a5_row24_col7\" class=\"data row24 col7\" >-0.016686</td>\n",
       "      <td id=\"T_759a5_row24_col8\" class=\"data row24 col8\" >-0.022766</td>\n",
       "      <td id=\"T_759a5_row24_col9\" class=\"data row24 col9\" >-0.018980</td>\n",
       "      <td id=\"T_759a5_row24_col10\" class=\"data row24 col10\" >-0.021919</td>\n",
       "      <td id=\"T_759a5_row24_col11\" class=\"data row24 col11\" >-0.022820</td>\n",
       "      <td id=\"T_759a5_row24_col12\" class=\"data row24 col12\" >-0.021358</td>\n",
       "      <td id=\"T_759a5_row24_col13\" class=\"data row24 col13\" >-0.015507</td>\n",
       "      <td id=\"T_759a5_row24_col14\" class=\"data row24 col14\" >-0.025653</td>\n",
       "      <td id=\"T_759a5_row24_col15\" class=\"data row24 col15\" >-0.019068</td>\n",
       "      <td id=\"T_759a5_row24_col16\" class=\"data row24 col16\" >0.080891</td>\n",
       "      <td id=\"T_759a5_row24_col17\" class=\"data row24 col17\" >0.031180</td>\n",
       "      <td id=\"T_759a5_row24_col18\" class=\"data row24 col18\" >0.100366</td>\n",
       "      <td id=\"T_759a5_row24_col19\" class=\"data row24 col19\" >0.102866</td>\n",
       "      <td id=\"T_759a5_row24_col20\" class=\"data row24 col20\" >0.104667</td>\n",
       "      <td id=\"T_759a5_row24_col21\" class=\"data row24 col21\" >0.104914</td>\n",
       "      <td id=\"T_759a5_row24_col22\" class=\"data row24 col22\" >0.101580</td>\n",
       "      <td id=\"T_759a5_row24_col23\" class=\"data row24 col23\" >0.104201</td>\n",
       "      <td id=\"T_759a5_row24_col24\" class=\"data row24 col24\" >1.000000</td>\n",
       "      <td id=\"T_759a5_row24_col25\" class=\"data row24 col25\" >0.289124</td>\n",
       "      <td id=\"T_759a5_row24_col26\" class=\"data row24 col26\" >0.862288</td>\n",
       "      <td id=\"T_759a5_row24_col27\" class=\"data row24 col27\" >0.684114</td>\n",
       "      <td id=\"T_759a5_row24_col28\" class=\"data row24 col28\" >0.901638</td>\n",
       "      <td id=\"T_759a5_row24_col29\" class=\"data row24 col29\" >0.501587</td>\n",
       "      <td id=\"T_759a5_row24_col30\" class=\"data row24 col30\" >-0.074370</td>\n",
       "      <td id=\"T_759a5_row24_col31\" class=\"data row24 col31\" >-0.092398</td>\n",
       "      <td id=\"T_759a5_row24_col32\" class=\"data row24 col32\" >0.035766</td>\n",
       "      <td id=\"T_759a5_row24_col33\" class=\"data row24 col33\" >-0.052774</td>\n",
       "      <td id=\"T_759a5_row24_col34\" class=\"data row24 col34\" >0.013610</td>\n",
       "      <td id=\"T_759a5_row24_col35\" class=\"data row24 col35\" >-0.061527</td>\n",
       "      <td id=\"T_759a5_row24_col36\" class=\"data row24 col36\" >0.069847</td>\n",
       "      <td id=\"T_759a5_row24_col37\" class=\"data row24 col37\" >0.030951</td>\n",
       "    </tr>\n",
       "    <tr>\n",
       "      <th id=\"T_759a5_level0_row25\" class=\"row_heading level0 row25\" >B009B</th>\n",
       "      <td id=\"T_759a5_row25_col0\" class=\"data row25 col0\" >0.033488</td>\n",
       "      <td id=\"T_759a5_row25_col1\" class=\"data row25 col1\" >0.010552</td>\n",
       "      <td id=\"T_759a5_row25_col2\" class=\"data row25 col2\" >-0.034633</td>\n",
       "      <td id=\"T_759a5_row25_col3\" class=\"data row25 col3\" >0.127758</td>\n",
       "      <td id=\"T_759a5_row25_col4\" class=\"data row25 col4\" >0.069904</td>\n",
       "      <td id=\"T_759a5_row25_col5\" class=\"data row25 col5\" >0.006584</td>\n",
       "      <td id=\"T_759a5_row25_col6\" class=\"data row25 col6\" >-0.070518</td>\n",
       "      <td id=\"T_759a5_row25_col7\" class=\"data row25 col7\" >-0.011790</td>\n",
       "      <td id=\"T_759a5_row25_col8\" class=\"data row25 col8\" >-0.013403</td>\n",
       "      <td id=\"T_759a5_row25_col9\" class=\"data row25 col9\" >-0.019725</td>\n",
       "      <td id=\"T_759a5_row25_col10\" class=\"data row25 col10\" >-0.022336</td>\n",
       "      <td id=\"T_759a5_row25_col11\" class=\"data row25 col11\" >-0.024314</td>\n",
       "      <td id=\"T_759a5_row25_col12\" class=\"data row25 col12\" >-0.022200</td>\n",
       "      <td id=\"T_759a5_row25_col13\" class=\"data row25 col13\" >-0.014881</td>\n",
       "      <td id=\"T_759a5_row25_col14\" class=\"data row25 col14\" >-0.026090</td>\n",
       "      <td id=\"T_759a5_row25_col15\" class=\"data row25 col15\" >-0.019715</td>\n",
       "      <td id=\"T_759a5_row25_col16\" class=\"data row25 col16\" >0.113764</td>\n",
       "      <td id=\"T_759a5_row25_col17\" class=\"data row25 col17\" >0.031616</td>\n",
       "      <td id=\"T_759a5_row25_col18\" class=\"data row25 col18\" >0.134726</td>\n",
       "      <td id=\"T_759a5_row25_col19\" class=\"data row25 col19\" >0.129199</td>\n",
       "      <td id=\"T_759a5_row25_col20\" class=\"data row25 col20\" >0.130121</td>\n",
       "      <td id=\"T_759a5_row25_col21\" class=\"data row25 col21\" >0.130806</td>\n",
       "      <td id=\"T_759a5_row25_col22\" class=\"data row25 col22\" >0.130268</td>\n",
       "      <td id=\"T_759a5_row25_col23\" class=\"data row25 col23\" >0.127129</td>\n",
       "      <td id=\"T_759a5_row25_col24\" class=\"data row25 col24\" >0.289124</td>\n",
       "      <td id=\"T_759a5_row25_col25\" class=\"data row25 col25\" >1.000000</td>\n",
       "      <td id=\"T_759a5_row25_col26\" class=\"data row25 col26\" >0.614538</td>\n",
       "      <td id=\"T_759a5_row25_col27\" class=\"data row25 col27\" >0.105748</td>\n",
       "      <td id=\"T_759a5_row25_col28\" class=\"data row25 col28\" >0.564484</td>\n",
       "      <td id=\"T_759a5_row25_col29\" class=\"data row25 col29\" >0.131700</td>\n",
       "      <td id=\"T_759a5_row25_col30\" class=\"data row25 col30\" >-0.044167</td>\n",
       "      <td id=\"T_759a5_row25_col31\" class=\"data row25 col31\" >-0.103365</td>\n",
       "      <td id=\"T_759a5_row25_col32\" class=\"data row25 col32\" >0.028605</td>\n",
       "      <td id=\"T_759a5_row25_col33\" class=\"data row25 col33\" >-0.043436</td>\n",
       "      <td id=\"T_759a5_row25_col34\" class=\"data row25 col34\" >0.010636</td>\n",
       "      <td id=\"T_759a5_row25_col35\" class=\"data row25 col35\" >-0.056649</td>\n",
       "      <td id=\"T_759a5_row25_col36\" class=\"data row25 col36\" >0.067120</td>\n",
       "      <td id=\"T_759a5_row25_col37\" class=\"data row25 col37\" >0.030423</td>\n",
       "    </tr>\n",
       "    <tr>\n",
       "      <th id=\"T_759a5_level0_row26\" class=\"row_heading level0 row26\" >B009C</th>\n",
       "      <td id=\"T_759a5_row26_col0\" class=\"data row26 col0\" >0.058630</td>\n",
       "      <td id=\"T_759a5_row26_col1\" class=\"data row26 col1\" >0.013158</td>\n",
       "      <td id=\"T_759a5_row26_col2\" class=\"data row26 col2\" >-0.023672</td>\n",
       "      <td id=\"T_759a5_row26_col3\" class=\"data row26 col3\" >0.173058</td>\n",
       "      <td id=\"T_759a5_row26_col4\" class=\"data row26 col4\" >0.037021</td>\n",
       "      <td id=\"T_759a5_row26_col5\" class=\"data row26 col5\" >0.010123</td>\n",
       "      <td id=\"T_759a5_row26_col6\" class=\"data row26 col6\" >-0.085204</td>\n",
       "      <td id=\"T_759a5_row26_col7\" class=\"data row26 col7\" >-0.015386</td>\n",
       "      <td id=\"T_759a5_row26_col8\" class=\"data row26 col8\" >-0.020771</td>\n",
       "      <td id=\"T_759a5_row26_col9\" class=\"data row26 col9\" >-0.020442</td>\n",
       "      <td id=\"T_759a5_row26_col10\" class=\"data row26 col10\" >-0.024310</td>\n",
       "      <td id=\"T_759a5_row26_col11\" class=\"data row26 col11\" >-0.025205</td>\n",
       "      <td id=\"T_759a5_row26_col12\" class=\"data row26 col12\" >-0.023114</td>\n",
       "      <td id=\"T_759a5_row26_col13\" class=\"data row26 col13\" >-0.016262</td>\n",
       "      <td id=\"T_759a5_row26_col14\" class=\"data row26 col14\" >-0.027930</td>\n",
       "      <td id=\"T_759a5_row26_col15\" class=\"data row26 col15\" >-0.021005</td>\n",
       "      <td id=\"T_759a5_row26_col16\" class=\"data row26 col16\" >0.105897</td>\n",
       "      <td id=\"T_759a5_row26_col17\" class=\"data row26 col17\" >0.038717</td>\n",
       "      <td id=\"T_759a5_row26_col18\" class=\"data row26 col18\" >0.129637</td>\n",
       "      <td id=\"T_759a5_row26_col19\" class=\"data row26 col19\" >0.128202</td>\n",
       "      <td id=\"T_759a5_row26_col20\" class=\"data row26 col20\" >0.129316</td>\n",
       "      <td id=\"T_759a5_row26_col21\" class=\"data row26 col21\" >0.129755</td>\n",
       "      <td id=\"T_759a5_row26_col22\" class=\"data row26 col22\" >0.127266</td>\n",
       "      <td id=\"T_759a5_row26_col23\" class=\"data row26 col23\" >0.127655</td>\n",
       "      <td id=\"T_759a5_row26_col24\" class=\"data row26 col24\" >0.862288</td>\n",
       "      <td id=\"T_759a5_row26_col25\" class=\"data row26 col25\" >0.614538</td>\n",
       "      <td id=\"T_759a5_row26_col26\" class=\"data row26 col26\" >1.000000</td>\n",
       "      <td id=\"T_759a5_row26_col27\" class=\"data row26 col27\" >0.348678</td>\n",
       "      <td id=\"T_759a5_row26_col28\" class=\"data row26 col28\" >0.883954</td>\n",
       "      <td id=\"T_759a5_row26_col29\" class=\"data row26 col29\" >0.536343</td>\n",
       "      <td id=\"T_759a5_row26_col30\" class=\"data row26 col30\" >-0.071045</td>\n",
       "      <td id=\"T_759a5_row26_col31\" class=\"data row26 col31\" >-0.115890</td>\n",
       "      <td id=\"T_759a5_row26_col32\" class=\"data row26 col32\" >0.039079</td>\n",
       "      <td id=\"T_759a5_row26_col33\" class=\"data row26 col33\" >-0.057332</td>\n",
       "      <td id=\"T_759a5_row26_col34\" class=\"data row26 col34\" >0.014148</td>\n",
       "      <td id=\"T_759a5_row26_col35\" class=\"data row26 col35\" >-0.071087</td>\n",
       "      <td id=\"T_759a5_row26_col36\" class=\"data row26 col36\" >0.082042</td>\n",
       "      <td id=\"T_759a5_row26_col37\" class=\"data row26 col37\" >0.035257</td>\n",
       "    </tr>\n",
       "    <tr>\n",
       "      <th id=\"T_759a5_level0_row27\" class=\"row_heading level0 row27\" >B009D</th>\n",
       "      <td id=\"T_759a5_row27_col0\" class=\"data row27 col0\" >0.042194</td>\n",
       "      <td id=\"T_759a5_row27_col1\" class=\"data row27 col1\" >0.005633</td>\n",
       "      <td id=\"T_759a5_row27_col2\" class=\"data row27 col2\" >-0.004457</td>\n",
       "      <td id=\"T_759a5_row27_col3\" class=\"data row27 col3\" >0.101148</td>\n",
       "      <td id=\"T_759a5_row27_col4\" class=\"data row27 col4\" >-0.006222</td>\n",
       "      <td id=\"T_759a5_row27_col5\" class=\"data row27 col5\" >0.004490</td>\n",
       "      <td id=\"T_759a5_row27_col6\" class=\"data row27 col6\" >-0.044831</td>\n",
       "      <td id=\"T_759a5_row27_col7\" class=\"data row27 col7\" >-0.012360</td>\n",
       "      <td id=\"T_759a5_row27_col8\" class=\"data row27 col8\" >-0.017077</td>\n",
       "      <td id=\"T_759a5_row27_col9\" class=\"data row27 col9\" >-0.013391</td>\n",
       "      <td id=\"T_759a5_row27_col10\" class=\"data row27 col10\" >-0.015123</td>\n",
       "      <td id=\"T_759a5_row27_col11\" class=\"data row27 col11\" >-0.015788</td>\n",
       "      <td id=\"T_759a5_row27_col12\" class=\"data row27 col12\" >-0.015125</td>\n",
       "      <td id=\"T_759a5_row27_col13\" class=\"data row27 col13\" >-0.011625</td>\n",
       "      <td id=\"T_759a5_row27_col14\" class=\"data row27 col14\" >-0.017916</td>\n",
       "      <td id=\"T_759a5_row27_col15\" class=\"data row27 col15\" >-0.013243</td>\n",
       "      <td id=\"T_759a5_row27_col16\" class=\"data row27 col16\" >0.042965</td>\n",
       "      <td id=\"T_759a5_row27_col17\" class=\"data row27 col17\" >0.017594</td>\n",
       "      <td id=\"T_759a5_row27_col18\" class=\"data row27 col18\" >0.054715</td>\n",
       "      <td id=\"T_759a5_row27_col19\" class=\"data row27 col19\" >0.058674</td>\n",
       "      <td id=\"T_759a5_row27_col20\" class=\"data row27 col20\" >0.060373</td>\n",
       "      <td id=\"T_759a5_row27_col21\" class=\"data row27 col21\" >0.060323</td>\n",
       "      <td id=\"T_759a5_row27_col22\" class=\"data row27 col22\" >0.058253</td>\n",
       "      <td id=\"T_759a5_row27_col23\" class=\"data row27 col23\" >0.060112</td>\n",
       "      <td id=\"T_759a5_row27_col24\" class=\"data row27 col24\" >0.684114</td>\n",
       "      <td id=\"T_759a5_row27_col25\" class=\"data row27 col25\" >0.105748</td>\n",
       "      <td id=\"T_759a5_row27_col26\" class=\"data row27 col26\" >0.348678</td>\n",
       "      <td id=\"T_759a5_row27_col27\" class=\"data row27 col27\" >1.000000</td>\n",
       "      <td id=\"T_759a5_row27_col28\" class=\"data row27 col28\" >0.666414</td>\n",
       "      <td id=\"T_759a5_row27_col29\" class=\"data row27 col29\" >0.087082</td>\n",
       "      <td id=\"T_759a5_row27_col30\" class=\"data row27 col30\" >-0.055934</td>\n",
       "      <td id=\"T_759a5_row27_col31\" class=\"data row27 col31\" >-0.053352</td>\n",
       "      <td id=\"T_759a5_row27_col32\" class=\"data row27 col32\" >0.021589</td>\n",
       "      <td id=\"T_759a5_row27_col33\" class=\"data row27 col33\" >-0.037435</td>\n",
       "      <td id=\"T_759a5_row27_col34\" class=\"data row27 col34\" >0.008284</td>\n",
       "      <td id=\"T_759a5_row27_col35\" class=\"data row27 col35\" >-0.038719</td>\n",
       "      <td id=\"T_759a5_row27_col36\" class=\"data row27 col36\" >0.043661</td>\n",
       "      <td id=\"T_759a5_row27_col37\" class=\"data row27 col37\" >0.021044</td>\n",
       "    </tr>\n",
       "    <tr>\n",
       "      <th id=\"T_759a5_level0_row28\" class=\"row_heading level0 row28\" >B009E</th>\n",
       "      <td id=\"T_759a5_row28_col0\" class=\"data row28 col0\" >0.055815</td>\n",
       "      <td id=\"T_759a5_row28_col1\" class=\"data row28 col1\" >0.012409</td>\n",
       "      <td id=\"T_759a5_row28_col2\" class=\"data row28 col2\" >-0.019880</td>\n",
       "      <td id=\"T_759a5_row28_col3\" class=\"data row28 col3\" >0.165528</td>\n",
       "      <td id=\"T_759a5_row28_col4\" class=\"data row28 col4\" >0.027851</td>\n",
       "      <td id=\"T_759a5_row28_col5\" class=\"data row28 col5\" >0.008575</td>\n",
       "      <td id=\"T_759a5_row28_col6\" class=\"data row28 col6\" >-0.083298</td>\n",
       "      <td id=\"T_759a5_row28_col7\" class=\"data row28 col7\" >-0.013929</td>\n",
       "      <td id=\"T_759a5_row28_col8\" class=\"data row28 col8\" >-0.018512</td>\n",
       "      <td id=\"T_759a5_row28_col9\" class=\"data row28 col9\" >-0.018200</td>\n",
       "      <td id=\"T_759a5_row28_col10\" class=\"data row28 col10\" >-0.024648</td>\n",
       "      <td id=\"T_759a5_row28_col11\" class=\"data row28 col11\" >-0.025552</td>\n",
       "      <td id=\"T_759a5_row28_col12\" class=\"data row28 col12\" >-0.023427</td>\n",
       "      <td id=\"T_759a5_row28_col13\" class=\"data row28 col13\" >-0.016545</td>\n",
       "      <td id=\"T_759a5_row28_col14\" class=\"data row28 col14\" >-0.028086</td>\n",
       "      <td id=\"T_759a5_row28_col15\" class=\"data row28 col15\" >-0.020989</td>\n",
       "      <td id=\"T_759a5_row28_col16\" class=\"data row28 col16\" >0.100192</td>\n",
       "      <td id=\"T_759a5_row28_col17\" class=\"data row28 col17\" >0.033569</td>\n",
       "      <td id=\"T_759a5_row28_col18\" class=\"data row28 col18\" >0.122642</td>\n",
       "      <td id=\"T_759a5_row28_col19\" class=\"data row28 col19\" >0.123725</td>\n",
       "      <td id=\"T_759a5_row28_col20\" class=\"data row28 col20\" >0.125442</td>\n",
       "      <td id=\"T_759a5_row28_col21\" class=\"data row28 col21\" >0.125776</td>\n",
       "      <td id=\"T_759a5_row28_col22\" class=\"data row28 col22\" >0.123304</td>\n",
       "      <td id=\"T_759a5_row28_col23\" class=\"data row28 col23\" >0.124300</td>\n",
       "      <td id=\"T_759a5_row28_col24\" class=\"data row28 col24\" >0.901638</td>\n",
       "      <td id=\"T_759a5_row28_col25\" class=\"data row28 col25\" >0.564484</td>\n",
       "      <td id=\"T_759a5_row28_col26\" class=\"data row28 col26\" >0.883954</td>\n",
       "      <td id=\"T_759a5_row28_col27\" class=\"data row28 col27\" >0.666414</td>\n",
       "      <td id=\"T_759a5_row28_col28\" class=\"data row28 col28\" >1.000000</td>\n",
       "      <td id=\"T_759a5_row28_col29\" class=\"data row28 col29\" >0.237814</td>\n",
       "      <td id=\"T_759a5_row28_col30\" class=\"data row28 col30\" >-0.073516</td>\n",
       "      <td id=\"T_759a5_row28_col31\" class=\"data row28 col31\" >-0.104145</td>\n",
       "      <td id=\"T_759a5_row28_col32\" class=\"data row28 col32\" >0.036777</td>\n",
       "      <td id=\"T_759a5_row28_col33\" class=\"data row28 col33\" >-0.056721</td>\n",
       "      <td id=\"T_759a5_row28_col34\" class=\"data row28 col34\" >0.015590</td>\n",
       "      <td id=\"T_759a5_row28_col35\" class=\"data row28 col35\" >-0.065310</td>\n",
       "      <td id=\"T_759a5_row28_col36\" class=\"data row28 col36\" >0.075097</td>\n",
       "      <td id=\"T_759a5_row28_col37\" class=\"data row28 col37\" >0.035570</td>\n",
       "    </tr>\n",
       "    <tr>\n",
       "      <th id=\"T_759a5_level0_row29\" class=\"row_heading level0 row29\" >B009F</th>\n",
       "      <td id=\"T_759a5_row29_col0\" class=\"data row29 col0\" >0.045577</td>\n",
       "      <td id=\"T_759a5_row29_col1\" class=\"data row29 col1\" >0.006883</td>\n",
       "      <td id=\"T_759a5_row29_col2\" class=\"data row29 col2\" >-0.010689</td>\n",
       "      <td id=\"T_759a5_row29_col3\" class=\"data row29 col3\" >0.105476</td>\n",
       "      <td id=\"T_759a5_row29_col4\" class=\"data row29 col4\" >0.007370</td>\n",
       "      <td id=\"T_759a5_row29_col5\" class=\"data row29 col5\" >0.006245</td>\n",
       "      <td id=\"T_759a5_row29_col6\" class=\"data row29 col6\" >-0.040785</td>\n",
       "      <td id=\"T_759a5_row29_col7\" class=\"data row29 col7\" >-0.014087</td>\n",
       "      <td id=\"T_759a5_row29_col8\" class=\"data row29 col8\" >-0.020155</td>\n",
       "      <td id=\"T_759a5_row29_col9\" class=\"data row29 col9\" >-0.016296</td>\n",
       "      <td id=\"T_759a5_row29_col10\" class=\"data row29 col10\" >-0.012136</td>\n",
       "      <td id=\"T_759a5_row29_col11\" class=\"data row29 col11\" >-0.012771</td>\n",
       "      <td id=\"T_759a5_row29_col12\" class=\"data row29 col12\" >-0.012300</td>\n",
       "      <td id=\"T_759a5_row29_col13\" class=\"data row29 col13\" >-0.009743</td>\n",
       "      <td id=\"T_759a5_row29_col14\" class=\"data row29 col14\" >-0.014991</td>\n",
       "      <td id=\"T_759a5_row29_col15\" class=\"data row29 col15\" >-0.011602</td>\n",
       "      <td id=\"T_759a5_row29_col16\" class=\"data row29 col16\" >0.047552</td>\n",
       "      <td id=\"T_759a5_row29_col17\" class=\"data row29 col17\" >0.027381</td>\n",
       "      <td id=\"T_759a5_row29_col18\" class=\"data row29 col18\" >0.056427</td>\n",
       "      <td id=\"T_759a5_row29_col19\" class=\"data row29 col19\" >0.054608</td>\n",
       "      <td id=\"T_759a5_row29_col20\" class=\"data row29 col20\" >0.055585</td>\n",
       "      <td id=\"T_759a5_row29_col21\" class=\"data row29 col21\" >0.055541</td>\n",
       "      <td id=\"T_759a5_row29_col22\" class=\"data row29 col22\" >0.053484</td>\n",
       "      <td id=\"T_759a5_row29_col23\" class=\"data row29 col23\" >0.054294</td>\n",
       "      <td id=\"T_759a5_row29_col24\" class=\"data row29 col24\" >0.501587</td>\n",
       "      <td id=\"T_759a5_row29_col25\" class=\"data row29 col25\" >0.131700</td>\n",
       "      <td id=\"T_759a5_row29_col26\" class=\"data row29 col26\" >0.536343</td>\n",
       "      <td id=\"T_759a5_row29_col27\" class=\"data row29 col27\" >0.087082</td>\n",
       "      <td id=\"T_759a5_row29_col28\" class=\"data row29 col28\" >0.237814</td>\n",
       "      <td id=\"T_759a5_row29_col29\" class=\"data row29 col29\" >1.000000</td>\n",
       "      <td id=\"T_759a5_row29_col30\" class=\"data row29 col30\" >-0.041555</td>\n",
       "      <td id=\"T_759a5_row29_col31\" class=\"data row29 col31\" >-0.073028</td>\n",
       "      <td id=\"T_759a5_row29_col32\" class=\"data row29 col32\" >0.024164</td>\n",
       "      <td id=\"T_759a5_row29_col33\" class=\"data row29 col33\" >-0.033521</td>\n",
       "      <td id=\"T_759a5_row29_col34\" class=\"data row29 col34\" >0.003916</td>\n",
       "      <td id=\"T_759a5_row29_col35\" class=\"data row29 col35\" >-0.046946</td>\n",
       "      <td id=\"T_759a5_row29_col36\" class=\"data row29 col36\" >0.053734</td>\n",
       "      <td id=\"T_759a5_row29_col37\" class=\"data row29 col37\" >0.016008</td>\n",
       "    </tr>\n",
       "    <tr>\n",
       "      <th id=\"T_759a5_level0_row30\" class=\"row_heading level0 row30\" >B011</th>\n",
       "      <td id=\"T_759a5_row30_col0\" class=\"data row30 col0\" >-0.057867</td>\n",
       "      <td id=\"T_759a5_row30_col1\" class=\"data row30 col1\" >0.085277</td>\n",
       "      <td id=\"T_759a5_row30_col2\" class=\"data row30 col2\" >-0.003592</td>\n",
       "      <td id=\"T_759a5_row30_col3\" class=\"data row30 col3\" >-0.247241</td>\n",
       "      <td id=\"T_759a5_row30_col4\" class=\"data row30 col4\" >0.001808</td>\n",
       "      <td id=\"T_759a5_row30_col5\" class=\"data row30 col5\" >-0.014740</td>\n",
       "      <td id=\"T_759a5_row30_col6\" class=\"data row30 col6\" >0.044070</td>\n",
       "      <td id=\"T_759a5_row30_col7\" class=\"data row30 col7\" >0.225030</td>\n",
       "      <td id=\"T_759a5_row30_col8\" class=\"data row30 col8\" >0.178556</td>\n",
       "      <td id=\"T_759a5_row30_col9\" class=\"data row30 col9\" >0.245805</td>\n",
       "      <td id=\"T_759a5_row30_col10\" class=\"data row30 col10\" >0.317629</td>\n",
       "      <td id=\"T_759a5_row30_col11\" class=\"data row30 col11\" >0.311038</td>\n",
       "      <td id=\"T_759a5_row30_col12\" class=\"data row30 col12\" >0.316443</td>\n",
       "      <td id=\"T_759a5_row30_col13\" class=\"data row30 col13\" >0.322764</td>\n",
       "      <td id=\"T_759a5_row30_col14\" class=\"data row30 col14\" >0.311522</td>\n",
       "      <td id=\"T_759a5_row30_col15\" class=\"data row30 col15\" >0.318436</td>\n",
       "      <td id=\"T_759a5_row30_col16\" class=\"data row30 col16\" >0.017885</td>\n",
       "      <td id=\"T_759a5_row30_col17\" class=\"data row30 col17\" >0.013545</td>\n",
       "      <td id=\"T_759a5_row30_col18\" class=\"data row30 col18\" >0.022136</td>\n",
       "      <td id=\"T_759a5_row30_col19\" class=\"data row30 col19\" >0.023748</td>\n",
       "      <td id=\"T_759a5_row30_col20\" class=\"data row30 col20\" >0.024177</td>\n",
       "      <td id=\"T_759a5_row30_col21\" class=\"data row30 col21\" >0.023753</td>\n",
       "      <td id=\"T_759a5_row30_col22\" class=\"data row30 col22\" >0.022561</td>\n",
       "      <td id=\"T_759a5_row30_col23\" class=\"data row30 col23\" >0.023628</td>\n",
       "      <td id=\"T_759a5_row30_col24\" class=\"data row30 col24\" >-0.074370</td>\n",
       "      <td id=\"T_759a5_row30_col25\" class=\"data row30 col25\" >-0.044167</td>\n",
       "      <td id=\"T_759a5_row30_col26\" class=\"data row30 col26\" >-0.071045</td>\n",
       "      <td id=\"T_759a5_row30_col27\" class=\"data row30 col27\" >-0.055934</td>\n",
       "      <td id=\"T_759a5_row30_col28\" class=\"data row30 col28\" >-0.073516</td>\n",
       "      <td id=\"T_759a5_row30_col29\" class=\"data row30 col29\" >-0.041555</td>\n",
       "      <td id=\"T_759a5_row30_col30\" class=\"data row30 col30\" >1.000000</td>\n",
       "      <td id=\"T_759a5_row30_col31\" class=\"data row30 col31\" >0.181385</td>\n",
       "      <td id=\"T_759a5_row30_col32\" class=\"data row30 col32\" >-0.072301</td>\n",
       "      <td id=\"T_759a5_row30_col33\" class=\"data row30 col33\" >0.202133</td>\n",
       "      <td id=\"T_759a5_row30_col34\" class=\"data row30 col34\" >0.014478</td>\n",
       "      <td id=\"T_759a5_row30_col35\" class=\"data row30 col35\" >0.027662</td>\n",
       "      <td id=\"T_759a5_row30_col36\" class=\"data row30 col36\" >-0.009955</td>\n",
       "      <td id=\"T_759a5_row30_col37\" class=\"data row30 col37\" >-0.077593</td>\n",
       "    </tr>\n",
       "    <tr>\n",
       "      <th id=\"T_759a5_level0_row31\" class=\"row_heading level0 row31\" >B007</th>\n",
       "      <td id=\"T_759a5_row31_col0\" class=\"data row31 col0\" >-0.050914</td>\n",
       "      <td id=\"T_759a5_row31_col1\" class=\"data row31 col1\" >-0.014539</td>\n",
       "      <td id=\"T_759a5_row31_col2\" class=\"data row31 col2\" >0.145641</td>\n",
       "      <td id=\"T_759a5_row31_col3\" class=\"data row31 col3\" >-0.222515</td>\n",
       "      <td id=\"T_759a5_row31_col4\" class=\"data row31 col4\" >-0.131018</td>\n",
       "      <td id=\"T_759a5_row31_col5\" class=\"data row31 col5\" >-0.002609</td>\n",
       "      <td id=\"T_759a5_row31_col6\" class=\"data row31 col6\" >0.149118</td>\n",
       "      <td id=\"T_759a5_row31_col7\" class=\"data row31 col7\" >0.401686</td>\n",
       "      <td id=\"T_759a5_row31_col8\" class=\"data row31 col8\" >0.353239</td>\n",
       "      <td id=\"T_759a5_row31_col9\" class=\"data row31 col9\" >0.418020</td>\n",
       "      <td id=\"T_759a5_row31_col10\" class=\"data row31 col10\" >0.317200</td>\n",
       "      <td id=\"T_759a5_row31_col11\" class=\"data row31 col11\" >0.311075</td>\n",
       "      <td id=\"T_759a5_row31_col12\" class=\"data row31 col12\" >0.313014</td>\n",
       "      <td id=\"T_759a5_row31_col13\" class=\"data row31 col13\" >0.319947</td>\n",
       "      <td id=\"T_759a5_row31_col14\" class=\"data row31 col14\" >0.309108</td>\n",
       "      <td id=\"T_759a5_row31_col15\" class=\"data row31 col15\" >0.316934</td>\n",
       "      <td id=\"T_759a5_row31_col16\" class=\"data row31 col16\" >-0.014661</td>\n",
       "      <td id=\"T_759a5_row31_col17\" class=\"data row31 col17\" >-0.004315</td>\n",
       "      <td id=\"T_759a5_row31_col18\" class=\"data row31 col18\" >-0.020796</td>\n",
       "      <td id=\"T_759a5_row31_col19\" class=\"data row31 col19\" >-0.016431</td>\n",
       "      <td id=\"T_759a5_row31_col20\" class=\"data row31 col20\" >-0.010267</td>\n",
       "      <td id=\"T_759a5_row31_col21\" class=\"data row31 col21\" >-0.011414</td>\n",
       "      <td id=\"T_759a5_row31_col22\" class=\"data row31 col22\" >-0.015437</td>\n",
       "      <td id=\"T_759a5_row31_col23\" class=\"data row31 col23\" >-0.008324</td>\n",
       "      <td id=\"T_759a5_row31_col24\" class=\"data row31 col24\" >-0.092398</td>\n",
       "      <td id=\"T_759a5_row31_col25\" class=\"data row31 col25\" >-0.103365</td>\n",
       "      <td id=\"T_759a5_row31_col26\" class=\"data row31 col26\" >-0.115890</td>\n",
       "      <td id=\"T_759a5_row31_col27\" class=\"data row31 col27\" >-0.053352</td>\n",
       "      <td id=\"T_759a5_row31_col28\" class=\"data row31 col28\" >-0.104145</td>\n",
       "      <td id=\"T_759a5_row31_col29\" class=\"data row31 col29\" >-0.073028</td>\n",
       "      <td id=\"T_759a5_row31_col30\" class=\"data row31 col30\" >0.181385</td>\n",
       "      <td id=\"T_759a5_row31_col31\" class=\"data row31 col31\" >1.000000</td>\n",
       "      <td id=\"T_759a5_row31_col32\" class=\"data row31 col32\" >-0.075622</td>\n",
       "      <td id=\"T_759a5_row31_col33\" class=\"data row31 col33\" >0.074887</td>\n",
       "      <td id=\"T_759a5_row31_col34\" class=\"data row31 col34\" >0.001817</td>\n",
       "      <td id=\"T_759a5_row31_col35\" class=\"data row31 col35\" >0.182556</td>\n",
       "      <td id=\"T_759a5_row31_col36\" class=\"data row31 col36\" >-0.231075</td>\n",
       "      <td id=\"T_759a5_row31_col37\" class=\"data row31 col37\" >-0.009530</td>\n",
       "    </tr>\n",
       "    <tr>\n",
       "      <th id=\"T_759a5_level0_row32\" class=\"row_heading level0 row32\" >C013</th>\n",
       "      <td id=\"T_759a5_row32_col0\" class=\"data row32 col0\" >0.039244</td>\n",
       "      <td id=\"T_759a5_row32_col1\" class=\"data row32 col1\" >-0.038255</td>\n",
       "      <td id=\"T_759a5_row32_col2\" class=\"data row32 col2\" >-0.028868</td>\n",
       "      <td id=\"T_759a5_row32_col3\" class=\"data row32 col3\" >0.189155</td>\n",
       "      <td id=\"T_759a5_row32_col4\" class=\"data row32 col4\" >0.013344</td>\n",
       "      <td id=\"T_759a5_row32_col5\" class=\"data row32 col5\" >-0.001742</td>\n",
       "      <td id=\"T_759a5_row32_col6\" class=\"data row32 col6\" >-0.049787</td>\n",
       "      <td id=\"T_759a5_row32_col7\" class=\"data row32 col7\" >0.002527</td>\n",
       "      <td id=\"T_759a5_row32_col8\" class=\"data row32 col8\" >0.007997</td>\n",
       "      <td id=\"T_759a5_row32_col9\" class=\"data row32 col9\" >-0.005875</td>\n",
       "      <td id=\"T_759a5_row32_col10\" class=\"data row32 col10\" >-0.002810</td>\n",
       "      <td id=\"T_759a5_row32_col11\" class=\"data row32 col11\" >-0.002893</td>\n",
       "      <td id=\"T_759a5_row32_col12\" class=\"data row32 col12\" >-0.004034</td>\n",
       "      <td id=\"T_759a5_row32_col13\" class=\"data row32 col13\" >-0.002909</td>\n",
       "      <td id=\"T_759a5_row32_col14\" class=\"data row32 col14\" >-0.005419</td>\n",
       "      <td id=\"T_759a5_row32_col15\" class=\"data row32 col15\" >-0.003511</td>\n",
       "      <td id=\"T_759a5_row32_col16\" class=\"data row32 col16\" >0.002093</td>\n",
       "      <td id=\"T_759a5_row32_col17\" class=\"data row32 col17\" >-0.002481</td>\n",
       "      <td id=\"T_759a5_row32_col18\" class=\"data row32 col18\" >0.002762</td>\n",
       "      <td id=\"T_759a5_row32_col19\" class=\"data row32 col19\" >0.001660</td>\n",
       "      <td id=\"T_759a5_row32_col20\" class=\"data row32 col20\" >0.000380</td>\n",
       "      <td id=\"T_759a5_row32_col21\" class=\"data row32 col21\" >0.000649</td>\n",
       "      <td id=\"T_759a5_row32_col22\" class=\"data row32 col22\" >0.001806</td>\n",
       "      <td id=\"T_759a5_row32_col23\" class=\"data row32 col23\" >0.000267</td>\n",
       "      <td id=\"T_759a5_row32_col24\" class=\"data row32 col24\" >0.035766</td>\n",
       "      <td id=\"T_759a5_row32_col25\" class=\"data row32 col25\" >0.028605</td>\n",
       "      <td id=\"T_759a5_row32_col26\" class=\"data row32 col26\" >0.039079</td>\n",
       "      <td id=\"T_759a5_row32_col27\" class=\"data row32 col27\" >0.021589</td>\n",
       "      <td id=\"T_759a5_row32_col28\" class=\"data row32 col28\" >0.036777</td>\n",
       "      <td id=\"T_759a5_row32_col29\" class=\"data row32 col29\" >0.024164</td>\n",
       "      <td id=\"T_759a5_row32_col30\" class=\"data row32 col30\" >-0.072301</td>\n",
       "      <td id=\"T_759a5_row32_col31\" class=\"data row32 col31\" >-0.075622</td>\n",
       "      <td id=\"T_759a5_row32_col32\" class=\"data row32 col32\" >1.000000</td>\n",
       "      <td id=\"T_759a5_row32_col33\" class=\"data row32 col33\" >-0.178216</td>\n",
       "      <td id=\"T_759a5_row32_col34\" class=\"data row32 col34\" >-0.028613</td>\n",
       "      <td id=\"T_759a5_row32_col35\" class=\"data row32 col35\" >-0.037757</td>\n",
       "      <td id=\"T_759a5_row32_col36\" class=\"data row32 col36\" >0.048651</td>\n",
       "      <td id=\"T_759a5_row32_col37\" class=\"data row32 col37\" >-0.004841</td>\n",
       "    </tr>\n",
       "    <tr>\n",
       "      <th id=\"T_759a5_level0_row33\" class=\"row_heading level0 row33\" >C002</th>\n",
       "      <td id=\"T_759a5_row33_col0\" class=\"data row33 col0\" >0.349248</td>\n",
       "      <td id=\"T_759a5_row33_col1\" class=\"data row33 col1\" >0.183004</td>\n",
       "      <td id=\"T_759a5_row33_col2\" class=\"data row33 col2\" >0.030931</td>\n",
       "      <td id=\"T_759a5_row33_col3\" class=\"data row33 col3\" >-0.016666</td>\n",
       "      <td id=\"T_759a5_row33_col4\" class=\"data row33 col4\" >-0.050929</td>\n",
       "      <td id=\"T_759a5_row33_col5\" class=\"data row33 col5\" >-0.000300</td>\n",
       "      <td id=\"T_759a5_row33_col6\" class=\"data row33 col6\" >0.011169</td>\n",
       "      <td id=\"T_759a5_row33_col7\" class=\"data row33 col7\" >-0.054585</td>\n",
       "      <td id=\"T_759a5_row33_col8\" class=\"data row33 col8\" >-0.119937</td>\n",
       "      <td id=\"T_759a5_row33_col9\" class=\"data row33 col9\" >0.017014</td>\n",
       "      <td id=\"T_759a5_row33_col10\" class=\"data row33 col10\" >0.011888</td>\n",
       "      <td id=\"T_759a5_row33_col11\" class=\"data row33 col11\" >0.009098</td>\n",
       "      <td id=\"T_759a5_row33_col12\" class=\"data row33 col12\" >0.011461</td>\n",
       "      <td id=\"T_759a5_row33_col13\" class=\"data row33 col13\" >0.009870</td>\n",
       "      <td id=\"T_759a5_row33_col14\" class=\"data row33 col14\" >0.007574</td>\n",
       "      <td id=\"T_759a5_row33_col15\" class=\"data row33 col15\" >0.008642</td>\n",
       "      <td id=\"T_759a5_row33_col16\" class=\"data row33 col16\" >0.003318</td>\n",
       "      <td id=\"T_759a5_row33_col17\" class=\"data row33 col17\" >0.010961</td>\n",
       "      <td id=\"T_759a5_row33_col18\" class=\"data row33 col18\" >0.003968</td>\n",
       "      <td id=\"T_759a5_row33_col19\" class=\"data row33 col19\" >0.005295</td>\n",
       "      <td id=\"T_759a5_row33_col20\" class=\"data row33 col20\" >0.006541</td>\n",
       "      <td id=\"T_759a5_row33_col21\" class=\"data row33 col21\" >0.005875</td>\n",
       "      <td id=\"T_759a5_row33_col22\" class=\"data row33 col22\" >0.004502</td>\n",
       "      <td id=\"T_759a5_row33_col23\" class=\"data row33 col23\" >0.006224</td>\n",
       "      <td id=\"T_759a5_row33_col24\" class=\"data row33 col24\" >-0.052774</td>\n",
       "      <td id=\"T_759a5_row33_col25\" class=\"data row33 col25\" >-0.043436</td>\n",
       "      <td id=\"T_759a5_row33_col26\" class=\"data row33 col26\" >-0.057332</td>\n",
       "      <td id=\"T_759a5_row33_col27\" class=\"data row33 col27\" >-0.037435</td>\n",
       "      <td id=\"T_759a5_row33_col28\" class=\"data row33 col28\" >-0.056721</td>\n",
       "      <td id=\"T_759a5_row33_col29\" class=\"data row33 col29\" >-0.033521</td>\n",
       "      <td id=\"T_759a5_row33_col30\" class=\"data row33 col30\" >0.202133</td>\n",
       "      <td id=\"T_759a5_row33_col31\" class=\"data row33 col31\" >0.074887</td>\n",
       "      <td id=\"T_759a5_row33_col32\" class=\"data row33 col32\" >-0.178216</td>\n",
       "      <td id=\"T_759a5_row33_col33\" class=\"data row33 col33\" >1.000000</td>\n",
       "      <td id=\"T_759a5_row33_col34\" class=\"data row33 col34\" >0.018350</td>\n",
       "      <td id=\"T_759a5_row33_col35\" class=\"data row33 col35\" >0.006297</td>\n",
       "      <td id=\"T_759a5_row33_col36\" class=\"data row33 col36\" >-0.009387</td>\n",
       "      <td id=\"T_759a5_row33_col37\" class=\"data row33 col37\" >-0.004575</td>\n",
       "    </tr>\n",
       "    <tr>\n",
       "      <th id=\"T_759a5_level0_row34\" class=\"row_heading level0 row34\" >C004</th>\n",
       "      <td id=\"T_759a5_row34_col0\" class=\"data row34 col0\" >0.049441</td>\n",
       "      <td id=\"T_759a5_row34_col1\" class=\"data row34 col1\" >0.024181</td>\n",
       "      <td id=\"T_759a5_row34_col2\" class=\"data row34 col2\" >0.002127</td>\n",
       "      <td id=\"T_759a5_row34_col3\" class=\"data row34 col3\" >0.061244</td>\n",
       "      <td id=\"T_759a5_row34_col4\" class=\"data row34 col4\" >-0.008124</td>\n",
       "      <td id=\"T_759a5_row34_col5\" class=\"data row34 col5\" >-0.005617</td>\n",
       "      <td id=\"T_759a5_row34_col6\" class=\"data row34 col6\" >-0.032866</td>\n",
       "      <td id=\"T_759a5_row34_col7\" class=\"data row34 col7\" >-0.008380</td>\n",
       "      <td id=\"T_759a5_row34_col8\" class=\"data row34 col8\" >-0.013982</td>\n",
       "      <td id=\"T_759a5_row34_col9\" class=\"data row34 col9\" >-0.004161</td>\n",
       "      <td id=\"T_759a5_row34_col10\" class=\"data row34 col10\" >-0.005395</td>\n",
       "      <td id=\"T_759a5_row34_col11\" class=\"data row34 col11\" >-0.006405</td>\n",
       "      <td id=\"T_759a5_row34_col12\" class=\"data row34 col12\" >-0.005992</td>\n",
       "      <td id=\"T_759a5_row34_col13\" class=\"data row34 col13\" >-0.003527</td>\n",
       "      <td id=\"T_759a5_row34_col14\" class=\"data row34 col14\" >-0.008299</td>\n",
       "      <td id=\"T_759a5_row34_col15\" class=\"data row34 col15\" >-0.005674</td>\n",
       "      <td id=\"T_759a5_row34_col16\" class=\"data row34 col16\" >0.025497</td>\n",
       "      <td id=\"T_759a5_row34_col17\" class=\"data row34 col17\" >0.005755</td>\n",
       "      <td id=\"T_759a5_row34_col18\" class=\"data row34 col18\" >0.028911</td>\n",
       "      <td id=\"T_759a5_row34_col19\" class=\"data row34 col19\" >0.029540</td>\n",
       "      <td id=\"T_759a5_row34_col20\" class=\"data row34 col20\" >0.030945</td>\n",
       "      <td id=\"T_759a5_row34_col21\" class=\"data row34 col21\" >0.030632</td>\n",
       "      <td id=\"T_759a5_row34_col22\" class=\"data row34 col22\" >0.029746</td>\n",
       "      <td id=\"T_759a5_row34_col23\" class=\"data row34 col23\" >0.030006</td>\n",
       "      <td id=\"T_759a5_row34_col24\" class=\"data row34 col24\" >0.013610</td>\n",
       "      <td id=\"T_759a5_row34_col25\" class=\"data row34 col25\" >0.010636</td>\n",
       "      <td id=\"T_759a5_row34_col26\" class=\"data row34 col26\" >0.014148</td>\n",
       "      <td id=\"T_759a5_row34_col27\" class=\"data row34 col27\" >0.008284</td>\n",
       "      <td id=\"T_759a5_row34_col28\" class=\"data row34 col28\" >0.015590</td>\n",
       "      <td id=\"T_759a5_row34_col29\" class=\"data row34 col29\" >0.003916</td>\n",
       "      <td id=\"T_759a5_row34_col30\" class=\"data row34 col30\" >0.014478</td>\n",
       "      <td id=\"T_759a5_row34_col31\" class=\"data row34 col31\" >0.001817</td>\n",
       "      <td id=\"T_759a5_row34_col32\" class=\"data row34 col32\" >-0.028613</td>\n",
       "      <td id=\"T_759a5_row34_col33\" class=\"data row34 col33\" >0.018350</td>\n",
       "      <td id=\"T_759a5_row34_col34\" class=\"data row34 col34\" >1.000000</td>\n",
       "      <td id=\"T_759a5_row34_col35\" class=\"data row34 col35\" >0.026116</td>\n",
       "      <td id=\"T_759a5_row34_col36\" class=\"data row34 col36\" >-0.027095</td>\n",
       "      <td id=\"T_759a5_row34_col37\" class=\"data row34 col37\" >-0.021833</td>\n",
       "    </tr>\n",
       "    <tr>\n",
       "      <th id=\"T_759a5_level0_row35\" class=\"row_heading level0 row35\" >D0053</th>\n",
       "      <td id=\"T_759a5_row35_col0\" class=\"data row35 col0\" >-0.184004</td>\n",
       "      <td id=\"T_759a5_row35_col1\" class=\"data row35 col1\" >-0.004117</td>\n",
       "      <td id=\"T_759a5_row35_col2\" class=\"data row35 col2\" >0.133862</td>\n",
       "      <td id=\"T_759a5_row35_col3\" class=\"data row35 col3\" >-0.147925</td>\n",
       "      <td id=\"T_759a5_row35_col4\" class=\"data row35 col4\" >-0.157253</td>\n",
       "      <td id=\"T_759a5_row35_col5\" class=\"data row35 col5\" >-0.014505</td>\n",
       "      <td id=\"T_759a5_row35_col6\" class=\"data row35 col6\" >0.098390</td>\n",
       "      <td id=\"T_759a5_row35_col7\" class=\"data row35 col7\" >0.025214</td>\n",
       "      <td id=\"T_759a5_row35_col8\" class=\"data row35 col8\" >0.054272</td>\n",
       "      <td id=\"T_759a5_row35_col9\" class=\"data row35 col9\" >0.000808</td>\n",
       "      <td id=\"T_759a5_row35_col10\" class=\"data row35 col10\" >0.001655</td>\n",
       "      <td id=\"T_759a5_row35_col11\" class=\"data row35 col11\" >0.002838</td>\n",
       "      <td id=\"T_759a5_row35_col12\" class=\"data row35 col12\" >0.002002</td>\n",
       "      <td id=\"T_759a5_row35_col13\" class=\"data row35 col13\" >0.003411</td>\n",
       "      <td id=\"T_759a5_row35_col14\" class=\"data row35 col14\" >0.001984</td>\n",
       "      <td id=\"T_759a5_row35_col15\" class=\"data row35 col15\" >0.004654</td>\n",
       "      <td id=\"T_759a5_row35_col16\" class=\"data row35 col16\" >-0.007185</td>\n",
       "      <td id=\"T_759a5_row35_col17\" class=\"data row35 col17\" >-0.004445</td>\n",
       "      <td id=\"T_759a5_row35_col18\" class=\"data row35 col18\" >-0.009826</td>\n",
       "      <td id=\"T_759a5_row35_col19\" class=\"data row35 col19\" >-0.007845</td>\n",
       "      <td id=\"T_759a5_row35_col20\" class=\"data row35 col20\" >-0.006024</td>\n",
       "      <td id=\"T_759a5_row35_col21\" class=\"data row35 col21\" >-0.006556</td>\n",
       "      <td id=\"T_759a5_row35_col22\" class=\"data row35 col22\" >-0.007667</td>\n",
       "      <td id=\"T_759a5_row35_col23\" class=\"data row35 col23\" >-0.005664</td>\n",
       "      <td id=\"T_759a5_row35_col24\" class=\"data row35 col24\" >-0.061527</td>\n",
       "      <td id=\"T_759a5_row35_col25\" class=\"data row35 col25\" >-0.056649</td>\n",
       "      <td id=\"T_759a5_row35_col26\" class=\"data row35 col26\" >-0.071087</td>\n",
       "      <td id=\"T_759a5_row35_col27\" class=\"data row35 col27\" >-0.038719</td>\n",
       "      <td id=\"T_759a5_row35_col28\" class=\"data row35 col28\" >-0.065310</td>\n",
       "      <td id=\"T_759a5_row35_col29\" class=\"data row35 col29\" >-0.046946</td>\n",
       "      <td id=\"T_759a5_row35_col30\" class=\"data row35 col30\" >0.027662</td>\n",
       "      <td id=\"T_759a5_row35_col31\" class=\"data row35 col31\" >0.182556</td>\n",
       "      <td id=\"T_759a5_row35_col32\" class=\"data row35 col32\" >-0.037757</td>\n",
       "      <td id=\"T_759a5_row35_col33\" class=\"data row35 col33\" >0.006297</td>\n",
       "      <td id=\"T_759a5_row35_col34\" class=\"data row35 col34\" >0.026116</td>\n",
       "      <td id=\"T_759a5_row35_col35\" class=\"data row35 col35\" >1.000000</td>\n",
       "      <td id=\"T_759a5_row35_col36\" class=\"data row35 col36\" >-0.744952</td>\n",
       "      <td id=\"T_759a5_row35_col37\" class=\"data row35 col37\" >-0.170814</td>\n",
       "    </tr>\n",
       "    <tr>\n",
       "      <th id=\"T_759a5_level0_row36\" class=\"row_heading level0 row36\" >D0051</th>\n",
       "      <td id=\"T_759a5_row36_col0\" class=\"data row36 col0\" >0.207607</td>\n",
       "      <td id=\"T_759a5_row36_col1\" class=\"data row36 col1\" >0.009043</td>\n",
       "      <td id=\"T_759a5_row36_col2\" class=\"data row36 col2\" >-0.172679</td>\n",
       "      <td id=\"T_759a5_row36_col3\" class=\"data row36 col3\" >0.185116</td>\n",
       "      <td id=\"T_759a5_row36_col4\" class=\"data row36 col4\" >0.188540</td>\n",
       "      <td id=\"T_759a5_row36_col5\" class=\"data row36 col5\" >-0.000789</td>\n",
       "      <td id=\"T_759a5_row36_col6\" class=\"data row36 col6\" >-0.127359</td>\n",
       "      <td id=\"T_759a5_row36_col7\" class=\"data row36 col7\" >-0.026272</td>\n",
       "      <td id=\"T_759a5_row36_col8\" class=\"data row36 col8\" >-0.057912</td>\n",
       "      <td id=\"T_759a5_row36_col9\" class=\"data row36 col9\" >-0.000296</td>\n",
       "      <td id=\"T_759a5_row36_col10\" class=\"data row36 col10\" >0.002480</td>\n",
       "      <td id=\"T_759a5_row36_col11\" class=\"data row36 col11\" >0.001392</td>\n",
       "      <td id=\"T_759a5_row36_col12\" class=\"data row36 col12\" >0.002374</td>\n",
       "      <td id=\"T_759a5_row36_col13\" class=\"data row36 col13\" >0.000661</td>\n",
       "      <td id=\"T_759a5_row36_col14\" class=\"data row36 col14\" >0.001384</td>\n",
       "      <td id=\"T_759a5_row36_col15\" class=\"data row36 col15\" >-0.000634</td>\n",
       "      <td id=\"T_759a5_row36_col16\" class=\"data row36 col16\" >0.007562</td>\n",
       "      <td id=\"T_759a5_row36_col17\" class=\"data row36 col17\" >0.004972</td>\n",
       "      <td id=\"T_759a5_row36_col18\" class=\"data row36 col18\" >0.011218</td>\n",
       "      <td id=\"T_759a5_row36_col19\" class=\"data row36 col19\" >0.009285</td>\n",
       "      <td id=\"T_759a5_row36_col20\" class=\"data row36 col20\" >0.006107</td>\n",
       "      <td id=\"T_759a5_row36_col21\" class=\"data row36 col21\" >0.006933</td>\n",
       "      <td id=\"T_759a5_row36_col22\" class=\"data row36 col22\" >0.008537</td>\n",
       "      <td id=\"T_759a5_row36_col23\" class=\"data row36 col23\" >0.005685</td>\n",
       "      <td id=\"T_759a5_row36_col24\" class=\"data row36 col24\" >0.069847</td>\n",
       "      <td id=\"T_759a5_row36_col25\" class=\"data row36 col25\" >0.067120</td>\n",
       "      <td id=\"T_759a5_row36_col26\" class=\"data row36 col26\" >0.082042</td>\n",
       "      <td id=\"T_759a5_row36_col27\" class=\"data row36 col27\" >0.043661</td>\n",
       "      <td id=\"T_759a5_row36_col28\" class=\"data row36 col28\" >0.075097</td>\n",
       "      <td id=\"T_759a5_row36_col29\" class=\"data row36 col29\" >0.053734</td>\n",
       "      <td id=\"T_759a5_row36_col30\" class=\"data row36 col30\" >-0.009955</td>\n",
       "      <td id=\"T_759a5_row36_col31\" class=\"data row36 col31\" >-0.231075</td>\n",
       "      <td id=\"T_759a5_row36_col32\" class=\"data row36 col32\" >0.048651</td>\n",
       "      <td id=\"T_759a5_row36_col33\" class=\"data row36 col33\" >-0.009387</td>\n",
       "      <td id=\"T_759a5_row36_col34\" class=\"data row36 col34\" >-0.027095</td>\n",
       "      <td id=\"T_759a5_row36_col35\" class=\"data row36 col35\" >-0.744952</td>\n",
       "      <td id=\"T_759a5_row36_col36\" class=\"data row36 col36\" >1.000000</td>\n",
       "      <td id=\"T_759a5_row36_col37\" class=\"data row36 col37\" >0.025904</td>\n",
       "    </tr>\n",
       "    <tr>\n",
       "      <th id=\"T_759a5_level0_row37\" class=\"row_heading level0 row37\" >mes_numero</th>\n",
       "      <td id=\"T_759a5_row37_col0\" class=\"data row37 col0\" >0.003910</td>\n",
       "      <td id=\"T_759a5_row37_col1\" class=\"data row37 col1\" >0.000675</td>\n",
       "      <td id=\"T_759a5_row37_col2\" class=\"data row37 col2\" >-0.000290</td>\n",
       "      <td id=\"T_759a5_row37_col3\" class=\"data row37 col3\" >0.001280</td>\n",
       "      <td id=\"T_759a5_row37_col4\" class=\"data row37 col4\" >0.000068</td>\n",
       "      <td id=\"T_759a5_row37_col5\" class=\"data row37 col5\" >-0.003796</td>\n",
       "      <td id=\"T_759a5_row37_col6\" class=\"data row37 col6\" >-0.003053</td>\n",
       "      <td id=\"T_759a5_row37_col7\" class=\"data row37 col7\" >-0.010475</td>\n",
       "      <td id=\"T_759a5_row37_col8\" class=\"data row37 col8\" >-0.010807</td>\n",
       "      <td id=\"T_759a5_row37_col9\" class=\"data row37 col9\" >-0.010500</td>\n",
       "      <td id=\"T_759a5_row37_col10\" class=\"data row37 col10\" >-0.007710</td>\n",
       "      <td id=\"T_759a5_row37_col11\" class=\"data row37 col11\" >-0.006993</td>\n",
       "      <td id=\"T_759a5_row37_col12\" class=\"data row37 col12\" >-0.008295</td>\n",
       "      <td id=\"T_759a5_row37_col13\" class=\"data row37 col13\" >-0.007015</td>\n",
       "      <td id=\"T_759a5_row37_col14\" class=\"data row37 col14\" >-0.004331</td>\n",
       "      <td id=\"T_759a5_row37_col15\" class=\"data row37 col15\" >-0.007042</td>\n",
       "      <td id=\"T_759a5_row37_col16\" class=\"data row37 col16\" >0.004067</td>\n",
       "      <td id=\"T_759a5_row37_col17\" class=\"data row37 col17\" >0.000466</td>\n",
       "      <td id=\"T_759a5_row37_col18\" class=\"data row37 col18\" >0.001146</td>\n",
       "      <td id=\"T_759a5_row37_col19\" class=\"data row37 col19\" >-0.001191</td>\n",
       "      <td id=\"T_759a5_row37_col20\" class=\"data row37 col20\" >-0.000418</td>\n",
       "      <td id=\"T_759a5_row37_col21\" class=\"data row37 col21\" >-0.000551</td>\n",
       "      <td id=\"T_759a5_row37_col22\" class=\"data row37 col22\" >-0.000051</td>\n",
       "      <td id=\"T_759a5_row37_col23\" class=\"data row37 col23\" >-0.001135</td>\n",
       "      <td id=\"T_759a5_row37_col24\" class=\"data row37 col24\" >0.030951</td>\n",
       "      <td id=\"T_759a5_row37_col25\" class=\"data row37 col25\" >0.030423</td>\n",
       "      <td id=\"T_759a5_row37_col26\" class=\"data row37 col26\" >0.035257</td>\n",
       "      <td id=\"T_759a5_row37_col27\" class=\"data row37 col27\" >0.021044</td>\n",
       "      <td id=\"T_759a5_row37_col28\" class=\"data row37 col28\" >0.035570</td>\n",
       "      <td id=\"T_759a5_row37_col29\" class=\"data row37 col29\" >0.016008</td>\n",
       "      <td id=\"T_759a5_row37_col30\" class=\"data row37 col30\" >-0.077593</td>\n",
       "      <td id=\"T_759a5_row37_col31\" class=\"data row37 col31\" >-0.009530</td>\n",
       "      <td id=\"T_759a5_row37_col32\" class=\"data row37 col32\" >-0.004841</td>\n",
       "      <td id=\"T_759a5_row37_col33\" class=\"data row37 col33\" >-0.004575</td>\n",
       "      <td id=\"T_759a5_row37_col34\" class=\"data row37 col34\" >-0.021833</td>\n",
       "      <td id=\"T_759a5_row37_col35\" class=\"data row37 col35\" >-0.170814</td>\n",
       "      <td id=\"T_759a5_row37_col36\" class=\"data row37 col36\" >0.025904</td>\n",
       "      <td id=\"T_759a5_row37_col37\" class=\"data row37 col37\" >1.000000</td>\n",
       "    </tr>\n",
       "  </tbody>\n",
       "</table>\n"
      ],
      "text/plain": [
       "<pandas.io.formats.style.Styler at 0x25dc9cde2d0>"
      ]
     },
     "execution_count": 7,
     "metadata": {},
     "output_type": "execute_result"
    }
   ],
   "source": [
    "# Plota um heatmap da correçãoa entre as variáveis das amostras positivadas\n",
    "corr = df_new.drop(columns='B008').corr()\n",
    "corr.style.background_gradient(cmap='coolwarm')"
   ]
  },
  {
   "cell_type": "code",
   "execution_count": 8,
   "metadata": {},
   "outputs": [
    {
     "data": {
      "text/html": [
       "<style type=\"text/css\">\n",
       "#T_76a2e_row0_col0, #T_76a2e_row1_col1, #T_76a2e_row2_col2, #T_76a2e_row3_col3, #T_76a2e_row4_col4, #T_76a2e_row5_col5, #T_76a2e_row6_col6, #T_76a2e_row7_col7, #T_76a2e_row8_col8, #T_76a2e_row9_col9, #T_76a2e_row10_col10, #T_76a2e_row11_col11, #T_76a2e_row12_col12, #T_76a2e_row13_col13, #T_76a2e_row14_col14, #T_76a2e_row15_col15, #T_76a2e_row16_col16, #T_76a2e_row17_col17, #T_76a2e_row18_col18, #T_76a2e_row19_col19, #T_76a2e_row20_col20, #T_76a2e_row21_col21, #T_76a2e_row22_col22, #T_76a2e_row23_col23, #T_76a2e_row24_col24, #T_76a2e_row25_col25, #T_76a2e_row26_col26, #T_76a2e_row27_col27, #T_76a2e_row28_col28, #T_76a2e_row29_col29, #T_76a2e_row30_col30, #T_76a2e_row31_col31, #T_76a2e_row32_col32, #T_76a2e_row33_col33, #T_76a2e_row34_col34, #T_76a2e_row35_col35, #T_76a2e_row36_col36, #T_76a2e_row37_col37 {\n",
       "  background-color: #b40426;\n",
       "  color: #f1f1f1;\n",
       "}\n",
       "#T_76a2e_row0_col1, #T_76a2e_row8_col34, #T_76a2e_row20_col1, #T_76a2e_row24_col9 {\n",
       "  background-color: #4c66d6;\n",
       "  color: #f1f1f1;\n",
       "}\n",
       "#T_76a2e_row0_col2, #T_76a2e_row1_col6, #T_76a2e_row9_col33, #T_76a2e_row10_col33, #T_76a2e_row12_col32, #T_76a2e_row13_col33, #T_76a2e_row14_col32, #T_76a2e_row15_col32, #T_76a2e_row16_col32, #T_76a2e_row17_col7, #T_76a2e_row18_col2, #T_76a2e_row18_col32, #T_76a2e_row19_col2, #T_76a2e_row20_col6, #T_76a2e_row21_col6, #T_76a2e_row22_col2, #T_76a2e_row22_col32, #T_76a2e_row25_col33, #T_76a2e_row25_col37, #T_76a2e_row26_col31, #T_76a2e_row36_col37 {\n",
       "  background-color: #6e90f2;\n",
       "  color: #f1f1f1;\n",
       "}\n",
       "#T_76a2e_row0_col3, #T_76a2e_row1_col4, #T_76a2e_row5_col4, #T_76a2e_row7_col4, #T_76a2e_row15_col2, #T_76a2e_row17_col14, #T_76a2e_row18_col31, #T_76a2e_row29_col4, #T_76a2e_row31_col7, #T_76a2e_row34_col11, #T_76a2e_row36_col32 {\n",
       "  background-color: #81a4fb;\n",
       "  color: #f1f1f1;\n",
       "}\n",
       "#T_76a2e_row0_col4, #T_76a2e_row5_col12, #T_76a2e_row5_col31, #T_76a2e_row6_col33, #T_76a2e_row20_col33, #T_76a2e_row24_col33, #T_76a2e_row27_col12, #T_76a2e_row27_col16, #T_76a2e_row28_col4, #T_76a2e_row37_col4 {\n",
       "  background-color: #89acfd;\n",
       "  color: #000000;\n",
       "}\n",
       "#T_76a2e_row0_col5, #T_76a2e_row7_col5, #T_76a2e_row9_col5, #T_76a2e_row16_col15, #T_76a2e_row17_col9, #T_76a2e_row19_col11, #T_76a2e_row19_col12, #T_76a2e_row19_col15, #T_76a2e_row22_col13, #T_76a2e_row29_col5, #T_76a2e_row32_col33 {\n",
       "  background-color: #4257c9;\n",
       "  color: #f1f1f1;\n",
       "}\n",
       "#T_76a2e_row0_col6, #T_76a2e_row0_col13, #T_76a2e_row4_col13, #T_76a2e_row5_col6, #T_76a2e_row28_col33, #T_76a2e_row37_col2 {\n",
       "  background-color: #7396f5;\n",
       "  color: #f1f1f1;\n",
       "}\n",
       "#T_76a2e_row0_col7, #T_76a2e_row0_col8, #T_76a2e_row1_col9, #T_76a2e_row3_col6, #T_76a2e_row3_col30, #T_76a2e_row3_col31, #T_76a2e_row3_col33, #T_76a2e_row4_col2, #T_76a2e_row8_col0, #T_76a2e_row9_col1, #T_76a2e_row10_col16, #T_76a2e_row10_col18, #T_76a2e_row10_col19, #T_76a2e_row10_col20, #T_76a2e_row10_col21, #T_76a2e_row10_col22, #T_76a2e_row10_col23, #T_76a2e_row13_col17, #T_76a2e_row14_col16, #T_76a2e_row14_col18, #T_76a2e_row14_col19, #T_76a2e_row14_col20, #T_76a2e_row14_col21, #T_76a2e_row14_col22, #T_76a2e_row14_col23, #T_76a2e_row14_col34, #T_76a2e_row20_col10, #T_76a2e_row20_col14, #T_76a2e_row21_col10, #T_76a2e_row21_col14, #T_76a2e_row23_col11, #T_76a2e_row23_col12, #T_76a2e_row23_col13, #T_76a2e_row23_col15, #T_76a2e_row24_col4, #T_76a2e_row24_col25, #T_76a2e_row25_col24, #T_76a2e_row26_col27, #T_76a2e_row27_col26, #T_76a2e_row28_col29, #T_76a2e_row29_col28, #T_76a2e_row31_col3, #T_76a2e_row33_col32, #T_76a2e_row35_col5, #T_76a2e_row35_col36, #T_76a2e_row35_col37, #T_76a2e_row36_col35 {\n",
       "  background-color: #3b4cc0;\n",
       "  color: #f1f1f1;\n",
       "}\n",
       "#T_76a2e_row0_col9, #T_76a2e_row2_col1, #T_76a2e_row13_col1, #T_76a2e_row13_col34, #T_76a2e_row25_col5, #T_76a2e_row26_col1, #T_76a2e_row36_col9, #T_76a2e_row36_col34 {\n",
       "  background-color: #455cce;\n",
       "  color: #f1f1f1;\n",
       "}\n",
       "#T_76a2e_row0_col10, #T_76a2e_row1_col23, #T_76a2e_row3_col21, #T_76a2e_row3_col22, #T_76a2e_row5_col20, #T_76a2e_row7_col21, #T_76a2e_row11_col8, #T_76a2e_row13_col8, #T_76a2e_row16_col30, #T_76a2e_row25_col0, #T_76a2e_row26_col0, #T_76a2e_row30_col13, #T_76a2e_row30_col15, #T_76a2e_row36_col10, #T_76a2e_row36_col14, #T_76a2e_row36_col19, #T_76a2e_row36_col20 {\n",
       "  background-color: #9dbdff;\n",
       "  color: #000000;\n",
       "}\n",
       "#T_76a2e_row0_col11, #T_76a2e_row3_col16, #T_76a2e_row4_col10, #T_76a2e_row4_col14, #T_76a2e_row6_col18, #T_76a2e_row8_col31, #T_76a2e_row9_col12, #T_76a2e_row19_col3, #T_76a2e_row27_col0, #T_76a2e_row31_col22, #T_76a2e_row33_col14, #T_76a2e_row34_col8, #T_76a2e_row35_col18, #T_76a2e_row35_col19, #T_76a2e_row36_col16, #T_76a2e_row37_col3, #T_76a2e_row37_col20, #T_76a2e_row37_col22 {\n",
       "  background-color: #92b4fe;\n",
       "  color: #000000;\n",
       "}\n",
       "#T_76a2e_row0_col12, #T_76a2e_row0_col16, #T_76a2e_row2_col15, #T_76a2e_row2_col22, #T_76a2e_row11_col31, #T_76a2e_row12_col3, #T_76a2e_row14_col31, #T_76a2e_row15_col31, #T_76a2e_row23_col3, #T_76a2e_row29_col8, #T_76a2e_row36_col12, #T_76a2e_row37_col12 {\n",
       "  background-color: #8db0fe;\n",
       "  color: #000000;\n",
       "}\n",
       "#T_76a2e_row0_col14, #T_76a2e_row2_col8, #T_76a2e_row3_col14, #T_76a2e_row5_col0, #T_76a2e_row5_col10, #T_76a2e_row5_col14, #T_76a2e_row5_col19, #T_76a2e_row6_col0, #T_76a2e_row6_col10, #T_76a2e_row7_col10, #T_76a2e_row7_col11, #T_76a2e_row7_col19, #T_76a2e_row8_col21, #T_76a2e_row9_col23, #T_76a2e_row12_col0, #T_76a2e_row16_col0, #T_76a2e_row18_col4, #T_76a2e_row20_col0, #T_76a2e_row21_col0, #T_76a2e_row22_col0, #T_76a2e_row22_col4, #T_76a2e_row23_col0, #T_76a2e_row24_col28, #T_76a2e_row26_col10, #T_76a2e_row26_col14, #T_76a2e_row27_col8, #T_76a2e_row27_col10, #T_76a2e_row27_col14, #T_76a2e_row27_col20, #T_76a2e_row27_col21, #T_76a2e_row27_col23, #T_76a2e_row30_col31, #T_76a2e_row31_col10, #T_76a2e_row31_col20, #T_76a2e_row31_col21, #T_76a2e_row32_col0, #T_76a2e_row32_col21, #T_76a2e_row33_col16, #T_76a2e_row35_col8, #T_76a2e_row35_col14, #T_76a2e_row37_col8 {\n",
       "  background-color: #98b9ff;\n",
       "  color: #000000;\n",
       "}\n",
       "#T_76a2e_row0_col15, #T_76a2e_row4_col15, #T_76a2e_row10_col2, #T_76a2e_row11_col2, #T_76a2e_row14_col2, #T_76a2e_row24_col20, #T_76a2e_row24_col21, #T_76a2e_row24_col23, #T_76a2e_row28_col7, #T_76a2e_row34_col4, #T_76a2e_row35_col0 {\n",
       "  background-color: #80a3fa;\n",
       "  color: #f1f1f1;\n",
       "}\n",
       "#T_76a2e_row0_col17, #T_76a2e_row1_col7, #T_76a2e_row7_col6, #T_76a2e_row9_col32, #T_76a2e_row15_col6, #T_76a2e_row17_col6, #T_76a2e_row25_col32, #T_76a2e_row28_col30, #T_76a2e_row32_col2, #T_76a2e_row37_col33 {\n",
       "  background-color: #7295f4;\n",
       "  color: #f1f1f1;\n",
       "}\n",
       "#T_76a2e_row0_col18, #T_76a2e_row0_col19, #T_76a2e_row0_col22, #T_76a2e_row1_col19, #T_76a2e_row2_col11, #T_76a2e_row3_col23, #T_76a2e_row5_col18, #T_76a2e_row6_col14, #T_76a2e_row7_col22, #T_76a2e_row7_col23, #T_76a2e_row8_col10, #T_76a2e_row8_col11, #T_76a2e_row9_col11, #T_76a2e_row9_col20, #T_76a2e_row9_col21, #T_76a2e_row10_col0, #T_76a2e_row12_col8, #T_76a2e_row18_col0, #T_76a2e_row19_col0, #T_76a2e_row26_col16, #T_76a2e_row29_col14, #T_76a2e_row31_col14, #T_76a2e_row31_col23, #T_76a2e_row32_col10, #T_76a2e_row32_col14 {\n",
       "  background-color: #9abbff;\n",
       "  color: #000000;\n",
       "}\n",
       "#T_76a2e_row0_col20, #T_76a2e_row0_col21, #T_76a2e_row0_col23, #T_76a2e_row1_col0, #T_76a2e_row1_col10, #T_76a2e_row1_col18, #T_76a2e_row1_col22, #T_76a2e_row3_col19, #T_76a2e_row3_col20, #T_76a2e_row5_col22, #T_76a2e_row5_col23, #T_76a2e_row7_col14, #T_76a2e_row7_col20, #T_76a2e_row9_col10, #T_76a2e_row14_col8, #T_76a2e_row29_col10, #T_76a2e_row31_col8, #T_76a2e_row36_col23 {\n",
       "  background-color: #9bbcff;\n",
       "  color: #000000;\n",
       "}\n",
       "#T_76a2e_row0_col24, #T_76a2e_row5_col35, #T_76a2e_row16_col35, #T_76a2e_row19_col35, #T_76a2e_row21_col35, #T_76a2e_row22_col35 {\n",
       "  background-color: #c5d6f2;\n",
       "  color: #000000;\n",
       "}\n",
       "#T_76a2e_row0_col25, #T_76a2e_row3_col27, #T_76a2e_row5_col25, #T_76a2e_row5_col28, #T_76a2e_row6_col26, #T_76a2e_row9_col24, #T_76a2e_row15_col28, #T_76a2e_row17_col23, #T_76a2e_row19_col29, #T_76a2e_row19_col36, #T_76a2e_row20_col29, #T_76a2e_row21_col29, #T_76a2e_row22_col29, #T_76a2e_row22_col36, #T_76a2e_row23_col29, #T_76a2e_row28_col35, #T_76a2e_row29_col36, #T_76a2e_row30_col22, #T_76a2e_row33_col28, #T_76a2e_row33_col30, #T_76a2e_row34_col29, #T_76a2e_row36_col27 {\n",
       "  background-color: #ccd9ed;\n",
       "  color: #000000;\n",
       "}\n",
       "#T_76a2e_row0_col26, #T_76a2e_row5_col26, #T_76a2e_row6_col27, #T_76a2e_row18_col28, #T_76a2e_row32_col26 {\n",
       "  background-color: #d5dbe5;\n",
       "  color: #000000;\n",
       "}\n",
       "#T_76a2e_row0_col27, #T_76a2e_row1_col28, #T_76a2e_row1_col29, #T_76a2e_row2_col29, #T_76a2e_row4_col29, #T_76a2e_row5_col29, #T_76a2e_row10_col24, #T_76a2e_row11_col24, #T_76a2e_row11_col29, #T_76a2e_row12_col29, #T_76a2e_row14_col24, #T_76a2e_row14_col29, #T_76a2e_row15_col24, #T_76a2e_row15_col29, #T_76a2e_row16_col29, #T_76a2e_row17_col21, #T_76a2e_row18_col27, #T_76a2e_row27_col35, #T_76a2e_row30_col20, #T_76a2e_row30_col21, #T_76a2e_row33_col26, #T_76a2e_row33_col29 {\n",
       "  background-color: #cedaeb;\n",
       "  color: #000000;\n",
       "}\n",
       "#T_76a2e_row0_col28, #T_76a2e_row17_col22 {\n",
       "  background-color: #c3d5f4;\n",
       "  color: #000000;\n",
       "}\n",
       "#T_76a2e_row0_col29, #T_76a2e_row0_col36, #T_76a2e_row3_col25, #T_76a2e_row16_col26, #T_76a2e_row23_col26, #T_76a2e_row24_col35, #T_76a2e_row35_col24 {\n",
       "  background-color: #d9dce1;\n",
       "  color: #000000;\n",
       "}\n",
       "#T_76a2e_row0_col30, #T_76a2e_row5_col33, #T_76a2e_row7_col2, #T_76a2e_row7_col13, #T_76a2e_row8_col4, #T_76a2e_row9_col4, #T_76a2e_row11_col30, #T_76a2e_row13_col2, #T_76a2e_row20_col34, #T_76a2e_row21_col34, #T_76a2e_row22_col34, #T_76a2e_row23_col34, #T_76a2e_row24_col19, #T_76a2e_row24_col22, #T_76a2e_row25_col11, #T_76a2e_row30_col34, #T_76a2e_row32_col7, #T_76a2e_row33_col1 {\n",
       "  background-color: #7da0f9;\n",
       "  color: #f1f1f1;\n",
       "}\n",
       "#T_76a2e_row0_col31, #T_76a2e_row2_col16, #T_76a2e_row9_col2, #T_76a2e_row15_col30, #T_76a2e_row16_col31, #T_76a2e_row16_col33, #T_76a2e_row28_col15 {\n",
       "  background-color: #84a7fc;\n",
       "  color: #f1f1f1;\n",
       "}\n",
       "#T_76a2e_row0_col32, #T_76a2e_row11_col6, #T_76a2e_row12_col6, #T_76a2e_row13_col6, #T_76a2e_row14_col6, #T_76a2e_row16_col2, #T_76a2e_row20_col2, #T_76a2e_row23_col2, #T_76a2e_row24_col16, #T_76a2e_row26_col33, #T_76a2e_row33_col17 {\n",
       "  background-color: #7093f3;\n",
       "  color: #f1f1f1;\n",
       "}\n",
       "#T_76a2e_row0_col33, #T_76a2e_row4_col27, #T_76a2e_row26_col35, #T_76a2e_row31_col26 {\n",
       "  background-color: #bed2f6;\n",
       "  color: #000000;\n",
       "}\n",
       "#T_76a2e_row0_col34, #T_76a2e_row2_col37, #T_76a2e_row3_col1, #T_76a2e_row9_col17, #T_76a2e_row17_col34, #T_76a2e_row22_col37 {\n",
       "  background-color: #5a78e4;\n",
       "  color: #f1f1f1;\n",
       "}\n",
       "#T_76a2e_row0_col35, #T_76a2e_row2_col25, #T_76a2e_row6_col25, #T_76a2e_row14_col25, #T_76a2e_row17_col16, #T_76a2e_row23_col24, #T_76a2e_row30_col16, #T_76a2e_row34_col18, #T_76a2e_row34_col19 {\n",
       "  background-color: #b7cff9;\n",
       "  color: #000000;\n",
       "}\n",
       "#T_76a2e_row0_col37, #T_76a2e_row4_col31, #T_76a2e_row5_col17, #T_76a2e_row6_col17, #T_76a2e_row16_col37, #T_76a2e_row27_col4, #T_76a2e_row31_col17 {\n",
       "  background-color: #5f7fe8;\n",
       "  color: #f1f1f1;\n",
       "}\n",
       "#T_76a2e_row1_col2, #T_76a2e_row2_col7, #T_76a2e_row12_col4, #T_76a2e_row15_col4, #T_76a2e_row17_col2, #T_76a2e_row21_col7, #T_76a2e_row22_col7, #T_76a2e_row24_col18, #T_76a2e_row25_col30, #T_76a2e_row27_col6, #T_76a2e_row27_col7, #T_76a2e_row30_col2, #T_76a2e_row31_col30, #T_76a2e_row32_col13 {\n",
       "  background-color: #799cf8;\n",
       "  color: #f1f1f1;\n",
       "}\n",
       "#T_76a2e_row1_col3, #T_76a2e_row1_col20, #T_76a2e_row1_col21, #T_76a2e_row2_col10, #T_76a2e_row3_col10, #T_76a2e_row3_col18, #T_76a2e_row5_col21, #T_76a2e_row8_col14, #T_76a2e_row15_col8, #T_76a2e_row19_col17, #T_76a2e_row24_col2, #T_76a2e_row24_col11, #T_76a2e_row26_col3, #T_76a2e_row26_col28, #T_76a2e_row34_col0, #T_76a2e_row35_col2, #T_76a2e_row36_col18, #T_76a2e_row36_col21, #T_76a2e_row36_col22 {\n",
       "  background-color: #9ebeff;\n",
       "  color: #000000;\n",
       "}\n",
       "#T_76a2e_row1_col5, #T_76a2e_row3_col5, #T_76a2e_row4_col9, #T_76a2e_row6_col1, #T_76a2e_row7_col1, #T_76a2e_row19_col5, #T_76a2e_row19_col13, #T_76a2e_row23_col5, #T_76a2e_row29_col9, #T_76a2e_row32_col34, #T_76a2e_row34_col9, #T_76a2e_row37_col5 {\n",
       "  background-color: #4358cb;\n",
       "  color: #f1f1f1;\n",
       "}\n",
       "#T_76a2e_row1_col8, #T_76a2e_row2_col12, #T_76a2e_row5_col3, #T_76a2e_row8_col12, #T_76a2e_row8_col15, #T_76a2e_row9_col15, #T_76a2e_row11_col3, #T_76a2e_row13_col3, #T_76a2e_row20_col3, #T_76a2e_row21_col3, #T_76a2e_row23_col31, #T_76a2e_row28_col24, #T_76a2e_row31_col0, #T_76a2e_row31_col19, #T_76a2e_row37_col19 {\n",
       "  background-color: #8fb1fe;\n",
       "  color: #000000;\n",
       "}\n",
       "#T_76a2e_row1_col11, #T_76a2e_row1_col14, #T_76a2e_row4_col8, #T_76a2e_row4_col24, #T_76a2e_row6_col8, #T_76a2e_row6_col19, #T_76a2e_row8_col19, #T_76a2e_row9_col18, #T_76a2e_row11_col0, #T_76a2e_row16_col4, #T_76a2e_row16_col8, #T_76a2e_row19_col8, #T_76a2e_row20_col8, #T_76a2e_row21_col8, #T_76a2e_row23_col8, #T_76a2e_row26_col8, #T_76a2e_row27_col19, #T_76a2e_row28_col31, #T_76a2e_row29_col11, #T_76a2e_row29_col19, #T_76a2e_row31_col11, #T_76a2e_row32_col11 {\n",
       "  background-color: #94b6ff;\n",
       "  color: #000000;\n",
       "}\n",
       "#T_76a2e_row1_col12, #T_76a2e_row6_col15, #T_76a2e_row6_col16, #T_76a2e_row17_col3, #T_76a2e_row19_col33, #T_76a2e_row21_col33, #T_76a2e_row23_col33, #T_76a2e_row25_col10, #T_76a2e_row28_col3, #T_76a2e_row28_col12, #T_76a2e_row29_col15, #T_76a2e_row30_col4, #T_76a2e_row31_col15, #T_76a2e_row32_col4, #T_76a2e_row35_col15, #T_76a2e_row35_col16, #T_76a2e_row36_col15, #T_76a2e_row37_col31 {\n",
       "  background-color: #88abfd;\n",
       "  color: #000000;\n",
       "}\n",
       "#T_76a2e_row1_col13, #T_76a2e_row4_col32, #T_76a2e_row5_col13, #T_76a2e_row6_col7, #T_76a2e_row7_col32, #T_76a2e_row9_col6, #T_76a2e_row17_col11, #T_76a2e_row24_col7, #T_76a2e_row25_col12, #T_76a2e_row25_col15, #T_76a2e_row29_col32, #T_76a2e_row31_col13, #T_76a2e_row32_col31, #T_76a2e_row35_col7, #T_76a2e_row35_col13 {\n",
       "  background-color: #7699f6;\n",
       "  color: #f1f1f1;\n",
       "}\n",
       "#T_76a2e_row1_col15, #T_76a2e_row1_col30, #T_76a2e_row4_col12, #T_76a2e_row5_col15, #T_76a2e_row9_col3, #T_76a2e_row12_col30, #T_76a2e_row17_col4, #T_76a2e_row17_col30, #T_76a2e_row19_col31, #T_76a2e_row27_col3, #T_76a2e_row28_col0, #T_76a2e_row33_col6, #T_76a2e_row33_col12, #T_76a2e_row34_col14, #T_76a2e_row34_col33 {\n",
       "  background-color: #85a8fc;\n",
       "  color: #f1f1f1;\n",
       "}\n",
       "#T_76a2e_row1_col16, #T_76a2e_row1_col31, #T_76a2e_row2_col20, #T_76a2e_row2_col21, #T_76a2e_row2_col23, #T_76a2e_row5_col16, #T_76a2e_row10_col3, #T_76a2e_row15_col0, #T_76a2e_row24_col15, #T_76a2e_row28_col11, #T_76a2e_row37_col23 {\n",
       "  background-color: #90b2fe;\n",
       "  color: #000000;\n",
       "}\n",
       "#T_76a2e_row1_col17, #T_76a2e_row7_col30, #T_76a2e_row17_col37, #T_76a2e_row29_col37, #T_76a2e_row30_col3, #T_76a2e_row32_col17, #T_76a2e_row33_col37, #T_76a2e_row37_col17, #T_76a2e_row37_col30 {\n",
       "  background-color: #5d7ce6;\n",
       "  color: #f1f1f1;\n",
       "}\n",
       "#T_76a2e_row1_col24, #T_76a2e_row2_col28, #T_76a2e_row3_col28, #T_76a2e_row9_col29, #T_76a2e_row11_col28, #T_76a2e_row12_col28, #T_76a2e_row13_col24, #T_76a2e_row14_col28, #T_76a2e_row16_col36, #T_76a2e_row17_col28, #T_76a2e_row20_col36, #T_76a2e_row21_col36, #T_76a2e_row25_col21, #T_76a2e_row30_col19, #T_76a2e_row32_col25, #T_76a2e_row32_col28, #T_76a2e_row37_col29 {\n",
       "  background-color: #cbd8ee;\n",
       "  color: #000000;\n",
       "}\n",
       "#T_76a2e_row1_col25, #T_76a2e_row1_col35, #T_76a2e_row5_col36, #T_76a2e_row6_col28, #T_76a2e_row7_col24, #T_76a2e_row7_col36, #T_76a2e_row8_col24, #T_76a2e_row8_col29, #T_76a2e_row8_col35, #T_76a2e_row11_col36, #T_76a2e_row12_col36, #T_76a2e_row15_col35, #T_76a2e_row15_col36, #T_76a2e_row17_col36, #T_76a2e_row25_col22, #T_76a2e_row25_col23, #T_76a2e_row30_col18, #T_76a2e_row35_col26, #T_76a2e_row36_col3 {\n",
       "  background-color: #c9d7f0;\n",
       "  color: #000000;\n",
       "}\n",
       "#T_76a2e_row1_col26, #T_76a2e_row6_col29, #T_76a2e_row8_col26, #T_76a2e_row9_col28, #T_76a2e_row10_col26, #T_76a2e_row10_col27, #T_76a2e_row11_col26, #T_76a2e_row11_col27, #T_76a2e_row12_col27, #T_76a2e_row14_col26, #T_76a2e_row14_col27, #T_76a2e_row15_col27, #T_76a2e_row17_col20, #T_76a2e_row17_col29, #T_76a2e_row19_col27, #T_76a2e_row20_col27, #T_76a2e_row21_col27, #T_76a2e_row22_col27, #T_76a2e_row30_col28, #T_76a2e_row37_col27, #T_76a2e_row37_col28 {\n",
       "  background-color: #d1dae9;\n",
       "  color: #000000;\n",
       "}\n",
       "#T_76a2e_row1_col27, #T_76a2e_row7_col26, #T_76a2e_row9_col26, #T_76a2e_row9_col27, #T_76a2e_row12_col26, #T_76a2e_row15_col26, #T_76a2e_row17_col26, #T_76a2e_row17_col27, #T_76a2e_row23_col27, #T_76a2e_row30_col27, #T_76a2e_row30_col33, #T_76a2e_row31_col28, #T_76a2e_row32_col29, #T_76a2e_row32_col36, #T_76a2e_row33_col0, #T_76a2e_row34_col28, #T_76a2e_row35_col28, #T_76a2e_row36_col29 {\n",
       "  background-color: #d2dbe8;\n",
       "  color: #000000;\n",
       "}\n",
       "#T_76a2e_row1_col32, #T_76a2e_row2_col32, #T_76a2e_row3_col37, #T_76a2e_row4_col17, #T_76a2e_row10_col37, #T_76a2e_row13_col22, #T_76a2e_row13_col37, #T_76a2e_row14_col37, #T_76a2e_row24_col3, #T_76a2e_row25_col31, #T_76a2e_row28_col37, #T_76a2e_row30_col32, #T_76a2e_row36_col30 {\n",
       "  background-color: #6687ed;\n",
       "  color: #f1f1f1;\n",
       "}\n",
       "#T_76a2e_row1_col33, #T_76a2e_row20_col17, #T_76a2e_row25_col3, #T_76a2e_row26_col20, #T_76a2e_row28_col20, #T_76a2e_row28_col21, #T_76a2e_row28_col23, #T_76a2e_row30_col14 {\n",
       "  background-color: #a7c5fe;\n",
       "  color: #000000;\n",
       "}\n",
       "#T_76a2e_row1_col34, #T_76a2e_row4_col6, #T_76a2e_row8_col30, #T_76a2e_row27_col34, #T_76a2e_row36_col6 {\n",
       "  background-color: #5572df;\n",
       "  color: #f1f1f1;\n",
       "}\n",
       "#T_76a2e_row1_col36, #T_76a2e_row2_col26, #T_76a2e_row7_col25, #T_76a2e_row7_col35, #T_76a2e_row8_col36, #T_76a2e_row9_col35, #T_76a2e_row9_col36, #T_76a2e_row11_col35, #T_76a2e_row12_col35, #T_76a2e_row13_col35, #T_76a2e_row14_col35, #T_76a2e_row17_col19, #T_76a2e_row17_col35, #T_76a2e_row31_col29 {\n",
       "  background-color: #c7d7f0;\n",
       "  color: #000000;\n",
       "}\n",
       "#T_76a2e_row1_col37, #T_76a2e_row9_col37, #T_76a2e_row25_col2, #T_76a2e_row34_col32, #T_76a2e_row35_col34 {\n",
       "  background-color: #6180e9;\n",
       "  color: #f1f1f1;\n",
       "}\n",
       "#T_76a2e_row2_col0, #T_76a2e_row2_col18, #T_76a2e_row2_col19, #T_76a2e_row4_col11, #T_76a2e_row7_col12, #T_76a2e_row7_col15, #T_76a2e_row9_col16, #T_76a2e_row12_col31, #T_76a2e_row13_col31, #T_76a2e_row14_col3, #T_76a2e_row15_col3, #T_76a2e_row17_col8, #T_76a2e_row17_col31, #T_76a2e_row20_col31, #T_76a2e_row26_col12, #T_76a2e_row29_col12, #T_76a2e_row29_col16, #T_76a2e_row32_col16, #T_76a2e_row33_col11, #T_76a2e_row35_col6 {\n",
       "  background-color: #8caffe;\n",
       "  color: #000000;\n",
       "}\n",
       "#T_76a2e_row2_col3, #T_76a2e_row4_col37, #T_76a2e_row17_col32, #T_76a2e_row24_col32, #T_76a2e_row29_col30, #T_76a2e_row34_col13 {\n",
       "  background-color: #6b8df0;\n",
       "  color: #f1f1f1;\n",
       "}\n",
       "#T_76a2e_row2_col4, #T_76a2e_row2_col5, #T_76a2e_row4_col5, #T_76a2e_row6_col5, #T_76a2e_row8_col5, #T_76a2e_row14_col1, #T_76a2e_row18_col11, #T_76a2e_row22_col11, #T_76a2e_row22_col12, #T_76a2e_row30_col5, #T_76a2e_row32_col5, #T_76a2e_row36_col5 {\n",
       "  background-color: #4055c8;\n",
       "  color: #f1f1f1;\n",
       "}\n",
       "#T_76a2e_row2_col6, #T_76a2e_row2_col33, #T_76a2e_row9_col13, #T_76a2e_row25_col14, #T_76a2e_row29_col31, #T_76a2e_row30_col8, #T_76a2e_row31_col16 {\n",
       "  background-color: #82a6fb;\n",
       "  color: #f1f1f1;\n",
       "}\n",
       "#T_76a2e_row2_col9, #T_76a2e_row4_col34, #T_76a2e_row12_col18, #T_76a2e_row15_col20, #T_76a2e_row15_col21, #T_76a2e_row15_col22, #T_76a2e_row30_col37 {\n",
       "  background-color: #516ddb;\n",
       "  color: #f1f1f1;\n",
       "}\n",
       "#T_76a2e_row2_col13, #T_76a2e_row8_col2, #T_76a2e_row13_col4, #T_76a2e_row13_col7, #T_76a2e_row14_col30, #T_76a2e_row15_col7, #T_76a2e_row24_col13, #T_76a2e_row26_col24, #T_76a2e_row34_col2, #T_76a2e_row37_col13 {\n",
       "  background-color: #7b9ff9;\n",
       "  color: #f1f1f1;\n",
       "}\n",
       "#T_76a2e_row2_col14, #T_76a2e_row4_col0, #T_76a2e_row4_col16, #T_76a2e_row7_col3, #T_76a2e_row31_col33, #T_76a2e_row32_col8, #T_76a2e_row37_col10, #T_76a2e_row37_col14 {\n",
       "  background-color: #9fbfff;\n",
       "  color: #000000;\n",
       "}\n",
       "#T_76a2e_row2_col17, #T_76a2e_row6_col37, #T_76a2e_row7_col0, #T_76a2e_row13_col23, #T_76a2e_row27_col37, #T_76a2e_row31_col9, #T_76a2e_row35_col17 {\n",
       "  background-color: #5e7de7;\n",
       "  color: #f1f1f1;\n",
       "}\n",
       "#T_76a2e_row2_col24, #T_76a2e_row6_col24, #T_76a2e_row31_col27 {\n",
       "  background-color: #dddcdc;\n",
       "  color: #000000;\n",
       "}\n",
       "#T_76a2e_row2_col27, #T_76a2e_row33_col35 {\n",
       "  background-color: #d8dce2;\n",
       "  color: #000000;\n",
       "}\n",
       "#T_76a2e_row2_col30, #T_76a2e_row27_col32, #T_76a2e_row28_col32 {\n",
       "  background-color: #6a8bef;\n",
       "  color: #f1f1f1;\n",
       "}\n",
       "#T_76a2e_row2_col31, #T_76a2e_row7_col9, #T_76a2e_row15_col25, #T_76a2e_row25_col16, #T_76a2e_row25_col35, #T_76a2e_row35_col25 {\n",
       "  background-color: #bcd2f7;\n",
       "  color: #000000;\n",
       "}\n",
       "#T_76a2e_row2_col34, #T_76a2e_row13_col9, #T_76a2e_row15_col19, #T_76a2e_row17_col13, #T_76a2e_row24_col37, #T_76a2e_row31_col4, #T_76a2e_row33_col3 {\n",
       "  background-color: #536edd;\n",
       "  color: #f1f1f1;\n",
       "}\n",
       "#T_76a2e_row2_col35 {\n",
       "  background-color: #dcdddd;\n",
       "  color: #000000;\n",
       "}\n",
       "#T_76a2e_row2_col36, #T_76a2e_row4_col19, #T_76a2e_row30_col10, #T_76a2e_row33_col20, #T_76a2e_row34_col16 {\n",
       "  background-color: #aac7fd;\n",
       "  color: #000000;\n",
       "}\n",
       "#T_76a2e_row3_col0, #T_76a2e_row3_col7, #T_76a2e_row3_col12, #T_76a2e_row6_col2, #T_76a2e_row6_col12, #T_76a2e_row7_col16, #T_76a2e_row8_col16, #T_76a2e_row10_col31, #T_76a2e_row21_col31, #T_76a2e_row24_col26, #T_76a2e_row31_col12, #T_76a2e_row31_col18, #T_76a2e_row32_col12, #T_76a2e_row35_col12, #T_76a2e_row37_col15, #T_76a2e_row37_col16 {\n",
       "  background-color: #8badfd;\n",
       "  color: #000000;\n",
       "}\n",
       "#T_76a2e_row3_col2, #T_76a2e_row6_col3, #T_76a2e_row13_col16, #T_76a2e_row31_col32, #T_76a2e_row36_col33 {\n",
       "  background-color: #5673e0;\n",
       "  color: #f1f1f1;\n",
       "}\n",
       "#T_76a2e_row3_col4, #T_76a2e_row3_col11, #T_76a2e_row6_col23, #T_76a2e_row7_col18, #T_76a2e_row9_col0, #T_76a2e_row14_col0, #T_76a2e_row20_col4, #T_76a2e_row22_col8, #T_76a2e_row23_col4, #T_76a2e_row24_col8, #T_76a2e_row28_col14, #T_76a2e_row29_col3, #T_76a2e_row29_col22, #T_76a2e_row29_col23, #T_76a2e_row32_col19, #T_76a2e_row34_col30, #T_76a2e_row34_col31, #T_76a2e_row36_col11, #T_76a2e_row37_col0 {\n",
       "  background-color: #96b7ff;\n",
       "  color: #000000;\n",
       "}\n",
       "#T_76a2e_row3_col8, #T_76a2e_row19_col24, #T_76a2e_row20_col24, #T_76a2e_row21_col24, #T_76a2e_row22_col24, #T_76a2e_row25_col29, #T_76a2e_row29_col27 {\n",
       "  background-color: #b6cefa;\n",
       "  color: #000000;\n",
       "}\n",
       "#T_76a2e_row3_col9, #T_76a2e_row11_col16, #T_76a2e_row11_col17, #T_76a2e_row11_col23, #T_76a2e_row12_col34, #T_76a2e_row16_col13, #T_76a2e_row18_col13, #T_76a2e_row22_col15, #T_76a2e_row25_col9, #T_76a2e_row33_col9 {\n",
       "  background-color: #3f53c6;\n",
       "  color: #f1f1f1;\n",
       "}\n",
       "#T_76a2e_row3_col13, #T_76a2e_row5_col2, #T_76a2e_row11_col7, #T_76a2e_row17_col10, #T_76a2e_row18_col34, #T_76a2e_row19_col34, #T_76a2e_row26_col13, #T_76a2e_row27_col33, #T_76a2e_row29_col2, #T_76a2e_row30_col17, #T_76a2e_row34_col12, #T_76a2e_row36_col13 {\n",
       "  background-color: #7a9df8;\n",
       "  color: #f1f1f1;\n",
       "}\n",
       "#T_76a2e_row3_col15, #T_76a2e_row17_col33, #T_76a2e_row18_col33, #T_76a2e_row22_col31, #T_76a2e_row22_col33, #T_76a2e_row26_col15, #T_76a2e_row27_col2, #T_76a2e_row27_col15, #T_76a2e_row32_col15, #T_76a2e_row33_col2, #T_76a2e_row34_col10 {\n",
       "  background-color: #86a9fc;\n",
       "  color: #f1f1f1;\n",
       "}\n",
       "#T_76a2e_row3_col17, #T_76a2e_row18_col37, #T_76a2e_row28_col17, #T_76a2e_row31_col34, #T_76a2e_row31_col37, #T_76a2e_row35_col3 {\n",
       "  background-color: #5b7ae5;\n",
       "  color: #f1f1f1;\n",
       "}\n",
       "#T_76a2e_row3_col24, #T_76a2e_row4_col18, #T_76a2e_row4_col20, #T_76a2e_row4_col22, #T_76a2e_row4_col35, #T_76a2e_row22_col30, #T_76a2e_row23_col30, #T_76a2e_row31_col2, #T_76a2e_row31_col25, #T_76a2e_row36_col4 {\n",
       "  background-color: #adc9fd;\n",
       "  color: #000000;\n",
       "}\n",
       "#T_76a2e_row3_col26, #T_76a2e_row18_col26, #T_76a2e_row36_col26 {\n",
       "  background-color: #dbdcde;\n",
       "  color: #000000;\n",
       "}\n",
       "#T_76a2e_row3_col29, #T_76a2e_row4_col28, #T_76a2e_row7_col27, #T_76a2e_row7_col28, #T_76a2e_row8_col27, #T_76a2e_row13_col26, #T_76a2e_row26_col36, #T_76a2e_row34_col27 {\n",
       "  background-color: #d3dbe7;\n",
       "  color: #000000;\n",
       "}\n",
       "#T_76a2e_row3_col32, #T_76a2e_row4_col3, #T_76a2e_row9_col14, #T_76a2e_row9_col31, #T_76a2e_row28_col8 {\n",
       "  background-color: #a1c0ff;\n",
       "  color: #000000;\n",
       "}\n",
       "#T_76a2e_row3_col34, #T_76a2e_row7_col17, #T_76a2e_row19_col37, #T_76a2e_row20_col37, #T_76a2e_row23_col37, #T_76a2e_row24_col17, #T_76a2e_row25_col6, #T_76a2e_row28_col34 {\n",
       "  background-color: #5875e1;\n",
       "  color: #f1f1f1;\n",
       "}\n",
       "#T_76a2e_row3_col35, #T_76a2e_row24_col14, #T_76a2e_row28_col19, #T_76a2e_row28_col26, #T_76a2e_row30_col11 {\n",
       "  background-color: #a3c2fe;\n",
       "  color: #000000;\n",
       "}\n",
       "#T_76a2e_row3_col36, #T_76a2e_row28_col25 {\n",
       "  background-color: #ebd3c6;\n",
       "  color: #000000;\n",
       "}\n",
       "#T_76a2e_row4_col1, #T_76a2e_row10_col9, #T_76a2e_row12_col17, #T_76a2e_row15_col16, #T_76a2e_row20_col9, #T_76a2e_row23_col9, #T_76a2e_row25_col1, #T_76a2e_row26_col5, #T_76a2e_row28_col1, #T_76a2e_row29_col1, #T_76a2e_row35_col1, #T_76a2e_row36_col31, #T_76a2e_row37_col9 {\n",
       "  background-color: #485fd1;\n",
       "  color: #f1f1f1;\n",
       "}\n",
       "#T_76a2e_row4_col7, #T_76a2e_row5_col7, #T_76a2e_row6_col13, #T_76a2e_row6_col30, #T_76a2e_row8_col32, #T_76a2e_row10_col4, #T_76a2e_row11_col4, #T_76a2e_row12_col7, #T_76a2e_row14_col4, #T_76a2e_row14_col7, #T_76a2e_row19_col7, #T_76a2e_row20_col7, #T_76a2e_row23_col7, #T_76a2e_row26_col7, #T_76a2e_row28_col13, #T_76a2e_row29_col6, #T_76a2e_row29_col13, #T_76a2e_row29_col33, #T_76a2e_row36_col7, #T_76a2e_row37_col7 {\n",
       "  background-color: #779af7;\n",
       "  color: #f1f1f1;\n",
       "}\n",
       "#T_76a2e_row4_col21, #T_76a2e_row8_col3, #T_76a2e_row20_col30, #T_76a2e_row21_col30, #T_76a2e_row29_col25, #T_76a2e_row37_col35 {\n",
       "  background-color: #aec9fc;\n",
       "  color: #000000;\n",
       "}\n",
       "#T_76a2e_row4_col23, #T_76a2e_row19_col30 {\n",
       "  background-color: #abc8fd;\n",
       "  color: #000000;\n",
       "}\n",
       "#T_76a2e_row4_col25 {\n",
       "  background-color: #e6d7cf;\n",
       "  color: #000000;\n",
       "}\n",
       "#T_76a2e_row4_col26, #T_76a2e_row18_col25, #T_76a2e_row29_col24, #T_76a2e_row31_col35 {\n",
       "  background-color: #e9d5cb;\n",
       "  color: #000000;\n",
       "}\n",
       "#T_76a2e_row4_col30, #T_76a2e_row10_col7, #T_76a2e_row16_col7, #T_76a2e_row16_col34, #T_76a2e_row17_col12, #T_76a2e_row18_col7, #T_76a2e_row25_col7, #T_76a2e_row26_col32, #T_76a2e_row27_col13, #T_76a2e_row28_col2, #T_76a2e_row34_col6, #T_76a2e_row34_col7, #T_76a2e_row34_col15, #T_76a2e_row35_col30 {\n",
       "  background-color: #7597f6;\n",
       "  color: #f1f1f1;\n",
       "}\n",
       "#T_76a2e_row4_col33, #T_76a2e_row6_col4, #T_76a2e_row11_col37, #T_76a2e_row13_col19, #T_76a2e_row13_col21, #T_76a2e_row15_col37, #T_76a2e_row26_col37, #T_76a2e_row29_col17 {\n",
       "  background-color: #6485ec;\n",
       "  color: #f1f1f1;\n",
       "}\n",
       "#T_76a2e_row4_col36 {\n",
       "  background-color: #e1dad6;\n",
       "  color: #000000;\n",
       "}\n",
       "#T_76a2e_row5_col1, #T_76a2e_row12_col16, #T_76a2e_row16_col10, #T_76a2e_row16_col14, #T_76a2e_row31_col1, #T_76a2e_row32_col9, #T_76a2e_row37_col34 {\n",
       "  background-color: #4a63d3;\n",
       "  color: #f1f1f1;\n",
       "}\n",
       "#T_76a2e_row5_col8, #T_76a2e_row6_col20, #T_76a2e_row6_col21, #T_76a2e_row7_col31, #T_76a2e_row8_col20, #T_76a2e_row8_col22, #T_76a2e_row8_col23, #T_76a2e_row9_col19, #T_76a2e_row9_col22, #T_76a2e_row10_col8, #T_76a2e_row19_col4, #T_76a2e_row21_col4, #T_76a2e_row22_col17, #T_76a2e_row24_col6, #T_76a2e_row27_col22, #T_76a2e_row28_col16, #T_76a2e_row29_col18, #T_76a2e_row29_col20, #T_76a2e_row29_col21, #T_76a2e_row32_col18, #T_76a2e_row32_col20, #T_76a2e_row32_col22, #T_76a2e_row32_col23, #T_76a2e_row35_col10, #T_76a2e_row35_col20, #T_76a2e_row35_col21, #T_76a2e_row35_col23, #T_76a2e_row36_col8, #T_76a2e_row37_col11 {\n",
       "  background-color: #97b8ff;\n",
       "  color: #000000;\n",
       "}\n",
       "#T_76a2e_row5_col9, #T_76a2e_row8_col33, #T_76a2e_row10_col1, #T_76a2e_row12_col23, #T_76a2e_row16_col11, #T_76a2e_row16_col12, #T_76a2e_row27_col1 {\n",
       "  background-color: #4961d2;\n",
       "  color: #f1f1f1;\n",
       "}\n",
       "#T_76a2e_row5_col11, #T_76a2e_row6_col11, #T_76a2e_row6_col22, #T_76a2e_row8_col18, #T_76a2e_row13_col0, #T_76a2e_row13_col30, #T_76a2e_row16_col3, #T_76a2e_row16_col17, #T_76a2e_row18_col3, #T_76a2e_row18_col8, #T_76a2e_row22_col3, #T_76a2e_row24_col0, #T_76a2e_row24_col12, #T_76a2e_row25_col8, #T_76a2e_row26_col11, #T_76a2e_row27_col11, #T_76a2e_row27_col18, #T_76a2e_row28_col10, #T_76a2e_row31_col36, #T_76a2e_row33_col10, #T_76a2e_row34_col3, #T_76a2e_row35_col11, #T_76a2e_row35_col22, #T_76a2e_row35_col33, #T_76a2e_row37_col18, #T_76a2e_row37_col21 {\n",
       "  background-color: #93b5fe;\n",
       "  color: #000000;\n",
       "}\n",
       "#T_76a2e_row5_col24, #T_76a2e_row8_col25, #T_76a2e_row10_col35, #T_76a2e_row20_col35, #T_76a2e_row23_col35, #T_76a2e_row24_col31, #T_76a2e_row25_col19, #T_76a2e_row30_col24, #T_76a2e_row32_col24, #T_76a2e_row34_col24 {\n",
       "  background-color: #c6d6f1;\n",
       "  color: #000000;\n",
       "}\n",
       "#T_76a2e_row5_col27, #T_76a2e_row10_col29, #T_76a2e_row13_col27, #T_76a2e_row16_col27, #T_76a2e_row30_col25, #T_76a2e_row32_col27, #T_76a2e_row34_col26, #T_76a2e_row34_col35, #T_76a2e_row37_col25, #T_76a2e_row37_col36 {\n",
       "  background-color: #cfdaea;\n",
       "  color: #000000;\n",
       "}\n",
       "#T_76a2e_row5_col30, #T_76a2e_row11_col33, #T_76a2e_row14_col33, #T_76a2e_row15_col33, #T_76a2e_row16_col6, #T_76a2e_row18_col6, #T_76a2e_row19_col32, #T_76a2e_row20_col32, #T_76a2e_row21_col32, #T_76a2e_row22_col6, #T_76a2e_row23_col32, #T_76a2e_row25_col13, #T_76a2e_row27_col30, #T_76a2e_row33_col8 {\n",
       "  background-color: #6c8ff1;\n",
       "  color: #f1f1f1;\n",
       "}\n",
       "#T_76a2e_row5_col32, #T_76a2e_row8_col6, #T_76a2e_row10_col6, #T_76a2e_row10_col32, #T_76a2e_row11_col32, #T_76a2e_row12_col33, #T_76a2e_row13_col32, #T_76a2e_row19_col6, #T_76a2e_row21_col2, #T_76a2e_row23_col6, #T_76a2e_row26_col30, #T_76a2e_row29_col7, #T_76a2e_row33_col4, #T_76a2e_row33_col13, #T_76a2e_row37_col6, #T_76a2e_row37_col32 {\n",
       "  background-color: #6f92f3;\n",
       "  color: #f1f1f1;\n",
       "}\n",
       "#T_76a2e_row5_col34, #T_76a2e_row7_col34, #T_76a2e_row15_col9, #T_76a2e_row15_col18 {\n",
       "  background-color: #506bda;\n",
       "  color: #f1f1f1;\n",
       "}\n",
       "#T_76a2e_row5_col37, #T_76a2e_row6_col32, #T_76a2e_row12_col37, #T_76a2e_row13_col20, #T_76a2e_row32_col30 {\n",
       "  background-color: #6384eb;\n",
       "  color: #f1f1f1;\n",
       "}\n",
       "#T_76a2e_row6_col9, #T_76a2e_row16_col1, #T_76a2e_row18_col1, #T_76a2e_row19_col1, #T_76a2e_row21_col1, #T_76a2e_row22_col1, #T_76a2e_row23_col1, #T_76a2e_row24_col1, #T_76a2e_row28_col9, #T_76a2e_row34_col1 {\n",
       "  background-color: #4b64d5;\n",
       "  color: #f1f1f1;\n",
       "}\n",
       "#T_76a2e_row6_col31, #T_76a2e_row12_col25, #T_76a2e_row32_col3, #T_76a2e_row34_col22 {\n",
       "  background-color: #bad0f8;\n",
       "  color: #000000;\n",
       "}\n",
       "#T_76a2e_row6_col34, #T_76a2e_row8_col17 {\n",
       "  background-color: #5470de;\n",
       "  color: #f1f1f1;\n",
       "}\n",
       "#T_76a2e_row6_col35, #T_76a2e_row9_col7, #T_76a2e_row23_col28, #T_76a2e_row35_col27 {\n",
       "  background-color: #d7dce3;\n",
       "  color: #000000;\n",
       "}\n",
       "#T_76a2e_row6_col36, #T_76a2e_row16_col24, #T_76a2e_row25_col4 {\n",
       "  background-color: #b5cdfa;\n",
       "  color: #000000;\n",
       "}\n",
       "#T_76a2e_row7_col8 {\n",
       "  background-color: #f5c0a7;\n",
       "  color: #000000;\n",
       "}\n",
       "#T_76a2e_row7_col29, #T_76a2e_row10_col28, #T_76a2e_row10_col36, #T_76a2e_row13_col36, #T_76a2e_row14_col36, #T_76a2e_row23_col36, #T_76a2e_row25_col18, #T_76a2e_row25_col20, #T_76a2e_row35_col29, #T_76a2e_row36_col28 {\n",
       "  background-color: #cad8ef;\n",
       "  color: #000000;\n",
       "}\n",
       "#T_76a2e_row7_col33, #T_76a2e_row21_col37, #T_76a2e_row25_col34, #T_76a2e_row33_col7, #T_76a2e_row34_col37, #T_76a2e_row35_col4 {\n",
       "  background-color: #5977e3;\n",
       "  color: #f1f1f1;\n",
       "}\n",
       "#T_76a2e_row7_col37, #T_76a2e_row8_col37, #T_76a2e_row13_col18, #T_76a2e_row26_col17, #T_76a2e_row27_col17, #T_76a2e_row30_col1, #T_76a2e_row32_col37, #T_76a2e_row33_col34, #T_76a2e_row35_col32, #T_76a2e_row36_col17 {\n",
       "  background-color: #6282ea;\n",
       "  color: #f1f1f1;\n",
       "}\n",
       "#T_76a2e_row8_col1, #T_76a2e_row10_col17, #T_76a2e_row10_col34, #T_76a2e_row11_col34, #T_76a2e_row12_col5, #T_76a2e_row14_col5, #T_76a2e_row18_col10, #T_76a2e_row18_col14, #T_76a2e_row20_col12, #T_76a2e_row20_col15, #T_76a2e_row21_col15, #T_76a2e_row22_col10, #T_76a2e_row22_col14, #T_76a2e_row24_col5, #T_76a2e_row28_col5, #T_76a2e_row32_col1 {\n",
       "  background-color: #3d50c3;\n",
       "  color: #f1f1f1;\n",
       "}\n",
       "#T_76a2e_row8_col7, #T_76a2e_row27_col24 {\n",
       "  background-color: #f1cdba;\n",
       "  color: #000000;\n",
       "}\n",
       "#T_76a2e_row8_col9, #T_76a2e_row17_col0, #T_76a2e_row26_col19, #T_76a2e_row26_col22, #T_76a2e_row26_col23, #T_76a2e_row28_col22, #T_76a2e_row30_col0, #T_76a2e_row33_col19, #T_76a2e_row33_col22 {\n",
       "  background-color: #a6c4fe;\n",
       "  color: #000000;\n",
       "}\n",
       "#T_76a2e_row8_col13, #T_76a2e_row10_col30, #T_76a2e_row12_col2, #T_76a2e_row30_col6, #T_76a2e_row33_col15 {\n",
       "  background-color: #7ea1fa;\n",
       "  color: #f1f1f1;\n",
       "}\n",
       "#T_76a2e_row8_col28, #T_76a2e_row16_col28, #T_76a2e_row17_col18, #T_76a2e_row30_col26, #T_76a2e_row33_col24, #T_76a2e_row33_col27, #T_76a2e_row37_col26 {\n",
       "  background-color: #d4dbe6;\n",
       "  color: #000000;\n",
       "}\n",
       "#T_76a2e_row9_col8, #T_76a2e_row19_col26, #T_76a2e_row20_col26, #T_76a2e_row21_col26, #T_76a2e_row22_col26 {\n",
       "  background-color: #dadce0;\n",
       "  color: #000000;\n",
       "}\n",
       "#T_76a2e_row9_col25, #T_76a2e_row17_col24, #T_76a2e_row18_col35, #T_76a2e_row28_col36, #T_76a2e_row29_col35, #T_76a2e_row30_col36, #T_76a2e_row33_col25, #T_76a2e_row35_col31 {\n",
       "  background-color: #c4d5f3;\n",
       "  color: #000000;\n",
       "}\n",
       "#T_76a2e_row9_col30, #T_76a2e_row24_col30, #T_76a2e_row26_col2, #T_76a2e_row28_col6, #T_76a2e_row34_col17 {\n",
       "  background-color: #688aef;\n",
       "  color: #f1f1f1;\n",
       "}\n",
       "#T_76a2e_row9_col34, #T_76a2e_row11_col9, #T_76a2e_row12_col20, #T_76a2e_row15_col23, #T_76a2e_row24_col34, #T_76a2e_row29_col34 {\n",
       "  background-color: #4e68d8;\n",
       "  color: #f1f1f1;\n",
       "}\n",
       "#T_76a2e_row10_col5, #T_76a2e_row11_col5, #T_76a2e_row13_col5, #T_76a2e_row15_col5, #T_76a2e_row15_col17, #T_76a2e_row15_col34, #T_76a2e_row17_col5, #T_76a2e_row18_col15, #T_76a2e_row19_col10, #T_76a2e_row19_col14, #T_76a2e_row20_col11, #T_76a2e_row20_col13, #T_76a2e_row21_col11, #T_76a2e_row21_col12, #T_76a2e_row21_col13, #T_76a2e_row34_col5 {\n",
       "  background-color: #3e51c5;\n",
       "  color: #f1f1f1;\n",
       "}\n",
       "#T_76a2e_row10_col11, #T_76a2e_row10_col14, #T_76a2e_row14_col10, #T_76a2e_row15_col14 {\n",
       "  background-color: #e36b54;\n",
       "  color: #f1f1f1;\n",
       "}\n",
       "#T_76a2e_row10_col12, #T_76a2e_row11_col15, #T_76a2e_row12_col14, #T_76a2e_row12_col15, #T_76a2e_row15_col12, #T_76a2e_row16_col18 {\n",
       "  background-color: #e67259;\n",
       "  color: #f1f1f1;\n",
       "}\n",
       "#T_76a2e_row10_col13, #T_76a2e_row14_col13 {\n",
       "  background-color: #ec8165;\n",
       "  color: #f1f1f1;\n",
       "}\n",
       "#T_76a2e_row10_col15 {\n",
       "  background-color: #ea7b60;\n",
       "  color: #f1f1f1;\n",
       "}\n",
       "#T_76a2e_row10_col25, #T_76a2e_row34_col20, #T_76a2e_row34_col21, #T_76a2e_row34_col23 {\n",
       "  background-color: #bbd1f8;\n",
       "  color: #000000;\n",
       "}\n",
       "#T_76a2e_row11_col1, #T_76a2e_row16_col9, #T_76a2e_row19_col9, #T_76a2e_row21_col9, #T_76a2e_row22_col9, #T_76a2e_row26_col9, #T_76a2e_row27_col9, #T_76a2e_row33_col5, #T_76a2e_row35_col9, #T_76a2e_row36_col1, #T_76a2e_row37_col1 {\n",
       "  background-color: #465ecf;\n",
       "  color: #f1f1f1;\n",
       "}\n",
       "#T_76a2e_row11_col10 {\n",
       "  background-color: #e26952;\n",
       "  color: #f1f1f1;\n",
       "}\n",
       "#T_76a2e_row11_col12 {\n",
       "  background-color: #e0654f;\n",
       "  color: #f1f1f1;\n",
       "}\n",
       "#T_76a2e_row11_col13, #T_76a2e_row13_col10, #T_76a2e_row13_col14, #T_76a2e_row14_col11, #T_76a2e_row14_col12, #T_76a2e_row15_col10, #T_76a2e_row18_col16 {\n",
       "  background-color: #e8765c;\n",
       "  color: #f1f1f1;\n",
       "}\n",
       "#T_76a2e_row11_col14, #T_76a2e_row12_col13 {\n",
       "  background-color: #e7745b;\n",
       "  color: #f1f1f1;\n",
       "}\n",
       "#T_76a2e_row11_col18, #T_76a2e_row11_col19, #T_76a2e_row11_col20, #T_76a2e_row11_col21, #T_76a2e_row11_col22, #T_76a2e_row12_col1, #T_76a2e_row14_col17, #T_76a2e_row15_col1, #T_76a2e_row16_col5, #T_76a2e_row17_col1, #T_76a2e_row18_col5, #T_76a2e_row18_col9, #T_76a2e_row18_col12, #T_76a2e_row20_col5, #T_76a2e_row21_col5, #T_76a2e_row22_col5, #T_76a2e_row30_col9 {\n",
       "  background-color: #445acc;\n",
       "  color: #f1f1f1;\n",
       "}\n",
       "#T_76a2e_row11_col25 {\n",
       "  background-color: #b9d0f9;\n",
       "  color: #000000;\n",
       "}\n",
       "#T_76a2e_row12_col9, #T_76a2e_row12_col19, #T_76a2e_row12_col21, #T_76a2e_row12_col22, #T_76a2e_row14_col9, #T_76a2e_row26_col34, #T_76a2e_row36_col2 {\n",
       "  background-color: #4f69d9;\n",
       "  color: #f1f1f1;\n",
       "}\n",
       "#T_76a2e_row12_col10, #T_76a2e_row13_col11, #T_76a2e_row13_col12, #T_76a2e_row15_col11 {\n",
       "  background-color: #e46e56;\n",
       "  color: #f1f1f1;\n",
       "}\n",
       "#T_76a2e_row12_col11, #T_76a2e_row13_col15 {\n",
       "  background-color: #de614d;\n",
       "  color: #f1f1f1;\n",
       "}\n",
       "#T_76a2e_row12_col24, #T_76a2e_row13_col28, #T_76a2e_row13_col29, #T_76a2e_row17_col25, #T_76a2e_row18_col29, #T_76a2e_row18_col36, #T_76a2e_row30_col23, #T_76a2e_row30_col29, #T_76a2e_row30_col35, #T_76a2e_row34_col25 {\n",
       "  background-color: #cdd9ec;\n",
       "  color: #000000;\n",
       "}\n",
       "#T_76a2e_row13_col25, #T_76a2e_row27_col36 {\n",
       "  background-color: #c1d4f4;\n",
       "  color: #000000;\n",
       "}\n",
       "#T_76a2e_row14_col15 {\n",
       "  background-color: #e57058;\n",
       "  color: #f1f1f1;\n",
       "}\n",
       "#T_76a2e_row15_col13 {\n",
       "  background-color: #df634e;\n",
       "  color: #f1f1f1;\n",
       "}\n",
       "#T_76a2e_row16_col19 {\n",
       "  background-color: #f7ac8e;\n",
       "  color: #000000;\n",
       "}\n",
       "#T_76a2e_row16_col20 {\n",
       "  background-color: #f18d6f;\n",
       "  color: #f1f1f1;\n",
       "}\n",
       "#T_76a2e_row16_col21 {\n",
       "  background-color: #f39778;\n",
       "  color: #000000;\n",
       "}\n",
       "#T_76a2e_row16_col22 {\n",
       "  background-color: #f7a98b;\n",
       "  color: #000000;\n",
       "}\n",
       "#T_76a2e_row16_col23 {\n",
       "  background-color: #f6a385;\n",
       "  color: #000000;\n",
       "}\n",
       "#T_76a2e_row16_col25 {\n",
       "  background-color: #e5d8d1;\n",
       "  color: #000000;\n",
       "}\n",
       "#T_76a2e_row17_col15, #T_76a2e_row25_col17, #T_76a2e_row26_col6, #T_76a2e_row30_col7, #T_76a2e_row32_col6 {\n",
       "  background-color: #6788ee;\n",
       "  color: #f1f1f1;\n",
       "}\n",
       "#T_76a2e_row18_col17, #T_76a2e_row26_col4 {\n",
       "  background-color: #afcafc;\n",
       "  color: #000000;\n",
       "}\n",
       "#T_76a2e_row18_col19, #T_76a2e_row18_col22, #T_76a2e_row19_col18, #T_76a2e_row22_col18 {\n",
       "  background-color: #d0473d;\n",
       "  color: #f1f1f1;\n",
       "}\n",
       "#T_76a2e_row18_col20, #T_76a2e_row20_col18 {\n",
       "  background-color: #cd423b;\n",
       "  color: #f1f1f1;\n",
       "}\n",
       "#T_76a2e_row18_col21, #T_76a2e_row21_col18 {\n",
       "  background-color: #cb3e38;\n",
       "  color: #f1f1f1;\n",
       "}\n",
       "#T_76a2e_row18_col23 {\n",
       "  background-color: #d1493f;\n",
       "  color: #f1f1f1;\n",
       "}\n",
       "#T_76a2e_row18_col24, #T_76a2e_row33_col36 {\n",
       "  background-color: #b3cdfb;\n",
       "  color: #000000;\n",
       "}\n",
       "#T_76a2e_row18_col30, #T_76a2e_row26_col18, #T_76a2e_row26_col21, #T_76a2e_row29_col0, #T_76a2e_row33_col21, #T_76a2e_row33_col23 {\n",
       "  background-color: #a9c6fd;\n",
       "  color: #000000;\n",
       "}\n",
       "#T_76a2e_row19_col16 {\n",
       "  background-color: #f7b093;\n",
       "  color: #000000;\n",
       "}\n",
       "#T_76a2e_row19_col20, #T_76a2e_row20_col19, #T_76a2e_row20_col22, #T_76a2e_row22_col20 {\n",
       "  background-color: #c32e31;\n",
       "  color: #f1f1f1;\n",
       "}\n",
       "#T_76a2e_row19_col21, #T_76a2e_row20_col23, #T_76a2e_row21_col19, #T_76a2e_row23_col20 {\n",
       "  background-color: #c12b30;\n",
       "  color: #f1f1f1;\n",
       "}\n",
       "#T_76a2e_row19_col22, #T_76a2e_row22_col19 {\n",
       "  background-color: #c43032;\n",
       "  color: #f1f1f1;\n",
       "}\n",
       "#T_76a2e_row19_col23, #T_76a2e_row23_col19 {\n",
       "  background-color: #c73635;\n",
       "  color: #f1f1f1;\n",
       "}\n",
       "#T_76a2e_row19_col25 {\n",
       "  background-color: #e7d7ce;\n",
       "  color: #000000;\n",
       "}\n",
       "#T_76a2e_row19_col28, #T_76a2e_row20_col28, #T_76a2e_row21_col28, #T_76a2e_row22_col28, #T_76a2e_row25_col36, #T_76a2e_row36_col25 {\n",
       "  background-color: #d6dce4;\n",
       "  color: #000000;\n",
       "}\n",
       "#T_76a2e_row20_col16 {\n",
       "  background-color: #f29274;\n",
       "  color: #f1f1f1;\n",
       "}\n",
       "#T_76a2e_row20_col21, #T_76a2e_row21_col20 {\n",
       "  background-color: #bd1f2d;\n",
       "  color: #f1f1f1;\n",
       "}\n",
       "#T_76a2e_row20_col25, #T_76a2e_row21_col25, #T_76a2e_row22_col25, #T_76a2e_row23_col25 {\n",
       "  background-color: #e8d6cc;\n",
       "  color: #000000;\n",
       "}\n",
       "#T_76a2e_row21_col16 {\n",
       "  background-color: #f59d7e;\n",
       "  color: #000000;\n",
       "}\n",
       "#T_76a2e_row21_col17, #T_76a2e_row27_col25, #T_76a2e_row31_col6, #T_76a2e_row33_col18 {\n",
       "  background-color: #a5c3fe;\n",
       "  color: #000000;\n",
       "}\n",
       "#T_76a2e_row21_col22, #T_76a2e_row21_col23, #T_76a2e_row22_col21, #T_76a2e_row23_col21 {\n",
       "  background-color: #c0282f;\n",
       "  color: #f1f1f1;\n",
       "}\n",
       "#T_76a2e_row22_col16 {\n",
       "  background-color: #f7ad90;\n",
       "  color: #000000;\n",
       "}\n",
       "#T_76a2e_row22_col23, #T_76a2e_row23_col22 {\n",
       "  background-color: #c53334;\n",
       "  color: #f1f1f1;\n",
       "}\n",
       "#T_76a2e_row23_col10, #T_76a2e_row23_col14, #T_76a2e_row27_col5, #T_76a2e_row31_col5 {\n",
       "  background-color: #3c4ec2;\n",
       "  color: #f1f1f1;\n",
       "}\n",
       "#T_76a2e_row23_col16 {\n",
       "  background-color: #f7a889;\n",
       "  color: #000000;\n",
       "}\n",
       "#T_76a2e_row23_col17, #T_76a2e_row24_col10, #T_76a2e_row27_col31, #T_76a2e_row28_col18, #T_76a2e_row30_col12 {\n",
       "  background-color: #a2c1ff;\n",
       "  color: #000000;\n",
       "}\n",
       "#T_76a2e_row23_col18 {\n",
       "  background-color: #d24b40;\n",
       "  color: #f1f1f1;\n",
       "}\n",
       "#T_76a2e_row24_col27 {\n",
       "  background-color: #f3c8b2;\n",
       "  color: #000000;\n",
       "}\n",
       "#T_76a2e_row24_col29 {\n",
       "  background-color: #ecd3c5;\n",
       "  color: #000000;\n",
       "}\n",
       "#T_76a2e_row24_col36, #T_76a2e_row25_col27, #T_76a2e_row36_col24 {\n",
       "  background-color: #b1cbfc;\n",
       "  color: #000000;\n",
       "}\n",
       "#T_76a2e_row25_col26 {\n",
       "  background-color: #f4c6af;\n",
       "  color: #000000;\n",
       "}\n",
       "#T_76a2e_row25_col28 {\n",
       "  background-color: #edd1c2;\n",
       "  color: #000000;\n",
       "}\n",
       "#T_76a2e_row26_col25 {\n",
       "  background-color: #f2cbb7;\n",
       "  color: #000000;\n",
       "}\n",
       "#T_76a2e_row26_col29, #T_76a2e_row27_col28 {\n",
       "  background-color: #eed0c0;\n",
       "  color: #000000;\n",
       "}\n",
       "#T_76a2e_row27_col29, #T_76a2e_row33_col31, #T_76a2e_row36_col0 {\n",
       "  background-color: #b2ccfb;\n",
       "  color: #000000;\n",
       "}\n",
       "#T_76a2e_row28_col27, #T_76a2e_row29_col26 {\n",
       "  background-color: #f0cdbb;\n",
       "  color: #000000;\n",
       "}\n",
       "#T_76a2e_row31_col24 {\n",
       "  background-color: #ead4c8;\n",
       "  color: #000000;\n",
       "}\n",
       "#T_76a2e_row32_col35, #T_76a2e_row34_col36, #T_76a2e_row37_col24 {\n",
       "  background-color: #c0d4f5;\n",
       "  color: #000000;\n",
       "}\n",
       "</style>\n",
       "<table id=\"T_76a2e\">\n",
       "  <thead>\n",
       "    <tr>\n",
       "      <th class=\"blank level0\" >&nbsp;</th>\n",
       "      <th id=\"T_76a2e_level0_col0\" class=\"col_heading level0 col0\" >A002</th>\n",
       "      <th id=\"T_76a2e_level0_col1\" class=\"col_heading level0 col1\" >A003</th>\n",
       "      <th id=\"T_76a2e_level0_col2\" class=\"col_heading level0 col2\" >A004</th>\n",
       "      <th id=\"T_76a2e_level0_col3\" class=\"col_heading level0 col3\" >A005</th>\n",
       "      <th id=\"T_76a2e_level0_col4\" class=\"col_heading level0 col4\" >UF</th>\n",
       "      <th id=\"T_76a2e_level0_col5\" class=\"col_heading level0 col5\" >V1012</th>\n",
       "      <th id=\"T_76a2e_level0_col6\" class=\"col_heading level0 col6\" >V1022</th>\n",
       "      <th id=\"T_76a2e_level0_col7\" class=\"col_heading level0 col7\" >B0101</th>\n",
       "      <th id=\"T_76a2e_level0_col8\" class=\"col_heading level0 col8\" >B0102</th>\n",
       "      <th id=\"T_76a2e_level0_col9\" class=\"col_heading level0 col9\" >B0103</th>\n",
       "      <th id=\"T_76a2e_level0_col10\" class=\"col_heading level0 col10\" >B0011</th>\n",
       "      <th id=\"T_76a2e_level0_col11\" class=\"col_heading level0 col11\" >B0012</th>\n",
       "      <th id=\"T_76a2e_level0_col12\" class=\"col_heading level0 col12\" >B0013</th>\n",
       "      <th id=\"T_76a2e_level0_col13\" class=\"col_heading level0 col13\" >B0014</th>\n",
       "      <th id=\"T_76a2e_level0_col14\" class=\"col_heading level0 col14\" >B0015</th>\n",
       "      <th id=\"T_76a2e_level0_col15\" class=\"col_heading level0 col15\" >B0019</th>\n",
       "      <th id=\"T_76a2e_level0_col16\" class=\"col_heading level0 col16\" >B005</th>\n",
       "      <th id=\"T_76a2e_level0_col17\" class=\"col_heading level0 col17\" >B006</th>\n",
       "      <th id=\"T_76a2e_level0_col18\" class=\"col_heading level0 col18\" >B0041</th>\n",
       "      <th id=\"T_76a2e_level0_col19\" class=\"col_heading level0 col19\" >B0042</th>\n",
       "      <th id=\"T_76a2e_level0_col20\" class=\"col_heading level0 col20\" >B0044</th>\n",
       "      <th id=\"T_76a2e_level0_col21\" class=\"col_heading level0 col21\" >B0045</th>\n",
       "      <th id=\"T_76a2e_level0_col22\" class=\"col_heading level0 col22\" >B0043</th>\n",
       "      <th id=\"T_76a2e_level0_col23\" class=\"col_heading level0 col23\" >B0046</th>\n",
       "      <th id=\"T_76a2e_level0_col24\" class=\"col_heading level0 col24\" >B009A</th>\n",
       "      <th id=\"T_76a2e_level0_col25\" class=\"col_heading level0 col25\" >B009B</th>\n",
       "      <th id=\"T_76a2e_level0_col26\" class=\"col_heading level0 col26\" >B009C</th>\n",
       "      <th id=\"T_76a2e_level0_col27\" class=\"col_heading level0 col27\" >B009D</th>\n",
       "      <th id=\"T_76a2e_level0_col28\" class=\"col_heading level0 col28\" >B009E</th>\n",
       "      <th id=\"T_76a2e_level0_col29\" class=\"col_heading level0 col29\" >B009F</th>\n",
       "      <th id=\"T_76a2e_level0_col30\" class=\"col_heading level0 col30\" >B011</th>\n",
       "      <th id=\"T_76a2e_level0_col31\" class=\"col_heading level0 col31\" >B007</th>\n",
       "      <th id=\"T_76a2e_level0_col32\" class=\"col_heading level0 col32\" >C013</th>\n",
       "      <th id=\"T_76a2e_level0_col33\" class=\"col_heading level0 col33\" >C002</th>\n",
       "      <th id=\"T_76a2e_level0_col34\" class=\"col_heading level0 col34\" >C004</th>\n",
       "      <th id=\"T_76a2e_level0_col35\" class=\"col_heading level0 col35\" >D0053</th>\n",
       "      <th id=\"T_76a2e_level0_col36\" class=\"col_heading level0 col36\" >D0051</th>\n",
       "      <th id=\"T_76a2e_level0_col37\" class=\"col_heading level0 col37\" >mes_numero</th>\n",
       "    </tr>\n",
       "  </thead>\n",
       "  <tbody>\n",
       "    <tr>\n",
       "      <th id=\"T_76a2e_level0_row0\" class=\"row_heading level0 row0\" >A002</th>\n",
       "      <td id=\"T_76a2e_row0_col0\" class=\"data row0 col0\" >1.000000</td>\n",
       "      <td id=\"T_76a2e_row0_col1\" class=\"data row0 col1\" >0.016698</td>\n",
       "      <td id=\"T_76a2e_row0_col2\" class=\"data row0 col2\" >-0.042290</td>\n",
       "      <td id=\"T_76a2e_row0_col3\" class=\"data row0 col3\" >-0.047567</td>\n",
       "      <td id=\"T_76a2e_row0_col4\" class=\"data row0 col4\" >0.030785</td>\n",
       "      <td id=\"T_76a2e_row0_col5\" class=\"data row0 col5\" >0.003306</td>\n",
       "      <td id=\"T_76a2e_row0_col6\" class=\"data row0 col6\" >0.004263</td>\n",
       "      <td id=\"T_76a2e_row0_col7\" class=\"data row0 col7\" >-0.228634</td>\n",
       "      <td id=\"T_76a2e_row0_col8\" class=\"data row0 col8\" >-0.387129</td>\n",
       "      <td id=\"T_76a2e_row0_col9\" class=\"data row0 col9\" >-0.005048</td>\n",
       "      <td id=\"T_76a2e_row0_col10\" class=\"data row0 col10\" >0.008571</td>\n",
       "      <td id=\"T_76a2e_row0_col11\" class=\"data row0 col11\" >-0.012167</td>\n",
       "      <td id=\"T_76a2e_row0_col12\" class=\"data row0 col12\" >0.005959</td>\n",
       "      <td id=\"T_76a2e_row0_col13\" class=\"data row0 col13\" >-0.017073</td>\n",
       "      <td id=\"T_76a2e_row0_col14\" class=\"data row0 col14\" >-0.006143</td>\n",
       "      <td id=\"T_76a2e_row0_col15\" class=\"data row0 col15\" >-0.028699</td>\n",
       "      <td id=\"T_76a2e_row0_col16\" class=\"data row0 col16\" >0.003906</td>\n",
       "      <td id=\"T_76a2e_row0_col17\" class=\"data row0 col17\" >0.057258</td>\n",
       "      <td id=\"T_76a2e_row0_col18\" class=\"data row0 col18\" >0.010497</td>\n",
       "      <td id=\"T_76a2e_row0_col19\" class=\"data row0 col19\" >0.009237</td>\n",
       "      <td id=\"T_76a2e_row0_col20\" class=\"data row0 col20\" >0.007896</td>\n",
       "      <td id=\"T_76a2e_row0_col21\" class=\"data row0 col21\" >0.006324</td>\n",
       "      <td id=\"T_76a2e_row0_col22\" class=\"data row0 col22\" >0.006619</td>\n",
       "      <td id=\"T_76a2e_row0_col23\" class=\"data row0 col23\" >0.007233</td>\n",
       "      <td id=\"T_76a2e_row0_col24\" class=\"data row0 col24\" >-0.018540</td>\n",
       "      <td id=\"T_76a2e_row0_col25\" class=\"data row0 col25\" >0.020148</td>\n",
       "      <td id=\"T_76a2e_row0_col26\" class=\"data row0 col26\" >0.024124</td>\n",
       "      <td id=\"T_76a2e_row0_col27\" class=\"data row0 col27\" >-0.020270</td>\n",
       "      <td id=\"T_76a2e_row0_col28\" class=\"data row0 col28\" >-0.071237</td>\n",
       "      <td id=\"T_76a2e_row0_col29\" class=\"data row0 col29\" >0.069475</td>\n",
       "      <td id=\"T_76a2e_row0_col30\" class=\"data row0 col30\" >0.057713</td>\n",
       "      <td id=\"T_76a2e_row0_col31\" class=\"data row0 col31\" >-0.033348</td>\n",
       "      <td id=\"T_76a2e_row0_col32\" class=\"data row0 col32\" >0.006115</td>\n",
       "      <td id=\"T_76a2e_row0_col33\" class=\"data row0 col33\" >0.251646</td>\n",
       "      <td id=\"T_76a2e_row0_col34\" class=\"data row0 col34\" >0.027369</td>\n",
       "      <td id=\"T_76a2e_row0_col35\" class=\"data row0 col35\" >-0.093625</td>\n",
       "      <td id=\"T_76a2e_row0_col36\" class=\"data row0 col36\" >0.106946</td>\n",
       "      <td id=\"T_76a2e_row0_col37\" class=\"data row0 col37\" >-0.005964</td>\n",
       "    </tr>\n",
       "    <tr>\n",
       "      <th id=\"T_76a2e_level0_row1\" class=\"row_heading level0 row1\" >A003</th>\n",
       "      <td id=\"T_76a2e_row1_col0\" class=\"data row1 col0\" >0.016698</td>\n",
       "      <td id=\"T_76a2e_row1_col1\" class=\"data row1 col1\" >1.000000</td>\n",
       "      <td id=\"T_76a2e_row1_col2\" class=\"data row1 col2\" >-0.006137</td>\n",
       "      <td id=\"T_76a2e_row1_col3\" class=\"data row1 col3\" >0.064115</td>\n",
       "      <td id=\"T_76a2e_row1_col4\" class=\"data row1 col4\" >0.000352</td>\n",
       "      <td id=\"T_76a2e_row1_col5\" class=\"data row1 col5\" >0.008614</td>\n",
       "      <td id=\"T_76a2e_row1_col6\" class=\"data row1 col6\" >-0.015036</td>\n",
       "      <td id=\"T_76a2e_row1_col7\" class=\"data row1 col7\" >-0.014847</td>\n",
       "      <td id=\"T_76a2e_row1_col8\" class=\"data row1 col8\" >-0.034037</td>\n",
       "      <td id=\"T_76a2e_row1_col9\" class=\"data row1 col9\" >-0.045692</td>\n",
       "      <td id=\"T_76a2e_row1_col10\" class=\"data row1 col10\" >0.006847</td>\n",
       "      <td id=\"T_76a2e_row1_col11\" class=\"data row1 col11\" >-0.001761</td>\n",
       "      <td id=\"T_76a2e_row1_col12\" class=\"data row1 col12\" >-0.011640</td>\n",
       "      <td id=\"T_76a2e_row1_col13\" class=\"data row1 col13\" >-0.007348</td>\n",
       "      <td id=\"T_76a2e_row1_col14\" class=\"data row1 col14\" >-0.022314</td>\n",
       "      <td id=\"T_76a2e_row1_col15\" class=\"data row1 col15\" >-0.009496</td>\n",
       "      <td id=\"T_76a2e_row1_col16\" class=\"data row1 col16\" >0.015460</td>\n",
       "      <td id=\"T_76a2e_row1_col17\" class=\"data row1 col17\" >-0.012934</td>\n",
       "      <td id=\"T_76a2e_row1_col18\" class=\"data row1 col18\" >0.013151</td>\n",
       "      <td id=\"T_76a2e_row1_col19\" class=\"data row1 col19\" >0.013536</td>\n",
       "      <td id=\"T_76a2e_row1_col20\" class=\"data row1 col20\" >0.016091</td>\n",
       "      <td id=\"T_76a2e_row1_col21\" class=\"data row1 col21\" >0.015295</td>\n",
       "      <td id=\"T_76a2e_row1_col22\" class=\"data row1 col22\" >0.013175</td>\n",
       "      <td id=\"T_76a2e_row1_col23\" class=\"data row1 col23\" >0.014909</td>\n",
       "      <td id=\"T_76a2e_row1_col24\" class=\"data row1 col24\" >0.014926</td>\n",
       "      <td id=\"T_76a2e_row1_col25\" class=\"data row1 col25\" >0.002761</td>\n",
       "      <td id=\"T_76a2e_row1_col26\" class=\"data row1 col26\" >-0.007465</td>\n",
       "      <td id=\"T_76a2e_row1_col27\" class=\"data row1 col27\" >0.003444</td>\n",
       "      <td id=\"T_76a2e_row1_col28\" class=\"data row1 col28\" >0.003082</td>\n",
       "      <td id=\"T_76a2e_row1_col29\" class=\"data row1 col29\" >0.001597</td>\n",
       "      <td id=\"T_76a2e_row1_col30\" class=\"data row1 col30\" >0.085940</td>\n",
       "      <td id=\"T_76a2e_row1_col31\" class=\"data row1 col31\" >0.010596</td>\n",
       "      <td id=\"T_76a2e_row1_col32\" class=\"data row1 col32\" >-0.033552</td>\n",
       "      <td id=\"T_76a2e_row1_col33\" class=\"data row1 col33\" >0.170399</td>\n",
       "      <td id=\"T_76a2e_row1_col34\" class=\"data row1 col34\" >0.012844</td>\n",
       "      <td id=\"T_76a2e_row1_col35\" class=\"data row1 col35\" >0.001535</td>\n",
       "      <td id=\"T_76a2e_row1_col36\" class=\"data row1 col36\" >-0.003733</td>\n",
       "      <td id=\"T_76a2e_row1_col37\" class=\"data row1 col37\" >-0.002559</td>\n",
       "    </tr>\n",
       "    <tr>\n",
       "      <th id=\"T_76a2e_level0_row2\" class=\"row_heading level0 row2\" >A004</th>\n",
       "      <td id=\"T_76a2e_row2_col0\" class=\"data row2 col0\" >-0.042290</td>\n",
       "      <td id=\"T_76a2e_row2_col1\" class=\"data row2 col1\" >-0.006137</td>\n",
       "      <td id=\"T_76a2e_row2_col2\" class=\"data row2 col2\" >1.000000</td>\n",
       "      <td id=\"T_76a2e_row2_col3\" class=\"data row2 col3\" >-0.130328</td>\n",
       "      <td id=\"T_76a2e_row2_col4\" class=\"data row2 col4\" >-0.245740</td>\n",
       "      <td id=\"T_76a2e_row2_col5\" class=\"data row2 col5\" >0.000929</td>\n",
       "      <td id=\"T_76a2e_row2_col6\" class=\"data row2 col6\" >0.058152</td>\n",
       "      <td id=\"T_76a2e_row2_col7\" class=\"data row2 col7\" >0.010188</td>\n",
       "      <td id=\"T_76a2e_row2_col8\" class=\"data row2 col8\" >0.005176</td>\n",
       "      <td id=\"T_76a2e_row2_col9\" class=\"data row2 col9\" >0.035718</td>\n",
       "      <td id=\"T_76a2e_row2_col10\" class=\"data row2 col10\" >0.017774</td>\n",
       "      <td id=\"T_76a2e_row2_col11\" class=\"data row2 col11\" >0.018375</td>\n",
       "      <td id=\"T_76a2e_row2_col12\" class=\"data row2 col12\" >0.013794</td>\n",
       "      <td id=\"T_76a2e_row2_col13\" class=\"data row2 col13\" >0.010740</td>\n",
       "      <td id=\"T_76a2e_row2_col14\" class=\"data row2 col14\" >0.018175</td>\n",
       "      <td id=\"T_76a2e_row2_col15\" class=\"data row2 col15\" >0.022220</td>\n",
       "      <td id=\"T_76a2e_row2_col16\" class=\"data row2 col16\" >-0.034009</td>\n",
       "      <td id=\"T_76a2e_row2_col17\" class=\"data row2 col17\" >-0.006029</td>\n",
       "      <td id=\"T_76a2e_row2_col18\" class=\"data row2 col18\" >-0.044444</td>\n",
       "      <td id=\"T_76a2e_row2_col19\" class=\"data row2 col19\" >-0.043499</td>\n",
       "      <td id=\"T_76a2e_row2_col20\" class=\"data row2 col20\" >-0.035301</td>\n",
       "      <td id=\"T_76a2e_row2_col21\" class=\"data row2 col21\" >-0.038075</td>\n",
       "      <td id=\"T_76a2e_row2_col22\" class=\"data row2 col22\" >-0.043533</td>\n",
       "      <td id=\"T_76a2e_row2_col23\" class=\"data row2 col23\" >-0.032997</td>\n",
       "      <td id=\"T_76a2e_row2_col24\" class=\"data row2 col24\" >0.126610</td>\n",
       "      <td id=\"T_76a2e_row2_col25\" class=\"data row2 col25\" >-0.094296</td>\n",
       "      <td id=\"T_76a2e_row2_col26\" class=\"data row2 col26\" >-0.062513</td>\n",
       "      <td id=\"T_76a2e_row2_col27\" class=\"data row2 col27\" >0.046102</td>\n",
       "      <td id=\"T_76a2e_row2_col28\" class=\"data row2 col28\" >-0.017957</td>\n",
       "      <td id=\"T_76a2e_row2_col29\" class=\"data row2 col29\" >0.000593</td>\n",
       "      <td id=\"T_76a2e_row2_col30\" class=\"data row2 col30\" >-0.005898</td>\n",
       "      <td id=\"T_76a2e_row2_col31\" class=\"data row2 col31\" >0.182130</td>\n",
       "      <td id=\"T_76a2e_row2_col32\" class=\"data row2 col32\" >-0.029337</td>\n",
       "      <td id=\"T_76a2e_row2_col33\" class=\"data row2 col33\" >0.042615</td>\n",
       "      <td id=\"T_76a2e_row2_col34\" class=\"data row2 col34\" >0.003777</td>\n",
       "      <td id=\"T_76a2e_row2_col35\" class=\"data row2 col35\" >0.127496</td>\n",
       "      <td id=\"T_76a2e_row2_col36\" class=\"data row2 col36\" >-0.160922</td>\n",
       "      <td id=\"T_76a2e_row2_col37\" class=\"data row2 col37\" >-0.024998</td>\n",
       "    </tr>\n",
       "    <tr>\n",
       "      <th id=\"T_76a2e_level0_row3\" class=\"row_heading level0 row3\" >A005</th>\n",
       "      <td id=\"T_76a2e_row3_col0\" class=\"data row3 col0\" >-0.047567</td>\n",
       "      <td id=\"T_76a2e_row3_col1\" class=\"data row3 col1\" >0.064115</td>\n",
       "      <td id=\"T_76a2e_row3_col2\" class=\"data row3 col2\" >-0.130328</td>\n",
       "      <td id=\"T_76a2e_row3_col3\" class=\"data row3 col3\" >1.000000</td>\n",
       "      <td id=\"T_76a2e_row3_col4\" class=\"data row3 col4\" >0.074607</td>\n",
       "      <td id=\"T_76a2e_row3_col5\" class=\"data row3 col5\" >0.008747</td>\n",
       "      <td id=\"T_76a2e_row3_col6\" class=\"data row3 col6\" >-0.211572</td>\n",
       "      <td id=\"T_76a2e_row3_col7\" class=\"data row3 col7\" >0.071583</td>\n",
       "      <td id=\"T_76a2e_row3_col8\" class=\"data row3 col8\" >0.124402</td>\n",
       "      <td id=\"T_76a2e_row3_col9\" class=\"data row3 col9\" >-0.027460</td>\n",
       "      <td id=\"T_76a2e_row3_col10\" class=\"data row3 col10\" >0.013202</td>\n",
       "      <td id=\"T_76a2e_row3_col11\" class=\"data row3 col11\" >0.006668</td>\n",
       "      <td id=\"T_76a2e_row3_col12\" class=\"data row3 col12\" >-0.001159</td>\n",
       "      <td id=\"T_76a2e_row3_col13\" class=\"data row3 col13\" >0.008293</td>\n",
       "      <td id=\"T_76a2e_row3_col14\" class=\"data row3 col14\" >-0.006403</td>\n",
       "      <td id=\"T_76a2e_row3_col15\" class=\"data row3 col15\" >-0.005350</td>\n",
       "      <td id=\"T_76a2e_row3_col16\" class=\"data row3 col16\" >0.020608</td>\n",
       "      <td id=\"T_76a2e_row3_col17\" class=\"data row3 col17\" >-0.018480</td>\n",
       "      <td id=\"T_76a2e_row3_col18\" class=\"data row3 col18\" >0.024638</td>\n",
       "      <td id=\"T_76a2e_row3_col19\" class=\"data row3 col19\" >0.015296</td>\n",
       "      <td id=\"T_76a2e_row3_col20\" class=\"data row3 col20\" >0.006008</td>\n",
       "      <td id=\"T_76a2e_row3_col21\" class=\"data row3 col21\" >0.008749</td>\n",
       "      <td id=\"T_76a2e_row3_col22\" class=\"data row3 col22\" >0.019656</td>\n",
       "      <td id=\"T_76a2e_row3_col23\" class=\"data row3 col23\" >0.001452</td>\n",
       "      <td id=\"T_76a2e_row3_col24\" class=\"data row3 col24\" >-0.147759</td>\n",
       "      <td id=\"T_76a2e_row3_col25\" class=\"data row3 col25\" >0.099752</td>\n",
       "      <td id=\"T_76a2e_row3_col26\" class=\"data row3 col26\" >0.063183</td>\n",
       "      <td id=\"T_76a2e_row3_col27\" class=\"data row3 col27\" >-0.032330</td>\n",
       "      <td id=\"T_76a2e_row3_col28\" class=\"data row3 col28\" >-0.019117</td>\n",
       "      <td id=\"T_76a2e_row3_col29\" class=\"data row3 col29\" >0.030175</td>\n",
       "      <td id=\"T_76a2e_row3_col30\" class=\"data row3 col30\" >-0.186064</td>\n",
       "      <td id=\"T_76a2e_row3_col31\" class=\"data row3 col31\" >-0.335159</td>\n",
       "      <td id=\"T_76a2e_row3_col32\" class=\"data row3 col32\" >0.170829</td>\n",
       "      <td id=\"T_76a2e_row3_col33\" class=\"data row3 col33\" >-0.228472</td>\n",
       "      <td id=\"T_76a2e_row3_col34\" class=\"data row3 col34\" >0.020116</td>\n",
       "      <td id=\"T_76a2e_row3_col35\" class=\"data row3 col35\" >-0.191639</td>\n",
       "      <td id=\"T_76a2e_row3_col36\" class=\"data row3 col36\" >0.236857</td>\n",
       "      <td id=\"T_76a2e_row3_col37\" class=\"data row3 col37\" >0.016126</td>\n",
       "    </tr>\n",
       "    <tr>\n",
       "      <th id=\"T_76a2e_level0_row4\" class=\"row_heading level0 row4\" >UF</th>\n",
       "      <td id=\"T_76a2e_row4_col0\" class=\"data row4 col0\" >0.030785</td>\n",
       "      <td id=\"T_76a2e_row4_col1\" class=\"data row4 col1\" >0.000352</td>\n",
       "      <td id=\"T_76a2e_row4_col2\" class=\"data row4 col2\" >-0.245740</td>\n",
       "      <td id=\"T_76a2e_row4_col3\" class=\"data row4 col3\" >0.074607</td>\n",
       "      <td id=\"T_76a2e_row4_col4\" class=\"data row4 col4\" >1.000000</td>\n",
       "      <td id=\"T_76a2e_row4_col5\" class=\"data row4 col5\" >0.002824</td>\n",
       "      <td id=\"T_76a2e_row4_col6\" class=\"data row4 col6\" >-0.105625</td>\n",
       "      <td id=\"T_76a2e_row4_col7\" class=\"data row4 col7\" >0.001856</td>\n",
       "      <td id=\"T_76a2e_row4_col8\" class=\"data row4 col8\" >-0.012320</td>\n",
       "      <td id=\"T_76a2e_row4_col9\" class=\"data row4 col9\" >-0.014627</td>\n",
       "      <td id=\"T_76a2e_row4_col10\" class=\"data row4 col10\" >-0.032564</td>\n",
       "      <td id=\"T_76a2e_row4_col11\" class=\"data row4 col11\" >-0.033625</td>\n",
       "      <td id=\"T_76a2e_row4_col12\" class=\"data row4 col12\" >-0.026606</td>\n",
       "      <td id=\"T_76a2e_row4_col13\" class=\"data row4 col13\" >-0.018386</td>\n",
       "      <td id=\"T_76a2e_row4_col14\" class=\"data row4 col14\" >-0.033426</td>\n",
       "      <td id=\"T_76a2e_row4_col15\" class=\"data row4 col15\" >-0.031243</td>\n",
       "      <td id=\"T_76a2e_row4_col16\" class=\"data row4 col16\" >0.070404</td>\n",
       "      <td id=\"T_76a2e_row4_col17\" class=\"data row4 col17\" >0.016734</td>\n",
       "      <td id=\"T_76a2e_row4_col18\" class=\"data row4 col18\" >0.086429</td>\n",
       "      <td id=\"T_76a2e_row4_col19\" class=\"data row4 col19\" >0.079018</td>\n",
       "      <td id=\"T_76a2e_row4_col20\" class=\"data row4 col20\" >0.076755</td>\n",
       "      <td id=\"T_76a2e_row4_col21\" class=\"data row4 col21\" >0.081996</td>\n",
       "      <td id=\"T_76a2e_row4_col22\" class=\"data row4 col22\" >0.084730</td>\n",
       "      <td id=\"T_76a2e_row4_col23\" class=\"data row4 col23\" >0.076011</td>\n",
       "      <td id=\"T_76a2e_row4_col24\" class=\"data row4 col24\" >-0.275519</td>\n",
       "      <td id=\"T_76a2e_row4_col25\" class=\"data row4 col25\" >0.191668</td>\n",
       "      <td id=\"T_76a2e_row4_col26\" class=\"data row4 col26\" >0.168856</td>\n",
       "      <td id=\"T_76a2e_row4_col27\" class=\"data row4 col27\" >-0.125251</td>\n",
       "      <td id=\"T_76a2e_row4_col28\" class=\"data row4 col28\" >0.028940</td>\n",
       "      <td id=\"T_76a2e_row4_col29\" class=\"data row4 col29\" >0.001321</td>\n",
       "      <td id=\"T_76a2e_row4_col30\" class=\"data row4 col30\" >0.027153</td>\n",
       "      <td id=\"T_76a2e_row4_col31\" class=\"data row4 col31\" >-0.174989</td>\n",
       "      <td id=\"T_76a2e_row4_col32\" class=\"data row4 col32\" >0.023735</td>\n",
       "      <td id=\"T_76a2e_row4_col33\" class=\"data row4 col33\" >-0.062979</td>\n",
       "      <td id=\"T_76a2e_row4_col34\" class=\"data row4 col34\" >-0.002539</td>\n",
       "      <td id=\"T_76a2e_row4_col35\" class=\"data row4 col35\" >-0.146431</td>\n",
       "      <td id=\"T_76a2e_row4_col36\" class=\"data row4 col36\" >0.161710</td>\n",
       "      <td id=\"T_76a2e_row4_col37\" class=\"data row4 col37\" >0.032401</td>\n",
       "    </tr>\n",
       "    <tr>\n",
       "      <th id=\"T_76a2e_level0_row5\" class=\"row_heading level0 row5\" >V1012</th>\n",
       "      <td id=\"T_76a2e_row5_col0\" class=\"data row5 col0\" >0.003306</td>\n",
       "      <td id=\"T_76a2e_row5_col1\" class=\"data row5 col1\" >0.008614</td>\n",
       "      <td id=\"T_76a2e_row5_col2\" class=\"data row5 col2\" >0.000929</td>\n",
       "      <td id=\"T_76a2e_row5_col3\" class=\"data row5 col3\" >0.008747</td>\n",
       "      <td id=\"T_76a2e_row5_col4\" class=\"data row5 col4\" >0.002824</td>\n",
       "      <td id=\"T_76a2e_row5_col5\" class=\"data row5 col5\" >1.000000</td>\n",
       "      <td id=\"T_76a2e_row5_col6\" class=\"data row5 col6\" >0.002149</td>\n",
       "      <td id=\"T_76a2e_row5_col7\" class=\"data row5 col7\" >0.006147</td>\n",
       "      <td id=\"T_76a2e_row5_col8\" class=\"data row5 col8\" >-0.000117</td>\n",
       "      <td id=\"T_76a2e_row5_col9\" class=\"data row5 col9\" >0.006052</td>\n",
       "      <td id=\"T_76a2e_row5_col10\" class=\"data row5 col10\" >-0.007316</td>\n",
       "      <td id=\"T_76a2e_row5_col11\" class=\"data row5 col11\" >-0.005712</td>\n",
       "      <td id=\"T_76a2e_row5_col12\" class=\"data row5 col12\" >-0.009204</td>\n",
       "      <td id=\"T_76a2e_row5_col13\" class=\"data row5 col13\" >-0.006551</td>\n",
       "      <td id=\"T_76a2e_row5_col14\" class=\"data row5 col14\" >-0.009138</td>\n",
       "      <td id=\"T_76a2e_row5_col15\" class=\"data row5 col15\" >-0.007221</td>\n",
       "      <td id=\"T_76a2e_row5_col16\" class=\"data row5 col16\" >0.014405</td>\n",
       "      <td id=\"T_76a2e_row5_col17\" class=\"data row5 col17\" >-0.005020</td>\n",
       "      <td id=\"T_76a2e_row5_col18\" class=\"data row5 col18\" >0.012432</td>\n",
       "      <td id=\"T_76a2e_row5_col19\" class=\"data row5 col19\" >0.008475</td>\n",
       "      <td id=\"T_76a2e_row5_col20\" class=\"data row5 col20\" >0.011514</td>\n",
       "      <td id=\"T_76a2e_row5_col21\" class=\"data row5 col21\" >0.012633</td>\n",
       "      <td id=\"T_76a2e_row5_col22\" class=\"data row5 col22\" >0.012063</td>\n",
       "      <td id=\"T_76a2e_row5_col23\" class=\"data row5 col23\" >0.009638</td>\n",
       "      <td id=\"T_76a2e_row5_col24\" class=\"data row5 col24\" >-0.010806</td>\n",
       "      <td id=\"T_76a2e_row5_col25\" class=\"data row5 col25\" >0.017612</td>\n",
       "      <td id=\"T_76a2e_row5_col26\" class=\"data row5 col26\" >0.024827</td>\n",
       "      <td id=\"T_76a2e_row5_col27\" class=\"data row5 col27\" >-0.013871</td>\n",
       "      <td id=\"T_76a2e_row5_col28\" class=\"data row5 col28\" >-0.011162</td>\n",
       "      <td id=\"T_76a2e_row5_col29\" class=\"data row5 col29\" >0.004768</td>\n",
       "      <td id=\"T_76a2e_row5_col30\" class=\"data row5 col30\" >0.000674</td>\n",
       "      <td id=\"T_76a2e_row5_col31\" class=\"data row5 col31\" >-0.013782</td>\n",
       "      <td id=\"T_76a2e_row5_col32\" class=\"data row5 col32\" >0.002483</td>\n",
       "      <td id=\"T_76a2e_row5_col33\" class=\"data row5 col33\" >0.022167</td>\n",
       "      <td id=\"T_76a2e_row5_col34\" class=\"data row5 col34\" >-0.007439</td>\n",
       "      <td id=\"T_76a2e_row5_col35\" class=\"data row5 col35\" >-0.020630</td>\n",
       "      <td id=\"T_76a2e_row5_col36\" class=\"data row5 col36\" >0.002501</td>\n",
       "      <td id=\"T_76a2e_row5_col37\" class=\"data row5 col37\" >0.007902</td>\n",
       "    </tr>\n",
       "    <tr>\n",
       "      <th id=\"T_76a2e_level0_row6\" class=\"row_heading level0 row6\" >V1022</th>\n",
       "      <td id=\"T_76a2e_row6_col0\" class=\"data row6 col0\" >0.004263</td>\n",
       "      <td id=\"T_76a2e_row6_col1\" class=\"data row6 col1\" >-0.015036</td>\n",
       "      <td id=\"T_76a2e_row6_col2\" class=\"data row6 col2\" >0.058152</td>\n",
       "      <td id=\"T_76a2e_row6_col3\" class=\"data row6 col3\" >-0.211572</td>\n",
       "      <td id=\"T_76a2e_row6_col4\" class=\"data row6 col4\" >-0.105625</td>\n",
       "      <td id=\"T_76a2e_row6_col5\" class=\"data row6 col5\" >0.002149</td>\n",
       "      <td id=\"T_76a2e_row6_col6\" class=\"data row6 col6\" >1.000000</td>\n",
       "      <td id=\"T_76a2e_row6_col7\" class=\"data row6 col7\" >-0.000468</td>\n",
       "      <td id=\"T_76a2e_row6_col8\" class=\"data row6 col8\" >-0.009054</td>\n",
       "      <td id=\"T_76a2e_row6_col9\" class=\"data row6 col9\" >0.013955</td>\n",
       "      <td id=\"T_76a2e_row6_col10\" class=\"data row6 col10\" >-0.008607</td>\n",
       "      <td id=\"T_76a2e_row6_col11\" class=\"data row6 col11\" >-0.007887</td>\n",
       "      <td id=\"T_76a2e_row6_col12\" class=\"data row6 col12\" >-0.005821</td>\n",
       "      <td id=\"T_76a2e_row6_col13\" class=\"data row6 col13\" >-0.003706</td>\n",
       "      <td id=\"T_76a2e_row6_col14\" class=\"data row6 col14\" >-0.003370</td>\n",
       "      <td id=\"T_76a2e_row6_col15\" class=\"data row6 col15\" >0.000230</td>\n",
       "      <td id=\"T_76a2e_row6_col16\" class=\"data row6 col16\" >-0.018107</td>\n",
       "      <td id=\"T_76a2e_row6_col17\" class=\"data row6 col17\" >-0.003260</td>\n",
       "      <td id=\"T_76a2e_row6_col18\" class=\"data row6 col18\" >-0.021039</td>\n",
       "      <td id=\"T_76a2e_row6_col19\" class=\"data row6 col19\" >-0.012025</td>\n",
       "      <td id=\"T_76a2e_row6_col20\" class=\"data row6 col20\" >-0.012823</td>\n",
       "      <td id=\"T_76a2e_row6_col21\" class=\"data row6 col21\" >-0.014571</td>\n",
       "      <td id=\"T_76a2e_row6_col22\" class=\"data row6 col22\" >-0.021387</td>\n",
       "      <td id=\"T_76a2e_row6_col23\" class=\"data row6 col23\" >-0.010382</td>\n",
       "      <td id=\"T_76a2e_row6_col24\" class=\"data row6 col24\" >0.127262</td>\n",
       "      <td id=\"T_76a2e_row6_col25\" class=\"data row6 col25\" >-0.093545</td>\n",
       "      <td id=\"T_76a2e_row6_col26\" class=\"data row6 col26\" >-0.038720</td>\n",
       "      <td id=\"T_76a2e_row6_col27\" class=\"data row6 col27\" >0.021625</td>\n",
       "      <td id=\"T_76a2e_row6_col28\" class=\"data row6 col28\" >-0.034398</td>\n",
       "      <td id=\"T_76a2e_row6_col29\" class=\"data row6 col29\" >0.016997</td>\n",
       "      <td id=\"T_76a2e_row6_col30\" class=\"data row6 col30\" >0.040909</td>\n",
       "      <td id=\"T_76a2e_row6_col31\" class=\"data row6 col31\" >0.174983</td>\n",
       "      <td id=\"T_76a2e_row6_col32\" class=\"data row6 col32\" >-0.040818</td>\n",
       "      <td id=\"T_76a2e_row6_col33\" class=\"data row6 col33\" >0.065065</td>\n",
       "      <td id=\"T_76a2e_row6_col34\" class=\"data row6 col34\" >0.006491</td>\n",
       "      <td id=\"T_76a2e_row6_col35\" class=\"data row6 col35\" >0.090183</td>\n",
       "      <td id=\"T_76a2e_row6_col36\" class=\"data row6 col36\" >-0.104313</td>\n",
       "      <td id=\"T_76a2e_row6_col37\" class=\"data row6 col37\" >-0.009355</td>\n",
       "    </tr>\n",
       "    <tr>\n",
       "      <th id=\"T_76a2e_level0_row7\" class=\"row_heading level0 row7\" >B0101</th>\n",
       "      <td id=\"T_76a2e_row7_col0\" class=\"data row7 col0\" >-0.228634</td>\n",
       "      <td id=\"T_76a2e_row7_col1\" class=\"data row7 col1\" >-0.014847</td>\n",
       "      <td id=\"T_76a2e_row7_col2\" class=\"data row7 col2\" >0.010188</td>\n",
       "      <td id=\"T_76a2e_row7_col3\" class=\"data row7 col3\" >0.071583</td>\n",
       "      <td id=\"T_76a2e_row7_col4\" class=\"data row7 col4\" >0.001856</td>\n",
       "      <td id=\"T_76a2e_row7_col5\" class=\"data row7 col5\" >0.006147</td>\n",
       "      <td id=\"T_76a2e_row7_col6\" class=\"data row7 col6\" >-0.000468</td>\n",
       "      <td id=\"T_76a2e_row7_col7\" class=\"data row7 col7\" >1.000000</td>\n",
       "      <td id=\"T_76a2e_row7_col8\" class=\"data row7 col8\" >0.496645</td>\n",
       "      <td id=\"T_76a2e_row7_col9\" class=\"data row7 col9\" >0.361544</td>\n",
       "      <td id=\"T_76a2e_row7_col10\" class=\"data row7 col10\" >-0.006806</td>\n",
       "      <td id=\"T_76a2e_row7_col11\" class=\"data row7 col11\" >0.016055</td>\n",
       "      <td id=\"T_76a2e_row7_col12\" class=\"data row7 col12\" >0.003802</td>\n",
       "      <td id=\"T_76a2e_row7_col13\" class=\"data row7 col13\" >0.018486</td>\n",
       "      <td id=\"T_76a2e_row7_col14\" class=\"data row7 col14\" >0.006278</td>\n",
       "      <td id=\"T_76a2e_row7_col15\" class=\"data row7 col15\" >0.018905</td>\n",
       "      <td id=\"T_76a2e_row7_col16\" class=\"data row7 col16\" >-0.005327</td>\n",
       "      <td id=\"T_76a2e_row7_col17\" class=\"data row7 col17\" >-0.028930</td>\n",
       "      <td id=\"T_76a2e_row7_col18\" class=\"data row7 col18\" >-0.005790</td>\n",
       "      <td id=\"T_76a2e_row7_col19\" class=\"data row7 col19\" >0.006204</td>\n",
       "      <td id=\"T_76a2e_row7_col20\" class=\"data row7 col20\" >0.005629</td>\n",
       "      <td id=\"T_76a2e_row7_col21\" class=\"data row7 col21\" >0.007645</td>\n",
       "      <td id=\"T_76a2e_row7_col22\" class=\"data row7 col22\" >0.007123</td>\n",
       "      <td id=\"T_76a2e_row7_col23\" class=\"data row7 col23\" >0.005972</td>\n",
       "      <td id=\"T_76a2e_row7_col24\" class=\"data row7 col24\" >-0.000730</td>\n",
       "      <td id=\"T_76a2e_row7_col25\" class=\"data row7 col25\" >-0.007131</td>\n",
       "      <td id=\"T_76a2e_row7_col26\" class=\"data row7 col26\" >0.001852</td>\n",
       "      <td id=\"T_76a2e_row7_col27\" class=\"data row7 col27\" >0.010467</td>\n",
       "      <td id=\"T_76a2e_row7_col28\" class=\"data row7 col28\" >0.032592</td>\n",
       "      <td id=\"T_76a2e_row7_col29\" class=\"data row7 col29\" >-0.025452</td>\n",
       "      <td id=\"T_76a2e_row7_col30\" class=\"data row7 col30\" >-0.052124</td>\n",
       "      <td id=\"T_76a2e_row7_col31\" class=\"data row7 col31\" >0.037081</td>\n",
       "      <td id=\"T_76a2e_row7_col32\" class=\"data row7 col32\" >0.022558</td>\n",
       "      <td id=\"T_76a2e_row7_col33\" class=\"data row7 col33\" >-0.107416</td>\n",
       "      <td id=\"T_76a2e_row7_col34\" class=\"data row7 col34\" >-0.005529</td>\n",
       "      <td id=\"T_76a2e_row7_col35\" class=\"data row7 col35\" >-0.002384</td>\n",
       "      <td id=\"T_76a2e_row7_col36\" class=\"data row7 col36\" >0.002015</td>\n",
       "      <td id=\"T_76a2e_row7_col37\" class=\"data row7 col37\" >0.003916</td>\n",
       "    </tr>\n",
       "    <tr>\n",
       "      <th id=\"T_76a2e_level0_row8\" class=\"row_heading level0 row8\" >B0102</th>\n",
       "      <td id=\"T_76a2e_row8_col0\" class=\"data row8 col0\" >-0.387129</td>\n",
       "      <td id=\"T_76a2e_row8_col1\" class=\"data row8 col1\" >-0.034037</td>\n",
       "      <td id=\"T_76a2e_row8_col2\" class=\"data row8 col2\" >0.005176</td>\n",
       "      <td id=\"T_76a2e_row8_col3\" class=\"data row8 col3\" >0.124402</td>\n",
       "      <td id=\"T_76a2e_row8_col4\" class=\"data row8 col4\" >-0.012320</td>\n",
       "      <td id=\"T_76a2e_row8_col5\" class=\"data row8 col5\" >-0.000117</td>\n",
       "      <td id=\"T_76a2e_row8_col6\" class=\"data row8 col6\" >-0.009054</td>\n",
       "      <td id=\"T_76a2e_row8_col7\" class=\"data row8 col7\" >0.496645</td>\n",
       "      <td id=\"T_76a2e_row8_col8\" class=\"data row8 col8\" >1.000000</td>\n",
       "      <td id=\"T_76a2e_row8_col9\" class=\"data row8 col9\" >0.292156</td>\n",
       "      <td id=\"T_76a2e_row8_col10\" class=\"data row8 col10\" >-0.000106</td>\n",
       "      <td id=\"T_76a2e_row8_col11\" class=\"data row8 col11\" >0.023161</td>\n",
       "      <td id=\"T_76a2e_row8_col12\" class=\"data row8 col12\" >0.013136</td>\n",
       "      <td id=\"T_76a2e_row8_col13\" class=\"data row8 col13\" >0.023660</td>\n",
       "      <td id=\"T_76a2e_row8_col14\" class=\"data row8 col14\" >0.014310</td>\n",
       "      <td id=\"T_76a2e_row8_col15\" class=\"data row8 col15\" >0.027273</td>\n",
       "      <td id=\"T_76a2e_row8_col16\" class=\"data row8 col16\" >-0.008458</td>\n",
       "      <td id=\"T_76a2e_row8_col17\" class=\"data row8 col17\" >-0.043032</td>\n",
       "      <td id=\"T_76a2e_row8_col18\" class=\"data row8 col18\" >-0.018061</td>\n",
       "      <td id=\"T_76a2e_row8_col19\" class=\"data row8 col19\" >-0.008837</td>\n",
       "      <td id=\"T_76a2e_row8_col20\" class=\"data row8 col20\" >-0.009256</td>\n",
       "      <td id=\"T_76a2e_row8_col21\" class=\"data row8 col21\" >-0.009398</td>\n",
       "      <td id=\"T_76a2e_row8_col22\" class=\"data row8 col22\" >-0.005303</td>\n",
       "      <td id=\"T_76a2e_row8_col23\" class=\"data row8 col23\" >-0.009321</td>\n",
       "      <td id=\"T_76a2e_row8_col24\" class=\"data row8 col24\" >-0.003018</td>\n",
       "      <td id=\"T_76a2e_row8_col25\" class=\"data row8 col25\" >-0.015014</td>\n",
       "      <td id=\"T_76a2e_row8_col26\" class=\"data row8 col26\" >-0.008218</td>\n",
       "      <td id=\"T_76a2e_row8_col27\" class=\"data row8 col27\" >0.006051</td>\n",
       "      <td id=\"T_76a2e_row8_col28\" class=\"data row8 col28\" >0.039892</td>\n",
       "      <td id=\"T_76a2e_row8_col29\" class=\"data row8 col29\" >-0.035785</td>\n",
       "      <td id=\"T_76a2e_row8_col30\" class=\"data row8 col30\" >-0.081113</td>\n",
       "      <td id=\"T_76a2e_row8_col31\" class=\"data row8 col31\" >0.017589</td>\n",
       "      <td id=\"T_76a2e_row8_col32\" class=\"data row8 col32\" >0.031353</td>\n",
       "      <td id=\"T_76a2e_row8_col33\" class=\"data row8 col33\" >-0.168102</td>\n",
       "      <td id=\"T_76a2e_row8_col34\" class=\"data row8 col34\" >-0.018905</td>\n",
       "      <td id=\"T_76a2e_row8_col35\" class=\"data row8 col35\" >0.005050</td>\n",
       "      <td id=\"T_76a2e_row8_col36\" class=\"data row8 col36\" >-0.000439</td>\n",
       "      <td id=\"T_76a2e_row8_col37\" class=\"data row8 col37\" >0.003133</td>\n",
       "    </tr>\n",
       "    <tr>\n",
       "      <th id=\"T_76a2e_level0_row9\" class=\"row_heading level0 row9\" >B0103</th>\n",
       "      <td id=\"T_76a2e_row9_col0\" class=\"data row9 col0\" >-0.005048</td>\n",
       "      <td id=\"T_76a2e_row9_col1\" class=\"data row9 col1\" >-0.045692</td>\n",
       "      <td id=\"T_76a2e_row9_col2\" class=\"data row9 col2\" >0.035718</td>\n",
       "      <td id=\"T_76a2e_row9_col3\" class=\"data row9 col3\" >-0.027460</td>\n",
       "      <td id=\"T_76a2e_row9_col4\" class=\"data row9 col4\" >-0.014627</td>\n",
       "      <td id=\"T_76a2e_row9_col5\" class=\"data row9 col5\" >0.006052</td>\n",
       "      <td id=\"T_76a2e_row9_col6\" class=\"data row9 col6\" >0.013955</td>\n",
       "      <td id=\"T_76a2e_row9_col7\" class=\"data row9 col7\" >0.361544</td>\n",
       "      <td id=\"T_76a2e_row9_col8\" class=\"data row9 col8\" >0.292156</td>\n",
       "      <td id=\"T_76a2e_row9_col9\" class=\"data row9 col9\" >1.000000</td>\n",
       "      <td id=\"T_76a2e_row9_col10\" class=\"data row9 col10\" >0.003181</td>\n",
       "      <td id=\"T_76a2e_row9_col11\" class=\"data row9 col11\" >0.021317</td>\n",
       "      <td id=\"T_76a2e_row9_col12\" class=\"data row9 col12\" >0.024390</td>\n",
       "      <td id=\"T_76a2e_row9_col13\" class=\"data row9 col13\" >0.037530</td>\n",
       "      <td id=\"T_76a2e_row9_col14\" class=\"data row9 col14\" >0.026514</td>\n",
       "      <td id=\"T_76a2e_row9_col15\" class=\"data row9 col15\" >0.028668</td>\n",
       "      <td id=\"T_76a2e_row9_col16\" class=\"data row9 col16\" >-0.004317</td>\n",
       "      <td id=\"T_76a2e_row9_col17\" class=\"data row9 col17\" >-0.019982</td>\n",
       "      <td id=\"T_76a2e_row9_col18\" class=\"data row9 col18\" >-0.011022</td>\n",
       "      <td id=\"T_76a2e_row9_col19\" class=\"data row9 col19\" >-0.001317</td>\n",
       "      <td id=\"T_76a2e_row9_col20\" class=\"data row9 col20\" >0.000866</td>\n",
       "      <td id=\"T_76a2e_row9_col21\" class=\"data row9 col21\" >-0.001268</td>\n",
       "      <td id=\"T_76a2e_row9_col22\" class=\"data row9 col22\" >-0.001431</td>\n",
       "      <td id=\"T_76a2e_row9_col23\" class=\"data row9 col23\" >0.000283</td>\n",
       "      <td id=\"T_76a2e_row9_col24\" class=\"data row9 col24\" >0.018177</td>\n",
       "      <td id=\"T_76a2e_row9_col25\" class=\"data row9 col25\" >-0.026402</td>\n",
       "      <td id=\"T_76a2e_row9_col26\" class=\"data row9 col26\" >-0.001765</td>\n",
       "      <td id=\"T_76a2e_row9_col27\" class=\"data row9 col27\" >-0.001626</td>\n",
       "      <td id=\"T_76a2e_row9_col28\" class=\"data row9 col28\" >0.012673</td>\n",
       "      <td id=\"T_76a2e_row9_col29\" class=\"data row9 col29\" >-0.016537</td>\n",
       "      <td id=\"T_76a2e_row9_col30\" class=\"data row9 col30\" >-0.010829</td>\n",
       "      <td id=\"T_76a2e_row9_col31\" class=\"data row9 col31\" >0.075043</td>\n",
       "      <td id=\"T_76a2e_row9_col32\" class=\"data row9 col32\" >0.009781</td>\n",
       "      <td id=\"T_76a2e_row9_col33\" class=\"data row9 col33\" >-0.028701</td>\n",
       "      <td id=\"T_76a2e_row9_col34\" class=\"data row9 col34\" >-0.015204</td>\n",
       "      <td id=\"T_76a2e_row9_col35\" class=\"data row9 col35\" >-0.002865</td>\n",
       "      <td id=\"T_76a2e_row9_col36\" class=\"data row9 col36\" >-0.005953</td>\n",
       "      <td id=\"T_76a2e_row9_col37\" class=\"data row9 col37\" >0.000583</td>\n",
       "    </tr>\n",
       "    <tr>\n",
       "      <th id=\"T_76a2e_level0_row10\" class=\"row_heading level0 row10\" >B0011</th>\n",
       "      <td id=\"T_76a2e_row10_col0\" class=\"data row10 col0\" >0.008571</td>\n",
       "      <td id=\"T_76a2e_row10_col1\" class=\"data row10 col1\" >0.006847</td>\n",
       "      <td id=\"T_76a2e_row10_col2\" class=\"data row10 col2\" >0.017774</td>\n",
       "      <td id=\"T_76a2e_row10_col3\" class=\"data row10 col3\" >0.013202</td>\n",
       "      <td id=\"T_76a2e_row10_col4\" class=\"data row10 col4\" >-0.032564</td>\n",
       "      <td id=\"T_76a2e_row10_col5\" class=\"data row10 col5\" >-0.007316</td>\n",
       "      <td id=\"T_76a2e_row10_col6\" class=\"data row10 col6\" >-0.008607</td>\n",
       "      <td id=\"T_76a2e_row10_col7\" class=\"data row10 col7\" >-0.006806</td>\n",
       "      <td id=\"T_76a2e_row10_col8\" class=\"data row10 col8\" >-0.000106</td>\n",
       "      <td id=\"T_76a2e_row10_col9\" class=\"data row10 col9\" >0.003181</td>\n",
       "      <td id=\"T_76a2e_row10_col10\" class=\"data row10 col10\" >1.000000</td>\n",
       "      <td id=\"T_76a2e_row10_col11\" class=\"data row10 col11\" >0.798248</td>\n",
       "      <td id=\"T_76a2e_row10_col12\" class=\"data row10 col12\" >0.785950</td>\n",
       "      <td id=\"T_76a2e_row10_col13\" class=\"data row10 col13\" >0.759486</td>\n",
       "      <td id=\"T_76a2e_row10_col14\" class=\"data row10 col14\" >0.794132</td>\n",
       "      <td id=\"T_76a2e_row10_col15\" class=\"data row10 col15\" >0.763436</td>\n",
       "      <td id=\"T_76a2e_row10_col16\" class=\"data row10 col16\" >-0.328389</td>\n",
       "      <td id=\"T_76a2e_row10_col17\" class=\"data row10 col17\" >-0.127012</td>\n",
       "      <td id=\"T_76a2e_row10_col18\" class=\"data row10 col18\" >-0.388386</td>\n",
       "      <td id=\"T_76a2e_row10_col19\" class=\"data row10 col19\" >-0.386150</td>\n",
       "      <td id=\"T_76a2e_row10_col20\" class=\"data row10 col20\" >-0.400493</td>\n",
       "      <td id=\"T_76a2e_row10_col21\" class=\"data row10 col21\" >-0.404482</td>\n",
       "      <td id=\"T_76a2e_row10_col22\" class=\"data row10 col22\" >-0.393046</td>\n",
       "      <td id=\"T_76a2e_row10_col23\" class=\"data row10 col23\" >-0.396334</td>\n",
       "      <td id=\"T_76a2e_row10_col24\" class=\"data row10 col24\" >0.031897</td>\n",
       "      <td id=\"T_76a2e_row10_col25\" class=\"data row10 col25\" >-0.072372</td>\n",
       "      <td id=\"T_76a2e_row10_col26\" class=\"data row10 col26\" >-0.006874</td>\n",
       "      <td id=\"T_76a2e_row10_col27\" class=\"data row10 col27\" >-0.008385</td>\n",
       "      <td id=\"T_76a2e_row10_col28\" class=\"data row10 col28\" >-0.027053</td>\n",
       "      <td id=\"T_76a2e_row10_col29\" class=\"data row10 col29\" >0.005846</td>\n",
       "      <td id=\"T_76a2e_row10_col30\" class=\"data row10 col30\" >0.063183</td>\n",
       "      <td id=\"T_76a2e_row10_col31\" class=\"data row10 col31\" >-0.008104</td>\n",
       "      <td id=\"T_76a2e_row10_col32\" class=\"data row10 col32\" >0.001187</td>\n",
       "      <td id=\"T_76a2e_row10_col33\" class=\"data row10 col33\" >-0.029966</td>\n",
       "      <td id=\"T_76a2e_row10_col34\" class=\"data row10 col34\" >-0.075716</td>\n",
       "      <td id=\"T_76a2e_row10_col35\" class=\"data row10 col35\" >-0.009784</td>\n",
       "      <td id=\"T_76a2e_row10_col36\" class=\"data row10 col36\" >0.008174</td>\n",
       "      <td id=\"T_76a2e_row10_col37\" class=\"data row10 col37\" >0.018120</td>\n",
       "    </tr>\n",
       "    <tr>\n",
       "      <th id=\"T_76a2e_level0_row11\" class=\"row_heading level0 row11\" >B0012</th>\n",
       "      <td id=\"T_76a2e_row11_col0\" class=\"data row11 col0\" >-0.012167</td>\n",
       "      <td id=\"T_76a2e_row11_col1\" class=\"data row11 col1\" >-0.001761</td>\n",
       "      <td id=\"T_76a2e_row11_col2\" class=\"data row11 col2\" >0.018375</td>\n",
       "      <td id=\"T_76a2e_row11_col3\" class=\"data row11 col3\" >0.006668</td>\n",
       "      <td id=\"T_76a2e_row11_col4\" class=\"data row11 col4\" >-0.033625</td>\n",
       "      <td id=\"T_76a2e_row11_col5\" class=\"data row11 col5\" >-0.005712</td>\n",
       "      <td id=\"T_76a2e_row11_col6\" class=\"data row11 col6\" >-0.007887</td>\n",
       "      <td id=\"T_76a2e_row11_col7\" class=\"data row11 col7\" >0.016055</td>\n",
       "      <td id=\"T_76a2e_row11_col8\" class=\"data row11 col8\" >0.023161</td>\n",
       "      <td id=\"T_76a2e_row11_col9\" class=\"data row11 col9\" >0.021317</td>\n",
       "      <td id=\"T_76a2e_row11_col10\" class=\"data row11 col10\" >0.798248</td>\n",
       "      <td id=\"T_76a2e_row11_col11\" class=\"data row11 col11\" >1.000000</td>\n",
       "      <td id=\"T_76a2e_row11_col12\" class=\"data row11 col12\" >0.823521</td>\n",
       "      <td id=\"T_76a2e_row11_col13\" class=\"data row11 col13\" >0.788131</td>\n",
       "      <td id=\"T_76a2e_row11_col14\" class=\"data row11 col14\" >0.765668</td>\n",
       "      <td id=\"T_76a2e_row11_col15\" class=\"data row11 col15\" >0.788104</td>\n",
       "      <td id=\"T_76a2e_row11_col16\" class=\"data row11 col16\" >-0.306692</td>\n",
       "      <td id=\"T_76a2e_row11_col17\" class=\"data row11 col17\" >-0.121185</td>\n",
       "      <td id=\"T_76a2e_row11_col18\" class=\"data row11 col18\" >-0.342525</td>\n",
       "      <td id=\"T_76a2e_row11_col19\" class=\"data row11 col19\" >-0.340673</td>\n",
       "      <td id=\"T_76a2e_row11_col20\" class=\"data row11 col20\" >-0.356048</td>\n",
       "      <td id=\"T_76a2e_row11_col21\" class=\"data row11 col21\" >-0.356841</td>\n",
       "      <td id=\"T_76a2e_row11_col22\" class=\"data row11 col22\" >-0.345613</td>\n",
       "      <td id=\"T_76a2e_row11_col23\" class=\"data row11 col23\" >-0.373908</td>\n",
       "      <td id=\"T_76a2e_row11_col24\" class=\"data row11 col24\" >0.035087</td>\n",
       "      <td id=\"T_76a2e_row11_col25\" class=\"data row11 col25\" >-0.089874</td>\n",
       "      <td id=\"T_76a2e_row11_col26\" class=\"data row11 col26\" >-0.005026</td>\n",
       "      <td id=\"T_76a2e_row11_col27\" class=\"data row11 col27\" >-0.004456</td>\n",
       "      <td id=\"T_76a2e_row11_col28\" class=\"data row11 col28\" >-0.018882</td>\n",
       "      <td id=\"T_76a2e_row11_col29\" class=\"data row11 col29\" >-0.000775</td>\n",
       "      <td id=\"T_76a2e_row11_col30\" class=\"data row11 col30\" >0.058348</td>\n",
       "      <td id=\"T_76a2e_row11_col31\" class=\"data row11 col31\" >-0.000547</td>\n",
       "      <td id=\"T_76a2e_row11_col32\" class=\"data row11 col32\" >0.000799</td>\n",
       "      <td id=\"T_76a2e_row11_col33\" class=\"data row11 col33\" >-0.035428</td>\n",
       "      <td id=\"T_76a2e_row11_col34\" class=\"data row11 col34\" >-0.075491</td>\n",
       "      <td id=\"T_76a2e_row11_col35\" class=\"data row11 col35\" >-0.004014</td>\n",
       "      <td id=\"T_76a2e_row11_col36\" class=\"data row11 col36\" >0.005002</td>\n",
       "      <td id=\"T_76a2e_row11_col37\" class=\"data row11 col37\" >0.011299</td>\n",
       "    </tr>\n",
       "    <tr>\n",
       "      <th id=\"T_76a2e_level0_row12\" class=\"row_heading level0 row12\" >B0013</th>\n",
       "      <td id=\"T_76a2e_row12_col0\" class=\"data row12 col0\" >0.005959</td>\n",
       "      <td id=\"T_76a2e_row12_col1\" class=\"data row12 col1\" >-0.011640</td>\n",
       "      <td id=\"T_76a2e_row12_col2\" class=\"data row12 col2\" >0.013794</td>\n",
       "      <td id=\"T_76a2e_row12_col3\" class=\"data row12 col3\" >-0.001159</td>\n",
       "      <td id=\"T_76a2e_row12_col4\" class=\"data row12 col4\" >-0.026606</td>\n",
       "      <td id=\"T_76a2e_row12_col5\" class=\"data row12 col5\" >-0.009204</td>\n",
       "      <td id=\"T_76a2e_row12_col6\" class=\"data row12 col6\" >-0.005821</td>\n",
       "      <td id=\"T_76a2e_row12_col7\" class=\"data row12 col7\" >0.003802</td>\n",
       "      <td id=\"T_76a2e_row12_col8\" class=\"data row12 col8\" >0.013136</td>\n",
       "      <td id=\"T_76a2e_row12_col9\" class=\"data row12 col9\" >0.024390</td>\n",
       "      <td id=\"T_76a2e_row12_col10\" class=\"data row12 col10\" >0.785950</td>\n",
       "      <td id=\"T_76a2e_row12_col11\" class=\"data row12 col11\" >0.823521</td>\n",
       "      <td id=\"T_76a2e_row12_col12\" class=\"data row12 col12\" >1.000000</td>\n",
       "      <td id=\"T_76a2e_row12_col13\" class=\"data row12 col13\" >0.794449</td>\n",
       "      <td id=\"T_76a2e_row12_col14\" class=\"data row12 col14\" >0.773669</td>\n",
       "      <td id=\"T_76a2e_row12_col15\" class=\"data row12 col15\" >0.785878</td>\n",
       "      <td id=\"T_76a2e_row12_col16\" class=\"data row12 col16\" >-0.262451</td>\n",
       "      <td id=\"T_76a2e_row12_col17\" class=\"data row12 col17\" >-0.086872</td>\n",
       "      <td id=\"T_76a2e_row12_col18\" class=\"data row12 col18\" >-0.285578</td>\n",
       "      <td id=\"T_76a2e_row12_col19\" class=\"data row12 col19\" >-0.292193</td>\n",
       "      <td id=\"T_76a2e_row12_col20\" class=\"data row12 col20\" >-0.314051</td>\n",
       "      <td id=\"T_76a2e_row12_col21\" class=\"data row12 col21\" >-0.307034</td>\n",
       "      <td id=\"T_76a2e_row12_col22\" class=\"data row12 col22\" >-0.300287</td>\n",
       "      <td id=\"T_76a2e_row12_col23\" class=\"data row12 col23\" >-0.327576</td>\n",
       "      <td id=\"T_76a2e_row12_col24\" class=\"data row12 col24\" >0.025340</td>\n",
       "      <td id=\"T_76a2e_row12_col25\" class=\"data row12 col25\" >-0.080942</td>\n",
       "      <td id=\"T_76a2e_row12_col26\" class=\"data row12 col26\" >-0.000077</td>\n",
       "      <td id=\"T_76a2e_row12_col27\" class=\"data row12 col27\" >-0.009981</td>\n",
       "      <td id=\"T_76a2e_row12_col28\" class=\"data row12 col28\" >-0.015842</td>\n",
       "      <td id=\"T_76a2e_row12_col29\" class=\"data row12 col29\" >0.001441</td>\n",
       "      <td id=\"T_76a2e_row12_col30\" class=\"data row12 col30\" >0.084738</td>\n",
       "      <td id=\"T_76a2e_row12_col31\" class=\"data row12 col31\" >-0.001684</td>\n",
       "      <td id=\"T_76a2e_row12_col32\" class=\"data row12 col32\" >-0.004140</td>\n",
       "      <td id=\"T_76a2e_row12_col33\" class=\"data row12 col33\" >-0.023450</td>\n",
       "      <td id=\"T_76a2e_row12_col34\" class=\"data row12 col34\" >-0.064944</td>\n",
       "      <td id=\"T_76a2e_row12_col35\" class=\"data row12 col35\" >-0.002884</td>\n",
       "      <td id=\"T_76a2e_row12_col36\" class=\"data row12 col36\" >0.006123</td>\n",
       "      <td id=\"T_76a2e_row12_col37\" class=\"data row12 col37\" >0.006938</td>\n",
       "    </tr>\n",
       "    <tr>\n",
       "      <th id=\"T_76a2e_level0_row13\" class=\"row_heading level0 row13\" >B0014</th>\n",
       "      <td id=\"T_76a2e_row13_col0\" class=\"data row13 col0\" >-0.017073</td>\n",
       "      <td id=\"T_76a2e_row13_col1\" class=\"data row13 col1\" >-0.007348</td>\n",
       "      <td id=\"T_76a2e_row13_col2\" class=\"data row13 col2\" >0.010740</td>\n",
       "      <td id=\"T_76a2e_row13_col3\" class=\"data row13 col3\" >0.008293</td>\n",
       "      <td id=\"T_76a2e_row13_col4\" class=\"data row13 col4\" >-0.018386</td>\n",
       "      <td id=\"T_76a2e_row13_col5\" class=\"data row13 col5\" >-0.006551</td>\n",
       "      <td id=\"T_76a2e_row13_col6\" class=\"data row13 col6\" >-0.003706</td>\n",
       "      <td id=\"T_76a2e_row13_col7\" class=\"data row13 col7\" >0.018486</td>\n",
       "      <td id=\"T_76a2e_row13_col8\" class=\"data row13 col8\" >0.023660</td>\n",
       "      <td id=\"T_76a2e_row13_col9\" class=\"data row13 col9\" >0.037530</td>\n",
       "      <td id=\"T_76a2e_row13_col10\" class=\"data row13 col10\" >0.759486</td>\n",
       "      <td id=\"T_76a2e_row13_col11\" class=\"data row13 col11\" >0.788131</td>\n",
       "      <td id=\"T_76a2e_row13_col12\" class=\"data row13 col12\" >0.794449</td>\n",
       "      <td id=\"T_76a2e_row13_col13\" class=\"data row13 col13\" >1.000000</td>\n",
       "      <td id=\"T_76a2e_row13_col14\" class=\"data row13 col14\" >0.760303</td>\n",
       "      <td id=\"T_76a2e_row13_col15\" class=\"data row13 col15\" >0.836042</td>\n",
       "      <td id=\"T_76a2e_row13_col16\" class=\"data row13 col16\" >-0.211821</td>\n",
       "      <td id=\"T_76a2e_row13_col17\" class=\"data row13 col17\" >-0.139135</td>\n",
       "      <td id=\"T_76a2e_row13_col18\" class=\"data row13 col18\" >-0.212892</td>\n",
       "      <td id=\"T_76a2e_row13_col19\" class=\"data row13 col19\" >-0.197326</td>\n",
       "      <td id=\"T_76a2e_row13_col20\" class=\"data row13 col20\" >-0.218974</td>\n",
       "      <td id=\"T_76a2e_row13_col21\" class=\"data row13 col21\" >-0.218009</td>\n",
       "      <td id=\"T_76a2e_row13_col22\" class=\"data row13 col22\" >-0.202520</td>\n",
       "      <td id=\"T_76a2e_row13_col23\" class=\"data row13 col23\" >-0.235807</td>\n",
       "      <td id=\"T_76a2e_row13_col24\" class=\"data row13 col24\" >0.012984</td>\n",
       "      <td id=\"T_76a2e_row13_col25\" class=\"data row13 col25\" >-0.040421</td>\n",
       "      <td id=\"T_76a2e_row13_col26\" class=\"data row13 col26\" >0.008681</td>\n",
       "      <td id=\"T_76a2e_row13_col27\" class=\"data row13 col27\" >-0.010387</td>\n",
       "      <td id=\"T_76a2e_row13_col28\" class=\"data row13 col28\" >-0.003641</td>\n",
       "      <td id=\"T_76a2e_row13_col29\" class=\"data row13 col29\" >-0.003626</td>\n",
       "      <td id=\"T_76a2e_row13_col30\" class=\"data row13 col30\" >0.130715</td>\n",
       "      <td id=\"T_76a2e_row13_col31\" class=\"data row13 col31\" >-0.005718</td>\n",
       "      <td id=\"T_76a2e_row13_col32\" class=\"data row13 col32\" >0.002930</td>\n",
       "      <td id=\"T_76a2e_row13_col33\" class=\"data row13 col33\" >-0.030014</td>\n",
       "      <td id=\"T_76a2e_row13_col34\" class=\"data row13 col34\" >-0.043259</td>\n",
       "      <td id=\"T_76a2e_row13_col35\" class=\"data row13 col35\" >-0.004836</td>\n",
       "      <td id=\"T_76a2e_row13_col36\" class=\"data row13 col36\" >0.010110</td>\n",
       "      <td id=\"T_76a2e_row13_col37\" class=\"data row13 col37\" >0.014680</td>\n",
       "    </tr>\n",
       "    <tr>\n",
       "      <th id=\"T_76a2e_level0_row14\" class=\"row_heading level0 row14\" >B0015</th>\n",
       "      <td id=\"T_76a2e_row14_col0\" class=\"data row14 col0\" >-0.006143</td>\n",
       "      <td id=\"T_76a2e_row14_col1\" class=\"data row14 col1\" >-0.022314</td>\n",
       "      <td id=\"T_76a2e_row14_col2\" class=\"data row14 col2\" >0.018175</td>\n",
       "      <td id=\"T_76a2e_row14_col3\" class=\"data row14 col3\" >-0.006403</td>\n",
       "      <td id=\"T_76a2e_row14_col4\" class=\"data row14 col4\" >-0.033426</td>\n",
       "      <td id=\"T_76a2e_row14_col5\" class=\"data row14 col5\" >-0.009138</td>\n",
       "      <td id=\"T_76a2e_row14_col6\" class=\"data row14 col6\" >-0.003370</td>\n",
       "      <td id=\"T_76a2e_row14_col7\" class=\"data row14 col7\" >0.006278</td>\n",
       "      <td id=\"T_76a2e_row14_col8\" class=\"data row14 col8\" >0.014310</td>\n",
       "      <td id=\"T_76a2e_row14_col9\" class=\"data row14 col9\" >0.026514</td>\n",
       "      <td id=\"T_76a2e_row14_col10\" class=\"data row14 col10\" >0.794132</td>\n",
       "      <td id=\"T_76a2e_row14_col11\" class=\"data row14 col11\" >0.765668</td>\n",
       "      <td id=\"T_76a2e_row14_col12\" class=\"data row14 col12\" >0.773669</td>\n",
       "      <td id=\"T_76a2e_row14_col13\" class=\"data row14 col13\" >0.760303</td>\n",
       "      <td id=\"T_76a2e_row14_col14\" class=\"data row14 col14\" >1.000000</td>\n",
       "      <td id=\"T_76a2e_row14_col15\" class=\"data row14 col15\" >0.791872</td>\n",
       "      <td id=\"T_76a2e_row14_col16\" class=\"data row14 col16\" >-0.332186</td>\n",
       "      <td id=\"T_76a2e_row14_col17\" class=\"data row14 col17\" >-0.102093</td>\n",
       "      <td id=\"T_76a2e_row14_col18\" class=\"data row14 col18\" >-0.388826</td>\n",
       "      <td id=\"T_76a2e_row14_col19\" class=\"data row14 col19\" >-0.386257</td>\n",
       "      <td id=\"T_76a2e_row14_col20\" class=\"data row14 col20\" >-0.401854</td>\n",
       "      <td id=\"T_76a2e_row14_col21\" class=\"data row14 col21\" >-0.404839</td>\n",
       "      <td id=\"T_76a2e_row14_col22\" class=\"data row14 col22\" >-0.392510</td>\n",
       "      <td id=\"T_76a2e_row14_col23\" class=\"data row14 col23\" >-0.397889</td>\n",
       "      <td id=\"T_76a2e_row14_col24\" class=\"data row14 col24\" >0.036025</td>\n",
       "      <td id=\"T_76a2e_row14_col25\" class=\"data row14 col25\" >-0.092877</td>\n",
       "      <td id=\"T_76a2e_row14_col26\" class=\"data row14 col26\" >-0.005227</td>\n",
       "      <td id=\"T_76a2e_row14_col27\" class=\"data row14 col27\" >-0.007602</td>\n",
       "      <td id=\"T_76a2e_row14_col28\" class=\"data row14 col28\" >-0.016617</td>\n",
       "      <td id=\"T_76a2e_row14_col29\" class=\"data row14 col29\" >0.001235</td>\n",
       "      <td id=\"T_76a2e_row14_col30\" class=\"data row14 col30\" >0.050756</td>\n",
       "      <td id=\"T_76a2e_row14_col31\" class=\"data row14 col31\" >0.000354</td>\n",
       "      <td id=\"T_76a2e_row14_col32\" class=\"data row14 col32\" >-0.003412</td>\n",
       "      <td id=\"T_76a2e_row14_col33\" class=\"data row14 col33\" >-0.034299</td>\n",
       "      <td id=\"T_76a2e_row14_col34\" class=\"data row14 col34\" >-0.084201</td>\n",
       "      <td id=\"T_76a2e_row14_col35\" class=\"data row14 col35\" >-0.005152</td>\n",
       "      <td id=\"T_76a2e_row14_col36\" class=\"data row14 col36\" >0.008352</td>\n",
       "      <td id=\"T_76a2e_row14_col37\" class=\"data row14 col37\" >0.017919</td>\n",
       "    </tr>\n",
       "    <tr>\n",
       "      <th id=\"T_76a2e_level0_row15\" class=\"row_heading level0 row15\" >B0019</th>\n",
       "      <td id=\"T_76a2e_row15_col0\" class=\"data row15 col0\" >-0.028699</td>\n",
       "      <td id=\"T_76a2e_row15_col1\" class=\"data row15 col1\" >-0.009496</td>\n",
       "      <td id=\"T_76a2e_row15_col2\" class=\"data row15 col2\" >0.022220</td>\n",
       "      <td id=\"T_76a2e_row15_col3\" class=\"data row15 col3\" >-0.005350</td>\n",
       "      <td id=\"T_76a2e_row15_col4\" class=\"data row15 col4\" >-0.031243</td>\n",
       "      <td id=\"T_76a2e_row15_col5\" class=\"data row15 col5\" >-0.007221</td>\n",
       "      <td id=\"T_76a2e_row15_col6\" class=\"data row15 col6\" >0.000230</td>\n",
       "      <td id=\"T_76a2e_row15_col7\" class=\"data row15 col7\" >0.018905</td>\n",
       "      <td id=\"T_76a2e_row15_col8\" class=\"data row15 col8\" >0.027273</td>\n",
       "      <td id=\"T_76a2e_row15_col9\" class=\"data row15 col9\" >0.028668</td>\n",
       "      <td id=\"T_76a2e_row15_col10\" class=\"data row15 col10\" >0.763436</td>\n",
       "      <td id=\"T_76a2e_row15_col11\" class=\"data row15 col11\" >0.788104</td>\n",
       "      <td id=\"T_76a2e_row15_col12\" class=\"data row15 col12\" >0.785878</td>\n",
       "      <td id=\"T_76a2e_row15_col13\" class=\"data row15 col13\" >0.836042</td>\n",
       "      <td id=\"T_76a2e_row15_col14\" class=\"data row15 col14\" >0.791872</td>\n",
       "      <td id=\"T_76a2e_row15_col15\" class=\"data row15 col15\" >1.000000</td>\n",
       "      <td id=\"T_76a2e_row15_col16\" class=\"data row15 col16\" >-0.274120</td>\n",
       "      <td id=\"T_76a2e_row15_col17\" class=\"data row15 col17\" >-0.123120</td>\n",
       "      <td id=\"T_76a2e_row15_col18\" class=\"data row15 col18\" >-0.288697</td>\n",
       "      <td id=\"T_76a2e_row15_col19\" class=\"data row15 col19\" >-0.275418</td>\n",
       "      <td id=\"T_76a2e_row15_col20\" class=\"data row15 col20\" >-0.294615</td>\n",
       "      <td id=\"T_76a2e_row15_col21\" class=\"data row15 col21\" >-0.296178</td>\n",
       "      <td id=\"T_76a2e_row15_col22\" class=\"data row15 col22\" >-0.286251</td>\n",
       "      <td id=\"T_76a2e_row15_col23\" class=\"data row15 col23\" >-0.307653</td>\n",
       "      <td id=\"T_76a2e_row15_col24\" class=\"data row15 col24\" >0.031342</td>\n",
       "      <td id=\"T_76a2e_row15_col25\" class=\"data row15 col25\" >-0.067317</td>\n",
       "      <td id=\"T_76a2e_row15_col26\" class=\"data row15 col26\" >-0.002328</td>\n",
       "      <td id=\"T_76a2e_row15_col27\" class=\"data row15 col27\" >-0.003302</td>\n",
       "      <td id=\"T_76a2e_row15_col28\" class=\"data row15 col28\" >-0.012608</td>\n",
       "      <td id=\"T_76a2e_row15_col29\" class=\"data row15 col29\" >0.001524</td>\n",
       "      <td id=\"T_76a2e_row15_col30\" class=\"data row15 col30\" >0.079495</td>\n",
       "      <td id=\"T_76a2e_row15_col31\" class=\"data row15 col31\" >0.003233</td>\n",
       "      <td id=\"T_76a2e_row15_col32\" class=\"data row15 col32\" >-0.001175</td>\n",
       "      <td id=\"T_76a2e_row15_col33\" class=\"data row15 col33\" >-0.034088</td>\n",
       "      <td id=\"T_76a2e_row15_col34\" class=\"data row15 col34\" >-0.070909</td>\n",
       "      <td id=\"T_76a2e_row15_col35\" class=\"data row15 col35\" >0.002740</td>\n",
       "      <td id=\"T_76a2e_row15_col36\" class=\"data row15 col36\" >0.000592</td>\n",
       "      <td id=\"T_76a2e_row15_col37\" class=\"data row15 col37\" >0.013079</td>\n",
       "    </tr>\n",
       "    <tr>\n",
       "      <th id=\"T_76a2e_level0_row16\" class=\"row_heading level0 row16\" >B005</th>\n",
       "      <td id=\"T_76a2e_row16_col0\" class=\"data row16 col0\" >0.003906</td>\n",
       "      <td id=\"T_76a2e_row16_col1\" class=\"data row16 col1\" >0.015460</td>\n",
       "      <td id=\"T_76a2e_row16_col2\" class=\"data row16 col2\" >-0.034009</td>\n",
       "      <td id=\"T_76a2e_row16_col3\" class=\"data row16 col3\" >0.020608</td>\n",
       "      <td id=\"T_76a2e_row16_col4\" class=\"data row16 col4\" >0.070404</td>\n",
       "      <td id=\"T_76a2e_row16_col5\" class=\"data row16 col5\" >0.014405</td>\n",
       "      <td id=\"T_76a2e_row16_col6\" class=\"data row16 col6\" >-0.018107</td>\n",
       "      <td id=\"T_76a2e_row16_col7\" class=\"data row16 col7\" >-0.005327</td>\n",
       "      <td id=\"T_76a2e_row16_col8\" class=\"data row16 col8\" >-0.008458</td>\n",
       "      <td id=\"T_76a2e_row16_col9\" class=\"data row16 col9\" >-0.004317</td>\n",
       "      <td id=\"T_76a2e_row16_col10\" class=\"data row16 col10\" >-0.328389</td>\n",
       "      <td id=\"T_76a2e_row16_col11\" class=\"data row16 col11\" >-0.306692</td>\n",
       "      <td id=\"T_76a2e_row16_col12\" class=\"data row16 col12\" >-0.262451</td>\n",
       "      <td id=\"T_76a2e_row16_col13\" class=\"data row16 col13\" >-0.211821</td>\n",
       "      <td id=\"T_76a2e_row16_col14\" class=\"data row16 col14\" >-0.332186</td>\n",
       "      <td id=\"T_76a2e_row16_col15\" class=\"data row16 col15\" >-0.274120</td>\n",
       "      <td id=\"T_76a2e_row16_col16\" class=\"data row16 col16\" >1.000000</td>\n",
       "      <td id=\"T_76a2e_row16_col17\" class=\"data row16 col17\" >0.165034</td>\n",
       "      <td id=\"T_76a2e_row16_col18\" class=\"data row16 col18\" >0.772468</td>\n",
       "      <td id=\"T_76a2e_row16_col19\" class=\"data row16 col19\" >0.583786</td>\n",
       "      <td id=\"T_76a2e_row16_col20\" class=\"data row16 col20\" >0.690406</td>\n",
       "      <td id=\"T_76a2e_row16_col21\" class=\"data row16 col21\" >0.656192</td>\n",
       "      <td id=\"T_76a2e_row16_col22\" class=\"data row16 col22\" >0.596384</td>\n",
       "      <td id=\"T_76a2e_row16_col23\" class=\"data row16 col23\" >0.617317</td>\n",
       "      <td id=\"T_76a2e_row16_col24\" class=\"data row16 col24\" >-0.107185</td>\n",
       "      <td id=\"T_76a2e_row16_col25\" class=\"data row16 col25\" >0.185609</td>\n",
       "      <td id=\"T_76a2e_row16_col26\" class=\"data row16 col26\" >0.048787</td>\n",
       "      <td id=\"T_76a2e_row16_col27\" class=\"data row16 col27\" >-0.013541</td>\n",
       "      <td id=\"T_76a2e_row16_col28\" class=\"data row16 col28\" >0.039616</td>\n",
       "      <td id=\"T_76a2e_row16_col29\" class=\"data row16 col29\" >-0.000718</td>\n",
       "      <td id=\"T_76a2e_row16_col30\" class=\"data row16 col30\" >0.164665</td>\n",
       "      <td id=\"T_76a2e_row16_col31\" class=\"data row16 col31\" >-0.036525</td>\n",
       "      <td id=\"T_76a2e_row16_col32\" class=\"data row16 col32\" >-0.003478</td>\n",
       "      <td id=\"T_76a2e_row16_col33\" class=\"data row16 col33\" >0.046076</td>\n",
       "      <td id=\"T_76a2e_row16_col34\" class=\"data row16 col34\" >0.114172</td>\n",
       "      <td id=\"T_76a2e_row16_col35\" class=\"data row16 col35\" >-0.018848</td>\n",
       "      <td id=\"T_76a2e_row16_col36\" class=\"data row16 col36\" >0.019747</td>\n",
       "      <td id=\"T_76a2e_row16_col37\" class=\"data row16 col37\" >-0.004555</td>\n",
       "    </tr>\n",
       "    <tr>\n",
       "      <th id=\"T_76a2e_level0_row17\" class=\"row_heading level0 row17\" >B006</th>\n",
       "      <td id=\"T_76a2e_row17_col0\" class=\"data row17 col0\" >0.057258</td>\n",
       "      <td id=\"T_76a2e_row17_col1\" class=\"data row17 col1\" >-0.012934</td>\n",
       "      <td id=\"T_76a2e_row17_col2\" class=\"data row17 col2\" >-0.006029</td>\n",
       "      <td id=\"T_76a2e_row17_col3\" class=\"data row17 col3\" >-0.018480</td>\n",
       "      <td id=\"T_76a2e_row17_col4\" class=\"data row17 col4\" >0.016734</td>\n",
       "      <td id=\"T_76a2e_row17_col5\" class=\"data row17 col5\" >-0.005020</td>\n",
       "      <td id=\"T_76a2e_row17_col6\" class=\"data row17 col6\" >-0.003260</td>\n",
       "      <td id=\"T_76a2e_row17_col7\" class=\"data row17 col7\" >-0.028930</td>\n",
       "      <td id=\"T_76a2e_row17_col8\" class=\"data row17 col8\" >-0.043032</td>\n",
       "      <td id=\"T_76a2e_row17_col9\" class=\"data row17 col9\" >-0.019982</td>\n",
       "      <td id=\"T_76a2e_row17_col10\" class=\"data row17 col10\" >-0.127012</td>\n",
       "      <td id=\"T_76a2e_row17_col11\" class=\"data row17 col11\" >-0.121185</td>\n",
       "      <td id=\"T_76a2e_row17_col12\" class=\"data row17 col12\" >-0.086872</td>\n",
       "      <td id=\"T_76a2e_row17_col13\" class=\"data row17 col13\" >-0.139135</td>\n",
       "      <td id=\"T_76a2e_row17_col14\" class=\"data row17 col14\" >-0.102093</td>\n",
       "      <td id=\"T_76a2e_row17_col15\" class=\"data row17 col15\" >-0.123120</td>\n",
       "      <td id=\"T_76a2e_row17_col16\" class=\"data row17 col16\" >0.165034</td>\n",
       "      <td id=\"T_76a2e_row17_col17\" class=\"data row17 col17\" >1.000000</td>\n",
       "      <td id=\"T_76a2e_row17_col18\" class=\"data row17 col18\" >0.259520</td>\n",
       "      <td id=\"T_76a2e_row17_col19\" class=\"data row17 col19\" >0.201596</td>\n",
       "      <td id=\"T_76a2e_row17_col20\" class=\"data row17 col20\" >0.233371</td>\n",
       "      <td id=\"T_76a2e_row17_col21\" class=\"data row17 col21\" >0.222407</td>\n",
       "      <td id=\"T_76a2e_row17_col22\" class=\"data row17 col22\" >0.177114</td>\n",
       "      <td id=\"T_76a2e_row17_col23\" class=\"data row17 col23\" >0.214027</td>\n",
       "      <td id=\"T_76a2e_row17_col24\" class=\"data row17 col24\" >-0.028868</td>\n",
       "      <td id=\"T_76a2e_row17_col25\" class=\"data row17 col25\" >0.024499</td>\n",
       "      <td id=\"T_76a2e_row17_col26\" class=\"data row17 col26\" >0.004189</td>\n",
       "      <td id=\"T_76a2e_row17_col27\" class=\"data row17 col27\" >0.003862</td>\n",
       "      <td id=\"T_76a2e_row17_col28\" class=\"data row17 col28\" >-0.016482</td>\n",
       "      <td id=\"T_76a2e_row17_col29\" class=\"data row17 col29\" >0.016462</td>\n",
       "      <td id=\"T_76a2e_row17_col30\" class=\"data row17 col30\" >0.084842</td>\n",
       "      <td id=\"T_76a2e_row17_col31\" class=\"data row17 col31\" >-0.005130</td>\n",
       "      <td id=\"T_76a2e_row17_col32\" class=\"data row17 col32\" >-0.013330</td>\n",
       "      <td id=\"T_76a2e_row17_col33\" class=\"data row17 col33\" >0.054746</td>\n",
       "      <td id=\"T_76a2e_row17_col34\" class=\"data row17 col34\" >0.026993</td>\n",
       "      <td id=\"T_76a2e_row17_col35\" class=\"data row17 col35\" >-0.005901</td>\n",
       "      <td id=\"T_76a2e_row17_col36\" class=\"data row17 col36\" >0.005741</td>\n",
       "      <td id=\"T_76a2e_row17_col37\" class=\"data row17 col37\" >-0.014230</td>\n",
       "    </tr>\n",
       "    <tr>\n",
       "      <th id=\"T_76a2e_level0_row18\" class=\"row_heading level0 row18\" >B0041</th>\n",
       "      <td id=\"T_76a2e_row18_col0\" class=\"data row18 col0\" >0.010497</td>\n",
       "      <td id=\"T_76a2e_row18_col1\" class=\"data row18 col1\" >0.013151</td>\n",
       "      <td id=\"T_76a2e_row18_col2\" class=\"data row18 col2\" >-0.044444</td>\n",
       "      <td id=\"T_76a2e_row18_col3\" class=\"data row18 col3\" >0.024638</td>\n",
       "      <td id=\"T_76a2e_row18_col4\" class=\"data row18 col4\" >0.086429</td>\n",
       "      <td id=\"T_76a2e_row18_col5\" class=\"data row18 col5\" >0.012432</td>\n",
       "      <td id=\"T_76a2e_row18_col6\" class=\"data row18 col6\" >-0.021039</td>\n",
       "      <td id=\"T_76a2e_row18_col7\" class=\"data row18 col7\" >-0.005790</td>\n",
       "      <td id=\"T_76a2e_row18_col8\" class=\"data row18 col8\" >-0.018061</td>\n",
       "      <td id=\"T_76a2e_row18_col9\" class=\"data row18 col9\" >-0.011022</td>\n",
       "      <td id=\"T_76a2e_row18_col10\" class=\"data row18 col10\" >-0.388386</td>\n",
       "      <td id=\"T_76a2e_row18_col11\" class=\"data row18 col11\" >-0.342525</td>\n",
       "      <td id=\"T_76a2e_row18_col12\" class=\"data row18 col12\" >-0.285578</td>\n",
       "      <td id=\"T_76a2e_row18_col13\" class=\"data row18 col13\" >-0.212892</td>\n",
       "      <td id=\"T_76a2e_row18_col14\" class=\"data row18 col14\" >-0.388826</td>\n",
       "      <td id=\"T_76a2e_row18_col15\" class=\"data row18 col15\" >-0.288697</td>\n",
       "      <td id=\"T_76a2e_row18_col16\" class=\"data row18 col16\" >0.772468</td>\n",
       "      <td id=\"T_76a2e_row18_col17\" class=\"data row18 col17\" >0.259520</td>\n",
       "      <td id=\"T_76a2e_row18_col18\" class=\"data row18 col18\" >1.000000</td>\n",
       "      <td id=\"T_76a2e_row18_col19\" class=\"data row18 col19\" >0.887699</td>\n",
       "      <td id=\"T_76a2e_row18_col20\" class=\"data row18 col20\" >0.897320</td>\n",
       "      <td id=\"T_76a2e_row18_col21\" class=\"data row18 col21\" >0.910596</td>\n",
       "      <td id=\"T_76a2e_row18_col22\" class=\"data row18 col22\" >0.888816</td>\n",
       "      <td id=\"T_76a2e_row18_col23\" class=\"data row18 col23\" >0.880231</td>\n",
       "      <td id=\"T_76a2e_row18_col24\" class=\"data row18 col24\" >-0.118760</td>\n",
       "      <td id=\"T_76a2e_row18_col25\" class=\"data row18 col25\" >0.210305</td>\n",
       "      <td id=\"T_76a2e_row18_col26\" class=\"data row18 col26\" >0.068015</td>\n",
       "      <td id=\"T_76a2e_row18_col27\" class=\"data row18 col27\" >-0.017698</td>\n",
       "      <td id=\"T_76a2e_row18_col28\" class=\"data row18 col28\" >0.041502</td>\n",
       "      <td id=\"T_76a2e_row18_col29\" class=\"data row18 col29\" >-0.002916</td>\n",
       "      <td id=\"T_76a2e_row18_col30\" class=\"data row18 col30\" >0.206517</td>\n",
       "      <td id=\"T_76a2e_row18_col31\" class=\"data row18 col31\" >-0.048157</td>\n",
       "      <td id=\"T_76a2e_row18_col32\" class=\"data row18 col32\" >-0.003468</td>\n",
       "      <td id=\"T_76a2e_row18_col33\" class=\"data row18 col33\" >0.055159</td>\n",
       "      <td id=\"T_76a2e_row18_col34\" class=\"data row18 col34\" >0.130699</td>\n",
       "      <td id=\"T_76a2e_row18_col35\" class=\"data row18 col35\" >-0.023921</td>\n",
       "      <td id=\"T_76a2e_row18_col36\" class=\"data row18 col36\" >0.028749</td>\n",
       "      <td id=\"T_76a2e_row18_col37\" class=\"data row18 col37\" >-0.018781</td>\n",
       "    </tr>\n",
       "    <tr>\n",
       "      <th id=\"T_76a2e_level0_row19\" class=\"row_heading level0 row19\" >B0042</th>\n",
       "      <td id=\"T_76a2e_row19_col0\" class=\"data row19 col0\" >0.009237</td>\n",
       "      <td id=\"T_76a2e_row19_col1\" class=\"data row19 col1\" >0.013536</td>\n",
       "      <td id=\"T_76a2e_row19_col2\" class=\"data row19 col2\" >-0.043499</td>\n",
       "      <td id=\"T_76a2e_row19_col3\" class=\"data row19 col3\" >0.015296</td>\n",
       "      <td id=\"T_76a2e_row19_col4\" class=\"data row19 col4\" >0.079018</td>\n",
       "      <td id=\"T_76a2e_row19_col5\" class=\"data row19 col5\" >0.008475</td>\n",
       "      <td id=\"T_76a2e_row19_col6\" class=\"data row19 col6\" >-0.012025</td>\n",
       "      <td id=\"T_76a2e_row19_col7\" class=\"data row19 col7\" >0.006204</td>\n",
       "      <td id=\"T_76a2e_row19_col8\" class=\"data row19 col8\" >-0.008837</td>\n",
       "      <td id=\"T_76a2e_row19_col9\" class=\"data row19 col9\" >-0.001317</td>\n",
       "      <td id=\"T_76a2e_row19_col10\" class=\"data row19 col10\" >-0.386150</td>\n",
       "      <td id=\"T_76a2e_row19_col11\" class=\"data row19 col11\" >-0.340673</td>\n",
       "      <td id=\"T_76a2e_row19_col12\" class=\"data row19 col12\" >-0.292193</td>\n",
       "      <td id=\"T_76a2e_row19_col13\" class=\"data row19 col13\" >-0.197326</td>\n",
       "      <td id=\"T_76a2e_row19_col14\" class=\"data row19 col14\" >-0.386257</td>\n",
       "      <td id=\"T_76a2e_row19_col15\" class=\"data row19 col15\" >-0.275418</td>\n",
       "      <td id=\"T_76a2e_row19_col16\" class=\"data row19 col16\" >0.583786</td>\n",
       "      <td id=\"T_76a2e_row19_col17\" class=\"data row19 col17\" >0.201596</td>\n",
       "      <td id=\"T_76a2e_row19_col18\" class=\"data row19 col18\" >0.887699</td>\n",
       "      <td id=\"T_76a2e_row19_col19\" class=\"data row19 col19\" >1.000000</td>\n",
       "      <td id=\"T_76a2e_row19_col20\" class=\"data row19 col20\" >0.942593</td>\n",
       "      <td id=\"T_76a2e_row19_col21\" class=\"data row19 col21\" >0.948865</td>\n",
       "      <td id=\"T_76a2e_row19_col22\" class=\"data row19 col22\" >0.937915</td>\n",
       "      <td id=\"T_76a2e_row19_col23\" class=\"data row19 col23\" >0.927094</td>\n",
       "      <td id=\"T_76a2e_row19_col24\" class=\"data row19 col24\" >-0.102745</td>\n",
       "      <td id=\"T_76a2e_row19_col25\" class=\"data row19 col25\" >0.197702</td>\n",
       "      <td id=\"T_76a2e_row19_col26\" class=\"data row19 col26\" >0.058893</td>\n",
       "      <td id=\"T_76a2e_row19_col27\" class=\"data row19 col27\" >-0.007473</td>\n",
       "      <td id=\"T_76a2e_row19_col28\" class=\"data row19 col28\" >0.050890</td>\n",
       "      <td id=\"T_76a2e_row19_col29\" class=\"data row19 col29\" >-0.010882</td>\n",
       "      <td id=\"T_76a2e_row19_col30\" class=\"data row19 col30\" >0.216475</td>\n",
       "      <td id=\"T_76a2e_row19_col31\" class=\"data row19 col31\" >-0.030144</td>\n",
       "      <td id=\"T_76a2e_row19_col32\" class=\"data row19 col32\" >-0.006091</td>\n",
       "      <td id=\"T_76a2e_row19_col33\" class=\"data row19 col33\" >0.059890</td>\n",
       "      <td id=\"T_76a2e_row19_col34\" class=\"data row19 col34\" >0.131582</td>\n",
       "      <td id=\"T_76a2e_row19_col35\" class=\"data row19 col35\" >-0.019190</td>\n",
       "      <td id=\"T_76a2e_row19_col36\" class=\"data row19 col36\" >0.024701</td>\n",
       "      <td id=\"T_76a2e_row19_col37\" class=\"data row19 col37\" >-0.031279</td>\n",
       "    </tr>\n",
       "    <tr>\n",
       "      <th id=\"T_76a2e_level0_row20\" class=\"row_heading level0 row20\" >B0044</th>\n",
       "      <td id=\"T_76a2e_row20_col0\" class=\"data row20 col0\" >0.007896</td>\n",
       "      <td id=\"T_76a2e_row20_col1\" class=\"data row20 col1\" >0.016091</td>\n",
       "      <td id=\"T_76a2e_row20_col2\" class=\"data row20 col2\" >-0.035301</td>\n",
       "      <td id=\"T_76a2e_row20_col3\" class=\"data row20 col3\" >0.006008</td>\n",
       "      <td id=\"T_76a2e_row20_col4\" class=\"data row20 col4\" >0.076755</td>\n",
       "      <td id=\"T_76a2e_row20_col5\" class=\"data row20 col5\" >0.011514</td>\n",
       "      <td id=\"T_76a2e_row20_col6\" class=\"data row20 col6\" >-0.012823</td>\n",
       "      <td id=\"T_76a2e_row20_col7\" class=\"data row20 col7\" >0.005629</td>\n",
       "      <td id=\"T_76a2e_row20_col8\" class=\"data row20 col8\" >-0.009256</td>\n",
       "      <td id=\"T_76a2e_row20_col9\" class=\"data row20 col9\" >0.000866</td>\n",
       "      <td id=\"T_76a2e_row20_col10\" class=\"data row20 col10\" >-0.400493</td>\n",
       "      <td id=\"T_76a2e_row20_col11\" class=\"data row20 col11\" >-0.356048</td>\n",
       "      <td id=\"T_76a2e_row20_col12\" class=\"data row20 col12\" >-0.314051</td>\n",
       "      <td id=\"T_76a2e_row20_col13\" class=\"data row20 col13\" >-0.218974</td>\n",
       "      <td id=\"T_76a2e_row20_col14\" class=\"data row20 col14\" >-0.401854</td>\n",
       "      <td id=\"T_76a2e_row20_col15\" class=\"data row20 col15\" >-0.294615</td>\n",
       "      <td id=\"T_76a2e_row20_col16\" class=\"data row20 col16\" >0.690406</td>\n",
       "      <td id=\"T_76a2e_row20_col17\" class=\"data row20 col17\" >0.233371</td>\n",
       "      <td id=\"T_76a2e_row20_col18\" class=\"data row20 col18\" >0.897320</td>\n",
       "      <td id=\"T_76a2e_row20_col19\" class=\"data row20 col19\" >0.942593</td>\n",
       "      <td id=\"T_76a2e_row20_col20\" class=\"data row20 col20\" >1.000000</td>\n",
       "      <td id=\"T_76a2e_row20_col21\" class=\"data row20 col21\" >0.965860</td>\n",
       "      <td id=\"T_76a2e_row20_col22\" class=\"data row20 col22\" >0.941562</td>\n",
       "      <td id=\"T_76a2e_row20_col23\" class=\"data row20 col23\" >0.948049</td>\n",
       "      <td id=\"T_76a2e_row20_col24\" class=\"data row20 col24\" >-0.104532</td>\n",
       "      <td id=\"T_76a2e_row20_col25\" class=\"data row20 col25\" >0.205081</td>\n",
       "      <td id=\"T_76a2e_row20_col26\" class=\"data row20 col26\" >0.055754</td>\n",
       "      <td id=\"T_76a2e_row20_col27\" class=\"data row20 col27\" >-0.003246</td>\n",
       "      <td id=\"T_76a2e_row20_col28\" class=\"data row20 col28\" >0.054064</td>\n",
       "      <td id=\"T_76a2e_row20_col29\" class=\"data row20 col29\" >-0.009429</td>\n",
       "      <td id=\"T_76a2e_row20_col30\" class=\"data row20 col30\" >0.222947</td>\n",
       "      <td id=\"T_76a2e_row20_col31\" class=\"data row20 col31\" >-0.005793</td>\n",
       "      <td id=\"T_76a2e_row20_col32\" class=\"data row20 col32\" >-0.009620</td>\n",
       "      <td id=\"T_76a2e_row20_col33\" class=\"data row20 col33\" >0.065788</td>\n",
       "      <td id=\"T_76a2e_row20_col34\" class=\"data row20 col34\" >0.139207</td>\n",
       "      <td id=\"T_76a2e_row20_col35\" class=\"data row20 col35\" >-0.012792</td>\n",
       "      <td id=\"T_76a2e_row20_col36\" class=\"data row20 col36\" >0.014159</td>\n",
       "      <td id=\"T_76a2e_row20_col37\" class=\"data row20 col37\" >-0.030899</td>\n",
       "    </tr>\n",
       "    <tr>\n",
       "      <th id=\"T_76a2e_level0_row21\" class=\"row_heading level0 row21\" >B0045</th>\n",
       "      <td id=\"T_76a2e_row21_col0\" class=\"data row21 col0\" >0.006324</td>\n",
       "      <td id=\"T_76a2e_row21_col1\" class=\"data row21 col1\" >0.015295</td>\n",
       "      <td id=\"T_76a2e_row21_col2\" class=\"data row21 col2\" >-0.038075</td>\n",
       "      <td id=\"T_76a2e_row21_col3\" class=\"data row21 col3\" >0.008749</td>\n",
       "      <td id=\"T_76a2e_row21_col4\" class=\"data row21 col4\" >0.081996</td>\n",
       "      <td id=\"T_76a2e_row21_col5\" class=\"data row21 col5\" >0.012633</td>\n",
       "      <td id=\"T_76a2e_row21_col6\" class=\"data row21 col6\" >-0.014571</td>\n",
       "      <td id=\"T_76a2e_row21_col7\" class=\"data row21 col7\" >0.007645</td>\n",
       "      <td id=\"T_76a2e_row21_col8\" class=\"data row21 col8\" >-0.009398</td>\n",
       "      <td id=\"T_76a2e_row21_col9\" class=\"data row21 col9\" >-0.001268</td>\n",
       "      <td id=\"T_76a2e_row21_col10\" class=\"data row21 col10\" >-0.404482</td>\n",
       "      <td id=\"T_76a2e_row21_col11\" class=\"data row21 col11\" >-0.356841</td>\n",
       "      <td id=\"T_76a2e_row21_col12\" class=\"data row21 col12\" >-0.307034</td>\n",
       "      <td id=\"T_76a2e_row21_col13\" class=\"data row21 col13\" >-0.218009</td>\n",
       "      <td id=\"T_76a2e_row21_col14\" class=\"data row21 col14\" >-0.404839</td>\n",
       "      <td id=\"T_76a2e_row21_col15\" class=\"data row21 col15\" >-0.296178</td>\n",
       "      <td id=\"T_76a2e_row21_col16\" class=\"data row21 col16\" >0.656192</td>\n",
       "      <td id=\"T_76a2e_row21_col17\" class=\"data row21 col17\" >0.222407</td>\n",
       "      <td id=\"T_76a2e_row21_col18\" class=\"data row21 col18\" >0.910596</td>\n",
       "      <td id=\"T_76a2e_row21_col19\" class=\"data row21 col19\" >0.948865</td>\n",
       "      <td id=\"T_76a2e_row21_col20\" class=\"data row21 col20\" >0.965860</td>\n",
       "      <td id=\"T_76a2e_row21_col21\" class=\"data row21 col21\" >1.000000</td>\n",
       "      <td id=\"T_76a2e_row21_col22\" class=\"data row21 col22\" >0.951838</td>\n",
       "      <td id=\"T_76a2e_row21_col23\" class=\"data row21 col23\" >0.953880</td>\n",
       "      <td id=\"T_76a2e_row21_col24\" class=\"data row21 col24\" >-0.105150</td>\n",
       "      <td id=\"T_76a2e_row21_col25\" class=\"data row21 col25\" >0.207914</td>\n",
       "      <td id=\"T_76a2e_row21_col26\" class=\"data row21 col26\" >0.057451</td>\n",
       "      <td id=\"T_76a2e_row21_col27\" class=\"data row21 col27\" >-0.004438</td>\n",
       "      <td id=\"T_76a2e_row21_col28\" class=\"data row21 col28\" >0.054799</td>\n",
       "      <td id=\"T_76a2e_row21_col29\" class=\"data row21 col29\" >-0.010484</td>\n",
       "      <td id=\"T_76a2e_row21_col30\" class=\"data row21 col30\" >0.222519</td>\n",
       "      <td id=\"T_76a2e_row21_col31\" class=\"data row21 col31\" >-0.009142</td>\n",
       "      <td id=\"T_76a2e_row21_col32\" class=\"data row21 col32\" >-0.008127</td>\n",
       "      <td id=\"T_76a2e_row21_col33\" class=\"data row21 col33\" >0.061183</td>\n",
       "      <td id=\"T_76a2e_row21_col34\" class=\"data row21 col34\" >0.138397</td>\n",
       "      <td id=\"T_76a2e_row21_col35\" class=\"data row21 col35\" >-0.014586</td>\n",
       "      <td id=\"T_76a2e_row21_col36\" class=\"data row21 col36\" >0.016783</td>\n",
       "      <td id=\"T_76a2e_row21_col37\" class=\"data row21 col37\" >-0.029843</td>\n",
       "    </tr>\n",
       "    <tr>\n",
       "      <th id=\"T_76a2e_level0_row22\" class=\"row_heading level0 row22\" >B0043</th>\n",
       "      <td id=\"T_76a2e_row22_col0\" class=\"data row22 col0\" >0.006619</td>\n",
       "      <td id=\"T_76a2e_row22_col1\" class=\"data row22 col1\" >0.013175</td>\n",
       "      <td id=\"T_76a2e_row22_col2\" class=\"data row22 col2\" >-0.043533</td>\n",
       "      <td id=\"T_76a2e_row22_col3\" class=\"data row22 col3\" >0.019656</td>\n",
       "      <td id=\"T_76a2e_row22_col4\" class=\"data row22 col4\" >0.084730</td>\n",
       "      <td id=\"T_76a2e_row22_col5\" class=\"data row22 col5\" >0.012063</td>\n",
       "      <td id=\"T_76a2e_row22_col6\" class=\"data row22 col6\" >-0.021387</td>\n",
       "      <td id=\"T_76a2e_row22_col7\" class=\"data row22 col7\" >0.007123</td>\n",
       "      <td id=\"T_76a2e_row22_col8\" class=\"data row22 col8\" >-0.005303</td>\n",
       "      <td id=\"T_76a2e_row22_col9\" class=\"data row22 col9\" >-0.001431</td>\n",
       "      <td id=\"T_76a2e_row22_col10\" class=\"data row22 col10\" >-0.393046</td>\n",
       "      <td id=\"T_76a2e_row22_col11\" class=\"data row22 col11\" >-0.345613</td>\n",
       "      <td id=\"T_76a2e_row22_col12\" class=\"data row22 col12\" >-0.300287</td>\n",
       "      <td id=\"T_76a2e_row22_col13\" class=\"data row22 col13\" >-0.202520</td>\n",
       "      <td id=\"T_76a2e_row22_col14\" class=\"data row22 col14\" >-0.392510</td>\n",
       "      <td id=\"T_76a2e_row22_col15\" class=\"data row22 col15\" >-0.286251</td>\n",
       "      <td id=\"T_76a2e_row22_col16\" class=\"data row22 col16\" >0.596384</td>\n",
       "      <td id=\"T_76a2e_row22_col17\" class=\"data row22 col17\" >0.177114</td>\n",
       "      <td id=\"T_76a2e_row22_col18\" class=\"data row22 col18\" >0.888816</td>\n",
       "      <td id=\"T_76a2e_row22_col19\" class=\"data row22 col19\" >0.937915</td>\n",
       "      <td id=\"T_76a2e_row22_col20\" class=\"data row22 col20\" >0.941562</td>\n",
       "      <td id=\"T_76a2e_row22_col21\" class=\"data row22 col21\" >0.951838</td>\n",
       "      <td id=\"T_76a2e_row22_col22\" class=\"data row22 col22\" >1.000000</td>\n",
       "      <td id=\"T_76a2e_row22_col23\" class=\"data row22 col23\" >0.930686</td>\n",
       "      <td id=\"T_76a2e_row22_col24\" class=\"data row22 col24\" >-0.105749</td>\n",
       "      <td id=\"T_76a2e_row22_col25\" class=\"data row22 col25\" >0.203715</td>\n",
       "      <td id=\"T_76a2e_row22_col26\" class=\"data row22 col26\" >0.058205</td>\n",
       "      <td id=\"T_76a2e_row22_col27\" class=\"data row22 col27\" >-0.004580</td>\n",
       "      <td id=\"T_76a2e_row22_col28\" class=\"data row22 col28\" >0.054400</td>\n",
       "      <td id=\"T_76a2e_row22_col29\" class=\"data row22 col29\" >-0.008795</td>\n",
       "      <td id=\"T_76a2e_row22_col30\" class=\"data row22 col30\" >0.219636</td>\n",
       "      <td id=\"T_76a2e_row22_col31\" class=\"data row22 col31\" >-0.026732</td>\n",
       "      <td id=\"T_76a2e_row22_col32\" class=\"data row22 col32\" >-0.003808</td>\n",
       "      <td id=\"T_76a2e_row22_col33\" class=\"data row22 col33\" >0.057285</td>\n",
       "      <td id=\"T_76a2e_row22_col34\" class=\"data row22 col34\" >0.137738</td>\n",
       "      <td id=\"T_76a2e_row22_col35\" class=\"data row22 col35\" >-0.019555</td>\n",
       "      <td id=\"T_76a2e_row22_col36\" class=\"data row22 col36\" >0.022803</td>\n",
       "      <td id=\"T_76a2e_row22_col37\" class=\"data row22 col37\" >-0.025785</td>\n",
       "    </tr>\n",
       "    <tr>\n",
       "      <th id=\"T_76a2e_level0_row23\" class=\"row_heading level0 row23\" >B0046</th>\n",
       "      <td id=\"T_76a2e_row23_col0\" class=\"data row23 col0\" >0.007233</td>\n",
       "      <td id=\"T_76a2e_row23_col1\" class=\"data row23 col1\" >0.014909</td>\n",
       "      <td id=\"T_76a2e_row23_col2\" class=\"data row23 col2\" >-0.032997</td>\n",
       "      <td id=\"T_76a2e_row23_col3\" class=\"data row23 col3\" >0.001452</td>\n",
       "      <td id=\"T_76a2e_row23_col4\" class=\"data row23 col4\" >0.076011</td>\n",
       "      <td id=\"T_76a2e_row23_col5\" class=\"data row23 col5\" >0.009638</td>\n",
       "      <td id=\"T_76a2e_row23_col6\" class=\"data row23 col6\" >-0.010382</td>\n",
       "      <td id=\"T_76a2e_row23_col7\" class=\"data row23 col7\" >0.005972</td>\n",
       "      <td id=\"T_76a2e_row23_col8\" class=\"data row23 col8\" >-0.009321</td>\n",
       "      <td id=\"T_76a2e_row23_col9\" class=\"data row23 col9\" >0.000283</td>\n",
       "      <td id=\"T_76a2e_row23_col10\" class=\"data row23 col10\" >-0.396334</td>\n",
       "      <td id=\"T_76a2e_row23_col11\" class=\"data row23 col11\" >-0.373908</td>\n",
       "      <td id=\"T_76a2e_row23_col12\" class=\"data row23 col12\" >-0.327576</td>\n",
       "      <td id=\"T_76a2e_row23_col13\" class=\"data row23 col13\" >-0.235807</td>\n",
       "      <td id=\"T_76a2e_row23_col14\" class=\"data row23 col14\" >-0.397889</td>\n",
       "      <td id=\"T_76a2e_row23_col15\" class=\"data row23 col15\" >-0.307653</td>\n",
       "      <td id=\"T_76a2e_row23_col16\" class=\"data row23 col16\" >0.617317</td>\n",
       "      <td id=\"T_76a2e_row23_col17\" class=\"data row23 col17\" >0.214027</td>\n",
       "      <td id=\"T_76a2e_row23_col18\" class=\"data row23 col18\" >0.880231</td>\n",
       "      <td id=\"T_76a2e_row23_col19\" class=\"data row23 col19\" >0.927094</td>\n",
       "      <td id=\"T_76a2e_row23_col20\" class=\"data row23 col20\" >0.948049</td>\n",
       "      <td id=\"T_76a2e_row23_col21\" class=\"data row23 col21\" >0.953880</td>\n",
       "      <td id=\"T_76a2e_row23_col22\" class=\"data row23 col22\" >0.930686</td>\n",
       "      <td id=\"T_76a2e_row23_col23\" class=\"data row23 col23\" >1.000000</td>\n",
       "      <td id=\"T_76a2e_row23_col24\" class=\"data row23 col24\" >-0.098509</td>\n",
       "      <td id=\"T_76a2e_row23_col25\" class=\"data row23 col25\" >0.201378</td>\n",
       "      <td id=\"T_76a2e_row23_col26\" class=\"data row23 col26\" >0.054077</td>\n",
       "      <td id=\"T_76a2e_row23_col27\" class=\"data row23 col27\" >-0.002073</td>\n",
       "      <td id=\"T_76a2e_row23_col28\" class=\"data row23 col28\" >0.056941</td>\n",
       "      <td id=\"T_76a2e_row23_col29\" class=\"data row23 col29\" >-0.012128</td>\n",
       "      <td id=\"T_76a2e_row23_col30\" class=\"data row23 col30\" >0.220913</td>\n",
       "      <td id=\"T_76a2e_row23_col31\" class=\"data row23 col31\" >0.005510</td>\n",
       "      <td id=\"T_76a2e_row23_col32\" class=\"data row23 col32\" >-0.010025</td>\n",
       "      <td id=\"T_76a2e_row23_col33\" class=\"data row23 col33\" >0.062599</td>\n",
       "      <td id=\"T_76a2e_row23_col34\" class=\"data row23 col34\" >0.137738</td>\n",
       "      <td id=\"T_76a2e_row23_col35\" class=\"data row23 col35\" >-0.010110</td>\n",
       "      <td id=\"T_76a2e_row23_col36\" class=\"data row23 col36\" >0.010470</td>\n",
       "      <td id=\"T_76a2e_row23_col37\" class=\"data row23 col37\" >-0.033072</td>\n",
       "    </tr>\n",
       "    <tr>\n",
       "      <th id=\"T_76a2e_level0_row24\" class=\"row_heading level0 row24\" >B009A</th>\n",
       "      <td id=\"T_76a2e_row24_col0\" class=\"data row24 col0\" >-0.018540</td>\n",
       "      <td id=\"T_76a2e_row24_col1\" class=\"data row24 col1\" >0.014926</td>\n",
       "      <td id=\"T_76a2e_row24_col2\" class=\"data row24 col2\" >0.126610</td>\n",
       "      <td id=\"T_76a2e_row24_col3\" class=\"data row24 col3\" >-0.147759</td>\n",
       "      <td id=\"T_76a2e_row24_col4\" class=\"data row24 col4\" >-0.275519</td>\n",
       "      <td id=\"T_76a2e_row24_col5\" class=\"data row24 col5\" >-0.010806</td>\n",
       "      <td id=\"T_76a2e_row24_col6\" class=\"data row24 col6\" >0.127262</td>\n",
       "      <td id=\"T_76a2e_row24_col7\" class=\"data row24 col7\" >-0.000730</td>\n",
       "      <td id=\"T_76a2e_row24_col8\" class=\"data row24 col8\" >-0.003018</td>\n",
       "      <td id=\"T_76a2e_row24_col9\" class=\"data row24 col9\" >0.018177</td>\n",
       "      <td id=\"T_76a2e_row24_col10\" class=\"data row24 col10\" >0.031897</td>\n",
       "      <td id=\"T_76a2e_row24_col11\" class=\"data row24 col11\" >0.035087</td>\n",
       "      <td id=\"T_76a2e_row24_col12\" class=\"data row24 col12\" >0.025340</td>\n",
       "      <td id=\"T_76a2e_row24_col13\" class=\"data row24 col13\" >0.012984</td>\n",
       "      <td id=\"T_76a2e_row24_col14\" class=\"data row24 col14\" >0.036025</td>\n",
       "      <td id=\"T_76a2e_row24_col15\" class=\"data row24 col15\" >0.031342</td>\n",
       "      <td id=\"T_76a2e_row24_col16\" class=\"data row24 col16\" >-0.107185</td>\n",
       "      <td id=\"T_76a2e_row24_col17\" class=\"data row24 col17\" >-0.028868</td>\n",
       "      <td id=\"T_76a2e_row24_col18\" class=\"data row24 col18\" >-0.118760</td>\n",
       "      <td id=\"T_76a2e_row24_col19\" class=\"data row24 col19\" >-0.102745</td>\n",
       "      <td id=\"T_76a2e_row24_col20\" class=\"data row24 col20\" >-0.104532</td>\n",
       "      <td id=\"T_76a2e_row24_col21\" class=\"data row24 col21\" >-0.105150</td>\n",
       "      <td id=\"T_76a2e_row24_col22\" class=\"data row24 col22\" >-0.105749</td>\n",
       "      <td id=\"T_76a2e_row24_col23\" class=\"data row24 col23\" >-0.098509</td>\n",
       "      <td id=\"T_76a2e_row24_col24\" class=\"data row24 col24\" >1.000000</td>\n",
       "      <td id=\"T_76a2e_row24_col25\" class=\"data row24 col25\" >-0.747568</td>\n",
       "      <td id=\"T_76a2e_row24_col26\" class=\"data row24 col26\" >-0.396005</td>\n",
       "      <td id=\"T_76a2e_row24_col27\" class=\"data row24 col27\" >0.283494</td>\n",
       "      <td id=\"T_76a2e_row24_col28\" class=\"data row24 col28\" >-0.297505</td>\n",
       "      <td id=\"T_76a2e_row24_col29\" class=\"data row24 col29\" >0.214789</td>\n",
       "      <td id=\"T_76a2e_row24_col30\" class=\"data row24 col30\" >-0.013998</td>\n",
       "      <td id=\"T_76a2e_row24_col31\" class=\"data row24 col31\" >0.223123</td>\n",
       "      <td id=\"T_76a2e_row24_col32\" class=\"data row24 col32\" >-0.013771</td>\n",
       "      <td id=\"T_76a2e_row24_col33\" class=\"data row24 col33\" >0.068929</td>\n",
       "      <td id=\"T_76a2e_row24_col34\" class=\"data row24 col34\" >-0.012658</td>\n",
       "      <td id=\"T_76a2e_row24_col35\" class=\"data row24 col35\" >0.103222</td>\n",
       "      <td id=\"T_76a2e_row24_col36\" class=\"data row24 col36\" >-0.128837</td>\n",
       "      <td id=\"T_76a2e_row24_col37\" class=\"data row24 col37\" >-0.048912</td>\n",
       "    </tr>\n",
       "    <tr>\n",
       "      <th id=\"T_76a2e_level0_row25\" class=\"row_heading level0 row25\" >B009B</th>\n",
       "      <td id=\"T_76a2e_row25_col0\" class=\"data row25 col0\" >0.020148</td>\n",
       "      <td id=\"T_76a2e_row25_col1\" class=\"data row25 col1\" >0.002761</td>\n",
       "      <td id=\"T_76a2e_row25_col2\" class=\"data row25 col2\" >-0.094296</td>\n",
       "      <td id=\"T_76a2e_row25_col3\" class=\"data row25 col3\" >0.099752</td>\n",
       "      <td id=\"T_76a2e_row25_col4\" class=\"data row25 col4\" >0.191668</td>\n",
       "      <td id=\"T_76a2e_row25_col5\" class=\"data row25 col5\" >0.017612</td>\n",
       "      <td id=\"T_76a2e_row25_col6\" class=\"data row25 col6\" >-0.093545</td>\n",
       "      <td id=\"T_76a2e_row25_col7\" class=\"data row25 col7\" >-0.007131</td>\n",
       "      <td id=\"T_76a2e_row25_col8\" class=\"data row25 col8\" >-0.015014</td>\n",
       "      <td id=\"T_76a2e_row25_col9\" class=\"data row25 col9\" >-0.026402</td>\n",
       "      <td id=\"T_76a2e_row25_col10\" class=\"data row25 col10\" >-0.072372</td>\n",
       "      <td id=\"T_76a2e_row25_col11\" class=\"data row25 col11\" >-0.089874</td>\n",
       "      <td id=\"T_76a2e_row25_col12\" class=\"data row25 col12\" >-0.080942</td>\n",
       "      <td id=\"T_76a2e_row25_col13\" class=\"data row25 col13\" >-0.040421</td>\n",
       "      <td id=\"T_76a2e_row25_col14\" class=\"data row25 col14\" >-0.092877</td>\n",
       "      <td id=\"T_76a2e_row25_col15\" class=\"data row25 col15\" >-0.067317</td>\n",
       "      <td id=\"T_76a2e_row25_col16\" class=\"data row25 col16\" >0.185609</td>\n",
       "      <td id=\"T_76a2e_row25_col17\" class=\"data row25 col17\" >0.024499</td>\n",
       "      <td id=\"T_76a2e_row25_col18\" class=\"data row25 col18\" >0.210305</td>\n",
       "      <td id=\"T_76a2e_row25_col19\" class=\"data row25 col19\" >0.197702</td>\n",
       "      <td id=\"T_76a2e_row25_col20\" class=\"data row25 col20\" >0.205081</td>\n",
       "      <td id=\"T_76a2e_row25_col21\" class=\"data row25 col21\" >0.207914</td>\n",
       "      <td id=\"T_76a2e_row25_col22\" class=\"data row25 col22\" >0.203715</td>\n",
       "      <td id=\"T_76a2e_row25_col23\" class=\"data row25 col23\" >0.201378</td>\n",
       "      <td id=\"T_76a2e_row25_col24\" class=\"data row25 col24\" >-0.747568</td>\n",
       "      <td id=\"T_76a2e_row25_col25\" class=\"data row25 col25\" >1.000000</td>\n",
       "      <td id=\"T_76a2e_row25_col26\" class=\"data row25 col26\" >0.298026</td>\n",
       "      <td id=\"T_76a2e_row25_col27\" class=\"data row25 col27\" >-0.192319</td>\n",
       "      <td id=\"T_76a2e_row25_col28\" class=\"data row25 col28\" >0.229698</td>\n",
       "      <td id=\"T_76a2e_row25_col29\" class=\"data row25 col29\" >-0.142675</td>\n",
       "      <td id=\"T_76a2e_row25_col30\" class=\"data row25 col30\" >0.042346</td>\n",
       "      <td id=\"T_76a2e_row25_col31\" class=\"data row25 col31\" >-0.150201</td>\n",
       "      <td id=\"T_76a2e_row25_col32\" class=\"data row25 col32\" >0.011382</td>\n",
       "      <td id=\"T_76a2e_row25_col33\" class=\"data row25 col33\" >-0.030304</td>\n",
       "      <td id=\"T_76a2e_row25_col34\" class=\"data row25 col34\" >0.024744</td>\n",
       "      <td id=\"T_76a2e_row25_col35\" class=\"data row25 col35\" >-0.066917</td>\n",
       "      <td id=\"T_76a2e_row25_col36\" class=\"data row25 col36\" >0.084496</td>\n",
       "      <td id=\"T_76a2e_row25_col37\" class=\"data row25 col37\" >0.041940</td>\n",
       "    </tr>\n",
       "    <tr>\n",
       "      <th id=\"T_76a2e_level0_row26\" class=\"row_heading level0 row26\" >B009C</th>\n",
       "      <td id=\"T_76a2e_row26_col0\" class=\"data row26 col0\" >0.024124</td>\n",
       "      <td id=\"T_76a2e_row26_col1\" class=\"data row26 col1\" >-0.007465</td>\n",
       "      <td id=\"T_76a2e_row26_col2\" class=\"data row26 col2\" >-0.062513</td>\n",
       "      <td id=\"T_76a2e_row26_col3\" class=\"data row26 col3\" >0.063183</td>\n",
       "      <td id=\"T_76a2e_row26_col4\" class=\"data row26 col4\" >0.168856</td>\n",
       "      <td id=\"T_76a2e_row26_col5\" class=\"data row26 col5\" >0.024827</td>\n",
       "      <td id=\"T_76a2e_row26_col6\" class=\"data row26 col6\" >-0.038720</td>\n",
       "      <td id=\"T_76a2e_row26_col7\" class=\"data row26 col7\" >0.001852</td>\n",
       "      <td id=\"T_76a2e_row26_col8\" class=\"data row26 col8\" >-0.008218</td>\n",
       "      <td id=\"T_76a2e_row26_col9\" class=\"data row26 col9\" >-0.001765</td>\n",
       "      <td id=\"T_76a2e_row26_col10\" class=\"data row26 col10\" >-0.006874</td>\n",
       "      <td id=\"T_76a2e_row26_col11\" class=\"data row26 col11\" >-0.005026</td>\n",
       "      <td id=\"T_76a2e_row26_col12\" class=\"data row26 col12\" >-0.000077</td>\n",
       "      <td id=\"T_76a2e_row26_col13\" class=\"data row26 col13\" >0.008681</td>\n",
       "      <td id=\"T_76a2e_row26_col14\" class=\"data row26 col14\" >-0.005227</td>\n",
       "      <td id=\"T_76a2e_row26_col15\" class=\"data row26 col15\" >-0.002328</td>\n",
       "      <td id=\"T_76a2e_row26_col16\" class=\"data row26 col16\" >0.048787</td>\n",
       "      <td id=\"T_76a2e_row26_col17\" class=\"data row26 col17\" >0.004189</td>\n",
       "      <td id=\"T_76a2e_row26_col18\" class=\"data row26 col18\" >0.068015</td>\n",
       "      <td id=\"T_76a2e_row26_col19\" class=\"data row26 col19\" >0.058893</td>\n",
       "      <td id=\"T_76a2e_row26_col20\" class=\"data row26 col20\" >0.055754</td>\n",
       "      <td id=\"T_76a2e_row26_col21\" class=\"data row26 col21\" >0.057451</td>\n",
       "      <td id=\"T_76a2e_row26_col22\" class=\"data row26 col22\" >0.058205</td>\n",
       "      <td id=\"T_76a2e_row26_col23\" class=\"data row26 col23\" >0.054077</td>\n",
       "      <td id=\"T_76a2e_row26_col24\" class=\"data row26 col24\" >-0.396005</td>\n",
       "      <td id=\"T_76a2e_row26_col25\" class=\"data row26 col25\" >0.298026</td>\n",
       "      <td id=\"T_76a2e_row26_col26\" class=\"data row26 col26\" >1.000000</td>\n",
       "      <td id=\"T_76a2e_row26_col27\" class=\"data row26 col27\" >-0.846963</td>\n",
       "      <td id=\"T_76a2e_row26_col28\" class=\"data row26 col28\" >-0.267438</td>\n",
       "      <td id=\"T_76a2e_row26_col29\" class=\"data row26 col29\" >0.237184</td>\n",
       "      <td id=\"T_76a2e_row26_col30\" class=\"data row26 col30\" >0.011946</td>\n",
       "      <td id=\"T_76a2e_row26_col31\" class=\"data row26 col31\" >-0.119137</td>\n",
       "      <td id=\"T_76a2e_row26_col32\" class=\"data row26 col32\" >0.019520</td>\n",
       "      <td id=\"T_76a2e_row26_col33\" class=\"data row26 col33\" >-0.021226</td>\n",
       "      <td id=\"T_76a2e_row26_col34\" class=\"data row26 col34\" >-0.011260</td>\n",
       "      <td id=\"T_76a2e_row26_col35\" class=\"data row26 col35\" >-0.059132</td>\n",
       "      <td id=\"T_76a2e_row26_col36\" class=\"data row26 col36\" >0.064471</td>\n",
       "      <td id=\"T_76a2e_row26_col37\" class=\"data row26 col37\" >0.013951</td>\n",
       "    </tr>\n",
       "    <tr>\n",
       "      <th id=\"T_76a2e_level0_row27\" class=\"row_heading level0 row27\" >B009D</th>\n",
       "      <td id=\"T_76a2e_row27_col0\" class=\"data row27 col0\" >-0.020270</td>\n",
       "      <td id=\"T_76a2e_row27_col1\" class=\"data row27 col1\" >0.003444</td>\n",
       "      <td id=\"T_76a2e_row27_col2\" class=\"data row27 col2\" >0.046102</td>\n",
       "      <td id=\"T_76a2e_row27_col3\" class=\"data row27 col3\" >-0.032330</td>\n",
       "      <td id=\"T_76a2e_row27_col4\" class=\"data row27 col4\" >-0.125251</td>\n",
       "      <td id=\"T_76a2e_row27_col5\" class=\"data row27 col5\" >-0.013871</td>\n",
       "      <td id=\"T_76a2e_row27_col6\" class=\"data row27 col6\" >0.021625</td>\n",
       "      <td id=\"T_76a2e_row27_col7\" class=\"data row27 col7\" >0.010467</td>\n",
       "      <td id=\"T_76a2e_row27_col8\" class=\"data row27 col8\" >0.006051</td>\n",
       "      <td id=\"T_76a2e_row27_col9\" class=\"data row27 col9\" >-0.001626</td>\n",
       "      <td id=\"T_76a2e_row27_col10\" class=\"data row27 col10\" >-0.008385</td>\n",
       "      <td id=\"T_76a2e_row27_col11\" class=\"data row27 col11\" >-0.004456</td>\n",
       "      <td id=\"T_76a2e_row27_col12\" class=\"data row27 col12\" >-0.009981</td>\n",
       "      <td id=\"T_76a2e_row27_col13\" class=\"data row27 col13\" >-0.010387</td>\n",
       "      <td id=\"T_76a2e_row27_col14\" class=\"data row27 col14\" >-0.007602</td>\n",
       "      <td id=\"T_76a2e_row27_col15\" class=\"data row27 col15\" >-0.003302</td>\n",
       "      <td id=\"T_76a2e_row27_col16\" class=\"data row27 col16\" >-0.013541</td>\n",
       "      <td id=\"T_76a2e_row27_col17\" class=\"data row27 col17\" >0.003862</td>\n",
       "      <td id=\"T_76a2e_row27_col18\" class=\"data row27 col18\" >-0.017698</td>\n",
       "      <td id=\"T_76a2e_row27_col19\" class=\"data row27 col19\" >-0.007473</td>\n",
       "      <td id=\"T_76a2e_row27_col20\" class=\"data row27 col20\" >-0.003246</td>\n",
       "      <td id=\"T_76a2e_row27_col21\" class=\"data row27 col21\" >-0.004438</td>\n",
       "      <td id=\"T_76a2e_row27_col22\" class=\"data row27 col22\" >-0.004580</td>\n",
       "      <td id=\"T_76a2e_row27_col23\" class=\"data row27 col23\" >-0.002073</td>\n",
       "      <td id=\"T_76a2e_row27_col24\" class=\"data row27 col24\" >0.283494</td>\n",
       "      <td id=\"T_76a2e_row27_col25\" class=\"data row27 col25\" >-0.192319</td>\n",
       "      <td id=\"T_76a2e_row27_col26\" class=\"data row27 col26\" >-0.846963</td>\n",
       "      <td id=\"T_76a2e_row27_col27\" class=\"data row27 col27\" >1.000000</td>\n",
       "      <td id=\"T_76a2e_row27_col28\" class=\"data row27 col28\" >0.238148</td>\n",
       "      <td id=\"T_76a2e_row27_col29\" class=\"data row27 col29\" >-0.162700</td>\n",
       "      <td id=\"T_76a2e_row27_col30\" class=\"data row27 col30\" >0.001893</td>\n",
       "      <td id=\"T_76a2e_row27_col31\" class=\"data row27 col31\" >0.081544</td>\n",
       "      <td id=\"T_76a2e_row27_col32\" class=\"data row27 col32\" >-0.015705</td>\n",
       "      <td id=\"T_76a2e_row27_col33\" class=\"data row27 col33\" >0.012692</td>\n",
       "      <td id=\"T_76a2e_row27_col34\" class=\"data row27 col34\" >0.010969</td>\n",
       "      <td id=\"T_76a2e_row27_col35\" class=\"data row27 col35\" >0.037906</td>\n",
       "      <td id=\"T_76a2e_row27_col36\" class=\"data row27 col36\" >-0.038756</td>\n",
       "      <td id=\"T_76a2e_row27_col37\" class=\"data row27 col37\" >-0.009624</td>\n",
       "    </tr>\n",
       "    <tr>\n",
       "      <th id=\"T_76a2e_level0_row28\" class=\"row_heading level0 row28\" >B009E</th>\n",
       "      <td id=\"T_76a2e_row28_col0\" class=\"data row28 col0\" >-0.071237</td>\n",
       "      <td id=\"T_76a2e_row28_col1\" class=\"data row28 col1\" >0.003082</td>\n",
       "      <td id=\"T_76a2e_row28_col2\" class=\"data row28 col2\" >-0.017957</td>\n",
       "      <td id=\"T_76a2e_row28_col3\" class=\"data row28 col3\" >-0.019117</td>\n",
       "      <td id=\"T_76a2e_row28_col4\" class=\"data row28 col4\" >0.028940</td>\n",
       "      <td id=\"T_76a2e_row28_col5\" class=\"data row28 col5\" >-0.011162</td>\n",
       "      <td id=\"T_76a2e_row28_col6\" class=\"data row28 col6\" >-0.034398</td>\n",
       "      <td id=\"T_76a2e_row28_col7\" class=\"data row28 col7\" >0.032592</td>\n",
       "      <td id=\"T_76a2e_row28_col8\" class=\"data row28 col8\" >0.039892</td>\n",
       "      <td id=\"T_76a2e_row28_col9\" class=\"data row28 col9\" >0.012673</td>\n",
       "      <td id=\"T_76a2e_row28_col10\" class=\"data row28 col10\" >-0.027053</td>\n",
       "      <td id=\"T_76a2e_row28_col11\" class=\"data row28 col11\" >-0.018882</td>\n",
       "      <td id=\"T_76a2e_row28_col12\" class=\"data row28 col12\" >-0.015842</td>\n",
       "      <td id=\"T_76a2e_row28_col13\" class=\"data row28 col13\" >-0.003641</td>\n",
       "      <td id=\"T_76a2e_row28_col14\" class=\"data row28 col14\" >-0.016617</td>\n",
       "      <td id=\"T_76a2e_row28_col15\" class=\"data row28 col15\" >-0.012608</td>\n",
       "      <td id=\"T_76a2e_row28_col16\" class=\"data row28 col16\" >0.039616</td>\n",
       "      <td id=\"T_76a2e_row28_col17\" class=\"data row28 col17\" >-0.016482</td>\n",
       "      <td id=\"T_76a2e_row28_col18\" class=\"data row28 col18\" >0.041502</td>\n",
       "      <td id=\"T_76a2e_row28_col19\" class=\"data row28 col19\" >0.050890</td>\n",
       "      <td id=\"T_76a2e_row28_col20\" class=\"data row28 col20\" >0.054064</td>\n",
       "      <td id=\"T_76a2e_row28_col21\" class=\"data row28 col21\" >0.054799</td>\n",
       "      <td id=\"T_76a2e_row28_col22\" class=\"data row28 col22\" >0.054400</td>\n",
       "      <td id=\"T_76a2e_row28_col23\" class=\"data row28 col23\" >0.056941</td>\n",
       "      <td id=\"T_76a2e_row28_col24\" class=\"data row28 col24\" >-0.297505</td>\n",
       "      <td id=\"T_76a2e_row28_col25\" class=\"data row28 col25\" >0.229698</td>\n",
       "      <td id=\"T_76a2e_row28_col26\" class=\"data row28 col26\" >-0.267438</td>\n",
       "      <td id=\"T_76a2e_row28_col27\" class=\"data row28 col27\" >0.238148</td>\n",
       "      <td id=\"T_76a2e_row28_col28\" class=\"data row28 col28\" >1.000000</td>\n",
       "      <td id=\"T_76a2e_row28_col29\" class=\"data row28 col29\" >-0.805743</td>\n",
       "      <td id=\"T_76a2e_row28_col30\" class=\"data row28 col30\" >0.018476</td>\n",
       "      <td id=\"T_76a2e_row28_col31\" class=\"data row28 col31\" >0.025797</td>\n",
       "      <td id=\"T_76a2e_row28_col32\" class=\"data row28 col32\" >-0.015814</td>\n",
       "      <td id=\"T_76a2e_row28_col33\" class=\"data row28 col33\" >-0.012062</td>\n",
       "      <td id=\"T_76a2e_row28_col34\" class=\"data row28 col34\" >0.021392</td>\n",
       "      <td id=\"T_76a2e_row28_col35\" class=\"data row28 col35\" >0.025068</td>\n",
       "      <td id=\"T_76a2e_row28_col36\" class=\"data row28 col36\" >-0.024192</td>\n",
       "      <td id=\"T_76a2e_row28_col37\" class=\"data row28 col37\" >0.016168</td>\n",
       "    </tr>\n",
       "    <tr>\n",
       "      <th id=\"T_76a2e_level0_row29\" class=\"row_heading level0 row29\" >B009F</th>\n",
       "      <td id=\"T_76a2e_row29_col0\" class=\"data row29 col0\" >0.069475</td>\n",
       "      <td id=\"T_76a2e_row29_col1\" class=\"data row29 col1\" >0.001597</td>\n",
       "      <td id=\"T_76a2e_row29_col2\" class=\"data row29 col2\" >0.000593</td>\n",
       "      <td id=\"T_76a2e_row29_col3\" class=\"data row29 col3\" >0.030175</td>\n",
       "      <td id=\"T_76a2e_row29_col4\" class=\"data row29 col4\" >0.001321</td>\n",
       "      <td id=\"T_76a2e_row29_col5\" class=\"data row29 col5\" >0.004768</td>\n",
       "      <td id=\"T_76a2e_row29_col6\" class=\"data row29 col6\" >0.016997</td>\n",
       "      <td id=\"T_76a2e_row29_col7\" class=\"data row29 col7\" >-0.025452</td>\n",
       "      <td id=\"T_76a2e_row29_col8\" class=\"data row29 col8\" >-0.035785</td>\n",
       "      <td id=\"T_76a2e_row29_col9\" class=\"data row29 col9\" >-0.016537</td>\n",
       "      <td id=\"T_76a2e_row29_col10\" class=\"data row29 col10\" >0.005846</td>\n",
       "      <td id=\"T_76a2e_row29_col11\" class=\"data row29 col11\" >-0.000775</td>\n",
       "      <td id=\"T_76a2e_row29_col12\" class=\"data row29 col12\" >0.001441</td>\n",
       "      <td id=\"T_76a2e_row29_col13\" class=\"data row29 col13\" >-0.003626</td>\n",
       "      <td id=\"T_76a2e_row29_col14\" class=\"data row29 col14\" >0.001235</td>\n",
       "      <td id=\"T_76a2e_row29_col15\" class=\"data row29 col15\" >0.001524</td>\n",
       "      <td id=\"T_76a2e_row29_col16\" class=\"data row29 col16\" >-0.000718</td>\n",
       "      <td id=\"T_76a2e_row29_col17\" class=\"data row29 col17\" >0.016462</td>\n",
       "      <td id=\"T_76a2e_row29_col18\" class=\"data row29 col18\" >-0.002916</td>\n",
       "      <td id=\"T_76a2e_row29_col19\" class=\"data row29 col19\" >-0.010882</td>\n",
       "      <td id=\"T_76a2e_row29_col20\" class=\"data row29 col20\" >-0.009429</td>\n",
       "      <td id=\"T_76a2e_row29_col21\" class=\"data row29 col21\" >-0.010484</td>\n",
       "      <td id=\"T_76a2e_row29_col22\" class=\"data row29 col22\" >-0.008795</td>\n",
       "      <td id=\"T_76a2e_row29_col23\" class=\"data row29 col23\" >-0.012128</td>\n",
       "      <td id=\"T_76a2e_row29_col24\" class=\"data row29 col24\" >0.214789</td>\n",
       "      <td id=\"T_76a2e_row29_col25\" class=\"data row29 col25\" >-0.142675</td>\n",
       "      <td id=\"T_76a2e_row29_col26\" class=\"data row29 col26\" >0.237184</td>\n",
       "      <td id=\"T_76a2e_row29_col27\" class=\"data row29 col27\" >-0.162700</td>\n",
       "      <td id=\"T_76a2e_row29_col28\" class=\"data row29 col28\" >-0.805743</td>\n",
       "      <td id=\"T_76a2e_row29_col29\" class=\"data row29 col29\" >1.000000</td>\n",
       "      <td id=\"T_76a2e_row29_col30\" class=\"data row29 col30\" >-0.002520</td>\n",
       "      <td id=\"T_76a2e_row29_col31\" class=\"data row29 col31\" >-0.040475</td>\n",
       "      <td id=\"T_76a2e_row29_col32\" class=\"data row29 col32\" >0.022467</td>\n",
       "      <td id=\"T_76a2e_row29_col33\" class=\"data row29 col33\" >0.004807</td>\n",
       "      <td id=\"T_76a2e_row29_col34\" class=\"data row29 col34\" >-0.013829</td>\n",
       "      <td id=\"T_76a2e_row29_col35\" class=\"data row29 col35\" >-0.026636</td>\n",
       "      <td id=\"T_76a2e_row29_col36\" class=\"data row29 col36\" >0.025684</td>\n",
       "      <td id=\"T_76a2e_row29_col37\" class=\"data row29 col37\" >-0.016396</td>\n",
       "    </tr>\n",
       "    <tr>\n",
       "      <th id=\"T_76a2e_level0_row30\" class=\"row_heading level0 row30\" >B011</th>\n",
       "      <td id=\"T_76a2e_row30_col0\" class=\"data row30 col0\" >0.057713</td>\n",
       "      <td id=\"T_76a2e_row30_col1\" class=\"data row30 col1\" >0.085940</td>\n",
       "      <td id=\"T_76a2e_row30_col2\" class=\"data row30 col2\" >-0.005898</td>\n",
       "      <td id=\"T_76a2e_row30_col3\" class=\"data row30 col3\" >-0.186064</td>\n",
       "      <td id=\"T_76a2e_row30_col4\" class=\"data row30 col4\" >0.027153</td>\n",
       "      <td id=\"T_76a2e_row30_col5\" class=\"data row30 col5\" >0.000674</td>\n",
       "      <td id=\"T_76a2e_row30_col6\" class=\"data row30 col6\" >0.040909</td>\n",
       "      <td id=\"T_76a2e_row30_col7\" class=\"data row30 col7\" >-0.052124</td>\n",
       "      <td id=\"T_76a2e_row30_col8\" class=\"data row30 col8\" >-0.081113</td>\n",
       "      <td id=\"T_76a2e_row30_col9\" class=\"data row30 col9\" >-0.010829</td>\n",
       "      <td id=\"T_76a2e_row30_col10\" class=\"data row30 col10\" >0.063183</td>\n",
       "      <td id=\"T_76a2e_row30_col11\" class=\"data row30 col11\" >0.058348</td>\n",
       "      <td id=\"T_76a2e_row30_col12\" class=\"data row30 col12\" >0.084738</td>\n",
       "      <td id=\"T_76a2e_row30_col13\" class=\"data row30 col13\" >0.130715</td>\n",
       "      <td id=\"T_76a2e_row30_col14\" class=\"data row30 col14\" >0.050756</td>\n",
       "      <td id=\"T_76a2e_row30_col15\" class=\"data row30 col15\" >0.079495</td>\n",
       "      <td id=\"T_76a2e_row30_col16\" class=\"data row30 col16\" >0.164665</td>\n",
       "      <td id=\"T_76a2e_row30_col17\" class=\"data row30 col17\" >0.084842</td>\n",
       "      <td id=\"T_76a2e_row30_col18\" class=\"data row30 col18\" >0.206517</td>\n",
       "      <td id=\"T_76a2e_row30_col19\" class=\"data row30 col19\" >0.216475</td>\n",
       "      <td id=\"T_76a2e_row30_col20\" class=\"data row30 col20\" >0.222947</td>\n",
       "      <td id=\"T_76a2e_row30_col21\" class=\"data row30 col21\" >0.222519</td>\n",
       "      <td id=\"T_76a2e_row30_col22\" class=\"data row30 col22\" >0.219636</td>\n",
       "      <td id=\"T_76a2e_row30_col23\" class=\"data row30 col23\" >0.220913</td>\n",
       "      <td id=\"T_76a2e_row30_col24\" class=\"data row30 col24\" >-0.013998</td>\n",
       "      <td id=\"T_76a2e_row30_col25\" class=\"data row30 col25\" >0.042346</td>\n",
       "      <td id=\"T_76a2e_row30_col26\" class=\"data row30 col26\" >0.011946</td>\n",
       "      <td id=\"T_76a2e_row30_col27\" class=\"data row30 col27\" >0.001893</td>\n",
       "      <td id=\"T_76a2e_row30_col28\" class=\"data row30 col28\" >0.018476</td>\n",
       "      <td id=\"T_76a2e_row30_col29\" class=\"data row30 col29\" >-0.002520</td>\n",
       "      <td id=\"T_76a2e_row30_col30\" class=\"data row30 col30\" >1.000000</td>\n",
       "      <td id=\"T_76a2e_row30_col31\" class=\"data row30 col31\" >0.044673</td>\n",
       "      <td id=\"T_76a2e_row30_col32\" class=\"data row30 col32\" >-0.030867</td>\n",
       "      <td id=\"T_76a2e_row30_col33\" class=\"data row30 col33\" >0.337246</td>\n",
       "      <td id=\"T_76a2e_row30_col34\" class=\"data row30 col34\" >0.139318</td>\n",
       "      <td id=\"T_76a2e_row30_col35\" class=\"data row30 col35\" >0.029812</td>\n",
       "      <td id=\"T_76a2e_row30_col36\" class=\"data row30 col36\" >-0.022033</td>\n",
       "      <td id=\"T_76a2e_row30_col37\" class=\"data row30 col37\" >-0.053532</td>\n",
       "    </tr>\n",
       "    <tr>\n",
       "      <th id=\"T_76a2e_level0_row31\" class=\"row_heading level0 row31\" >B007</th>\n",
       "      <td id=\"T_76a2e_row31_col0\" class=\"data row31 col0\" >-0.033348</td>\n",
       "      <td id=\"T_76a2e_row31_col1\" class=\"data row31 col1\" >0.010596</td>\n",
       "      <td id=\"T_76a2e_row31_col2\" class=\"data row31 col2\" >0.182130</td>\n",
       "      <td id=\"T_76a2e_row31_col3\" class=\"data row31 col3\" >-0.335159</td>\n",
       "      <td id=\"T_76a2e_row31_col4\" class=\"data row31 col4\" >-0.174989</td>\n",
       "      <td id=\"T_76a2e_row31_col5\" class=\"data row31 col5\" >-0.013782</td>\n",
       "      <td id=\"T_76a2e_row31_col6\" class=\"data row31 col6\" >0.174983</td>\n",
       "      <td id=\"T_76a2e_row31_col7\" class=\"data row31 col7\" >0.037081</td>\n",
       "      <td id=\"T_76a2e_row31_col8\" class=\"data row31 col8\" >0.017589</td>\n",
       "      <td id=\"T_76a2e_row31_col9\" class=\"data row31 col9\" >0.075043</td>\n",
       "      <td id=\"T_76a2e_row31_col10\" class=\"data row31 col10\" >-0.008104</td>\n",
       "      <td id=\"T_76a2e_row31_col11\" class=\"data row31 col11\" >-0.000547</td>\n",
       "      <td id=\"T_76a2e_row31_col12\" class=\"data row31 col12\" >-0.001684</td>\n",
       "      <td id=\"T_76a2e_row31_col13\" class=\"data row31 col13\" >-0.005718</td>\n",
       "      <td id=\"T_76a2e_row31_col14\" class=\"data row31 col14\" >0.000354</td>\n",
       "      <td id=\"T_76a2e_row31_col15\" class=\"data row31 col15\" >0.003233</td>\n",
       "      <td id=\"T_76a2e_row31_col16\" class=\"data row31 col16\" >-0.036525</td>\n",
       "      <td id=\"T_76a2e_row31_col17\" class=\"data row31 col17\" >-0.005130</td>\n",
       "      <td id=\"T_76a2e_row31_col18\" class=\"data row31 col18\" >-0.048157</td>\n",
       "      <td id=\"T_76a2e_row31_col19\" class=\"data row31 col19\" >-0.030144</td>\n",
       "      <td id=\"T_76a2e_row31_col20\" class=\"data row31 col20\" >-0.005793</td>\n",
       "      <td id=\"T_76a2e_row31_col21\" class=\"data row31 col21\" >-0.009142</td>\n",
       "      <td id=\"T_76a2e_row31_col22\" class=\"data row31 col22\" >-0.026732</td>\n",
       "      <td id=\"T_76a2e_row31_col23\" class=\"data row31 col23\" >0.005510</td>\n",
       "      <td id=\"T_76a2e_row31_col24\" class=\"data row31 col24\" >0.223123</td>\n",
       "      <td id=\"T_76a2e_row31_col25\" class=\"data row31 col25\" >-0.150201</td>\n",
       "      <td id=\"T_76a2e_row31_col26\" class=\"data row31 col26\" >-0.119137</td>\n",
       "      <td id=\"T_76a2e_row31_col27\" class=\"data row31 col27\" >0.081544</td>\n",
       "      <td id=\"T_76a2e_row31_col28\" class=\"data row31 col28\" >0.025797</td>\n",
       "      <td id=\"T_76a2e_row31_col29\" class=\"data row31 col29\" >-0.040475</td>\n",
       "      <td id=\"T_76a2e_row31_col30\" class=\"data row31 col30\" >0.044673</td>\n",
       "      <td id=\"T_76a2e_row31_col31\" class=\"data row31 col31\" >1.000000</td>\n",
       "      <td id=\"T_76a2e_row31_col32\" class=\"data row31 col32\" >-0.086286</td>\n",
       "      <td id=\"T_76a2e_row31_col33\" class=\"data row31 col33\" >0.142078</td>\n",
       "      <td id=\"T_76a2e_row31_col34\" class=\"data row31 col34\" >0.034099</td>\n",
       "      <td id=\"T_76a2e_row31_col35\" class=\"data row31 col35\" >0.214202</td>\n",
       "      <td id=\"T_76a2e_row31_col36\" class=\"data row31 col36\" >-0.274092</td>\n",
       "      <td id=\"T_76a2e_row31_col37\" class=\"data row31 col37\" >-0.021107</td>\n",
       "    </tr>\n",
       "    <tr>\n",
       "      <th id=\"T_76a2e_level0_row32\" class=\"row_heading level0 row32\" >C013</th>\n",
       "      <td id=\"T_76a2e_row32_col0\" class=\"data row32 col0\" >0.006115</td>\n",
       "      <td id=\"T_76a2e_row32_col1\" class=\"data row32 col1\" >-0.033552</td>\n",
       "      <td id=\"T_76a2e_row32_col2\" class=\"data row32 col2\" >-0.029337</td>\n",
       "      <td id=\"T_76a2e_row32_col3\" class=\"data row32 col3\" >0.170829</td>\n",
       "      <td id=\"T_76a2e_row32_col4\" class=\"data row32 col4\" >0.023735</td>\n",
       "      <td id=\"T_76a2e_row32_col5\" class=\"data row32 col5\" >0.002483</td>\n",
       "      <td id=\"T_76a2e_row32_col6\" class=\"data row32 col6\" >-0.040818</td>\n",
       "      <td id=\"T_76a2e_row32_col7\" class=\"data row32 col7\" >0.022558</td>\n",
       "      <td id=\"T_76a2e_row32_col8\" class=\"data row32 col8\" >0.031353</td>\n",
       "      <td id=\"T_76a2e_row32_col9\" class=\"data row32 col9\" >0.009781</td>\n",
       "      <td id=\"T_76a2e_row32_col10\" class=\"data row32 col10\" >0.001187</td>\n",
       "      <td id=\"T_76a2e_row32_col11\" class=\"data row32 col11\" >0.000799</td>\n",
       "      <td id=\"T_76a2e_row32_col12\" class=\"data row32 col12\" >-0.004140</td>\n",
       "      <td id=\"T_76a2e_row32_col13\" class=\"data row32 col13\" >0.002930</td>\n",
       "      <td id=\"T_76a2e_row32_col14\" class=\"data row32 col14\" >-0.003412</td>\n",
       "      <td id=\"T_76a2e_row32_col15\" class=\"data row32 col15\" >-0.001175</td>\n",
       "      <td id=\"T_76a2e_row32_col16\" class=\"data row32 col16\" >-0.003478</td>\n",
       "      <td id=\"T_76a2e_row32_col17\" class=\"data row32 col17\" >-0.013330</td>\n",
       "      <td id=\"T_76a2e_row32_col18\" class=\"data row32 col18\" >-0.003468</td>\n",
       "      <td id=\"T_76a2e_row32_col19\" class=\"data row32 col19\" >-0.006091</td>\n",
       "      <td id=\"T_76a2e_row32_col20\" class=\"data row32 col20\" >-0.009620</td>\n",
       "      <td id=\"T_76a2e_row32_col21\" class=\"data row32 col21\" >-0.008127</td>\n",
       "      <td id=\"T_76a2e_row32_col22\" class=\"data row32 col22\" >-0.003808</td>\n",
       "      <td id=\"T_76a2e_row32_col23\" class=\"data row32 col23\" >-0.010025</td>\n",
       "      <td id=\"T_76a2e_row32_col24\" class=\"data row32 col24\" >-0.013771</td>\n",
       "      <td id=\"T_76a2e_row32_col25\" class=\"data row32 col25\" >0.011382</td>\n",
       "      <td id=\"T_76a2e_row32_col26\" class=\"data row32 col26\" >0.019520</td>\n",
       "      <td id=\"T_76a2e_row32_col27\" class=\"data row32 col27\" >-0.015705</td>\n",
       "      <td id=\"T_76a2e_row32_col28\" class=\"data row32 col28\" >-0.015814</td>\n",
       "      <td id=\"T_76a2e_row32_col29\" class=\"data row32 col29\" >0.022467</td>\n",
       "      <td id=\"T_76a2e_row32_col30\" class=\"data row32 col30\" >-0.030867</td>\n",
       "      <td id=\"T_76a2e_row32_col31\" class=\"data row32 col31\" >-0.086286</td>\n",
       "      <td id=\"T_76a2e_row32_col32\" class=\"data row32 col32\" >1.000000</td>\n",
       "      <td id=\"T_76a2e_row32_col33\" class=\"data row32 col33\" >-0.197443</td>\n",
       "      <td id=\"T_76a2e_row32_col34\" class=\"data row32 col34\" >-0.051779</td>\n",
       "      <td id=\"T_76a2e_row32_col35\" class=\"data row32 col35\" >-0.046204</td>\n",
       "      <td id=\"T_76a2e_row32_col36\" class=\"data row32 col36\" >0.060802</td>\n",
       "      <td id=\"T_76a2e_row32_col37\" class=\"data row32 col37\" >0.002993</td>\n",
       "    </tr>\n",
       "    <tr>\n",
       "      <th id=\"T_76a2e_level0_row33\" class=\"row_heading level0 row33\" >C002</th>\n",
       "      <td id=\"T_76a2e_row33_col0\" class=\"data row33 col0\" >0.251646</td>\n",
       "      <td id=\"T_76a2e_row33_col1\" class=\"data row33 col1\" >0.170399</td>\n",
       "      <td id=\"T_76a2e_row33_col2\" class=\"data row33 col2\" >0.042615</td>\n",
       "      <td id=\"T_76a2e_row33_col3\" class=\"data row33 col3\" >-0.228472</td>\n",
       "      <td id=\"T_76a2e_row33_col4\" class=\"data row33 col4\" >-0.062979</td>\n",
       "      <td id=\"T_76a2e_row33_col5\" class=\"data row33 col5\" >0.022167</td>\n",
       "      <td id=\"T_76a2e_row33_col6\" class=\"data row33 col6\" >0.065065</td>\n",
       "      <td id=\"T_76a2e_row33_col7\" class=\"data row33 col7\" >-0.107416</td>\n",
       "      <td id=\"T_76a2e_row33_col8\" class=\"data row33 col8\" >-0.168102</td>\n",
       "      <td id=\"T_76a2e_row33_col9\" class=\"data row33 col9\" >-0.028701</td>\n",
       "      <td id=\"T_76a2e_row33_col10\" class=\"data row33 col10\" >-0.029966</td>\n",
       "      <td id=\"T_76a2e_row33_col11\" class=\"data row33 col11\" >-0.035428</td>\n",
       "      <td id=\"T_76a2e_row33_col12\" class=\"data row33 col12\" >-0.023450</td>\n",
       "      <td id=\"T_76a2e_row33_col13\" class=\"data row33 col13\" >-0.030014</td>\n",
       "      <td id=\"T_76a2e_row33_col14\" class=\"data row33 col14\" >-0.034299</td>\n",
       "      <td id=\"T_76a2e_row33_col15\" class=\"data row33 col15\" >-0.034088</td>\n",
       "      <td id=\"T_76a2e_row33_col16\" class=\"data row33 col16\" >0.046076</td>\n",
       "      <td id=\"T_76a2e_row33_col17\" class=\"data row33 col17\" >0.054746</td>\n",
       "      <td id=\"T_76a2e_row33_col18\" class=\"data row33 col18\" >0.055159</td>\n",
       "      <td id=\"T_76a2e_row33_col19\" class=\"data row33 col19\" >0.059890</td>\n",
       "      <td id=\"T_76a2e_row33_col20\" class=\"data row33 col20\" >0.065788</td>\n",
       "      <td id=\"T_76a2e_row33_col21\" class=\"data row33 col21\" >0.061183</td>\n",
       "      <td id=\"T_76a2e_row33_col22\" class=\"data row33 col22\" >0.057285</td>\n",
       "      <td id=\"T_76a2e_row33_col23\" class=\"data row33 col23\" >0.062599</td>\n",
       "      <td id=\"T_76a2e_row33_col24\" class=\"data row33 col24\" >0.068929</td>\n",
       "      <td id=\"T_76a2e_row33_col25\" class=\"data row33 col25\" >-0.030304</td>\n",
       "      <td id=\"T_76a2e_row33_col26\" class=\"data row33 col26\" >-0.021226</td>\n",
       "      <td id=\"T_76a2e_row33_col27\" class=\"data row33 col27\" >0.012692</td>\n",
       "      <td id=\"T_76a2e_row33_col28\" class=\"data row33 col28\" >-0.012062</td>\n",
       "      <td id=\"T_76a2e_row33_col29\" class=\"data row33 col29\" >0.004807</td>\n",
       "      <td id=\"T_76a2e_row33_col30\" class=\"data row33 col30\" >0.337246</td>\n",
       "      <td id=\"T_76a2e_row33_col31\" class=\"data row33 col31\" >0.142078</td>\n",
       "      <td id=\"T_76a2e_row33_col32\" class=\"data row33 col32\" >-0.197443</td>\n",
       "      <td id=\"T_76a2e_row33_col33\" class=\"data row33 col33\" >1.000000</td>\n",
       "      <td id=\"T_76a2e_row33_col34\" class=\"data row33 col34\" >0.054341</td>\n",
       "      <td id=\"T_76a2e_row33_col35\" class=\"data row33 col35\" >0.101352</td>\n",
       "      <td id=\"T_76a2e_row33_col36\" class=\"data row33 col36\" >-0.113476</td>\n",
       "      <td id=\"T_76a2e_row33_col37\" class=\"data row33 col37\" >-0.013128</td>\n",
       "    </tr>\n",
       "    <tr>\n",
       "      <th id=\"T_76a2e_level0_row34\" class=\"row_heading level0 row34\" >C004</th>\n",
       "      <td id=\"T_76a2e_row34_col0\" class=\"data row34 col0\" >0.027369</td>\n",
       "      <td id=\"T_76a2e_row34_col1\" class=\"data row34 col1\" >0.012844</td>\n",
       "      <td id=\"T_76a2e_row34_col2\" class=\"data row34 col2\" >0.003777</td>\n",
       "      <td id=\"T_76a2e_row34_col3\" class=\"data row34 col3\" >0.020116</td>\n",
       "      <td id=\"T_76a2e_row34_col4\" class=\"data row34 col4\" >-0.002539</td>\n",
       "      <td id=\"T_76a2e_row34_col5\" class=\"data row34 col5\" >-0.007439</td>\n",
       "      <td id=\"T_76a2e_row34_col6\" class=\"data row34 col6\" >0.006491</td>\n",
       "      <td id=\"T_76a2e_row34_col7\" class=\"data row34 col7\" >-0.005529</td>\n",
       "      <td id=\"T_76a2e_row34_col8\" class=\"data row34 col8\" >-0.018905</td>\n",
       "      <td id=\"T_76a2e_row34_col9\" class=\"data row34 col9\" >-0.015204</td>\n",
       "      <td id=\"T_76a2e_row34_col10\" class=\"data row34 col10\" >-0.075716</td>\n",
       "      <td id=\"T_76a2e_row34_col11\" class=\"data row34 col11\" >-0.075491</td>\n",
       "      <td id=\"T_76a2e_row34_col12\" class=\"data row34 col12\" >-0.064944</td>\n",
       "      <td id=\"T_76a2e_row34_col13\" class=\"data row34 col13\" >-0.043259</td>\n",
       "      <td id=\"T_76a2e_row34_col14\" class=\"data row34 col14\" >-0.084201</td>\n",
       "      <td id=\"T_76a2e_row34_col15\" class=\"data row34 col15\" >-0.070909</td>\n",
       "      <td id=\"T_76a2e_row34_col16\" class=\"data row34 col16\" >0.114172</td>\n",
       "      <td id=\"T_76a2e_row34_col17\" class=\"data row34 col17\" >0.026993</td>\n",
       "      <td id=\"T_76a2e_row34_col18\" class=\"data row34 col18\" >0.130699</td>\n",
       "      <td id=\"T_76a2e_row34_col19\" class=\"data row34 col19\" >0.131582</td>\n",
       "      <td id=\"T_76a2e_row34_col20\" class=\"data row34 col20\" >0.139207</td>\n",
       "      <td id=\"T_76a2e_row34_col21\" class=\"data row34 col21\" >0.138397</td>\n",
       "      <td id=\"T_76a2e_row34_col22\" class=\"data row34 col22\" >0.137738</td>\n",
       "      <td id=\"T_76a2e_row34_col23\" class=\"data row34 col23\" >0.137738</td>\n",
       "      <td id=\"T_76a2e_row34_col24\" class=\"data row34 col24\" >-0.012658</td>\n",
       "      <td id=\"T_76a2e_row34_col25\" class=\"data row34 col25\" >0.024744</td>\n",
       "      <td id=\"T_76a2e_row34_col26\" class=\"data row34 col26\" >-0.011260</td>\n",
       "      <td id=\"T_76a2e_row34_col27\" class=\"data row34 col27\" >0.010969</td>\n",
       "      <td id=\"T_76a2e_row34_col28\" class=\"data row34 col28\" >0.021392</td>\n",
       "      <td id=\"T_76a2e_row34_col29\" class=\"data row34 col29\" >-0.013829</td>\n",
       "      <td id=\"T_76a2e_row34_col30\" class=\"data row34 col30\" >0.139318</td>\n",
       "      <td id=\"T_76a2e_row34_col31\" class=\"data row34 col31\" >0.034099</td>\n",
       "      <td id=\"T_76a2e_row34_col32\" class=\"data row34 col32\" >-0.051779</td>\n",
       "      <td id=\"T_76a2e_row34_col33\" class=\"data row34 col33\" >0.054341</td>\n",
       "      <td id=\"T_76a2e_row34_col34\" class=\"data row34 col34\" >1.000000</td>\n",
       "      <td id=\"T_76a2e_row34_col35\" class=\"data row34 col35\" >0.047224</td>\n",
       "      <td id=\"T_76a2e_row34_col36\" class=\"data row34 col36\" >-0.043609</td>\n",
       "      <td id=\"T_76a2e_row34_col37\" class=\"data row34 col37\" >-0.028941</td>\n",
       "    </tr>\n",
       "    <tr>\n",
       "      <th id=\"T_76a2e_level0_row35\" class=\"row_heading level0 row35\" >D0053</th>\n",
       "      <td id=\"T_76a2e_row35_col0\" class=\"data row35 col0\" >-0.093625</td>\n",
       "      <td id=\"T_76a2e_row35_col1\" class=\"data row35 col1\" >0.001535</td>\n",
       "      <td id=\"T_76a2e_row35_col2\" class=\"data row35 col2\" >0.127496</td>\n",
       "      <td id=\"T_76a2e_row35_col3\" class=\"data row35 col3\" >-0.191639</td>\n",
       "      <td id=\"T_76a2e_row35_col4\" class=\"data row35 col4\" >-0.146431</td>\n",
       "      <td id=\"T_76a2e_row35_col5\" class=\"data row35 col5\" >-0.020630</td>\n",
       "      <td id=\"T_76a2e_row35_col6\" class=\"data row35 col6\" >0.090183</td>\n",
       "      <td id=\"T_76a2e_row35_col7\" class=\"data row35 col7\" >-0.002384</td>\n",
       "      <td id=\"T_76a2e_row35_col8\" class=\"data row35 col8\" >0.005050</td>\n",
       "      <td id=\"T_76a2e_row35_col9\" class=\"data row35 col9\" >-0.002865</td>\n",
       "      <td id=\"T_76a2e_row35_col10\" class=\"data row35 col10\" >-0.009784</td>\n",
       "      <td id=\"T_76a2e_row35_col11\" class=\"data row35 col11\" >-0.004014</td>\n",
       "      <td id=\"T_76a2e_row35_col12\" class=\"data row35 col12\" >-0.002884</td>\n",
       "      <td id=\"T_76a2e_row35_col13\" class=\"data row35 col13\" >-0.004836</td>\n",
       "      <td id=\"T_76a2e_row35_col14\" class=\"data row35 col14\" >-0.005152</td>\n",
       "      <td id=\"T_76a2e_row35_col15\" class=\"data row35 col15\" >0.002740</td>\n",
       "      <td id=\"T_76a2e_row35_col16\" class=\"data row35 col16\" >-0.018848</td>\n",
       "      <td id=\"T_76a2e_row35_col17\" class=\"data row35 col17\" >-0.005901</td>\n",
       "      <td id=\"T_76a2e_row35_col18\" class=\"data row35 col18\" >-0.023921</td>\n",
       "      <td id=\"T_76a2e_row35_col19\" class=\"data row35 col19\" >-0.019190</td>\n",
       "      <td id=\"T_76a2e_row35_col20\" class=\"data row35 col20\" >-0.012792</td>\n",
       "      <td id=\"T_76a2e_row35_col21\" class=\"data row35 col21\" >-0.014586</td>\n",
       "      <td id=\"T_76a2e_row35_col22\" class=\"data row35 col22\" >-0.019555</td>\n",
       "      <td id=\"T_76a2e_row35_col23\" class=\"data row35 col23\" >-0.010110</td>\n",
       "      <td id=\"T_76a2e_row35_col24\" class=\"data row35 col24\" >0.103222</td>\n",
       "      <td id=\"T_76a2e_row35_col25\" class=\"data row35 col25\" >-0.066917</td>\n",
       "      <td id=\"T_76a2e_row35_col26\" class=\"data row35 col26\" >-0.059132</td>\n",
       "      <td id=\"T_76a2e_row35_col27\" class=\"data row35 col27\" >0.037906</td>\n",
       "      <td id=\"T_76a2e_row35_col28\" class=\"data row35 col28\" >0.025068</td>\n",
       "      <td id=\"T_76a2e_row35_col29\" class=\"data row35 col29\" >-0.026636</td>\n",
       "      <td id=\"T_76a2e_row35_col30\" class=\"data row35 col30\" >0.029812</td>\n",
       "      <td id=\"T_76a2e_row35_col31\" class=\"data row35 col31\" >0.214202</td>\n",
       "      <td id=\"T_76a2e_row35_col32\" class=\"data row35 col32\" >-0.046204</td>\n",
       "      <td id=\"T_76a2e_row35_col33\" class=\"data row35 col33\" >0.101352</td>\n",
       "      <td id=\"T_76a2e_row35_col34\" class=\"data row35 col34\" >0.047224</td>\n",
       "      <td id=\"T_76a2e_row35_col35\" class=\"data row35 col35\" >1.000000</td>\n",
       "      <td id=\"T_76a2e_row35_col36\" class=\"data row35 col36\" >-0.742209</td>\n",
       "      <td id=\"T_76a2e_row35_col37\" class=\"data row35 col37\" >-0.142175</td>\n",
       "    </tr>\n",
       "    <tr>\n",
       "      <th id=\"T_76a2e_level0_row36\" class=\"row_heading level0 row36\" >D0051</th>\n",
       "      <td id=\"T_76a2e_row36_col0\" class=\"data row36 col0\" >0.106946</td>\n",
       "      <td id=\"T_76a2e_row36_col1\" class=\"data row36 col1\" >-0.003733</td>\n",
       "      <td id=\"T_76a2e_row36_col2\" class=\"data row36 col2\" >-0.160922</td>\n",
       "      <td id=\"T_76a2e_row36_col3\" class=\"data row36 col3\" >0.236857</td>\n",
       "      <td id=\"T_76a2e_row36_col4\" class=\"data row36 col4\" >0.161710</td>\n",
       "      <td id=\"T_76a2e_row36_col5\" class=\"data row36 col5\" >0.002501</td>\n",
       "      <td id=\"T_76a2e_row36_col6\" class=\"data row36 col6\" >-0.104313</td>\n",
       "      <td id=\"T_76a2e_row36_col7\" class=\"data row36 col7\" >0.002015</td>\n",
       "      <td id=\"T_76a2e_row36_col8\" class=\"data row36 col8\" >-0.000439</td>\n",
       "      <td id=\"T_76a2e_row36_col9\" class=\"data row36 col9\" >-0.005953</td>\n",
       "      <td id=\"T_76a2e_row36_col10\" class=\"data row36 col10\" >0.008174</td>\n",
       "      <td id=\"T_76a2e_row36_col11\" class=\"data row36 col11\" >0.005002</td>\n",
       "      <td id=\"T_76a2e_row36_col12\" class=\"data row36 col12\" >0.006123</td>\n",
       "      <td id=\"T_76a2e_row36_col13\" class=\"data row36 col13\" >0.010110</td>\n",
       "      <td id=\"T_76a2e_row36_col14\" class=\"data row36 col14\" >0.008352</td>\n",
       "      <td id=\"T_76a2e_row36_col15\" class=\"data row36 col15\" >0.000592</td>\n",
       "      <td id=\"T_76a2e_row36_col16\" class=\"data row36 col16\" >0.019747</td>\n",
       "      <td id=\"T_76a2e_row36_col17\" class=\"data row36 col17\" >0.005741</td>\n",
       "      <td id=\"T_76a2e_row36_col18\" class=\"data row36 col18\" >0.028749</td>\n",
       "      <td id=\"T_76a2e_row36_col19\" class=\"data row36 col19\" >0.024701</td>\n",
       "      <td id=\"T_76a2e_row36_col20\" class=\"data row36 col20\" >0.014159</td>\n",
       "      <td id=\"T_76a2e_row36_col21\" class=\"data row36 col21\" >0.016783</td>\n",
       "      <td id=\"T_76a2e_row36_col22\" class=\"data row36 col22\" >0.022803</td>\n",
       "      <td id=\"T_76a2e_row36_col23\" class=\"data row36 col23\" >0.010470</td>\n",
       "      <td id=\"T_76a2e_row36_col24\" class=\"data row36 col24\" >-0.128837</td>\n",
       "      <td id=\"T_76a2e_row36_col25\" class=\"data row36 col25\" >0.084496</td>\n",
       "      <td id=\"T_76a2e_row36_col26\" class=\"data row36 col26\" >0.064471</td>\n",
       "      <td id=\"T_76a2e_row36_col27\" class=\"data row36 col27\" >-0.038756</td>\n",
       "      <td id=\"T_76a2e_row36_col28\" class=\"data row36 col28\" >-0.024192</td>\n",
       "      <td id=\"T_76a2e_row36_col29\" class=\"data row36 col29\" >0.025684</td>\n",
       "      <td id=\"T_76a2e_row36_col30\" class=\"data row36 col30\" >-0.022033</td>\n",
       "      <td id=\"T_76a2e_row36_col31\" class=\"data row36 col31\" >-0.274092</td>\n",
       "      <td id=\"T_76a2e_row36_col32\" class=\"data row36 col32\" >0.060802</td>\n",
       "      <td id=\"T_76a2e_row36_col33\" class=\"data row36 col33\" >-0.113476</td>\n",
       "      <td id=\"T_76a2e_row36_col34\" class=\"data row36 col34\" >-0.043609</td>\n",
       "      <td id=\"T_76a2e_row36_col35\" class=\"data row36 col35\" >-0.742209</td>\n",
       "      <td id=\"T_76a2e_row36_col36\" class=\"data row36 col36\" >1.000000</td>\n",
       "      <td id=\"T_76a2e_row36_col37\" class=\"data row36 col37\" >0.041623</td>\n",
       "    </tr>\n",
       "    <tr>\n",
       "      <th id=\"T_76a2e_level0_row37\" class=\"row_heading level0 row37\" >mes_numero</th>\n",
       "      <td id=\"T_76a2e_row37_col0\" class=\"data row37 col0\" >-0.005964</td>\n",
       "      <td id=\"T_76a2e_row37_col1\" class=\"data row37 col1\" >-0.002559</td>\n",
       "      <td id=\"T_76a2e_row37_col2\" class=\"data row37 col2\" >-0.024998</td>\n",
       "      <td id=\"T_76a2e_row37_col3\" class=\"data row37 col3\" >0.016126</td>\n",
       "      <td id=\"T_76a2e_row37_col4\" class=\"data row37 col4\" >0.032401</td>\n",
       "      <td id=\"T_76a2e_row37_col5\" class=\"data row37 col5\" >0.007902</td>\n",
       "      <td id=\"T_76a2e_row37_col6\" class=\"data row37 col6\" >-0.009355</td>\n",
       "      <td id=\"T_76a2e_row37_col7\" class=\"data row37 col7\" >0.003916</td>\n",
       "      <td id=\"T_76a2e_row37_col8\" class=\"data row37 col8\" >0.003133</td>\n",
       "      <td id=\"T_76a2e_row37_col9\" class=\"data row37 col9\" >0.000583</td>\n",
       "      <td id=\"T_76a2e_row37_col10\" class=\"data row37 col10\" >0.018120</td>\n",
       "      <td id=\"T_76a2e_row37_col11\" class=\"data row37 col11\" >0.011299</td>\n",
       "      <td id=\"T_76a2e_row37_col12\" class=\"data row37 col12\" >0.006938</td>\n",
       "      <td id=\"T_76a2e_row37_col13\" class=\"data row37 col13\" >0.014680</td>\n",
       "      <td id=\"T_76a2e_row37_col14\" class=\"data row37 col14\" >0.017919</td>\n",
       "      <td id=\"T_76a2e_row37_col15\" class=\"data row37 col15\" >0.013079</td>\n",
       "      <td id=\"T_76a2e_row37_col16\" class=\"data row37 col16\" >-0.004555</td>\n",
       "      <td id=\"T_76a2e_row37_col17\" class=\"data row37 col17\" >-0.014230</td>\n",
       "      <td id=\"T_76a2e_row37_col18\" class=\"data row37 col18\" >-0.018781</td>\n",
       "      <td id=\"T_76a2e_row37_col19\" class=\"data row37 col19\" >-0.031279</td>\n",
       "      <td id=\"T_76a2e_row37_col20\" class=\"data row37 col20\" >-0.030899</td>\n",
       "      <td id=\"T_76a2e_row37_col21\" class=\"data row37 col21\" >-0.029843</td>\n",
       "      <td id=\"T_76a2e_row37_col22\" class=\"data row37 col22\" >-0.025785</td>\n",
       "      <td id=\"T_76a2e_row37_col23\" class=\"data row37 col23\" >-0.033072</td>\n",
       "      <td id=\"T_76a2e_row37_col24\" class=\"data row37 col24\" >-0.048912</td>\n",
       "      <td id=\"T_76a2e_row37_col25\" class=\"data row37 col25\" >0.041940</td>\n",
       "      <td id=\"T_76a2e_row37_col26\" class=\"data row37 col26\" >0.013951</td>\n",
       "      <td id=\"T_76a2e_row37_col27\" class=\"data row37 col27\" >-0.009624</td>\n",
       "      <td id=\"T_76a2e_row37_col28\" class=\"data row37 col28\" >0.016168</td>\n",
       "      <td id=\"T_76a2e_row37_col29\" class=\"data row37 col29\" >-0.016396</td>\n",
       "      <td id=\"T_76a2e_row37_col30\" class=\"data row37 col30\" >-0.053532</td>\n",
       "      <td id=\"T_76a2e_row37_col31\" class=\"data row37 col31\" >-0.021107</td>\n",
       "      <td id=\"T_76a2e_row37_col32\" class=\"data row37 col32\" >0.002993</td>\n",
       "      <td id=\"T_76a2e_row37_col33\" class=\"data row37 col33\" >-0.013128</td>\n",
       "      <td id=\"T_76a2e_row37_col34\" class=\"data row37 col34\" >-0.028941</td>\n",
       "      <td id=\"T_76a2e_row37_col35\" class=\"data row37 col35\" >-0.142175</td>\n",
       "      <td id=\"T_76a2e_row37_col36\" class=\"data row37 col36\" >0.041623</td>\n",
       "      <td id=\"T_76a2e_row37_col37\" class=\"data row37 col37\" >1.000000</td>\n",
       "    </tr>\n",
       "  </tbody>\n",
       "</table>\n"
      ],
      "text/plain": [
       "<pandas.io.formats.style.Styler at 0x25dfbc9f980>"
      ]
     },
     "execution_count": 8,
     "metadata": {},
     "output_type": "execute_result"
    }
   ],
   "source": [
    "# Plota um heatmap da correçãoa entre todas as variaveis\n",
    "corr = df_positivado.drop(columns='B008').corr()\n",
    "corr.style.background_gradient(cmap='coolwarm')"
   ]
  },
  {
   "cell_type": "code",
   "execution_count": 9,
   "metadata": {},
   "outputs": [],
   "source": [
    "def fMonstaFaixaEtaria(row):\n",
    "    if(row <= 19):\n",
    "        return 1\n",
    "    elif((row >= 20) and (row <= 59)):\n",
    "        return 2\n",
    "    elif(row > 59):\n",
    "        return 3"
   ]
  },
  {
   "cell_type": "code",
   "execution_count": 10,
   "metadata": {},
   "outputs": [],
   "source": [
    "def fteveSintomas(s):\n",
    "    if(s['B0011'] == 1) or (s['B0012'] == 1) or (s['B0013'] == 1) or (s['B0014'] == 1) or (s['B0015'] == 1) or (s['B0019'] == 1):\n",
    "        return 1\n",
    "    else:\n",
    "        return 0"
   ]
  },
  {
   "cell_type": "code",
   "execution_count": 11,
   "metadata": {},
   "outputs": [],
   "source": [
    "# quantidade de sintomas\n",
    "def fQuantidadeSintomas(s):\n",
    "    iQuantidade = 0\n",
    "\n",
    "    if (s['B0011'] == 1):\n",
    "        iQuantidade += 1\n",
    "\n",
    "    if (s['B0012'] == 1):\n",
    "        iQuantidade += 1\n",
    "\n",
    "    if (s['B0013'] == 1):\n",
    "        iQuantidade += 1\n",
    "\n",
    "    if (s['B0014'] == 1):\n",
    "        iQuantidade += 1\n",
    "\n",
    "    if (s['B0015'] == 1):\n",
    "        iQuantidade += 1\n",
    "\n",
    "    if (s['B0019'] == 1):\n",
    "        iQuantidade += 1\n",
    "\n",
    "    return iQuantidade"
   ]
  },
  {
   "cell_type": "code",
   "execution_count": 12,
   "metadata": {},
   "outputs": [],
   "source": [
    "# 1 = possui plano de saúde; 0 Não - possui\n",
    "def fPossuiPlanoSaude(row):\n",
    "    if(row == 1):\n",
    "        return 1\n",
    "    else:\n",
    "        return 0"
   ]
  },
  {
   "cell_type": "code",
   "execution_count": 13,
   "metadata": {},
   "outputs": [],
   "source": [
    "# 1 = fez home office; 0 Não - fez\n",
    "def fHomeOffice(row):\n",
    "    if(row == 1):\n",
    "        return 1\n",
    "    elif (row == 2):\n",
    "        return 2\n",
    "    else:\n",
    "        return 0"
   ]
  },
  {
   "cell_type": "code",
   "execution_count": 14,
   "metadata": {},
   "outputs": [],
   "source": [
    "# com base na documentação, serão considerados 3 valores 0, 1, 2, onde 0 não teve distanciamento, 1 teve parcial distanciamento e 3 fez total distanciamento\n",
    "# 1,2,9 -> Não respeitou = 0\n",
    "# 3,4 -> Respeitou = 1\n",
    "def fDistanciamento(row):\n",
    "    if(row == 1) or (row == 9) or (row == 2):\n",
    "        return 0\n",
    "    elif(row == 3) or (row == 4):\n",
    "        return 1\n",
    "        "
   ]
  },
  {
   "cell_type": "code",
   "execution_count": 15,
   "metadata": {},
   "outputs": [],
   "source": [
    "def fFoiInternado(row):\n",
    "   if(row == 1):\n",
    "      return 1\n",
    "   else:\n",
    "      return 0"
   ]
  },
  {
   "cell_type": "code",
   "execution_count": 16,
   "metadata": {},
   "outputs": [],
   "source": [
    "# 0 = negativou; 1 = positivou\n",
    "\n",
    "positivou = [1,3,4]\n",
    "\n",
    "def fPositivou(s):\n",
    "    if(s['B009B'] in positivou) or (s['B009D'] in positivou) or (s['B009F'] in positivou):\n",
    "        return 1\n",
    "    else:\n",
    "        return 0"
   ]
  },
  {
   "cell_type": "code",
   "execution_count": 17,
   "metadata": {},
   "outputs": [],
   "source": [
    "# Teve sintoma\n",
    "def fTeveSintoma(row):\n",
    "    if (row == 1):\n",
    "        return 1\n",
    "    else: \n",
    "        return 0"
   ]
  },
  {
   "cell_type": "code",
   "execution_count": 18,
   "metadata": {},
   "outputs": [
    {
     "data": {
      "text/plain": [
       "Index(['A002', 'A003', 'A004', 'A005', 'UF', 'V1012', 'V1022', 'B0101',\n",
       "       'B0102', 'B0103', 'B0011', 'B0012', 'B0013', 'B0014', 'B0015', 'B0019',\n",
       "       'B005', 'B006', 'B0041', 'B0042', 'B0044', 'B0045', 'B0043', 'B0046',\n",
       "       'B008', 'B009A', 'B009B', 'B009C', 'B009D', 'B009E', 'B009F', 'B011',\n",
       "       'B007', 'C013', 'C002', 'C004', 'D0053', 'D0051', 'mes_numero',\n",
       "       'mes_descricao'],\n",
       "      dtype='object')"
      ]
     },
     "execution_count": 18,
     "metadata": {},
     "output_type": "execute_result"
    }
   ],
   "source": [
    "df.columns"
   ]
  },
  {
   "cell_type": "code",
   "execution_count": 19,
   "metadata": {},
   "outputs": [
    {
     "data": {
      "text/html": [
       "<div>\n",
       "<style scoped>\n",
       "    .dataframe tbody tr th:only-of-type {\n",
       "        vertical-align: middle;\n",
       "    }\n",
       "\n",
       "    .dataframe tbody tr th {\n",
       "        vertical-align: top;\n",
       "    }\n",
       "\n",
       "    .dataframe thead th {\n",
       "        text-align: right;\n",
       "    }\n",
       "</style>\n",
       "<table border=\"1\" class=\"dataframe\">\n",
       "  <thead>\n",
       "    <tr style=\"text-align: right;\">\n",
       "      <th></th>\n",
       "      <th>faixa_etaria</th>\n",
       "      <th>teve_sintomas</th>\n",
       "      <th>qtd_sintomas</th>\n",
       "      <th>teve_febre</th>\n",
       "      <th>teve_tosse</th>\n",
       "      <th>teve_dor_garganta</th>\n",
       "      <th>teve_dificuldade_respirar</th>\n",
       "      <th>teve_dor_cabeca</th>\n",
       "      <th>teve_dor_fadiga</th>\n",
       "      <th>possui_plano_saude</th>\n",
       "      <th>home_office</th>\n",
       "      <th>distanciamento</th>\n",
       "      <th>foi_internado</th>\n",
       "      <th>positivou</th>\n",
       "    </tr>\n",
       "  </thead>\n",
       "  <tbody>\n",
       "    <tr>\n",
       "      <th>0</th>\n",
       "      <td>2</td>\n",
       "      <td>0</td>\n",
       "      <td>0</td>\n",
       "      <td>0</td>\n",
       "      <td>0</td>\n",
       "      <td>0</td>\n",
       "      <td>0</td>\n",
       "      <td>0</td>\n",
       "      <td>0</td>\n",
       "      <td>1</td>\n",
       "      <td>0</td>\n",
       "      <td>0</td>\n",
       "      <td>0</td>\n",
       "      <td>0</td>\n",
       "    </tr>\n",
       "    <tr>\n",
       "      <th>1</th>\n",
       "      <td>2</td>\n",
       "      <td>0</td>\n",
       "      <td>0</td>\n",
       "      <td>0</td>\n",
       "      <td>0</td>\n",
       "      <td>0</td>\n",
       "      <td>0</td>\n",
       "      <td>0</td>\n",
       "      <td>0</td>\n",
       "      <td>0</td>\n",
       "      <td>0</td>\n",
       "      <td>0</td>\n",
       "      <td>0</td>\n",
       "      <td>0</td>\n",
       "    </tr>\n",
       "    <tr>\n",
       "      <th>2</th>\n",
       "      <td>1</td>\n",
       "      <td>0</td>\n",
       "      <td>0</td>\n",
       "      <td>0</td>\n",
       "      <td>0</td>\n",
       "      <td>0</td>\n",
       "      <td>0</td>\n",
       "      <td>0</td>\n",
       "      <td>0</td>\n",
       "      <td>1</td>\n",
       "      <td>0</td>\n",
       "      <td>1</td>\n",
       "      <td>0</td>\n",
       "      <td>0</td>\n",
       "    </tr>\n",
       "    <tr>\n",
       "      <th>3</th>\n",
       "      <td>1</td>\n",
       "      <td>0</td>\n",
       "      <td>0</td>\n",
       "      <td>0</td>\n",
       "      <td>0</td>\n",
       "      <td>0</td>\n",
       "      <td>0</td>\n",
       "      <td>0</td>\n",
       "      <td>0</td>\n",
       "      <td>1</td>\n",
       "      <td>0</td>\n",
       "      <td>1</td>\n",
       "      <td>0</td>\n",
       "      <td>0</td>\n",
       "    </tr>\n",
       "    <tr>\n",
       "      <th>4</th>\n",
       "      <td>2</td>\n",
       "      <td>0</td>\n",
       "      <td>0</td>\n",
       "      <td>0</td>\n",
       "      <td>0</td>\n",
       "      <td>0</td>\n",
       "      <td>0</td>\n",
       "      <td>0</td>\n",
       "      <td>0</td>\n",
       "      <td>0</td>\n",
       "      <td>0</td>\n",
       "      <td>0</td>\n",
       "      <td>0</td>\n",
       "      <td>0</td>\n",
       "    </tr>\n",
       "    <tr>\n",
       "      <th>5</th>\n",
       "      <td>2</td>\n",
       "      <td>0</td>\n",
       "      <td>0</td>\n",
       "      <td>0</td>\n",
       "      <td>0</td>\n",
       "      <td>0</td>\n",
       "      <td>0</td>\n",
       "      <td>0</td>\n",
       "      <td>0</td>\n",
       "      <td>0</td>\n",
       "      <td>0</td>\n",
       "      <td>1</td>\n",
       "      <td>0</td>\n",
       "      <td>0</td>\n",
       "    </tr>\n",
       "    <tr>\n",
       "      <th>6</th>\n",
       "      <td>2</td>\n",
       "      <td>0</td>\n",
       "      <td>0</td>\n",
       "      <td>0</td>\n",
       "      <td>0</td>\n",
       "      <td>0</td>\n",
       "      <td>0</td>\n",
       "      <td>0</td>\n",
       "      <td>0</td>\n",
       "      <td>0</td>\n",
       "      <td>0</td>\n",
       "      <td>0</td>\n",
       "      <td>0</td>\n",
       "      <td>0</td>\n",
       "    </tr>\n",
       "    <tr>\n",
       "      <th>7</th>\n",
       "      <td>1</td>\n",
       "      <td>0</td>\n",
       "      <td>0</td>\n",
       "      <td>0</td>\n",
       "      <td>0</td>\n",
       "      <td>0</td>\n",
       "      <td>0</td>\n",
       "      <td>0</td>\n",
       "      <td>0</td>\n",
       "      <td>0</td>\n",
       "      <td>0</td>\n",
       "      <td>1</td>\n",
       "      <td>0</td>\n",
       "      <td>0</td>\n",
       "    </tr>\n",
       "    <tr>\n",
       "      <th>8</th>\n",
       "      <td>1</td>\n",
       "      <td>0</td>\n",
       "      <td>0</td>\n",
       "      <td>0</td>\n",
       "      <td>0</td>\n",
       "      <td>0</td>\n",
       "      <td>0</td>\n",
       "      <td>0</td>\n",
       "      <td>0</td>\n",
       "      <td>0</td>\n",
       "      <td>0</td>\n",
       "      <td>1</td>\n",
       "      <td>0</td>\n",
       "      <td>0</td>\n",
       "    </tr>\n",
       "    <tr>\n",
       "      <th>9</th>\n",
       "      <td>1</td>\n",
       "      <td>0</td>\n",
       "      <td>0</td>\n",
       "      <td>0</td>\n",
       "      <td>0</td>\n",
       "      <td>0</td>\n",
       "      <td>0</td>\n",
       "      <td>0</td>\n",
       "      <td>0</td>\n",
       "      <td>0</td>\n",
       "      <td>0</td>\n",
       "      <td>1</td>\n",
       "      <td>0</td>\n",
       "      <td>0</td>\n",
       "    </tr>\n",
       "    <tr>\n",
       "      <th>10</th>\n",
       "      <td>1</td>\n",
       "      <td>0</td>\n",
       "      <td>0</td>\n",
       "      <td>0</td>\n",
       "      <td>0</td>\n",
       "      <td>0</td>\n",
       "      <td>0</td>\n",
       "      <td>0</td>\n",
       "      <td>0</td>\n",
       "      <td>0</td>\n",
       "      <td>0</td>\n",
       "      <td>1</td>\n",
       "      <td>0</td>\n",
       "      <td>0</td>\n",
       "    </tr>\n",
       "    <tr>\n",
       "      <th>11</th>\n",
       "      <td>2</td>\n",
       "      <td>0</td>\n",
       "      <td>0</td>\n",
       "      <td>0</td>\n",
       "      <td>0</td>\n",
       "      <td>0</td>\n",
       "      <td>0</td>\n",
       "      <td>0</td>\n",
       "      <td>0</td>\n",
       "      <td>0</td>\n",
       "      <td>0</td>\n",
       "      <td>0</td>\n",
       "      <td>0</td>\n",
       "      <td>0</td>\n",
       "    </tr>\n",
       "    <tr>\n",
       "      <th>12</th>\n",
       "      <td>1</td>\n",
       "      <td>0</td>\n",
       "      <td>0</td>\n",
       "      <td>0</td>\n",
       "      <td>0</td>\n",
       "      <td>0</td>\n",
       "      <td>0</td>\n",
       "      <td>0</td>\n",
       "      <td>0</td>\n",
       "      <td>0</td>\n",
       "      <td>0</td>\n",
       "      <td>1</td>\n",
       "      <td>0</td>\n",
       "      <td>0</td>\n",
       "    </tr>\n",
       "    <tr>\n",
       "      <th>13</th>\n",
       "      <td>1</td>\n",
       "      <td>0</td>\n",
       "      <td>0</td>\n",
       "      <td>0</td>\n",
       "      <td>0</td>\n",
       "      <td>0</td>\n",
       "      <td>0</td>\n",
       "      <td>0</td>\n",
       "      <td>0</td>\n",
       "      <td>0</td>\n",
       "      <td>0</td>\n",
       "      <td>1</td>\n",
       "      <td>0</td>\n",
       "      <td>0</td>\n",
       "    </tr>\n",
       "    <tr>\n",
       "      <th>14</th>\n",
       "      <td>2</td>\n",
       "      <td>0</td>\n",
       "      <td>0</td>\n",
       "      <td>0</td>\n",
       "      <td>0</td>\n",
       "      <td>0</td>\n",
       "      <td>0</td>\n",
       "      <td>0</td>\n",
       "      <td>0</td>\n",
       "      <td>0</td>\n",
       "      <td>0</td>\n",
       "      <td>1</td>\n",
       "      <td>0</td>\n",
       "      <td>0</td>\n",
       "    </tr>\n",
       "    <tr>\n",
       "      <th>15</th>\n",
       "      <td>3</td>\n",
       "      <td>0</td>\n",
       "      <td>0</td>\n",
       "      <td>0</td>\n",
       "      <td>0</td>\n",
       "      <td>0</td>\n",
       "      <td>0</td>\n",
       "      <td>0</td>\n",
       "      <td>0</td>\n",
       "      <td>0</td>\n",
       "      <td>0</td>\n",
       "      <td>0</td>\n",
       "      <td>0</td>\n",
       "      <td>0</td>\n",
       "    </tr>\n",
       "    <tr>\n",
       "      <th>16</th>\n",
       "      <td>3</td>\n",
       "      <td>0</td>\n",
       "      <td>0</td>\n",
       "      <td>0</td>\n",
       "      <td>0</td>\n",
       "      <td>0</td>\n",
       "      <td>0</td>\n",
       "      <td>0</td>\n",
       "      <td>0</td>\n",
       "      <td>0</td>\n",
       "      <td>0</td>\n",
       "      <td>0</td>\n",
       "      <td>0</td>\n",
       "      <td>0</td>\n",
       "    </tr>\n",
       "    <tr>\n",
       "      <th>17</th>\n",
       "      <td>2</td>\n",
       "      <td>0</td>\n",
       "      <td>0</td>\n",
       "      <td>0</td>\n",
       "      <td>0</td>\n",
       "      <td>0</td>\n",
       "      <td>0</td>\n",
       "      <td>0</td>\n",
       "      <td>0</td>\n",
       "      <td>0</td>\n",
       "      <td>0</td>\n",
       "      <td>0</td>\n",
       "      <td>0</td>\n",
       "      <td>0</td>\n",
       "    </tr>\n",
       "    <tr>\n",
       "      <th>18</th>\n",
       "      <td>2</td>\n",
       "      <td>0</td>\n",
       "      <td>0</td>\n",
       "      <td>0</td>\n",
       "      <td>0</td>\n",
       "      <td>0</td>\n",
       "      <td>0</td>\n",
       "      <td>0</td>\n",
       "      <td>0</td>\n",
       "      <td>0</td>\n",
       "      <td>0</td>\n",
       "      <td>1</td>\n",
       "      <td>0</td>\n",
       "      <td>0</td>\n",
       "    </tr>\n",
       "    <tr>\n",
       "      <th>19</th>\n",
       "      <td>1</td>\n",
       "      <td>0</td>\n",
       "      <td>0</td>\n",
       "      <td>0</td>\n",
       "      <td>0</td>\n",
       "      <td>0</td>\n",
       "      <td>0</td>\n",
       "      <td>0</td>\n",
       "      <td>0</td>\n",
       "      <td>0</td>\n",
       "      <td>0</td>\n",
       "      <td>0</td>\n",
       "      <td>0</td>\n",
       "      <td>0</td>\n",
       "    </tr>\n",
       "  </tbody>\n",
       "</table>\n",
       "</div>"
      ],
      "text/plain": [
       "    faixa_etaria  teve_sintomas  qtd_sintomas  teve_febre  teve_tosse  \\\n",
       "0              2              0             0           0           0   \n",
       "1              2              0             0           0           0   \n",
       "2              1              0             0           0           0   \n",
       "3              1              0             0           0           0   \n",
       "4              2              0             0           0           0   \n",
       "5              2              0             0           0           0   \n",
       "6              2              0             0           0           0   \n",
       "7              1              0             0           0           0   \n",
       "8              1              0             0           0           0   \n",
       "9              1              0             0           0           0   \n",
       "10             1              0             0           0           0   \n",
       "11             2              0             0           0           0   \n",
       "12             1              0             0           0           0   \n",
       "13             1              0             0           0           0   \n",
       "14             2              0             0           0           0   \n",
       "15             3              0             0           0           0   \n",
       "16             3              0             0           0           0   \n",
       "17             2              0             0           0           0   \n",
       "18             2              0             0           0           0   \n",
       "19             1              0             0           0           0   \n",
       "\n",
       "    teve_dor_garganta  teve_dificuldade_respirar  teve_dor_cabeca  \\\n",
       "0                   0                          0                0   \n",
       "1                   0                          0                0   \n",
       "2                   0                          0                0   \n",
       "3                   0                          0                0   \n",
       "4                   0                          0                0   \n",
       "5                   0                          0                0   \n",
       "6                   0                          0                0   \n",
       "7                   0                          0                0   \n",
       "8                   0                          0                0   \n",
       "9                   0                          0                0   \n",
       "10                  0                          0                0   \n",
       "11                  0                          0                0   \n",
       "12                  0                          0                0   \n",
       "13                  0                          0                0   \n",
       "14                  0                          0                0   \n",
       "15                  0                          0                0   \n",
       "16                  0                          0                0   \n",
       "17                  0                          0                0   \n",
       "18                  0                          0                0   \n",
       "19                  0                          0                0   \n",
       "\n",
       "    teve_dor_fadiga  possui_plano_saude  home_office  distanciamento  \\\n",
       "0                 0                   1            0               0   \n",
       "1                 0                   0            0               0   \n",
       "2                 0                   1            0               1   \n",
       "3                 0                   1            0               1   \n",
       "4                 0                   0            0               0   \n",
       "5                 0                   0            0               1   \n",
       "6                 0                   0            0               0   \n",
       "7                 0                   0            0               1   \n",
       "8                 0                   0            0               1   \n",
       "9                 0                   0            0               1   \n",
       "10                0                   0            0               1   \n",
       "11                0                   0            0               0   \n",
       "12                0                   0            0               1   \n",
       "13                0                   0            0               1   \n",
       "14                0                   0            0               1   \n",
       "15                0                   0            0               0   \n",
       "16                0                   0            0               0   \n",
       "17                0                   0            0               0   \n",
       "18                0                   0            0               1   \n",
       "19                0                   0            0               0   \n",
       "\n",
       "    foi_internado  positivou  \n",
       "0               0          0  \n",
       "1               0          0  \n",
       "2               0          0  \n",
       "3               0          0  \n",
       "4               0          0  \n",
       "5               0          0  \n",
       "6               0          0  \n",
       "7               0          0  \n",
       "8               0          0  \n",
       "9               0          0  \n",
       "10              0          0  \n",
       "11              0          0  \n",
       "12              0          0  \n",
       "13              0          0  \n",
       "14              0          0  \n",
       "15              0          0  \n",
       "16              0          0  \n",
       "17              0          0  \n",
       "18              0          0  \n",
       "19              0          0  "
      ]
     },
     "execution_count": 19,
     "metadata": {},
     "output_type": "execute_result"
    }
   ],
   "source": [
    "# criação de um dataframe contendo a faixa etária, se teve sintomas, se possui plano de saúde, se esteve em home office, sse fez distanciamento, se foi internado\n",
    "# Para faixa etária serão usados os grupos categorizados pelo IBGE, sedo eles: Jovens -> até 19anos, Adultos -> de 20 até 59 anos e Idosos de 60+\n",
    "# Para todas as colunas serão atribuidos valores numericos de 0 a 9\n",
    "# Para as solunas de sintomas, 0 representa que não foi apresentado nenhum sintoma e 1 teve sintoma\n",
    "labels = ['faixa_etaria','teve_sintomas','possui_plano_saude','home_office','distanciamento','foi_internado']\n",
    "cols = ['A002',    \n",
    "        'B0011',\t\n",
    "        'B0012',\n",
    "        'B0013',\n",
    "        'B0014',\n",
    "        'B0015',\n",
    "        'B0019',\n",
    "        'B007',\n",
    "        'C013',\n",
    "        'B011',\n",
    "        'B005']\n",
    "\n",
    "df_sintomas = df[['B0011', 'B0012','B0013','B0014','B0015','B0019']] \n",
    "\n",
    "df_exames = df[['B009B','B009D','B009F']]\n",
    "\n",
    "\n",
    "df_cluster = pd.DataFrame()\n",
    "\n",
    "df_cluster['faixa_etaria'] = df['A002']\n",
    "df_cluster['faixa_etaria'] = df_cluster['faixa_etaria'].apply(fMonstaFaixaEtaria)\n",
    "df_cluster['teve_sintomas'] = df_sintomas.apply(fteveSintomas, axis=1)\n",
    "\n",
    "df_cluster['qtd_sintomas'] = df_sintomas.apply(fQuantidadeSintomas, axis=1)\n",
    "\n",
    "df_cluster['teve_febre'] = df['B0011'].apply(fTeveSintoma)\n",
    "df_cluster['teve_tosse'] = df['B0012'].apply(fTeveSintoma)\n",
    "df_cluster['teve_dor_garganta'] = df['B0013'].apply(fTeveSintoma)\n",
    "df_cluster['teve_dificuldade_respirar'] = df['B0014'].apply(fTeveSintoma)\n",
    "df_cluster['teve_dor_cabeca'] = df['B0015'].apply(fTeveSintoma)\n",
    "df_cluster['teve_dor_fadiga'] = df['B0019'].apply(fTeveSintoma)\n",
    "\n",
    "df_cluster['possui_plano_saude'] = df['B007'].apply(fPossuiPlanoSaude)\n",
    "df_cluster['home_office'] = df['C013'].apply(fHomeOffice)\n",
    "df_cluster['distanciamento'] = df['B011'].apply(fDistanciamento)\n",
    "df_cluster['foi_internado'] = df['B005'].apply(fFoiInternado)\n",
    "df_cluster['positivou'] = df_exames.apply(fPositivou, axis=1)\n",
    "df_cluster.head(20)\n"
   ]
  },
  {
   "cell_type": "code",
   "execution_count": 20,
   "metadata": {},
   "outputs": [
    {
     "data": {
      "text/plain": [
       "home_office\n",
       "0    1100419\n",
       "1      34021\n",
       "2      14757\n",
       "Name: count, dtype: int64"
      ]
     },
     "execution_count": 20,
     "metadata": {},
     "output_type": "execute_result"
    }
   ],
   "source": [
    "df_cluster['home_office'].value_counts()"
   ]
  },
  {
   "cell_type": "code",
   "execution_count": 21,
   "metadata": {},
   "outputs": [
    {
     "data": {
      "text/plain": [
       "teve_tosse\n",
       "0    1133824\n",
       "1      15373\n",
       "Name: count, dtype: int64"
      ]
     },
     "execution_count": 21,
     "metadata": {},
     "output_type": "execute_result"
    }
   ],
   "source": [
    "df_cluster['teve_tosse'].value_counts()"
   ]
  },
  {
   "cell_type": "code",
   "execution_count": 22,
   "metadata": {},
   "outputs": [
    {
     "data": {
      "text/html": [
       "<div>\n",
       "<style scoped>\n",
       "    .dataframe tbody tr th:only-of-type {\n",
       "        vertical-align: middle;\n",
       "    }\n",
       "\n",
       "    .dataframe tbody tr th {\n",
       "        vertical-align: top;\n",
       "    }\n",
       "\n",
       "    .dataframe thead th {\n",
       "        text-align: right;\n",
       "    }\n",
       "</style>\n",
       "<table border=\"1\" class=\"dataframe\">\n",
       "  <thead>\n",
       "    <tr style=\"text-align: right;\">\n",
       "      <th></th>\n",
       "      <th>faixa_etaria</th>\n",
       "      <th>teve_sintomas</th>\n",
       "      <th>qtd_sintomas</th>\n",
       "      <th>teve_febre</th>\n",
       "      <th>teve_tosse</th>\n",
       "      <th>teve_dor_garganta</th>\n",
       "      <th>teve_dificuldade_respirar</th>\n",
       "      <th>teve_dor_cabeca</th>\n",
       "      <th>teve_dor_fadiga</th>\n",
       "      <th>possui_plano_saude</th>\n",
       "      <th>home_office</th>\n",
       "      <th>distanciamento</th>\n",
       "      <th>foi_internado</th>\n",
       "      <th>positivou</th>\n",
       "    </tr>\n",
       "  </thead>\n",
       "  <tbody>\n",
       "    <tr>\n",
       "      <th>23</th>\n",
       "      <td>2</td>\n",
       "      <td>0</td>\n",
       "      <td>0</td>\n",
       "      <td>0</td>\n",
       "      <td>0</td>\n",
       "      <td>0</td>\n",
       "      <td>0</td>\n",
       "      <td>0</td>\n",
       "      <td>0</td>\n",
       "      <td>0</td>\n",
       "      <td>0</td>\n",
       "      <td>0</td>\n",
       "      <td>0</td>\n",
       "      <td>1</td>\n",
       "    </tr>\n",
       "    <tr>\n",
       "      <th>30</th>\n",
       "      <td>2</td>\n",
       "      <td>0</td>\n",
       "      <td>0</td>\n",
       "      <td>0</td>\n",
       "      <td>0</td>\n",
       "      <td>0</td>\n",
       "      <td>0</td>\n",
       "      <td>0</td>\n",
       "      <td>0</td>\n",
       "      <td>0</td>\n",
       "      <td>0</td>\n",
       "      <td>1</td>\n",
       "      <td>0</td>\n",
       "      <td>1</td>\n",
       "    </tr>\n",
       "    <tr>\n",
       "      <th>31</th>\n",
       "      <td>2</td>\n",
       "      <td>0</td>\n",
       "      <td>0</td>\n",
       "      <td>0</td>\n",
       "      <td>0</td>\n",
       "      <td>0</td>\n",
       "      <td>0</td>\n",
       "      <td>0</td>\n",
       "      <td>0</td>\n",
       "      <td>0</td>\n",
       "      <td>0</td>\n",
       "      <td>0</td>\n",
       "      <td>0</td>\n",
       "      <td>1</td>\n",
       "    </tr>\n",
       "    <tr>\n",
       "      <th>51</th>\n",
       "      <td>2</td>\n",
       "      <td>0</td>\n",
       "      <td>0</td>\n",
       "      <td>0</td>\n",
       "      <td>0</td>\n",
       "      <td>0</td>\n",
       "      <td>0</td>\n",
       "      <td>0</td>\n",
       "      <td>0</td>\n",
       "      <td>1</td>\n",
       "      <td>0</td>\n",
       "      <td>0</td>\n",
       "      <td>0</td>\n",
       "      <td>1</td>\n",
       "    </tr>\n",
       "    <tr>\n",
       "      <th>52</th>\n",
       "      <td>2</td>\n",
       "      <td>0</td>\n",
       "      <td>0</td>\n",
       "      <td>0</td>\n",
       "      <td>0</td>\n",
       "      <td>0</td>\n",
       "      <td>0</td>\n",
       "      <td>0</td>\n",
       "      <td>0</td>\n",
       "      <td>1</td>\n",
       "      <td>0</td>\n",
       "      <td>0</td>\n",
       "      <td>0</td>\n",
       "      <td>1</td>\n",
       "    </tr>\n",
       "    <tr>\n",
       "      <th>...</th>\n",
       "      <td>...</td>\n",
       "      <td>...</td>\n",
       "      <td>...</td>\n",
       "      <td>...</td>\n",
       "      <td>...</td>\n",
       "      <td>...</td>\n",
       "      <td>...</td>\n",
       "      <td>...</td>\n",
       "      <td>...</td>\n",
       "      <td>...</td>\n",
       "      <td>...</td>\n",
       "      <td>...</td>\n",
       "      <td>...</td>\n",
       "      <td>...</td>\n",
       "    </tr>\n",
       "    <tr>\n",
       "      <th>1149129</th>\n",
       "      <td>2</td>\n",
       "      <td>0</td>\n",
       "      <td>0</td>\n",
       "      <td>0</td>\n",
       "      <td>0</td>\n",
       "      <td>0</td>\n",
       "      <td>0</td>\n",
       "      <td>0</td>\n",
       "      <td>0</td>\n",
       "      <td>1</td>\n",
       "      <td>0</td>\n",
       "      <td>0</td>\n",
       "      <td>0</td>\n",
       "      <td>1</td>\n",
       "    </tr>\n",
       "    <tr>\n",
       "      <th>1149130</th>\n",
       "      <td>2</td>\n",
       "      <td>0</td>\n",
       "      <td>0</td>\n",
       "      <td>0</td>\n",
       "      <td>0</td>\n",
       "      <td>0</td>\n",
       "      <td>0</td>\n",
       "      <td>0</td>\n",
       "      <td>0</td>\n",
       "      <td>1</td>\n",
       "      <td>0</td>\n",
       "      <td>0</td>\n",
       "      <td>0</td>\n",
       "      <td>1</td>\n",
       "    </tr>\n",
       "    <tr>\n",
       "      <th>1149131</th>\n",
       "      <td>1</td>\n",
       "      <td>0</td>\n",
       "      <td>0</td>\n",
       "      <td>0</td>\n",
       "      <td>0</td>\n",
       "      <td>0</td>\n",
       "      <td>0</td>\n",
       "      <td>0</td>\n",
       "      <td>0</td>\n",
       "      <td>1</td>\n",
       "      <td>0</td>\n",
       "      <td>1</td>\n",
       "      <td>0</td>\n",
       "      <td>1</td>\n",
       "    </tr>\n",
       "    <tr>\n",
       "      <th>1149132</th>\n",
       "      <td>1</td>\n",
       "      <td>0</td>\n",
       "      <td>0</td>\n",
       "      <td>0</td>\n",
       "      <td>0</td>\n",
       "      <td>0</td>\n",
       "      <td>0</td>\n",
       "      <td>0</td>\n",
       "      <td>0</td>\n",
       "      <td>1</td>\n",
       "      <td>0</td>\n",
       "      <td>1</td>\n",
       "      <td>0</td>\n",
       "      <td>1</td>\n",
       "    </tr>\n",
       "    <tr>\n",
       "      <th>1149133</th>\n",
       "      <td>2</td>\n",
       "      <td>0</td>\n",
       "      <td>0</td>\n",
       "      <td>0</td>\n",
       "      <td>0</td>\n",
       "      <td>0</td>\n",
       "      <td>0</td>\n",
       "      <td>0</td>\n",
       "      <td>0</td>\n",
       "      <td>0</td>\n",
       "      <td>0</td>\n",
       "      <td>1</td>\n",
       "      <td>0</td>\n",
       "      <td>1</td>\n",
       "    </tr>\n",
       "  </tbody>\n",
       "</table>\n",
       "<p>35428 rows × 14 columns</p>\n",
       "</div>"
      ],
      "text/plain": [
       "         faixa_etaria  teve_sintomas  qtd_sintomas  teve_febre  teve_tosse  \\\n",
       "23                  2              0             0           0           0   \n",
       "30                  2              0             0           0           0   \n",
       "31                  2              0             0           0           0   \n",
       "51                  2              0             0           0           0   \n",
       "52                  2              0             0           0           0   \n",
       "...               ...            ...           ...         ...         ...   \n",
       "1149129             2              0             0           0           0   \n",
       "1149130             2              0             0           0           0   \n",
       "1149131             1              0             0           0           0   \n",
       "1149132             1              0             0           0           0   \n",
       "1149133             2              0             0           0           0   \n",
       "\n",
       "         teve_dor_garganta  teve_dificuldade_respirar  teve_dor_cabeca  \\\n",
       "23                       0                          0                0   \n",
       "30                       0                          0                0   \n",
       "31                       0                          0                0   \n",
       "51                       0                          0                0   \n",
       "52                       0                          0                0   \n",
       "...                    ...                        ...              ...   \n",
       "1149129                  0                          0                0   \n",
       "1149130                  0                          0                0   \n",
       "1149131                  0                          0                0   \n",
       "1149132                  0                          0                0   \n",
       "1149133                  0                          0                0   \n",
       "\n",
       "         teve_dor_fadiga  possui_plano_saude  home_office  distanciamento  \\\n",
       "23                     0                   0            0               0   \n",
       "30                     0                   0            0               1   \n",
       "31                     0                   0            0               0   \n",
       "51                     0                   1            0               0   \n",
       "52                     0                   1            0               0   \n",
       "...                  ...                 ...          ...             ...   \n",
       "1149129                0                   1            0               0   \n",
       "1149130                0                   1            0               0   \n",
       "1149131                0                   1            0               1   \n",
       "1149132                0                   1            0               1   \n",
       "1149133                0                   0            0               1   \n",
       "\n",
       "         foi_internado  positivou  \n",
       "23                   0          1  \n",
       "30                   0          1  \n",
       "31                   0          1  \n",
       "51                   0          1  \n",
       "52                   0          1  \n",
       "...                ...        ...  \n",
       "1149129              0          1  \n",
       "1149130              0          1  \n",
       "1149131              0          1  \n",
       "1149132              0          1  \n",
       "1149133              0          1  \n",
       "\n",
       "[35428 rows x 14 columns]"
      ]
     },
     "execution_count": 22,
     "metadata": {},
     "output_type": "execute_result"
    }
   ],
   "source": [
    "selecao = df_cluster['positivou'] == 1\n",
    "df_cluster = df_cluster[selecao]\n",
    "df_cluster"
   ]
  },
  {
   "cell_type": "code",
   "execution_count": 23,
   "metadata": {},
   "outputs": [],
   "source": [
    "# cria df com dados escalados\n",
    "scaler = StandardScaler()\n",
    "scaler.fit(df_cluster)\n",
    "dados_escalonados = scaler.transform(df_cluster)\n"
   ]
  },
  {
   "cell_type": "code",
   "execution_count": 24,
   "metadata": {},
   "outputs": [],
   "source": [
    "dados_escalonados_labels = df_cluster.columns"
   ]
  },
  {
   "cell_type": "code",
   "execution_count": 25,
   "metadata": {},
   "outputs": [],
   "source": [
    "# elbow_m = KElbowVisualizer(KMeans(), k=10)\n",
    "# elbow_m.fit(df_cluster)\n",
    "# elbow_m.show()"
   ]
  },
  {
   "cell_type": "code",
   "execution_count": 26,
   "metadata": {},
   "outputs": [
    {
     "data": {
      "image/png": "[encoded data removed]",
      "text/plain": [
       "<Figure size 1200x600 with 1 Axes>"
      ]
     },
     "metadata": {},
     "output_type": "display_data"
    }
   ],
   "source": [
    "sse = []\n",
    "k = list(range(1, 10))\n",
    "for i in k:\n",
    "    kmeans_elbow = KMeans(n_clusters=i, random_state=0)\n",
    "    kmeans_elbow.fit(df_cluster)\n",
    "    sse.append(kmeans_elbow.inertia_)\n",
    "\n",
    "plt.rcParams['figure.figsize'] = (12, 6)\n",
    "plt.plot(k, sse, '-o')\n",
    "plt.xlabel(r'Número de clusters')\n",
    "plt.ylabel('Inércia')\n",
    "plt.show()"
   ]
  },
  {
   "cell_type": "code",
   "execution_count": 27,
   "metadata": {},
   "outputs": [],
   "source": [
    "kmeans = KMeans(n_clusters=2 ,random_state=0)\n",
    "kmeans.fit(df_cluster)\n",
    "centroides = kmeans.cluster_centers_\n",
    "kmeans_labels = kmeans.predict(df_cluster)"
   ]
  },
  {
   "cell_type": "code",
   "execution_count": 28,
   "metadata": {},
   "outputs": [],
   "source": [
    "dados_Escalonados = pd.DataFrame(df_cluster, columns=dados_escalonados_labels)"
   ]
  },
  {
   "cell_type": "code",
   "execution_count": 29,
   "metadata": {},
   "outputs": [
    {
     "data": {
      "text/html": [
       "<div>\n",
       "<style scoped>\n",
       "    .dataframe tbody tr th:only-of-type {\n",
       "        vertical-align: middle;\n",
       "    }\n",
       "\n",
       "    .dataframe tbody tr th {\n",
       "        vertical-align: top;\n",
       "    }\n",
       "\n",
       "    .dataframe thead th {\n",
       "        text-align: right;\n",
       "    }\n",
       "</style>\n",
       "<table border=\"1\" class=\"dataframe\">\n",
       "  <thead>\n",
       "    <tr style=\"text-align: right;\">\n",
       "      <th></th>\n",
       "      <th>faixa_etaria</th>\n",
       "      <th>teve_sintomas</th>\n",
       "      <th>qtd_sintomas</th>\n",
       "      <th>teve_febre</th>\n",
       "      <th>teve_tosse</th>\n",
       "      <th>teve_dor_garganta</th>\n",
       "      <th>teve_dificuldade_respirar</th>\n",
       "      <th>teve_dor_cabeca</th>\n",
       "      <th>teve_dor_fadiga</th>\n",
       "      <th>possui_plano_saude</th>\n",
       "      <th>home_office</th>\n",
       "      <th>distanciamento</th>\n",
       "      <th>foi_internado</th>\n",
       "      <th>positivou</th>\n",
       "    </tr>\n",
       "  </thead>\n",
       "  <tbody>\n",
       "    <tr>\n",
       "      <th>23</th>\n",
       "      <td>2</td>\n",
       "      <td>0</td>\n",
       "      <td>0</td>\n",
       "      <td>0</td>\n",
       "      <td>0</td>\n",
       "      <td>0</td>\n",
       "      <td>0</td>\n",
       "      <td>0</td>\n",
       "      <td>0</td>\n",
       "      <td>0</td>\n",
       "      <td>0</td>\n",
       "      <td>0</td>\n",
       "      <td>0</td>\n",
       "      <td>1</td>\n",
       "    </tr>\n",
       "    <tr>\n",
       "      <th>30</th>\n",
       "      <td>2</td>\n",
       "      <td>0</td>\n",
       "      <td>0</td>\n",
       "      <td>0</td>\n",
       "      <td>0</td>\n",
       "      <td>0</td>\n",
       "      <td>0</td>\n",
       "      <td>0</td>\n",
       "      <td>0</td>\n",
       "      <td>0</td>\n",
       "      <td>0</td>\n",
       "      <td>1</td>\n",
       "      <td>0</td>\n",
       "      <td>1</td>\n",
       "    </tr>\n",
       "    <tr>\n",
       "      <th>31</th>\n",
       "      <td>2</td>\n",
       "      <td>0</td>\n",
       "      <td>0</td>\n",
       "      <td>0</td>\n",
       "      <td>0</td>\n",
       "      <td>0</td>\n",
       "      <td>0</td>\n",
       "      <td>0</td>\n",
       "      <td>0</td>\n",
       "      <td>0</td>\n",
       "      <td>0</td>\n",
       "      <td>0</td>\n",
       "      <td>0</td>\n",
       "      <td>1</td>\n",
       "    </tr>\n",
       "    <tr>\n",
       "      <th>51</th>\n",
       "      <td>2</td>\n",
       "      <td>0</td>\n",
       "      <td>0</td>\n",
       "      <td>0</td>\n",
       "      <td>0</td>\n",
       "      <td>0</td>\n",
       "      <td>0</td>\n",
       "      <td>0</td>\n",
       "      <td>0</td>\n",
       "      <td>1</td>\n",
       "      <td>0</td>\n",
       "      <td>0</td>\n",
       "      <td>0</td>\n",
       "      <td>1</td>\n",
       "    </tr>\n",
       "    <tr>\n",
       "      <th>52</th>\n",
       "      <td>2</td>\n",
       "      <td>0</td>\n",
       "      <td>0</td>\n",
       "      <td>0</td>\n",
       "      <td>0</td>\n",
       "      <td>0</td>\n",
       "      <td>0</td>\n",
       "      <td>0</td>\n",
       "      <td>0</td>\n",
       "      <td>1</td>\n",
       "      <td>0</td>\n",
       "      <td>0</td>\n",
       "      <td>0</td>\n",
       "      <td>1</td>\n",
       "    </tr>\n",
       "  </tbody>\n",
       "</table>\n",
       "</div>"
      ],
      "text/plain": [
       "    faixa_etaria  teve_sintomas  qtd_sintomas  teve_febre  teve_tosse  \\\n",
       "23             2              0             0           0           0   \n",
       "30             2              0             0           0           0   \n",
       "31             2              0             0           0           0   \n",
       "51             2              0             0           0           0   \n",
       "52             2              0             0           0           0   \n",
       "\n",
       "    teve_dor_garganta  teve_dificuldade_respirar  teve_dor_cabeca  \\\n",
       "23                  0                          0                0   \n",
       "30                  0                          0                0   \n",
       "31                  0                          0                0   \n",
       "51                  0                          0                0   \n",
       "52                  0                          0                0   \n",
       "\n",
       "    teve_dor_fadiga  possui_plano_saude  home_office  distanciamento  \\\n",
       "23                0                   0            0               0   \n",
       "30                0                   0            0               1   \n",
       "31                0                   0            0               0   \n",
       "51                0                   1            0               0   \n",
       "52                0                   1            0               0   \n",
       "\n",
       "    foi_internado  positivou  \n",
       "23              0          1  \n",
       "30              0          1  \n",
       "31              0          1  \n",
       "51              0          1  \n",
       "52              0          1  "
      ]
     },
     "execution_count": 29,
     "metadata": {},
     "output_type": "execute_result"
    }
   ],
   "source": [
    "dados_Escalonados.head()"
   ]
  },
  {
   "cell_type": "code",
   "execution_count": 30,
   "metadata": {},
   "outputs": [],
   "source": [
    "dados_Escalonados['Grupos'] = kmeans_labels"
   ]
  },
  {
   "cell_type": "code",
   "execution_count": 31,
   "metadata": {},
   "outputs": [],
   "source": [
    "reduced_data = PCA(n_components=2).fit_transform(dados_Escalonados)\n",
    "result = pd.DataFrame(reduced_data, columns=['PCA1','PCA2'])"
   ]
  },
  {
   "cell_type": "code",
   "execution_count": 32,
   "metadata": {},
   "outputs": [
    {
     "data": {
      "text/html": [
       "<div>\n",
       "<style scoped>\n",
       "    .dataframe tbody tr th:only-of-type {\n",
       "        vertical-align: middle;\n",
       "    }\n",
       "\n",
       "    .dataframe tbody tr th {\n",
       "        vertical-align: top;\n",
       "    }\n",
       "\n",
       "    .dataframe thead th {\n",
       "        text-align: right;\n",
       "    }\n",
       "</style>\n",
       "<table border=\"1\" class=\"dataframe\">\n",
       "  <thead>\n",
       "    <tr style=\"text-align: right;\">\n",
       "      <th></th>\n",
       "      <th>PCA1</th>\n",
       "      <th>PCA2</th>\n",
       "    </tr>\n",
       "  </thead>\n",
       "  <tbody>\n",
       "    <tr>\n",
       "      <th>0</th>\n",
       "      <td>-0.441967</td>\n",
       "      <td>0.175862</td>\n",
       "    </tr>\n",
       "    <tr>\n",
       "      <th>1</th>\n",
       "      <td>-0.357430</td>\n",
       "      <td>-0.204641</td>\n",
       "    </tr>\n",
       "    <tr>\n",
       "      <th>2</th>\n",
       "      <td>-0.441967</td>\n",
       "      <td>0.175862</td>\n",
       "    </tr>\n",
       "    <tr>\n",
       "      <th>3</th>\n",
       "      <td>-0.439882</td>\n",
       "      <td>0.202526</td>\n",
       "    </tr>\n",
       "    <tr>\n",
       "      <th>4</th>\n",
       "      <td>-0.439882</td>\n",
       "      <td>0.202526</td>\n",
       "    </tr>\n",
       "    <tr>\n",
       "      <th>...</th>\n",
       "      <td>...</td>\n",
       "      <td>...</td>\n",
       "    </tr>\n",
       "    <tr>\n",
       "      <th>35423</th>\n",
       "      <td>-0.439882</td>\n",
       "      <td>0.202526</td>\n",
       "    </tr>\n",
       "    <tr>\n",
       "      <th>35424</th>\n",
       "      <td>-0.439882</td>\n",
       "      <td>0.202526</td>\n",
       "    </tr>\n",
       "    <tr>\n",
       "      <th>35425</th>\n",
       "      <td>-0.362728</td>\n",
       "      <td>0.745108</td>\n",
       "    </tr>\n",
       "    <tr>\n",
       "      <th>35426</th>\n",
       "      <td>-0.362728</td>\n",
       "      <td>0.745108</td>\n",
       "    </tr>\n",
       "    <tr>\n",
       "      <th>35427</th>\n",
       "      <td>-0.357430</td>\n",
       "      <td>-0.204641</td>\n",
       "    </tr>\n",
       "  </tbody>\n",
       "</table>\n",
       "<p>35428 rows × 2 columns</p>\n",
       "</div>"
      ],
      "text/plain": [
       "           PCA1      PCA2\n",
       "0     -0.441967  0.175862\n",
       "1     -0.357430 -0.204641\n",
       "2     -0.441967  0.175862\n",
       "3     -0.439882  0.202526\n",
       "4     -0.439882  0.202526\n",
       "...         ...       ...\n",
       "35423 -0.439882  0.202526\n",
       "35424 -0.439882  0.202526\n",
       "35425 -0.362728  0.745108\n",
       "35426 -0.362728  0.745108\n",
       "35427 -0.357430 -0.204641\n",
       "\n",
       "[35428 rows x 2 columns]"
      ]
     },
     "execution_count": 32,
     "metadata": {},
     "output_type": "execute_result"
    }
   ],
   "source": [
    "result"
   ]
  },
  {
   "cell_type": "code",
   "execution_count": 33,
   "metadata": {},
   "outputs": [
    {
     "data": {
      "text/plain": [
       "Text(0, 0.5, 'PCA2')"
      ]
     },
     "execution_count": 33,
     "metadata": {},
     "output_type": "execute_result"
    },
    {
     "data": {
      "image/png": "[encoded data removed]",
      "text/plain": [
       "<Figure size 1200x600 with 1 Axes>"
      ]
     },
     "metadata": {},
     "output_type": "display_data"
    }
   ],
   "source": [
    "# plotando os dados identificando com os seus clusters\n",
    "# plt.scatter(result['PCA2'],result['PCA1'], c=kmeans_labels, alpha=0.5, cmap='rainbow')\n",
    "ax =  plt.scatter(x='PCA1', y='PCA2', data=result, c=kmeans_labels, alpha=0.5, cmap='rainbow')\n",
    "plt.xlabel('PCA1')\n",
    "plt.ylabel('PCA2')\n",
    "\n",
    "# plotando os centroides\n",
    "# plt.scatter(centroides[:, 0], centroides[:, 1], c='black', marker='X', s=200, alpha=0.5)\n",
    "# plt.rcParams['figure.figsize'] = (10, 5)\n",
    "# plt.show()"
   ]
  },
  {
   "cell_type": "code",
   "execution_count": 34,
   "metadata": {},
   "outputs": [],
   "source": [
    "df_grouped_faixa_etaria = dados_Escalonados.groupby('Grupos')['faixa_etaria'].value_counts()\n",
    "df_grouped_plano_saude = dados_Escalonados.groupby('Grupos')['possui_plano_saude'].value_counts()\n",
    "df_grouped_home_office = dados_Escalonados.groupby('Grupos')['home_office'].value_counts()\n",
    "df_grouped_distanciamento = dados_Escalonados.groupby('Grupos')['distanciamento'].value_counts()\n",
    "df_grouped_sintomas = dados_Escalonados.groupby('Grupos')[['teve_febre', 'teve_tosse','teve_dor_garganta','teve_dificuldade_respirar','teve_dor_cabeca','teve_dor_fadiga']].value_counts()\n",
    "\n"
   ]
  },
  {
   "cell_type": "code",
   "execution_count": 35,
   "metadata": {},
   "outputs": [],
   "source": [
    "faixa_etaria = df_grouped_faixa_etaria.reset_index()\n",
    "plano_saude = df_grouped_plano_saude.reset_index()\n",
    "homme_office = df_grouped_home_office.reset_index()\n",
    "distanciamento = df_grouped_distanciamento.reset_index()\n",
    "teve_sintomas = df_grouped_sintomas.reset_index()\n"
   ]
  },
  {
   "cell_type": "code",
   "execution_count": 36,
   "metadata": {},
   "outputs": [],
   "source": [
    "# com base na documentação, serão considerados 3 valores 0, 1, 2, onde 0 não teve distanciamento, 1 teve parcial distanciamento e 3 fez total distanciamento\n",
    "sintomas = ['teve_febre', 'teve_tosse','teve_dor_garganta','teve_dificuldade_respirar','teve_dor_cabeca','teve_dor_fadiga']\n",
    "\n",
    "\n",
    "faixa_etaria['faixa_etaria'].replace({1:'Jovem', 2:'Adulto',3:'Idoso'}, inplace=True)\n",
    "plano_saude['possui_plano_saude'].replace({0:'Não', 1:'Sim'}, inplace=True)\n",
    "homme_office['home_office'].replace({0:'Não se Aplica', 1:'Sim', 2:'Não'}, inplace=True)\n",
    "distanciamento['distanciamento'].replace({0:'Não fez Distanciamento', 1:'Fez Distanciamento'}, inplace=True)\n",
    "\n",
    "for sintoma in sintomas:\n",
    "    teve_sintomas[sintoma].replace({0:'Não', 1:'Sim'}, inplace=True)\n"
   ]
  },
  {
   "cell_type": "code",
   "execution_count": 37,
   "metadata": {},
   "outputs": [],
   "source": [
    "df_faixa = faixa_etaria.pivot_table('count',['Grupos'],'faixa_etaria')\n",
    "df_home_office = homme_office.pivot_table('count',['Grupos'],'home_office')\n",
    "df_plano_saude = plano_saude.pivot_table('count',['Grupos'],'possui_plano_saude')\n",
    "df_distanciamento = distanciamento.pivot_table('count',['Grupos'],'distanciamento')\n",
    "df_teve_sintomas = teve_sintomas.pivot_table('count',['Grupos'],['teve_febre', 'teve_tosse','teve_dor_garganta','teve_dificuldade_respirar','teve_dor_cabeca','teve_dor_fadiga'])"
   ]
  },
  {
   "cell_type": "code",
   "execution_count": 38,
   "metadata": {},
   "outputs": [],
   "source": [
    "def fPlotaGraficos(df, titulo):\n",
    "    fig = px.bar(df,\n",
    "                barmode='group', \n",
    "                labels={\n",
    "                    'value':'Quantidade',\n",
    "                    'index':'Grupos'\n",
    "                },\n",
    "                title=titulo,\n",
    "                text_auto=True\n",
    "    )\n",
    "    fig.update_layout(\n",
    "        autosize=False,\n",
    "        height=700,\n",
    "        title_x=0.5,\n",
    "        xaxis = dict(\n",
    "            tickmode='linear',\n",
    "            dtick=1\n",
    "\n",
    "        )\n",
    "    )\n",
    "    # fig.update_traces(\n",
    "    #     marker_color='green'\n",
    "    # )\n",
    "    fig.show()    "
   ]
  },
  {
   "cell_type": "code",
   "execution_count": 39,
   "metadata": {},
   "outputs": [
    {
     "data": {
      "application/vnd.plotly.v1+json": {
       "config": {
        "plotlyServerURL": "https://plot.ly"
       },
       "data": [
        {
         "alignmentgroup": "True",
         "hovertemplate": "faixa_etaria=Adulto<br>Grupos=%{x}<br>Quantidade=%{y}<extra></extra>",
         "legendgroup": "Adulto",
         "marker": {
          "color": "#636efa",
          "pattern": {
           "shape": ""
          }
         },
         "name": "Adulto",
         "offsetgroup": "Adulto",
         "orientation": "v",
         "showlegend": true,
         "textposition": "auto",
         "texttemplate": "%{y}",
         "type": "bar",
         "x": [
          0,
          1
         ],
         "xaxis": "x",
         "y": [
          24679,
          1642
         ],
         "yaxis": "y"
        },
        {
         "alignmentgroup": "True",
         "hovertemplate": "faixa_etaria=Idoso<br>Grupos=%{x}<br>Quantidade=%{y}<extra></extra>",
         "legendgroup": "Idoso",
         "marker": {
          "color": "#EF553B",
          "pattern": {
           "shape": ""
          }
         },
         "name": "Idoso",
         "offsetgroup": "Idoso",
         "orientation": "v",
         "showlegend": true,
         "textposition": "auto",
         "texttemplate": "%{y}",
         "type": "bar",
         "x": [
          0,
          1
         ],
         "xaxis": "x",
         "y": [
          4969,
          335
         ],
         "yaxis": "y"
        },
        {
         "alignmentgroup": "True",
         "hovertemplate": "faixa_etaria=Jovem<br>Grupos=%{x}<br>Quantidade=%{y}<extra></extra>",
         "legendgroup": "Jovem",
         "marker": {
          "color": "#00cc96",
          "pattern": {
           "shape": ""
          }
         },
         "name": "Jovem",
         "offsetgroup": "Jovem",
         "orientation": "v",
         "showlegend": true,
         "textposition": "auto",
         "texttemplate": "%{y}",
         "type": "bar",
         "x": [
          0,
          1
         ],
         "xaxis": "x",
         "y": [
          3589,
          214
         ],
         "yaxis": "y"
        }
       ],
       "layout": {
        "autosize": false,
        "barmode": "group",
        "height": 700,
        "legend": {
         "title": {
          "text": "faixa_etaria"
         },
         "tracegroupgap": 0
        },
        "template": {
         "data": {
          "bar": [
           {
            "error_x": {
             "color": "#2a3f5f"
            },
            "error_y": {
             "color": "#2a3f5f"
            },
            "marker": {
             "line": {
              "color": "#E5ECF6",
              "width": 0.5
             },
             "pattern": {
              "fillmode": "overlay",
              "size": 10,
              "solidity": 0.2
             }
            },
            "type": "bar"
           }
          ],
          "barpolar": [
           {
            "marker": {
             "line": {
              "color": "#E5ECF6",
              "width": 0.5
             },
             "pattern": {
              "fillmode": "overlay",
              "size": 10,
              "solidity": 0.2
             }
            },
            "type": "barpolar"
           }
          ],
          "carpet": [
           {
            "aaxis": {
             "endlinecolor": "#2a3f5f",
             "gridcolor": "white",
             "linecolor": "white",
             "minorgridcolor": "white",
             "startlinecolor": "#2a3f5f"
            },
            "baxis": {
             "endlinecolor": "#2a3f5f",
             "gridcolor": "white",
             "linecolor": "white",
             "minorgridcolor": "white",
             "startlinecolor": "#2a3f5f"
            },
            "type": "carpet"
           }
          ],
          "choropleth": [
           {
            "colorbar": {
             "outlinewidth": 0,
             "ticks": ""
            },
            "type": "choropleth"
           }
          ],
          "contour": [
           {
            "colorbar": {
             "outlinewidth": 0,
             "ticks": ""
            },
            "colorscale": [
             [
              0,
              "#0d0887"
             ],
             [
              0.1111111111111111,
              "#46039f"
             ],
             [
              0.2222222222222222,
              "#7201a8"
             ],
             [
              0.3333333333333333,
              "#9c179e"
             ],
             [
              0.4444444444444444,
              "#bd3786"
             ],
             [
              0.5555555555555556,
              "#d8576b"
             ],
             [
              0.6666666666666666,
              "#ed7953"
             ],
             [
              0.7777777777777778,
              "#fb9f3a"
             ],
             [
              0.8888888888888888,
              "#fdca26"
             ],
             [
              1,
              "#f0f921"
             ]
            ],
            "type": "contour"
           }
          ],
          "contourcarpet": [
           {
            "colorbar": {
             "outlinewidth": 0,
             "ticks": ""
            },
            "type": "contourcarpet"
           }
          ],
          "heatmap": [
           {
            "colorbar": {
             "outlinewidth": 0,
             "ticks": ""
            },
            "colorscale": [
             [
              0,
              "#0d0887"
             ],
             [
              0.1111111111111111,
              "#46039f"
             ],
             [
              0.2222222222222222,
              "#7201a8"
             ],
             [
              0.3333333333333333,
              "#9c179e"
             ],
             [
              0.4444444444444444,
              "#bd3786"
             ],
             [
              0.5555555555555556,
              "#d8576b"
             ],
             [
              0.6666666666666666,
              "#ed7953"
             ],
             [
              0.7777777777777778,
              "#fb9f3a"
             ],
             [
              0.8888888888888888,
              "#fdca26"
             ],
             [
              1,
              "#f0f921"
             ]
            ],
            "type": "heatmap"
           }
          ],
          "heatmapgl": [
           {
            "colorbar": {
             "outlinewidth": 0,
             "ticks": ""
            },
            "colorscale": [
             [
              0,
              "#0d0887"
             ],
             [
              0.1111111111111111,
              "#46039f"
             ],
             [
              0.2222222222222222,
              "#7201a8"
             ],
             [
              0.3333333333333333,
              "#9c179e"
             ],
             [
              0.4444444444444444,
              "#bd3786"
             ],
             [
              0.5555555555555556,
              "#d8576b"
             ],
             [
              0.6666666666666666,
              "#ed7953"
             ],
             [
              0.7777777777777778,
              "#fb9f3a"
             ],
             [
              0.8888888888888888,
              "#fdca26"
             ],
             [
              1,
              "#f0f921"
             ]
            ],
            "type": "heatmapgl"
           }
          ],
          "histogram": [
           {
            "marker": {
             "pattern": {
              "fillmode": "overlay",
              "size": 10,
              "solidity": 0.2
             }
            },
            "type": "histogram"
           }
          ],
          "histogram2d": [
           {
            "colorbar": {
             "outlinewidth": 0,
             "ticks": ""
            },
            "colorscale": [
             [
              0,
              "#0d0887"
             ],
             [
              0.1111111111111111,
              "#46039f"
             ],
             [
              0.2222222222222222,
              "#7201a8"
             ],
             [
              0.3333333333333333,
              "#9c179e"
             ],
             [
              0.4444444444444444,
              "#bd3786"
             ],
             [
              0.5555555555555556,
              "#d8576b"
             ],
             [
              0.6666666666666666,
              "#ed7953"
             ],
             [
              0.7777777777777778,
              "#fb9f3a"
             ],
             [
              0.8888888888888888,
              "#fdca26"
             ],
             [
              1,
              "#f0f921"
             ]
            ],
            "type": "histogram2d"
           }
          ],
          "histogram2dcontour": [
           {
            "colorbar": {
             "outlinewidth": 0,
             "ticks": ""
            },
            "colorscale": [
             [
              0,
              "#0d0887"
             ],
             [
              0.1111111111111111,
              "#46039f"
             ],
             [
              0.2222222222222222,
              "#7201a8"
             ],
             [
              0.3333333333333333,
              "#9c179e"
             ],
             [
              0.4444444444444444,
              "#bd3786"
             ],
             [
              0.5555555555555556,
              "#d8576b"
             ],
             [
              0.6666666666666666,
              "#ed7953"
             ],
             [
              0.7777777777777778,
              "#fb9f3a"
             ],
             [
              0.8888888888888888,
              "#fdca26"
             ],
             [
              1,
              "#f0f921"
             ]
            ],
            "type": "histogram2dcontour"
           }
          ],
          "mesh3d": [
           {
            "colorbar": {
             "outlinewidth": 0,
             "ticks": ""
            },
            "type": "mesh3d"
           }
          ],
          "parcoords": [
           {
            "line": {
             "colorbar": {
              "outlinewidth": 0,
              "ticks": ""
             }
            },
            "type": "parcoords"
           }
          ],
          "pie": [
           {
            "automargin": true,
            "type": "pie"
           }
          ],
          "scatter": [
           {
            "fillpattern": {
             "fillmode": "overlay",
             "size": 10,
             "solidity": 0.2
            },
            "type": "scatter"
           }
          ],
          "scatter3d": [
           {
            "line": {
             "colorbar": {
              "outlinewidth": 0,
              "ticks": ""
             }
            },
            "marker": {
             "colorbar": {
              "outlinewidth": 0,
              "ticks": ""
             }
            },
            "type": "scatter3d"
           }
          ],
          "scattercarpet": [
           {
            "marker": {
             "colorbar": {
              "outlinewidth": 0,
              "ticks": ""
             }
            },
            "type": "scattercarpet"
           }
          ],
          "scattergeo": [
           {
            "marker": {
             "colorbar": {
              "outlinewidth": 0,
              "ticks": ""
             }
            },
            "type": "scattergeo"
           }
          ],
          "scattergl": [
           {
            "marker": {
             "colorbar": {
              "outlinewidth": 0,
              "ticks": ""
             }
            },
            "type": "scattergl"
           }
          ],
          "scattermapbox": [
           {
            "marker": {
             "colorbar": {
              "outlinewidth": 0,
              "ticks": ""
             }
            },
            "type": "scattermapbox"
           }
          ],
          "scatterpolar": [
           {
            "marker": {
             "colorbar": {
              "outlinewidth": 0,
              "ticks": ""
             }
            },
            "type": "scatterpolar"
           }
          ],
          "scatterpolargl": [
           {
            "marker": {
             "colorbar": {
              "outlinewidth": 0,
              "ticks": ""
             }
            },
            "type": "scatterpolargl"
           }
          ],
          "scatterternary": [
           {
            "marker": {
             "colorbar": {
              "outlinewidth": 0,
              "ticks": ""
             }
            },
            "type": "scatterternary"
           }
          ],
          "surface": [
           {
            "colorbar": {
             "outlinewidth": 0,
             "ticks": ""
            },
            "colorscale": [
             [
              0,
              "#0d0887"
             ],
             [
              0.1111111111111111,
              "#46039f"
             ],
             [
              0.2222222222222222,
              "#7201a8"
             ],
             [
              0.3333333333333333,
              "#9c179e"
             ],
             [
              0.4444444444444444,
              "#bd3786"
             ],
             [
              0.5555555555555556,
              "#d8576b"
             ],
             [
              0.6666666666666666,
              "#ed7953"
             ],
             [
              0.7777777777777778,
              "#fb9f3a"
             ],
             [
              0.8888888888888888,
              "#fdca26"
             ],
             [
              1,
              "#f0f921"
             ]
            ],
            "type": "surface"
           }
          ],
          "table": [
           {
            "cells": {
             "fill": {
              "color": "#EBF0F8"
             },
             "line": {
              "color": "white"
             }
            },
            "header": {
             "fill": {
              "color": "#C8D4E3"
             },
             "line": {
              "color": "white"
             }
            },
            "type": "table"
           }
          ]
         },
         "layout": {
          "annotationdefaults": {
           "arrowcolor": "#2a3f5f",
           "arrowhead": 0,
           "arrowwidth": 1
          },
          "autotypenumbers": "strict",
          "coloraxis": {
           "colorbar": {
            "outlinewidth": 0,
            "ticks": ""
           }
          },
          "colorscale": {
           "diverging": [
            [
             0,
             "#8e0152"
            ],
            [
             0.1,
             "#c51b7d"
            ],
            [
             0.2,
             "#de77ae"
            ],
            [
             0.3,
             "#f1b6da"
            ],
            [
             0.4,
             "#fde0ef"
            ],
            [
             0.5,
             "#f7f7f7"
            ],
            [
             0.6,
             "#e6f5d0"
            ],
            [
             0.7,
             "#b8e186"
            ],
            [
             0.8,
             "#7fbc41"
            ],
            [
             0.9,
             "#4d9221"
            ],
            [
             1,
             "#276419"
            ]
           ],
           "sequential": [
            [
             0,
             "#0d0887"
            ],
            [
             0.1111111111111111,
             "#46039f"
            ],
            [
             0.2222222222222222,
             "#7201a8"
            ],
            [
             0.3333333333333333,
             "#9c179e"
            ],
            [
             0.4444444444444444,
             "#bd3786"
            ],
            [
             0.5555555555555556,
             "#d8576b"
            ],
            [
             0.6666666666666666,
             "#ed7953"
            ],
            [
             0.7777777777777778,
             "#fb9f3a"
            ],
            [
             0.8888888888888888,
             "#fdca26"
            ],
            [
             1,
             "#f0f921"
            ]
           ],
           "sequentialminus": [
            [
             0,
             "#0d0887"
            ],
            [
             0.1111111111111111,
             "#46039f"
            ],
            [
             0.2222222222222222,
             "#7201a8"
            ],
            [
             0.3333333333333333,
             "#9c179e"
            ],
            [
             0.4444444444444444,
             "#bd3786"
            ],
            [
             0.5555555555555556,
             "#d8576b"
            ],
            [
             0.6666666666666666,
             "#ed7953"
            ],
            [
             0.7777777777777778,
             "#fb9f3a"
            ],
            [
             0.8888888888888888,
             "#fdca26"
            ],
            [
             1,
             "#f0f921"
            ]
           ]
          },
          "colorway": [
           "#636efa",
           "#EF553B",
           "#00cc96",
           "#ab63fa",
           "#FFA15A",
           "#19d3f3",
           "#FF6692",
           "#B6E880",
           "#FF97FF",
           "#FECB52"
          ],
          "font": {
           "color": "#2a3f5f"
          },
          "geo": {
           "bgcolor": "white",
           "lakecolor": "white",
           "landcolor": "#E5ECF6",
           "showlakes": true,
           "showland": true,
           "subunitcolor": "white"
          },
          "hoverlabel": {
           "align": "left"
          },
          "hovermode": "closest",
          "mapbox": {
           "style": "light"
          },
          "paper_bgcolor": "white",
          "plot_bgcolor": "#E5ECF6",
          "polar": {
           "angularaxis": {
            "gridcolor": "white",
            "linecolor": "white",
            "ticks": ""
           },
           "bgcolor": "#E5ECF6",
           "radialaxis": {
            "gridcolor": "white",
            "linecolor": "white",
            "ticks": ""
           }
          },
          "scene": {
           "xaxis": {
            "backgroundcolor": "#E5ECF6",
            "gridcolor": "white",
            "gridwidth": 2,
            "linecolor": "white",
            "showbackground": true,
            "ticks": "",
            "zerolinecolor": "white"
           },
           "yaxis": {
            "backgroundcolor": "#E5ECF6",
            "gridcolor": "white",
            "gridwidth": 2,
            "linecolor": "white",
            "showbackground": true,
            "ticks": "",
            "zerolinecolor": "white"
           },
           "zaxis": {
            "backgroundcolor": "#E5ECF6",
            "gridcolor": "white",
            "gridwidth": 2,
            "linecolor": "white",
            "showbackground": true,
            "ticks": "",
            "zerolinecolor": "white"
           }
          },
          "shapedefaults": {
           "line": {
            "color": "#2a3f5f"
           }
          },
          "ternary": {
           "aaxis": {
            "gridcolor": "white",
            "linecolor": "white",
            "ticks": ""
           },
           "baxis": {
            "gridcolor": "white",
            "linecolor": "white",
            "ticks": ""
           },
           "bgcolor": "#E5ECF6",
           "caxis": {
            "gridcolor": "white",
            "linecolor": "white",
            "ticks": ""
           }
          },
          "title": {
           "x": 0.05
          },
          "xaxis": {
           "automargin": true,
           "gridcolor": "white",
           "linecolor": "white",
           "ticks": "",
           "title": {
            "standoff": 15
           },
           "zerolinecolor": "white",
           "zerolinewidth": 2
          },
          "yaxis": {
           "automargin": true,
           "gridcolor": "white",
           "linecolor": "white",
           "ticks": "",
           "title": {
            "standoff": 15
           },
           "zerolinecolor": "white",
           "zerolinewidth": 2
          }
         }
        },
        "title": {
         "text": "Distribuição de Faixa Etária por Grupo",
         "x": 0.5
        },
        "xaxis": {
         "anchor": "y",
         "domain": [
          0,
          1
         ],
         "dtick": 1,
         "tickmode": "linear",
         "title": {
          "text": "Grupos"
         }
        },
        "yaxis": {
         "anchor": "x",
         "domain": [
          0,
          1
         ],
         "title": {
          "text": "Quantidade"
         }
        }
       }
      }
     },
     "metadata": {},
     "output_type": "display_data"
    }
   ],
   "source": [
    "fPlotaGraficos(df_faixa, 'Distribuição de Faixa Etária por Grupo')"
   ]
  },
  {
   "cell_type": "code",
   "execution_count": 40,
   "metadata": {},
   "outputs": [
    {
     "data": {
      "application/vnd.plotly.v1+json": {
       "config": {
        "plotlyServerURL": "https://plot.ly"
       },
       "data": [
        {
         "alignmentgroup": "True",
         "hovertemplate": "possui_plano_saude=Não<br>Grupos=%{x}<br>Quantidade=%{y}<extra></extra>",
         "legendgroup": "Não",
         "marker": {
          "color": "#636efa",
          "pattern": {
           "shape": ""
          }
         },
         "name": "Não",
         "offsetgroup": "Não",
         "orientation": "v",
         "showlegend": true,
         "textposition": "auto",
         "texttemplate": "%{y}",
         "type": "bar",
         "x": [
          0,
          1
         ],
         "xaxis": "x",
         "y": [
          21934,
          1419
         ],
         "yaxis": "y"
        },
        {
         "alignmentgroup": "True",
         "hovertemplate": "possui_plano_saude=Sim<br>Grupos=%{x}<br>Quantidade=%{y}<extra></extra>",
         "legendgroup": "Sim",
         "marker": {
          "color": "#EF553B",
          "pattern": {
           "shape": ""
          }
         },
         "name": "Sim",
         "offsetgroup": "Sim",
         "orientation": "v",
         "showlegend": true,
         "textposition": "auto",
         "texttemplate": "%{y}",
         "type": "bar",
         "x": [
          0,
          1
         ],
         "xaxis": "x",
         "y": [
          11303,
          772
         ],
         "yaxis": "y"
        }
       ],
       "layout": {
        "autosize": false,
        "barmode": "group",
        "height": 700,
        "legend": {
         "title": {
          "text": "possui_plano_saude"
         },
         "tracegroupgap": 0
        },
        "template": {
         "data": {
          "bar": [
           {
            "error_x": {
             "color": "#2a3f5f"
            },
            "error_y": {
             "color": "#2a3f5f"
            },
            "marker": {
             "line": {
              "color": "#E5ECF6",
              "width": 0.5
             },
             "pattern": {
              "fillmode": "overlay",
              "size": 10,
              "solidity": 0.2
             }
            },
            "type": "bar"
           }
          ],
          "barpolar": [
           {
            "marker": {
             "line": {
              "color": "#E5ECF6",
              "width": 0.5
             },
             "pattern": {
              "fillmode": "overlay",
              "size": 10,
              "solidity": 0.2
             }
            },
            "type": "barpolar"
           }
          ],
          "carpet": [
           {
            "aaxis": {
             "endlinecolor": "#2a3f5f",
             "gridcolor": "white",
             "linecolor": "white",
             "minorgridcolor": "white",
             "startlinecolor": "#2a3f5f"
            },
            "baxis": {
             "endlinecolor": "#2a3f5f",
             "gridcolor": "white",
             "linecolor": "white",
             "minorgridcolor": "white",
             "startlinecolor": "#2a3f5f"
            },
            "type": "carpet"
           }
          ],
          "choropleth": [
           {
            "colorbar": {
             "outlinewidth": 0,
             "ticks": ""
            },
            "type": "choropleth"
           }
          ],
          "contour": [
           {
            "colorbar": {
             "outlinewidth": 0,
             "ticks": ""
            },
            "colorscale": [
             [
              0,
              "#0d0887"
             ],
             [
              0.1111111111111111,
              "#46039f"
             ],
             [
              0.2222222222222222,
              "#7201a8"
             ],
             [
              0.3333333333333333,
              "#9c179e"
             ],
             [
              0.4444444444444444,
              "#bd3786"
             ],
             [
              0.5555555555555556,
              "#d8576b"
             ],
             [
              0.6666666666666666,
              "#ed7953"
             ],
             [
              0.7777777777777778,
              "#fb9f3a"
             ],
             [
              0.8888888888888888,
              "#fdca26"
             ],
             [
              1,
              "#f0f921"
             ]
            ],
            "type": "contour"
           }
          ],
          "contourcarpet": [
           {
            "colorbar": {
             "outlinewidth": 0,
             "ticks": ""
            },
            "type": "contourcarpet"
           }
          ],
          "heatmap": [
           {
            "colorbar": {
             "outlinewidth": 0,
             "ticks": ""
            },
            "colorscale": [
             [
              0,
              "#0d0887"
             ],
             [
              0.1111111111111111,
              "#46039f"
             ],
             [
              0.2222222222222222,
              "#7201a8"
             ],
             [
              0.3333333333333333,
              "#9c179e"
             ],
             [
              0.4444444444444444,
              "#bd3786"
             ],
             [
              0.5555555555555556,
              "#d8576b"
             ],
             [
              0.6666666666666666,
              "#ed7953"
             ],
             [
              0.7777777777777778,
              "#fb9f3a"
             ],
             [
              0.8888888888888888,
              "#fdca26"
             ],
             [
              1,
              "#f0f921"
             ]
            ],
            "type": "heatmap"
           }
          ],
          "heatmapgl": [
           {
            "colorbar": {
             "outlinewidth": 0,
             "ticks": ""
            },
            "colorscale": [
             [
              0,
              "#0d0887"
             ],
             [
              0.1111111111111111,
              "#46039f"
             ],
             [
              0.2222222222222222,
              "#7201a8"
             ],
             [
              0.3333333333333333,
              "#9c179e"
             ],
             [
              0.4444444444444444,
              "#bd3786"
             ],
             [
              0.5555555555555556,
              "#d8576b"
             ],
             [
              0.6666666666666666,
              "#ed7953"
             ],
             [
              0.7777777777777778,
              "#fb9f3a"
             ],
             [
              0.8888888888888888,
              "#fdca26"
             ],
             [
              1,
              "#f0f921"
             ]
            ],
            "type": "heatmapgl"
           }
          ],
          "histogram": [
           {
            "marker": {
             "pattern": {
              "fillmode": "overlay",
              "size": 10,
              "solidity": 0.2
             }
            },
            "type": "histogram"
           }
          ],
          "histogram2d": [
           {
            "colorbar": {
             "outlinewidth": 0,
             "ticks": ""
            },
            "colorscale": [
             [
              0,
              "#0d0887"
             ],
             [
              0.1111111111111111,
              "#46039f"
             ],
             [
              0.2222222222222222,
              "#7201a8"
             ],
             [
              0.3333333333333333,
              "#9c179e"
             ],
             [
              0.4444444444444444,
              "#bd3786"
             ],
             [
              0.5555555555555556,
              "#d8576b"
             ],
             [
              0.6666666666666666,
              "#ed7953"
             ],
             [
              0.7777777777777778,
              "#fb9f3a"
             ],
             [
              0.8888888888888888,
              "#fdca26"
             ],
             [
              1,
              "#f0f921"
             ]
            ],
            "type": "histogram2d"
           }
          ],
          "histogram2dcontour": [
           {
            "colorbar": {
             "outlinewidth": 0,
             "ticks": ""
            },
            "colorscale": [
             [
              0,
              "#0d0887"
             ],
             [
              0.1111111111111111,
              "#46039f"
             ],
             [
              0.2222222222222222,
              "#7201a8"
             ],
             [
              0.3333333333333333,
              "#9c179e"
             ],
             [
              0.4444444444444444,
              "#bd3786"
             ],
             [
              0.5555555555555556,
              "#d8576b"
             ],
             [
              0.6666666666666666,
              "#ed7953"
             ],
             [
              0.7777777777777778,
              "#fb9f3a"
             ],
             [
              0.8888888888888888,
              "#fdca26"
             ],
             [
              1,
              "#f0f921"
             ]
            ],
            "type": "histogram2dcontour"
           }
          ],
          "mesh3d": [
           {
            "colorbar": {
             "outlinewidth": 0,
             "ticks": ""
            },
            "type": "mesh3d"
           }
          ],
          "parcoords": [
           {
            "line": {
             "colorbar": {
              "outlinewidth": 0,
              "ticks": ""
             }
            },
            "type": "parcoords"
           }
          ],
          "pie": [
           {
            "automargin": true,
            "type": "pie"
           }
          ],
          "scatter": [
           {
            "fillpattern": {
             "fillmode": "overlay",
             "size": 10,
             "solidity": 0.2
            },
            "type": "scatter"
           }
          ],
          "scatter3d": [
           {
            "line": {
             "colorbar": {
              "outlinewidth": 0,
              "ticks": ""
             }
            },
            "marker": {
             "colorbar": {
              "outlinewidth": 0,
              "ticks": ""
             }
            },
            "type": "scatter3d"
           }
          ],
          "scattercarpet": [
           {
            "marker": {
             "colorbar": {
              "outlinewidth": 0,
              "ticks": ""
             }
            },
            "type": "scattercarpet"
           }
          ],
          "scattergeo": [
           {
            "marker": {
             "colorbar": {
              "outlinewidth": 0,
              "ticks": ""
             }
            },
            "type": "scattergeo"
           }
          ],
          "scattergl": [
           {
            "marker": {
             "colorbar": {
              "outlinewidth": 0,
              "ticks": ""
             }
            },
            "type": "scattergl"
           }
          ],
          "scattermapbox": [
           {
            "marker": {
             "colorbar": {
              "outlinewidth": 0,
              "ticks": ""
             }
            },
            "type": "scattermapbox"
           }
          ],
          "scatterpolar": [
           {
            "marker": {
             "colorbar": {
              "outlinewidth": 0,
              "ticks": ""
             }
            },
            "type": "scatterpolar"
           }
          ],
          "scatterpolargl": [
           {
            "marker": {
             "colorbar": {
              "outlinewidth": 0,
              "ticks": ""
             }
            },
            "type": "scatterpolargl"
           }
          ],
          "scatterternary": [
           {
            "marker": {
             "colorbar": {
              "outlinewidth": 0,
              "ticks": ""
             }
            },
            "type": "scatterternary"
           }
          ],
          "surface": [
           {
            "colorbar": {
             "outlinewidth": 0,
             "ticks": ""
            },
            "colorscale": [
             [
              0,
              "#0d0887"
             ],
             [
              0.1111111111111111,
              "#46039f"
             ],
             [
              0.2222222222222222,
              "#7201a8"
             ],
             [
              0.3333333333333333,
              "#9c179e"
             ],
             [
              0.4444444444444444,
              "#bd3786"
             ],
             [
              0.5555555555555556,
              "#d8576b"
             ],
             [
              0.6666666666666666,
              "#ed7953"
             ],
             [
              0.7777777777777778,
              "#fb9f3a"
             ],
             [
              0.8888888888888888,
              "#fdca26"
             ],
             [
              1,
              "#f0f921"
             ]
            ],
            "type": "surface"
           }
          ],
          "table": [
           {
            "cells": {
             "fill": {
              "color": "#EBF0F8"
             },
             "line": {
              "color": "white"
             }
            },
            "header": {
             "fill": {
              "color": "#C8D4E3"
             },
             "line": {
              "color": "white"
             }
            },
            "type": "table"
           }
          ]
         },
         "layout": {
          "annotationdefaults": {
           "arrowcolor": "#2a3f5f",
           "arrowhead": 0,
           "arrowwidth": 1
          },
          "autotypenumbers": "strict",
          "coloraxis": {
           "colorbar": {
            "outlinewidth": 0,
            "ticks": ""
           }
          },
          "colorscale": {
           "diverging": [
            [
             0,
             "#8e0152"
            ],
            [
             0.1,
             "#c51b7d"
            ],
            [
             0.2,
             "#de77ae"
            ],
            [
             0.3,
             "#f1b6da"
            ],
            [
             0.4,
             "#fde0ef"
            ],
            [
             0.5,
             "#f7f7f7"
            ],
            [
             0.6,
             "#e6f5d0"
            ],
            [
             0.7,
             "#b8e186"
            ],
            [
             0.8,
             "#7fbc41"
            ],
            [
             0.9,
             "#4d9221"
            ],
            [
             1,
             "#276419"
            ]
           ],
           "sequential": [
            [
             0,
             "#0d0887"
            ],
            [
             0.1111111111111111,
             "#46039f"
            ],
            [
             0.2222222222222222,
             "#7201a8"
            ],
            [
             0.3333333333333333,
             "#9c179e"
            ],
            [
             0.4444444444444444,
             "#bd3786"
            ],
            [
             0.5555555555555556,
             "#d8576b"
            ],
            [
             0.6666666666666666,
             "#ed7953"
            ],
            [
             0.7777777777777778,
             "#fb9f3a"
            ],
            [
             0.8888888888888888,
             "#fdca26"
            ],
            [
             1,
             "#f0f921"
            ]
           ],
           "sequentialminus": [
            [
             0,
             "#0d0887"
            ],
            [
             0.1111111111111111,
             "#46039f"
            ],
            [
             0.2222222222222222,
             "#7201a8"
            ],
            [
             0.3333333333333333,
             "#9c179e"
            ],
            [
             0.4444444444444444,
             "#bd3786"
            ],
            [
             0.5555555555555556,
             "#d8576b"
            ],
            [
             0.6666666666666666,
             "#ed7953"
            ],
            [
             0.7777777777777778,
             "#fb9f3a"
            ],
            [
             0.8888888888888888,
             "#fdca26"
            ],
            [
             1,
             "#f0f921"
            ]
           ]
          },
          "colorway": [
           "#636efa",
           "#EF553B",
           "#00cc96",
           "#ab63fa",
           "#FFA15A",
           "#19d3f3",
           "#FF6692",
           "#B6E880",
           "#FF97FF",
           "#FECB52"
          ],
          "font": {
           "color": "#2a3f5f"
          },
          "geo": {
           "bgcolor": "white",
           "lakecolor": "white",
           "landcolor": "#E5ECF6",
           "showlakes": true,
           "showland": true,
           "subunitcolor": "white"
          },
          "hoverlabel": {
           "align": "left"
          },
          "hovermode": "closest",
          "mapbox": {
           "style": "light"
          },
          "paper_bgcolor": "white",
          "plot_bgcolor": "#E5ECF6",
          "polar": {
           "angularaxis": {
            "gridcolor": "white",
            "linecolor": "white",
            "ticks": ""
           },
           "bgcolor": "#E5ECF6",
           "radialaxis": {
            "gridcolor": "white",
            "linecolor": "white",
            "ticks": ""
           }
          },
          "scene": {
           "xaxis": {
            "backgroundcolor": "#E5ECF6",
            "gridcolor": "white",
            "gridwidth": 2,
            "linecolor": "white",
            "showbackground": true,
            "ticks": "",
            "zerolinecolor": "white"
           },
           "yaxis": {
            "backgroundcolor": "#E5ECF6",
            "gridcolor": "white",
            "gridwidth": 2,
            "linecolor": "white",
            "showbackground": true,
            "ticks": "",
            "zerolinecolor": "white"
           },
           "zaxis": {
            "backgroundcolor": "#E5ECF6",
            "gridcolor": "white",
            "gridwidth": 2,
            "linecolor": "white",
            "showbackground": true,
            "ticks": "",
            "zerolinecolor": "white"
           }
          },
          "shapedefaults": {
           "line": {
            "color": "#2a3f5f"
           }
          },
          "ternary": {
           "aaxis": {
            "gridcolor": "white",
            "linecolor": "white",
            "ticks": ""
           },
           "baxis": {
            "gridcolor": "white",
            "linecolor": "white",
            "ticks": ""
           },
           "bgcolor": "#E5ECF6",
           "caxis": {
            "gridcolor": "white",
            "linecolor": "white",
            "ticks": ""
           }
          },
          "title": {
           "x": 0.05
          },
          "xaxis": {
           "automargin": true,
           "gridcolor": "white",
           "linecolor": "white",
           "ticks": "",
           "title": {
            "standoff": 15
           },
           "zerolinecolor": "white",
           "zerolinewidth": 2
          },
          "yaxis": {
           "automargin": true,
           "gridcolor": "white",
           "linecolor": "white",
           "ticks": "",
           "title": {
            "standoff": 15
           },
           "zerolinecolor": "white",
           "zerolinewidth": 2
          }
         }
        },
        "title": {
         "text": "Distribuição de Possuidores de Plano de Saúde por Grupo",
         "x": 0.5
        },
        "xaxis": {
         "anchor": "y",
         "domain": [
          0,
          1
         ],
         "dtick": 1,
         "tickmode": "linear",
         "title": {
          "text": "Grupos"
         }
        },
        "yaxis": {
         "anchor": "x",
         "domain": [
          0,
          1
         ],
         "title": {
          "text": "Quantidade"
         }
        }
       }
      }
     },
     "metadata": {},
     "output_type": "display_data"
    }
   ],
   "source": [
    "fPlotaGraficos(df_plano_saude, 'Distribuição de Possuidores de Plano de Saúde por Grupo')"
   ]
  },
  {
   "cell_type": "code",
   "execution_count": 41,
   "metadata": {},
   "outputs": [
    {
     "data": {
      "application/vnd.plotly.v1+json": {
       "config": {
        "plotlyServerURL": "https://plot.ly"
       },
       "data": [
        {
         "alignmentgroup": "True",
         "hovertemplate": "home_office=Não<br>Grupos=%{x}<br>Quantidade=%{y}<extra></extra>",
         "legendgroup": "Não",
         "marker": {
          "color": "#636efa",
          "pattern": {
           "shape": ""
          }
         },
         "name": "Não",
         "offsetgroup": "Não",
         "orientation": "v",
         "showlegend": true,
         "textposition": "auto",
         "texttemplate": "%{y}",
         "type": "bar",
         "x": [
          0,
          1
         ],
         "xaxis": "x",
         "y": [
          506,
          22
         ],
         "yaxis": "y"
        },
        {
         "alignmentgroup": "True",
         "hovertemplate": "home_office=Sim<br>Grupos=%{x}<br>Quantidade=%{y}<extra></extra>",
         "legendgroup": "Sim",
         "marker": {
          "color": "#EF553B",
          "pattern": {
           "shape": ""
          }
         },
         "name": "Sim",
         "offsetgroup": "Sim",
         "orientation": "v",
         "showlegend": true,
         "textposition": "auto",
         "texttemplate": "%{y}",
         "type": "bar",
         "x": [
          0,
          1
         ],
         "xaxis": "x",
         "y": [
          1522,
          108
         ],
         "yaxis": "y"
        }
       ],
       "layout": {
        "autosize": false,
        "barmode": "group",
        "height": 700,
        "legend": {
         "title": {
          "text": "home_office"
         },
         "tracegroupgap": 0
        },
        "template": {
         "data": {
          "bar": [
           {
            "error_x": {
             "color": "#2a3f5f"
            },
            "error_y": {
             "color": "#2a3f5f"
            },
            "marker": {
             "line": {
              "color": "#E5ECF6",
              "width": 0.5
             },
             "pattern": {
              "fillmode": "overlay",
              "size": 10,
              "solidity": 0.2
             }
            },
            "type": "bar"
           }
          ],
          "barpolar": [
           {
            "marker": {
             "line": {
              "color": "#E5ECF6",
              "width": 0.5
             },
             "pattern": {
              "fillmode": "overlay",
              "size": 10,
              "solidity": 0.2
             }
            },
            "type": "barpolar"
           }
          ],
          "carpet": [
           {
            "aaxis": {
             "endlinecolor": "#2a3f5f",
             "gridcolor": "white",
             "linecolor": "white",
             "minorgridcolor": "white",
             "startlinecolor": "#2a3f5f"
            },
            "baxis": {
             "endlinecolor": "#2a3f5f",
             "gridcolor": "white",
             "linecolor": "white",
             "minorgridcolor": "white",
             "startlinecolor": "#2a3f5f"
            },
            "type": "carpet"
           }
          ],
          "choropleth": [
           {
            "colorbar": {
             "outlinewidth": 0,
             "ticks": ""
            },
            "type": "choropleth"
           }
          ],
          "contour": [
           {
            "colorbar": {
             "outlinewidth": 0,
             "ticks": ""
            },
            "colorscale": [
             [
              0,
              "#0d0887"
             ],
             [
              0.1111111111111111,
              "#46039f"
             ],
             [
              0.2222222222222222,
              "#7201a8"
             ],
             [
              0.3333333333333333,
              "#9c179e"
             ],
             [
              0.4444444444444444,
              "#bd3786"
             ],
             [
              0.5555555555555556,
              "#d8576b"
             ],
             [
              0.6666666666666666,
              "#ed7953"
             ],
             [
              0.7777777777777778,
              "#fb9f3a"
             ],
             [
              0.8888888888888888,
              "#fdca26"
             ],
             [
              1,
              "#f0f921"
             ]
            ],
            "type": "contour"
           }
          ],
          "contourcarpet": [
           {
            "colorbar": {
             "outlinewidth": 0,
             "ticks": ""
            },
            "type": "contourcarpet"
           }
          ],
          "heatmap": [
           {
            "colorbar": {
             "outlinewidth": 0,
             "ticks": ""
            },
            "colorscale": [
             [
              0,
              "#0d0887"
             ],
             [
              0.1111111111111111,
              "#46039f"
             ],
             [
              0.2222222222222222,
              "#7201a8"
             ],
             [
              0.3333333333333333,
              "#9c179e"
             ],
             [
              0.4444444444444444,
              "#bd3786"
             ],
             [
              0.5555555555555556,
              "#d8576b"
             ],
             [
              0.6666666666666666,
              "#ed7953"
             ],
             [
              0.7777777777777778,
              "#fb9f3a"
             ],
             [
              0.8888888888888888,
              "#fdca26"
             ],
             [
              1,
              "#f0f921"
             ]
            ],
            "type": "heatmap"
           }
          ],
          "heatmapgl": [
           {
            "colorbar": {
             "outlinewidth": 0,
             "ticks": ""
            },
            "colorscale": [
             [
              0,
              "#0d0887"
             ],
             [
              0.1111111111111111,
              "#46039f"
             ],
             [
              0.2222222222222222,
              "#7201a8"
             ],
             [
              0.3333333333333333,
              "#9c179e"
             ],
             [
              0.4444444444444444,
              "#bd3786"
             ],
             [
              0.5555555555555556,
              "#d8576b"
             ],
             [
              0.6666666666666666,
              "#ed7953"
             ],
             [
              0.7777777777777778,
              "#fb9f3a"
             ],
             [
              0.8888888888888888,
              "#fdca26"
             ],
             [
              1,
              "#f0f921"
             ]
            ],
            "type": "heatmapgl"
           }
          ],
          "histogram": [
           {
            "marker": {
             "pattern": {
              "fillmode": "overlay",
              "size": 10,
              "solidity": 0.2
             }
            },
            "type": "histogram"
           }
          ],
          "histogram2d": [
           {
            "colorbar": {
             "outlinewidth": 0,
             "ticks": ""
            },
            "colorscale": [
             [
              0,
              "#0d0887"
             ],
             [
              0.1111111111111111,
              "#46039f"
             ],
             [
              0.2222222222222222,
              "#7201a8"
             ],
             [
              0.3333333333333333,
              "#9c179e"
             ],
             [
              0.4444444444444444,
              "#bd3786"
             ],
             [
              0.5555555555555556,
              "#d8576b"
             ],
             [
              0.6666666666666666,
              "#ed7953"
             ],
             [
              0.7777777777777778,
              "#fb9f3a"
             ],
             [
              0.8888888888888888,
              "#fdca26"
             ],
             [
              1,
              "#f0f921"
             ]
            ],
            "type": "histogram2d"
           }
          ],
          "histogram2dcontour": [
           {
            "colorbar": {
             "outlinewidth": 0,
             "ticks": ""
            },
            "colorscale": [
             [
              0,
              "#0d0887"
             ],
             [
              0.1111111111111111,
              "#46039f"
             ],
             [
              0.2222222222222222,
              "#7201a8"
             ],
             [
              0.3333333333333333,
              "#9c179e"
             ],
             [
              0.4444444444444444,
              "#bd3786"
             ],
             [
              0.5555555555555556,
              "#d8576b"
             ],
             [
              0.6666666666666666,
              "#ed7953"
             ],
             [
              0.7777777777777778,
              "#fb9f3a"
             ],
             [
              0.8888888888888888,
              "#fdca26"
             ],
             [
              1,
              "#f0f921"
             ]
            ],
            "type": "histogram2dcontour"
           }
          ],
          "mesh3d": [
           {
            "colorbar": {
             "outlinewidth": 0,
             "ticks": ""
            },
            "type": "mesh3d"
           }
          ],
          "parcoords": [
           {
            "line": {
             "colorbar": {
              "outlinewidth": 0,
              "ticks": ""
             }
            },
            "type": "parcoords"
           }
          ],
          "pie": [
           {
            "automargin": true,
            "type": "pie"
           }
          ],
          "scatter": [
           {
            "fillpattern": {
             "fillmode": "overlay",
             "size": 10,
             "solidity": 0.2
            },
            "type": "scatter"
           }
          ],
          "scatter3d": [
           {
            "line": {
             "colorbar": {
              "outlinewidth": 0,
              "ticks": ""
             }
            },
            "marker": {
             "colorbar": {
              "outlinewidth": 0,
              "ticks": ""
             }
            },
            "type": "scatter3d"
           }
          ],
          "scattercarpet": [
           {
            "marker": {
             "colorbar": {
              "outlinewidth": 0,
              "ticks": ""
             }
            },
            "type": "scattercarpet"
           }
          ],
          "scattergeo": [
           {
            "marker": {
             "colorbar": {
              "outlinewidth": 0,
              "ticks": ""
             }
            },
            "type": "scattergeo"
           }
          ],
          "scattergl": [
           {
            "marker": {
             "colorbar": {
              "outlinewidth": 0,
              "ticks": ""
             }
            },
            "type": "scattergl"
           }
          ],
          "scattermapbox": [
           {
            "marker": {
             "colorbar": {
              "outlinewidth": 0,
              "ticks": ""
             }
            },
            "type": "scattermapbox"
           }
          ],
          "scatterpolar": [
           {
            "marker": {
             "colorbar": {
              "outlinewidth": 0,
              "ticks": ""
             }
            },
            "type": "scatterpolar"
           }
          ],
          "scatterpolargl": [
           {
            "marker": {
             "colorbar": {
              "outlinewidth": 0,
              "ticks": ""
             }
            },
            "type": "scatterpolargl"
           }
          ],
          "scatterternary": [
           {
            "marker": {
             "colorbar": {
              "outlinewidth": 0,
              "ticks": ""
             }
            },
            "type": "scatterternary"
           }
          ],
          "surface": [
           {
            "colorbar": {
             "outlinewidth": 0,
             "ticks": ""
            },
            "colorscale": [
             [
              0,
              "#0d0887"
             ],
             [
              0.1111111111111111,
              "#46039f"
             ],
             [
              0.2222222222222222,
              "#7201a8"
             ],
             [
              0.3333333333333333,
              "#9c179e"
             ],
             [
              0.4444444444444444,
              "#bd3786"
             ],
             [
              0.5555555555555556,
              "#d8576b"
             ],
             [
              0.6666666666666666,
              "#ed7953"
             ],
             [
              0.7777777777777778,
              "#fb9f3a"
             ],
             [
              0.8888888888888888,
              "#fdca26"
             ],
             [
              1,
              "#f0f921"
             ]
            ],
            "type": "surface"
           }
          ],
          "table": [
           {
            "cells": {
             "fill": {
              "color": "#EBF0F8"
             },
             "line": {
              "color": "white"
             }
            },
            "header": {
             "fill": {
              "color": "#C8D4E3"
             },
             "line": {
              "color": "white"
             }
            },
            "type": "table"
           }
          ]
         },
         "layout": {
          "annotationdefaults": {
           "arrowcolor": "#2a3f5f",
           "arrowhead": 0,
           "arrowwidth": 1
          },
          "autotypenumbers": "strict",
          "coloraxis": {
           "colorbar": {
            "outlinewidth": 0,
            "ticks": ""
           }
          },
          "colorscale": {
           "diverging": [
            [
             0,
             "#8e0152"
            ],
            [
             0.1,
             "#c51b7d"
            ],
            [
             0.2,
             "#de77ae"
            ],
            [
             0.3,
             "#f1b6da"
            ],
            [
             0.4,
             "#fde0ef"
            ],
            [
             0.5,
             "#f7f7f7"
            ],
            [
             0.6,
             "#e6f5d0"
            ],
            [
             0.7,
             "#b8e186"
            ],
            [
             0.8,
             "#7fbc41"
            ],
            [
             0.9,
             "#4d9221"
            ],
            [
             1,
             "#276419"
            ]
           ],
           "sequential": [
            [
             0,
             "#0d0887"
            ],
            [
             0.1111111111111111,
             "#46039f"
            ],
            [
             0.2222222222222222,
             "#7201a8"
            ],
            [
             0.3333333333333333,
             "#9c179e"
            ],
            [
             0.4444444444444444,
             "#bd3786"
            ],
            [
             0.5555555555555556,
             "#d8576b"
            ],
            [
             0.6666666666666666,
             "#ed7953"
            ],
            [
             0.7777777777777778,
             "#fb9f3a"
            ],
            [
             0.8888888888888888,
             "#fdca26"
            ],
            [
             1,
             "#f0f921"
            ]
           ],
           "sequentialminus": [
            [
             0,
             "#0d0887"
            ],
            [
             0.1111111111111111,
             "#46039f"
            ],
            [
             0.2222222222222222,
             "#7201a8"
            ],
            [
             0.3333333333333333,
             "#9c179e"
            ],
            [
             0.4444444444444444,
             "#bd3786"
            ],
            [
             0.5555555555555556,
             "#d8576b"
            ],
            [
             0.6666666666666666,
             "#ed7953"
            ],
            [
             0.7777777777777778,
             "#fb9f3a"
            ],
            [
             0.8888888888888888,
             "#fdca26"
            ],
            [
             1,
             "#f0f921"
            ]
           ]
          },
          "colorway": [
           "#636efa",
           "#EF553B",
           "#00cc96",
           "#ab63fa",
           "#FFA15A",
           "#19d3f3",
           "#FF6692",
           "#B6E880",
           "#FF97FF",
           "#FECB52"
          ],
          "font": {
           "color": "#2a3f5f"
          },
          "geo": {
           "bgcolor": "white",
           "lakecolor": "white",
           "landcolor": "#E5ECF6",
           "showlakes": true,
           "showland": true,
           "subunitcolor": "white"
          },
          "hoverlabel": {
           "align": "left"
          },
          "hovermode": "closest",
          "mapbox": {
           "style": "light"
          },
          "paper_bgcolor": "white",
          "plot_bgcolor": "#E5ECF6",
          "polar": {
           "angularaxis": {
            "gridcolor": "white",
            "linecolor": "white",
            "ticks": ""
           },
           "bgcolor": "#E5ECF6",
           "radialaxis": {
            "gridcolor": "white",
            "linecolor": "white",
            "ticks": ""
           }
          },
          "scene": {
           "xaxis": {
            "backgroundcolor": "#E5ECF6",
            "gridcolor": "white",
            "gridwidth": 2,
            "linecolor": "white",
            "showbackground": true,
            "ticks": "",
            "zerolinecolor": "white"
           },
           "yaxis": {
            "backgroundcolor": "#E5ECF6",
            "gridcolor": "white",
            "gridwidth": 2,
            "linecolor": "white",
            "showbackground": true,
            "ticks": "",
            "zerolinecolor": "white"
           },
           "zaxis": {
            "backgroundcolor": "#E5ECF6",
            "gridcolor": "white",
            "gridwidth": 2,
            "linecolor": "white",
            "showbackground": true,
            "ticks": "",
            "zerolinecolor": "white"
           }
          },
          "shapedefaults": {
           "line": {
            "color": "#2a3f5f"
           }
          },
          "ternary": {
           "aaxis": {
            "gridcolor": "white",
            "linecolor": "white",
            "ticks": ""
           },
           "baxis": {
            "gridcolor": "white",
            "linecolor": "white",
            "ticks": ""
           },
           "bgcolor": "#E5ECF6",
           "caxis": {
            "gridcolor": "white",
            "linecolor": "white",
            "ticks": ""
           }
          },
          "title": {
           "x": 0.05
          },
          "xaxis": {
           "automargin": true,
           "gridcolor": "white",
           "linecolor": "white",
           "ticks": "",
           "title": {
            "standoff": 15
           },
           "zerolinecolor": "white",
           "zerolinewidth": 2
          },
          "yaxis": {
           "automargin": true,
           "gridcolor": "white",
           "linecolor": "white",
           "ticks": "",
           "title": {
            "standoff": 15
           },
           "zerolinecolor": "white",
           "zerolinewidth": 2
          }
         }
        },
        "title": {
         "text": "Distribuição de Aderentes de Home Office por Grupo",
         "x": 0.5
        },
        "xaxis": {
         "anchor": "y",
         "domain": [
          0,
          1
         ],
         "dtick": 1,
         "tickmode": "linear",
         "title": {
          "text": "Grupos"
         }
        },
        "yaxis": {
         "anchor": "x",
         "domain": [
          0,
          1
         ],
         "title": {
          "text": "Quantidade"
         }
        }
       }
      }
     },
     "metadata": {},
     "output_type": "display_data"
    }
   ],
   "source": [
    "fPlotaGraficos(df_home_office.drop(columns='Não se Aplica'), 'Distribuição de Aderentes de Home Office por Grupo')"
   ]
  },
  {
   "cell_type": "code",
   "execution_count": 42,
   "metadata": {},
   "outputs": [
    {
     "data": {
      "application/vnd.plotly.v1+json": {
       "config": {
        "plotlyServerURL": "https://plot.ly"
       },
       "data": [
        {
         "alignmentgroup": "True",
         "hovertemplate": "distanciamento=Fez Distanciamento<br>Grupos=%{x}<br>Quantidade=%{y}<extra></extra>",
         "legendgroup": "Fez Distanciamento",
         "marker": {
          "color": "#636efa",
          "pattern": {
           "shape": ""
          }
         },
         "name": "Fez Distanciamento",
         "offsetgroup": "Fez Distanciamento",
         "orientation": "v",
         "showlegend": true,
         "textposition": "auto",
         "texttemplate": "%{y}",
         "type": "bar",
         "x": [
          0,
          1
         ],
         "xaxis": "x",
         "y": [
          13418,
          1603
         ],
         "yaxis": "y"
        },
        {
         "alignmentgroup": "True",
         "hovertemplate": "distanciamento=Não fez Distanciamento<br>Grupos=%{x}<br>Quantidade=%{y}<extra></extra>",
         "legendgroup": "Não fez Distanciamento",
         "marker": {
          "color": "#EF553B",
          "pattern": {
           "shape": ""
          }
         },
         "name": "Não fez Distanciamento",
         "offsetgroup": "Não fez Distanciamento",
         "orientation": "v",
         "showlegend": true,
         "textposition": "auto",
         "texttemplate": "%{y}",
         "type": "bar",
         "x": [
          0,
          1
         ],
         "xaxis": "x",
         "y": [
          19819,
          588
         ],
         "yaxis": "y"
        }
       ],
       "layout": {
        "autosize": false,
        "barmode": "group",
        "height": 700,
        "legend": {
         "title": {
          "text": "distanciamento"
         },
         "tracegroupgap": 0
        },
        "template": {
         "data": {
          "bar": [
           {
            "error_x": {
             "color": "#2a3f5f"
            },
            "error_y": {
             "color": "#2a3f5f"
            },
            "marker": {
             "line": {
              "color": "#E5ECF6",
              "width": 0.5
             },
             "pattern": {
              "fillmode": "overlay",
              "size": 10,
              "solidity": 0.2
             }
            },
            "type": "bar"
           }
          ],
          "barpolar": [
           {
            "marker": {
             "line": {
              "color": "#E5ECF6",
              "width": 0.5
             },
             "pattern": {
              "fillmode": "overlay",
              "size": 10,
              "solidity": 0.2
             }
            },
            "type": "barpolar"
           }
          ],
          "carpet": [
           {
            "aaxis": {
             "endlinecolor": "#2a3f5f",
             "gridcolor": "white",
             "linecolor": "white",
             "minorgridcolor": "white",
             "startlinecolor": "#2a3f5f"
            },
            "baxis": {
             "endlinecolor": "#2a3f5f",
             "gridcolor": "white",
             "linecolor": "white",
             "minorgridcolor": "white",
             "startlinecolor": "#2a3f5f"
            },
            "type": "carpet"
           }
          ],
          "choropleth": [
           {
            "colorbar": {
             "outlinewidth": 0,
             "ticks": ""
            },
            "type": "choropleth"
           }
          ],
          "contour": [
           {
            "colorbar": {
             "outlinewidth": 0,
             "ticks": ""
            },
            "colorscale": [
             [
              0,
              "#0d0887"
             ],
             [
              0.1111111111111111,
              "#46039f"
             ],
             [
              0.2222222222222222,
              "#7201a8"
             ],
             [
              0.3333333333333333,
              "#9c179e"
             ],
             [
              0.4444444444444444,
              "#bd3786"
             ],
             [
              0.5555555555555556,
              "#d8576b"
             ],
             [
              0.6666666666666666,
              "#ed7953"
             ],
             [
              0.7777777777777778,
              "#fb9f3a"
             ],
             [
              0.8888888888888888,
              "#fdca26"
             ],
             [
              1,
              "#f0f921"
             ]
            ],
            "type": "contour"
           }
          ],
          "contourcarpet": [
           {
            "colorbar": {
             "outlinewidth": 0,
             "ticks": ""
            },
            "type": "contourcarpet"
           }
          ],
          "heatmap": [
           {
            "colorbar": {
             "outlinewidth": 0,
             "ticks": ""
            },
            "colorscale": [
             [
              0,
              "#0d0887"
             ],
             [
              0.1111111111111111,
              "#46039f"
             ],
             [
              0.2222222222222222,
              "#7201a8"
             ],
             [
              0.3333333333333333,
              "#9c179e"
             ],
             [
              0.4444444444444444,
              "#bd3786"
             ],
             [
              0.5555555555555556,
              "#d8576b"
             ],
             [
              0.6666666666666666,
              "#ed7953"
             ],
             [
              0.7777777777777778,
              "#fb9f3a"
             ],
             [
              0.8888888888888888,
              "#fdca26"
             ],
             [
              1,
              "#f0f921"
             ]
            ],
            "type": "heatmap"
           }
          ],
          "heatmapgl": [
           {
            "colorbar": {
             "outlinewidth": 0,
             "ticks": ""
            },
            "colorscale": [
             [
              0,
              "#0d0887"
             ],
             [
              0.1111111111111111,
              "#46039f"
             ],
             [
              0.2222222222222222,
              "#7201a8"
             ],
             [
              0.3333333333333333,
              "#9c179e"
             ],
             [
              0.4444444444444444,
              "#bd3786"
             ],
             [
              0.5555555555555556,
              "#d8576b"
             ],
             [
              0.6666666666666666,
              "#ed7953"
             ],
             [
              0.7777777777777778,
              "#fb9f3a"
             ],
             [
              0.8888888888888888,
              "#fdca26"
             ],
             [
              1,
              "#f0f921"
             ]
            ],
            "type": "heatmapgl"
           }
          ],
          "histogram": [
           {
            "marker": {
             "pattern": {
              "fillmode": "overlay",
              "size": 10,
              "solidity": 0.2
             }
            },
            "type": "histogram"
           }
          ],
          "histogram2d": [
           {
            "colorbar": {
             "outlinewidth": 0,
             "ticks": ""
            },
            "colorscale": [
             [
              0,
              "#0d0887"
             ],
             [
              0.1111111111111111,
              "#46039f"
             ],
             [
              0.2222222222222222,
              "#7201a8"
             ],
             [
              0.3333333333333333,
              "#9c179e"
             ],
             [
              0.4444444444444444,
              "#bd3786"
             ],
             [
              0.5555555555555556,
              "#d8576b"
             ],
             [
              0.6666666666666666,
              "#ed7953"
             ],
             [
              0.7777777777777778,
              "#fb9f3a"
             ],
             [
              0.8888888888888888,
              "#fdca26"
             ],
             [
              1,
              "#f0f921"
             ]
            ],
            "type": "histogram2d"
           }
          ],
          "histogram2dcontour": [
           {
            "colorbar": {
             "outlinewidth": 0,
             "ticks": ""
            },
            "colorscale": [
             [
              0,
              "#0d0887"
             ],
             [
              0.1111111111111111,
              "#46039f"
             ],
             [
              0.2222222222222222,
              "#7201a8"
             ],
             [
              0.3333333333333333,
              "#9c179e"
             ],
             [
              0.4444444444444444,
              "#bd3786"
             ],
             [
              0.5555555555555556,
              "#d8576b"
             ],
             [
              0.6666666666666666,
              "#ed7953"
             ],
             [
              0.7777777777777778,
              "#fb9f3a"
             ],
             [
              0.8888888888888888,
              "#fdca26"
             ],
             [
              1,
              "#f0f921"
             ]
            ],
            "type": "histogram2dcontour"
           }
          ],
          "mesh3d": [
           {
            "colorbar": {
             "outlinewidth": 0,
             "ticks": ""
            },
            "type": "mesh3d"
           }
          ],
          "parcoords": [
           {
            "line": {
             "colorbar": {
              "outlinewidth": 0,
              "ticks": ""
             }
            },
            "type": "parcoords"
           }
          ],
          "pie": [
           {
            "automargin": true,
            "type": "pie"
           }
          ],
          "scatter": [
           {
            "fillpattern": {
             "fillmode": "overlay",
             "size": 10,
             "solidity": 0.2
            },
            "type": "scatter"
           }
          ],
          "scatter3d": [
           {
            "line": {
             "colorbar": {
              "outlinewidth": 0,
              "ticks": ""
             }
            },
            "marker": {
             "colorbar": {
              "outlinewidth": 0,
              "ticks": ""
             }
            },
            "type": "scatter3d"
           }
          ],
          "scattercarpet": [
           {
            "marker": {
             "colorbar": {
              "outlinewidth": 0,
              "ticks": ""
             }
            },
            "type": "scattercarpet"
           }
          ],
          "scattergeo": [
           {
            "marker": {
             "colorbar": {
              "outlinewidth": 0,
              "ticks": ""
             }
            },
            "type": "scattergeo"
           }
          ],
          "scattergl": [
           {
            "marker": {
             "colorbar": {
              "outlinewidth": 0,
              "ticks": ""
             }
            },
            "type": "scattergl"
           }
          ],
          "scattermapbox": [
           {
            "marker": {
             "colorbar": {
              "outlinewidth": 0,
              "ticks": ""
             }
            },
            "type": "scattermapbox"
           }
          ],
          "scatterpolar": [
           {
            "marker": {
             "colorbar": {
              "outlinewidth": 0,
              "ticks": ""
             }
            },
            "type": "scatterpolar"
           }
          ],
          "scatterpolargl": [
           {
            "marker": {
             "colorbar": {
              "outlinewidth": 0,
              "ticks": ""
             }
            },
            "type": "scatterpolargl"
           }
          ],
          "scatterternary": [
           {
            "marker": {
             "colorbar": {
              "outlinewidth": 0,
              "ticks": ""
             }
            },
            "type": "scatterternary"
           }
          ],
          "surface": [
           {
            "colorbar": {
             "outlinewidth": 0,
             "ticks": ""
            },
            "colorscale": [
             [
              0,
              "#0d0887"
             ],
             [
              0.1111111111111111,
              "#46039f"
             ],
             [
              0.2222222222222222,
              "#7201a8"
             ],
             [
              0.3333333333333333,
              "#9c179e"
             ],
             [
              0.4444444444444444,
              "#bd3786"
             ],
             [
              0.5555555555555556,
              "#d8576b"
             ],
             [
              0.6666666666666666,
              "#ed7953"
             ],
             [
              0.7777777777777778,
              "#fb9f3a"
             ],
             [
              0.8888888888888888,
              "#fdca26"
             ],
             [
              1,
              "#f0f921"
             ]
            ],
            "type": "surface"
           }
          ],
          "table": [
           {
            "cells": {
             "fill": {
              "color": "#EBF0F8"
             },
             "line": {
              "color": "white"
             }
            },
            "header": {
             "fill": {
              "color": "#C8D4E3"
             },
             "line": {
              "color": "white"
             }
            },
            "type": "table"
           }
          ]
         },
         "layout": {
          "annotationdefaults": {
           "arrowcolor": "#2a3f5f",
           "arrowhead": 0,
           "arrowwidth": 1
          },
          "autotypenumbers": "strict",
          "coloraxis": {
           "colorbar": {
            "outlinewidth": 0,
            "ticks": ""
           }
          },
          "colorscale": {
           "diverging": [
            [
             0,
             "#8e0152"
            ],
            [
             0.1,
             "#c51b7d"
            ],
            [
             0.2,
             "#de77ae"
            ],
            [
             0.3,
             "#f1b6da"
            ],
            [
             0.4,
             "#fde0ef"
            ],
            [
             0.5,
             "#f7f7f7"
            ],
            [
             0.6,
             "#e6f5d0"
            ],
            [
             0.7,
             "#b8e186"
            ],
            [
             0.8,
             "#7fbc41"
            ],
            [
             0.9,
             "#4d9221"
            ],
            [
             1,
             "#276419"
            ]
           ],
           "sequential": [
            [
             0,
             "#0d0887"
            ],
            [
             0.1111111111111111,
             "#46039f"
            ],
            [
             0.2222222222222222,
             "#7201a8"
            ],
            [
             0.3333333333333333,
             "#9c179e"
            ],
            [
             0.4444444444444444,
             "#bd3786"
            ],
            [
             0.5555555555555556,
             "#d8576b"
            ],
            [
             0.6666666666666666,
             "#ed7953"
            ],
            [
             0.7777777777777778,
             "#fb9f3a"
            ],
            [
             0.8888888888888888,
             "#fdca26"
            ],
            [
             1,
             "#f0f921"
            ]
           ],
           "sequentialminus": [
            [
             0,
             "#0d0887"
            ],
            [
             0.1111111111111111,
             "#46039f"
            ],
            [
             0.2222222222222222,
             "#7201a8"
            ],
            [
             0.3333333333333333,
             "#9c179e"
            ],
            [
             0.4444444444444444,
             "#bd3786"
            ],
            [
             0.5555555555555556,
             "#d8576b"
            ],
            [
             0.6666666666666666,
             "#ed7953"
            ],
            [
             0.7777777777777778,
             "#fb9f3a"
            ],
            [
             0.8888888888888888,
             "#fdca26"
            ],
            [
             1,
             "#f0f921"
            ]
           ]
          },
          "colorway": [
           "#636efa",
           "#EF553B",
           "#00cc96",
           "#ab63fa",
           "#FFA15A",
           "#19d3f3",
           "#FF6692",
           "#B6E880",
           "#FF97FF",
           "#FECB52"
          ],
          "font": {
           "color": "#2a3f5f"
          },
          "geo": {
           "bgcolor": "white",
           "lakecolor": "white",
           "landcolor": "#E5ECF6",
           "showlakes": true,
           "showland": true,
           "subunitcolor": "white"
          },
          "hoverlabel": {
           "align": "left"
          },
          "hovermode": "closest",
          "mapbox": {
           "style": "light"
          },
          "paper_bgcolor": "white",
          "plot_bgcolor": "#E5ECF6",
          "polar": {
           "angularaxis": {
            "gridcolor": "white",
            "linecolor": "white",
            "ticks": ""
           },
           "bgcolor": "#E5ECF6",
           "radialaxis": {
            "gridcolor": "white",
            "linecolor": "white",
            "ticks": ""
           }
          },
          "scene": {
           "xaxis": {
            "backgroundcolor": "#E5ECF6",
            "gridcolor": "white",
            "gridwidth": 2,
            "linecolor": "white",
            "showbackground": true,
            "ticks": "",
            "zerolinecolor": "white"
           },
           "yaxis": {
            "backgroundcolor": "#E5ECF6",
            "gridcolor": "white",
            "gridwidth": 2,
            "linecolor": "white",
            "showbackground": true,
            "ticks": "",
            "zerolinecolor": "white"
           },
           "zaxis": {
            "backgroundcolor": "#E5ECF6",
            "gridcolor": "white",
            "gridwidth": 2,
            "linecolor": "white",
            "showbackground": true,
            "ticks": "",
            "zerolinecolor": "white"
           }
          },
          "shapedefaults": {
           "line": {
            "color": "#2a3f5f"
           }
          },
          "ternary": {
           "aaxis": {
            "gridcolor": "white",
            "linecolor": "white",
            "ticks": ""
           },
           "baxis": {
            "gridcolor": "white",
            "linecolor": "white",
            "ticks": ""
           },
           "bgcolor": "#E5ECF6",
           "caxis": {
            "gridcolor": "white",
            "linecolor": "white",
            "ticks": ""
           }
          },
          "title": {
           "x": 0.05
          },
          "xaxis": {
           "automargin": true,
           "gridcolor": "white",
           "linecolor": "white",
           "ticks": "",
           "title": {
            "standoff": 15
           },
           "zerolinecolor": "white",
           "zerolinewidth": 2
          },
          "yaxis": {
           "automargin": true,
           "gridcolor": "white",
           "linecolor": "white",
           "ticks": "",
           "title": {
            "standoff": 15
           },
           "zerolinecolor": "white",
           "zerolinewidth": 2
          }
         }
        },
        "title": {
         "text": "Distribuição de Aderentes do Distanciamento por Grupo",
         "x": 0.5
        },
        "xaxis": {
         "anchor": "y",
         "domain": [
          0,
          1
         ],
         "dtick": 1,
         "tickmode": "linear",
         "title": {
          "text": "Grupos"
         }
        },
        "yaxis": {
         "anchor": "x",
         "domain": [
          0,
          1
         ],
         "title": {
          "text": "Quantidade"
         }
        }
       }
      }
     },
     "metadata": {},
     "output_type": "display_data"
    }
   ],
   "source": [
    "fPlotaGraficos(df_distanciamento, 'Distribuição de Aderentes do Distanciamento por Grupo')"
   ]
  },
  {
   "cell_type": "code",
   "execution_count": 43,
   "metadata": {},
   "outputs": [],
   "source": [
    "def fCriaDataFrameSintomas(pTeve_Sintoma):\n",
    "    df_grouped = dados_Escalonados.groupby('Grupos')[pTeve_Sintoma].value_counts()\n",
    "    teve_sintoma = df_grouped.reset_index()\n",
    "    teve_sintoma[pTeve_Sintoma].replace({0:'Não', 1:'Sim'}, inplace=True)\n",
    "    return teve_sintoma.pivot_table('count',['Grupos'],pTeve_Sintoma)"
   ]
  },
  {
   "cell_type": "code",
   "execution_count": 44,
   "metadata": {},
   "outputs": [],
   "source": [
    "df_teve_febre = fCriaDataFrameSintomas('teve_febre')\n",
    "df_teve_tosse = fCriaDataFrameSintomas('teve_tosse')\n",
    "df_teve_dor_garganta = fCriaDataFrameSintomas('teve_dor_garganta')\n",
    "df_teve_dificuldade_respirar = fCriaDataFrameSintomas('teve_dificuldade_respirar')\n",
    "df_teve_dor_cabeca = fCriaDataFrameSintomas('teve_dor_cabeca')\n",
    "df_teve_dor_fadiga = fCriaDataFrameSintomas('teve_dor_fadiga')"
   ]
  },
  {
   "cell_type": "code",
   "execution_count": 45,
   "metadata": {},
   "outputs": [
    {
     "data": {
      "text/html": [
       "<div>\n",
       "<style scoped>\n",
       "    .dataframe tbody tr th:only-of-type {\n",
       "        vertical-align: middle;\n",
       "    }\n",
       "\n",
       "    .dataframe tbody tr th {\n",
       "        vertical-align: top;\n",
       "    }\n",
       "\n",
       "    .dataframe thead th {\n",
       "        text-align: right;\n",
       "    }\n",
       "</style>\n",
       "<table border=\"1\" class=\"dataframe\">\n",
       "  <thead>\n",
       "    <tr style=\"text-align: right;\">\n",
       "      <th>teve_febre</th>\n",
       "      <th>Não</th>\n",
       "      <th>Sim</th>\n",
       "    </tr>\n",
       "    <tr>\n",
       "      <th>Grupos</th>\n",
       "      <th></th>\n",
       "      <th></th>\n",
       "    </tr>\n",
       "  </thead>\n",
       "  <tbody>\n",
       "    <tr>\n",
       "      <th>0</th>\n",
       "      <td>32749.0</td>\n",
       "      <td>488.0</td>\n",
       "    </tr>\n",
       "    <tr>\n",
       "      <th>1</th>\n",
       "      <td>531.0</td>\n",
       "      <td>1660.0</td>\n",
       "    </tr>\n",
       "  </tbody>\n",
       "</table>\n",
       "</div>"
      ],
      "text/plain": [
       "teve_febre      Não     Sim\n",
       "Grupos                     \n",
       "0           32749.0   488.0\n",
       "1             531.0  1660.0"
      ]
     },
     "execution_count": 45,
     "metadata": {},
     "output_type": "execute_result"
    }
   ],
   "source": [
    "df_teve_febre"
   ]
  },
  {
   "cell_type": "code",
   "execution_count": 46,
   "metadata": {},
   "outputs": [
    {
     "data": {
      "application/vnd.plotly.v1+json": {
       "config": {
        "plotlyServerURL": "https://plot.ly"
       },
       "data": [
        {
         "alignmentgroup": "True",
         "hovertemplate": "teve_febre=Não<br>Grupos=%{x}<br>Quantidade=%{y}<extra></extra>",
         "legendgroup": "Não",
         "marker": {
          "color": "#636efa",
          "pattern": {
           "shape": ""
          }
         },
         "name": "Não",
         "offsetgroup": "Não",
         "orientation": "v",
         "showlegend": true,
         "textposition": "auto",
         "texttemplate": "%{y}",
         "type": "bar",
         "x": [
          0,
          1
         ],
         "xaxis": "x",
         "y": [
          32749,
          531
         ],
         "yaxis": "y"
        },
        {
         "alignmentgroup": "True",
         "hovertemplate": "teve_febre=Sim<br>Grupos=%{x}<br>Quantidade=%{y}<extra></extra>",
         "legendgroup": "Sim",
         "marker": {
          "color": "#EF553B",
          "pattern": {
           "shape": ""
          }
         },
         "name": "Sim",
         "offsetgroup": "Sim",
         "orientation": "v",
         "showlegend": true,
         "textposition": "auto",
         "texttemplate": "%{y}",
         "type": "bar",
         "x": [
          0,
          1
         ],
         "xaxis": "x",
         "y": [
          488,
          1660
         ],
         "yaxis": "y"
        }
       ],
       "layout": {
        "autosize": false,
        "barmode": "group",
        "height": 700,
        "legend": {
         "title": {
          "text": "teve_febre"
         },
         "tracegroupgap": 0
        },
        "template": {
         "data": {
          "bar": [
           {
            "error_x": {
             "color": "#2a3f5f"
            },
            "error_y": {
             "color": "#2a3f5f"
            },
            "marker": {
             "line": {
              "color": "#E5ECF6",
              "width": 0.5
             },
             "pattern": {
              "fillmode": "overlay",
              "size": 10,
              "solidity": 0.2
             }
            },
            "type": "bar"
           }
          ],
          "barpolar": [
           {
            "marker": {
             "line": {
              "color": "#E5ECF6",
              "width": 0.5
             },
             "pattern": {
              "fillmode": "overlay",
              "size": 10,
              "solidity": 0.2
             }
            },
            "type": "barpolar"
           }
          ],
          "carpet": [
           {
            "aaxis": {
             "endlinecolor": "#2a3f5f",
             "gridcolor": "white",
             "linecolor": "white",
             "minorgridcolor": "white",
             "startlinecolor": "#2a3f5f"
            },
            "baxis": {
             "endlinecolor": "#2a3f5f",
             "gridcolor": "white",
             "linecolor": "white",
             "minorgridcolor": "white",
             "startlinecolor": "#2a3f5f"
            },
            "type": "carpet"
           }
          ],
          "choropleth": [
           {
            "colorbar": {
             "outlinewidth": 0,
             "ticks": ""
            },
            "type": "choropleth"
           }
          ],
          "contour": [
           {
            "colorbar": {
             "outlinewidth": 0,
             "ticks": ""
            },
            "colorscale": [
             [
              0,
              "#0d0887"
             ],
             [
              0.1111111111111111,
              "#46039f"
             ],
             [
              0.2222222222222222,
              "#7201a8"
             ],
             [
              0.3333333333333333,
              "#9c179e"
             ],
             [
              0.4444444444444444,
              "#bd3786"
             ],
             [
              0.5555555555555556,
              "#d8576b"
             ],
             [
              0.6666666666666666,
              "#ed7953"
             ],
             [
              0.7777777777777778,
              "#fb9f3a"
             ],
             [
              0.8888888888888888,
              "#fdca26"
             ],
             [
              1,
              "#f0f921"
             ]
            ],
            "type": "contour"
           }
          ],
          "contourcarpet": [
           {
            "colorbar": {
             "outlinewidth": 0,
             "ticks": ""
            },
            "type": "contourcarpet"
           }
          ],
          "heatmap": [
           {
            "colorbar": {
             "outlinewidth": 0,
             "ticks": ""
            },
            "colorscale": [
             [
              0,
              "#0d0887"
             ],
             [
              0.1111111111111111,
              "#46039f"
             ],
             [
              0.2222222222222222,
              "#7201a8"
             ],
             [
              0.3333333333333333,
              "#9c179e"
             ],
             [
              0.4444444444444444,
              "#bd3786"
             ],
             [
              0.5555555555555556,
              "#d8576b"
             ],
             [
              0.6666666666666666,
              "#ed7953"
             ],
             [
              0.7777777777777778,
              "#fb9f3a"
             ],
             [
              0.8888888888888888,
              "#fdca26"
             ],
             [
              1,
              "#f0f921"
             ]
            ],
            "type": "heatmap"
           }
          ],
          "heatmapgl": [
           {
            "colorbar": {
             "outlinewidth": 0,
             "ticks": ""
            },
            "colorscale": [
             [
              0,
              "#0d0887"
             ],
             [
              0.1111111111111111,
              "#46039f"
             ],
             [
              0.2222222222222222,
              "#7201a8"
             ],
             [
              0.3333333333333333,
              "#9c179e"
             ],
             [
              0.4444444444444444,
              "#bd3786"
             ],
             [
              0.5555555555555556,
              "#d8576b"
             ],
             [
              0.6666666666666666,
              "#ed7953"
             ],
             [
              0.7777777777777778,
              "#fb9f3a"
             ],
             [
              0.8888888888888888,
              "#fdca26"
             ],
             [
              1,
              "#f0f921"
             ]
            ],
            "type": "heatmapgl"
           }
          ],
          "histogram": [
           {
            "marker": {
             "pattern": {
              "fillmode": "overlay",
              "size": 10,
              "solidity": 0.2
             }
            },
            "type": "histogram"
           }
          ],
          "histogram2d": [
           {
            "colorbar": {
             "outlinewidth": 0,
             "ticks": ""
            },
            "colorscale": [
             [
              0,
              "#0d0887"
             ],
             [
              0.1111111111111111,
              "#46039f"
             ],
             [
              0.2222222222222222,
              "#7201a8"
             ],
             [
              0.3333333333333333,
              "#9c179e"
             ],
             [
              0.4444444444444444,
              "#bd3786"
             ],
             [
              0.5555555555555556,
              "#d8576b"
             ],
             [
              0.6666666666666666,
              "#ed7953"
             ],
             [
              0.7777777777777778,
              "#fb9f3a"
             ],
             [
              0.8888888888888888,
              "#fdca26"
             ],
             [
              1,
              "#f0f921"
             ]
            ],
            "type": "histogram2d"
           }
          ],
          "histogram2dcontour": [
           {
            "colorbar": {
             "outlinewidth": 0,
             "ticks": ""
            },
            "colorscale": [
             [
              0,
              "#0d0887"
             ],
             [
              0.1111111111111111,
              "#46039f"
             ],
             [
              0.2222222222222222,
              "#7201a8"
             ],
             [
              0.3333333333333333,
              "#9c179e"
             ],
             [
              0.4444444444444444,
              "#bd3786"
             ],
             [
              0.5555555555555556,
              "#d8576b"
             ],
             [
              0.6666666666666666,
              "#ed7953"
             ],
             [
              0.7777777777777778,
              "#fb9f3a"
             ],
             [
              0.8888888888888888,
              "#fdca26"
             ],
             [
              1,
              "#f0f921"
             ]
            ],
            "type": "histogram2dcontour"
           }
          ],
          "mesh3d": [
           {
            "colorbar": {
             "outlinewidth": 0,
             "ticks": ""
            },
            "type": "mesh3d"
           }
          ],
          "parcoords": [
           {
            "line": {
             "colorbar": {
              "outlinewidth": 0,
              "ticks": ""
             }
            },
            "type": "parcoords"
           }
          ],
          "pie": [
           {
            "automargin": true,
            "type": "pie"
           }
          ],
          "scatter": [
           {
            "fillpattern": {
             "fillmode": "overlay",
             "size": 10,
             "solidity": 0.2
            },
            "type": "scatter"
           }
          ],
          "scatter3d": [
           {
            "line": {
             "colorbar": {
              "outlinewidth": 0,
              "ticks": ""
             }
            },
            "marker": {
             "colorbar": {
              "outlinewidth": 0,
              "ticks": ""
             }
            },
            "type": "scatter3d"
           }
          ],
          "scattercarpet": [
           {
            "marker": {
             "colorbar": {
              "outlinewidth": 0,
              "ticks": ""
             }
            },
            "type": "scattercarpet"
           }
          ],
          "scattergeo": [
           {
            "marker": {
             "colorbar": {
              "outlinewidth": 0,
              "ticks": ""
             }
            },
            "type": "scattergeo"
           }
          ],
          "scattergl": [
           {
            "marker": {
             "colorbar": {
              "outlinewidth": 0,
              "ticks": ""
             }
            },
            "type": "scattergl"
           }
          ],
          "scattermapbox": [
           {
            "marker": {
             "colorbar": {
              "outlinewidth": 0,
              "ticks": ""
             }
            },
            "type": "scattermapbox"
           }
          ],
          "scatterpolar": [
           {
            "marker": {
             "colorbar": {
              "outlinewidth": 0,
              "ticks": ""
             }
            },
            "type": "scatterpolar"
           }
          ],
          "scatterpolargl": [
           {
            "marker": {
             "colorbar": {
              "outlinewidth": 0,
              "ticks": ""
             }
            },
            "type": "scatterpolargl"
           }
          ],
          "scatterternary": [
           {
            "marker": {
             "colorbar": {
              "outlinewidth": 0,
              "ticks": ""
             }
            },
            "type": "scatterternary"
           }
          ],
          "surface": [
           {
            "colorbar": {
             "outlinewidth": 0,
             "ticks": ""
            },
            "colorscale": [
             [
              0,
              "#0d0887"
             ],
             [
              0.1111111111111111,
              "#46039f"
             ],
             [
              0.2222222222222222,
              "#7201a8"
             ],
             [
              0.3333333333333333,
              "#9c179e"
             ],
             [
              0.4444444444444444,
              "#bd3786"
             ],
             [
              0.5555555555555556,
              "#d8576b"
             ],
             [
              0.6666666666666666,
              "#ed7953"
             ],
             [
              0.7777777777777778,
              "#fb9f3a"
             ],
             [
              0.8888888888888888,
              "#fdca26"
             ],
             [
              1,
              "#f0f921"
             ]
            ],
            "type": "surface"
           }
          ],
          "table": [
           {
            "cells": {
             "fill": {
              "color": "#EBF0F8"
             },
             "line": {
              "color": "white"
             }
            },
            "header": {
             "fill": {
              "color": "#C8D4E3"
             },
             "line": {
              "color": "white"
             }
            },
            "type": "table"
           }
          ]
         },
         "layout": {
          "annotationdefaults": {
           "arrowcolor": "#2a3f5f",
           "arrowhead": 0,
           "arrowwidth": 1
          },
          "autotypenumbers": "strict",
          "coloraxis": {
           "colorbar": {
            "outlinewidth": 0,
            "ticks": ""
           }
          },
          "colorscale": {
           "diverging": [
            [
             0,
             "#8e0152"
            ],
            [
             0.1,
             "#c51b7d"
            ],
            [
             0.2,
             "#de77ae"
            ],
            [
             0.3,
             "#f1b6da"
            ],
            [
             0.4,
             "#fde0ef"
            ],
            [
             0.5,
             "#f7f7f7"
            ],
            [
             0.6,
             "#e6f5d0"
            ],
            [
             0.7,
             "#b8e186"
            ],
            [
             0.8,
             "#7fbc41"
            ],
            [
             0.9,
             "#4d9221"
            ],
            [
             1,
             "#276419"
            ]
           ],
           "sequential": [
            [
             0,
             "#0d0887"
            ],
            [
             0.1111111111111111,
             "#46039f"
            ],
            [
             0.2222222222222222,
             "#7201a8"
            ],
            [
             0.3333333333333333,
             "#9c179e"
            ],
            [
             0.4444444444444444,
             "#bd3786"
            ],
            [
             0.5555555555555556,
             "#d8576b"
            ],
            [
             0.6666666666666666,
             "#ed7953"
            ],
            [
             0.7777777777777778,
             "#fb9f3a"
            ],
            [
             0.8888888888888888,
             "#fdca26"
            ],
            [
             1,
             "#f0f921"
            ]
           ],
           "sequentialminus": [
            [
             0,
             "#0d0887"
            ],
            [
             0.1111111111111111,
             "#46039f"
            ],
            [
             0.2222222222222222,
             "#7201a8"
            ],
            [
             0.3333333333333333,
             "#9c179e"
            ],
            [
             0.4444444444444444,
             "#bd3786"
            ],
            [
             0.5555555555555556,
             "#d8576b"
            ],
            [
             0.6666666666666666,
             "#ed7953"
            ],
            [
             0.7777777777777778,
             "#fb9f3a"
            ],
            [
             0.8888888888888888,
             "#fdca26"
            ],
            [
             1,
             "#f0f921"
            ]
           ]
          },
          "colorway": [
           "#636efa",
           "#EF553B",
           "#00cc96",
           "#ab63fa",
           "#FFA15A",
           "#19d3f3",
           "#FF6692",
           "#B6E880",
           "#FF97FF",
           "#FECB52"
          ],
          "font": {
           "color": "#2a3f5f"
          },
          "geo": {
           "bgcolor": "white",
           "lakecolor": "white",
           "landcolor": "#E5ECF6",
           "showlakes": true,
           "showland": true,
           "subunitcolor": "white"
          },
          "hoverlabel": {
           "align": "left"
          },
          "hovermode": "closest",
          "mapbox": {
           "style": "light"
          },
          "paper_bgcolor": "white",
          "plot_bgcolor": "#E5ECF6",
          "polar": {
           "angularaxis": {
            "gridcolor": "white",
            "linecolor": "white",
            "ticks": ""
           },
           "bgcolor": "#E5ECF6",
           "radialaxis": {
            "gridcolor": "white",
            "linecolor": "white",
            "ticks": ""
           }
          },
          "scene": {
           "xaxis": {
            "backgroundcolor": "#E5ECF6",
            "gridcolor": "white",
            "gridwidth": 2,
            "linecolor": "white",
            "showbackground": true,
            "ticks": "",
            "zerolinecolor": "white"
           },
           "yaxis": {
            "backgroundcolor": "#E5ECF6",
            "gridcolor": "white",
            "gridwidth": 2,
            "linecolor": "white",
            "showbackground": true,
            "ticks": "",
            "zerolinecolor": "white"
           },
           "zaxis": {
            "backgroundcolor": "#E5ECF6",
            "gridcolor": "white",
            "gridwidth": 2,
            "linecolor": "white",
            "showbackground": true,
            "ticks": "",
            "zerolinecolor": "white"
           }
          },
          "shapedefaults": {
           "line": {
            "color": "#2a3f5f"
           }
          },
          "ternary": {
           "aaxis": {
            "gridcolor": "white",
            "linecolor": "white",
            "ticks": ""
           },
           "baxis": {
            "gridcolor": "white",
            "linecolor": "white",
            "ticks": ""
           },
           "bgcolor": "#E5ECF6",
           "caxis": {
            "gridcolor": "white",
            "linecolor": "white",
            "ticks": ""
           }
          },
          "title": {
           "x": 0.05
          },
          "xaxis": {
           "automargin": true,
           "gridcolor": "white",
           "linecolor": "white",
           "ticks": "",
           "title": {
            "standoff": 15
           },
           "zerolinecolor": "white",
           "zerolinewidth": 2
          },
          "yaxis": {
           "automargin": true,
           "gridcolor": "white",
           "linecolor": "white",
           "ticks": "",
           "title": {
            "standoff": 15
           },
           "zerolinecolor": "white",
           "zerolinewidth": 2
          }
         }
        },
        "title": {
         "text": "Teve o Sintoma de Febre",
         "x": 0.5
        },
        "xaxis": {
         "anchor": "y",
         "domain": [
          0,
          1
         ],
         "dtick": 1,
         "tickmode": "linear",
         "title": {
          "text": "Grupos"
         }
        },
        "yaxis": {
         "anchor": "x",
         "domain": [
          0,
          1
         ],
         "title": {
          "text": "Quantidade"
         }
        }
       }
      }
     },
     "metadata": {},
     "output_type": "display_data"
    }
   ],
   "source": [
    "fPlotaGraficos(df_teve_febre, 'Teve o Sintoma de Febre')"
   ]
  },
  {
   "cell_type": "code",
   "execution_count": 47,
   "metadata": {},
   "outputs": [
    {
     "data": {
      "application/vnd.plotly.v1+json": {
       "config": {
        "plotlyServerURL": "https://plot.ly"
       },
       "data": [
        {
         "alignmentgroup": "True",
         "hovertemplate": "teve_tosse=Não<br>Grupos=%{x}<br>Quantidade=%{y}<extra></extra>",
         "legendgroup": "Não",
         "marker": {
          "color": "#636efa",
          "pattern": {
           "shape": ""
          }
         },
         "name": "Não",
         "offsetgroup": "Não",
         "orientation": "v",
         "showlegend": true,
         "textposition": "auto",
         "texttemplate": "%{y}",
         "type": "bar",
         "x": [
          0,
          1
         ],
         "xaxis": "x",
         "y": [
          32661,
          398
         ],
         "yaxis": "y"
        },
        {
         "alignmentgroup": "True",
         "hovertemplate": "teve_tosse=Sim<br>Grupos=%{x}<br>Quantidade=%{y}<extra></extra>",
         "legendgroup": "Sim",
         "marker": {
          "color": "#EF553B",
          "pattern": {
           "shape": ""
          }
         },
         "name": "Sim",
         "offsetgroup": "Sim",
         "orientation": "v",
         "showlegend": true,
         "textposition": "auto",
         "texttemplate": "%{y}",
         "type": "bar",
         "x": [
          0,
          1
         ],
         "xaxis": "x",
         "y": [
          576,
          1793
         ],
         "yaxis": "y"
        }
       ],
       "layout": {
        "autosize": false,
        "barmode": "group",
        "height": 700,
        "legend": {
         "title": {
          "text": "teve_tosse"
         },
         "tracegroupgap": 0
        },
        "template": {
         "data": {
          "bar": [
           {
            "error_x": {
             "color": "#2a3f5f"
            },
            "error_y": {
             "color": "#2a3f5f"
            },
            "marker": {
             "line": {
              "color": "#E5ECF6",
              "width": 0.5
             },
             "pattern": {
              "fillmode": "overlay",
              "size": 10,
              "solidity": 0.2
             }
            },
            "type": "bar"
           }
          ],
          "barpolar": [
           {
            "marker": {
             "line": {
              "color": "#E5ECF6",
              "width": 0.5
             },
             "pattern": {
              "fillmode": "overlay",
              "size": 10,
              "solidity": 0.2
             }
            },
            "type": "barpolar"
           }
          ],
          "carpet": [
           {
            "aaxis": {
             "endlinecolor": "#2a3f5f",
             "gridcolor": "white",
             "linecolor": "white",
             "minorgridcolor": "white",
             "startlinecolor": "#2a3f5f"
            },
            "baxis": {
             "endlinecolor": "#2a3f5f",
             "gridcolor": "white",
             "linecolor": "white",
             "minorgridcolor": "white",
             "startlinecolor": "#2a3f5f"
            },
            "type": "carpet"
           }
          ],
          "choropleth": [
           {
            "colorbar": {
             "outlinewidth": 0,
             "ticks": ""
            },
            "type": "choropleth"
           }
          ],
          "contour": [
           {
            "colorbar": {
             "outlinewidth": 0,
             "ticks": ""
            },
            "colorscale": [
             [
              0,
              "#0d0887"
             ],
             [
              0.1111111111111111,
              "#46039f"
             ],
             [
              0.2222222222222222,
              "#7201a8"
             ],
             [
              0.3333333333333333,
              "#9c179e"
             ],
             [
              0.4444444444444444,
              "#bd3786"
             ],
             [
              0.5555555555555556,
              "#d8576b"
             ],
             [
              0.6666666666666666,
              "#ed7953"
             ],
             [
              0.7777777777777778,
              "#fb9f3a"
             ],
             [
              0.8888888888888888,
              "#fdca26"
             ],
             [
              1,
              "#f0f921"
             ]
            ],
            "type": "contour"
           }
          ],
          "contourcarpet": [
           {
            "colorbar": {
             "outlinewidth": 0,
             "ticks": ""
            },
            "type": "contourcarpet"
           }
          ],
          "heatmap": [
           {
            "colorbar": {
             "outlinewidth": 0,
             "ticks": ""
            },
            "colorscale": [
             [
              0,
              "#0d0887"
             ],
             [
              0.1111111111111111,
              "#46039f"
             ],
             [
              0.2222222222222222,
              "#7201a8"
             ],
             [
              0.3333333333333333,
              "#9c179e"
             ],
             [
              0.4444444444444444,
              "#bd3786"
             ],
             [
              0.5555555555555556,
              "#d8576b"
             ],
             [
              0.6666666666666666,
              "#ed7953"
             ],
             [
              0.7777777777777778,
              "#fb9f3a"
             ],
             [
              0.8888888888888888,
              "#fdca26"
             ],
             [
              1,
              "#f0f921"
             ]
            ],
            "type": "heatmap"
           }
          ],
          "heatmapgl": [
           {
            "colorbar": {
             "outlinewidth": 0,
             "ticks": ""
            },
            "colorscale": [
             [
              0,
              "#0d0887"
             ],
             [
              0.1111111111111111,
              "#46039f"
             ],
             [
              0.2222222222222222,
              "#7201a8"
             ],
             [
              0.3333333333333333,
              "#9c179e"
             ],
             [
              0.4444444444444444,
              "#bd3786"
             ],
             [
              0.5555555555555556,
              "#d8576b"
             ],
             [
              0.6666666666666666,
              "#ed7953"
             ],
             [
              0.7777777777777778,
              "#fb9f3a"
             ],
             [
              0.8888888888888888,
              "#fdca26"
             ],
             [
              1,
              "#f0f921"
             ]
            ],
            "type": "heatmapgl"
           }
          ],
          "histogram": [
           {
            "marker": {
             "pattern": {
              "fillmode": "overlay",
              "size": 10,
              "solidity": 0.2
             }
            },
            "type": "histogram"
           }
          ],
          "histogram2d": [
           {
            "colorbar": {
             "outlinewidth": 0,
             "ticks": ""
            },
            "colorscale": [
             [
              0,
              "#0d0887"
             ],
             [
              0.1111111111111111,
              "#46039f"
             ],
             [
              0.2222222222222222,
              "#7201a8"
             ],
             [
              0.3333333333333333,
              "#9c179e"
             ],
             [
              0.4444444444444444,
              "#bd3786"
             ],
             [
              0.5555555555555556,
              "#d8576b"
             ],
             [
              0.6666666666666666,
              "#ed7953"
             ],
             [
              0.7777777777777778,
              "#fb9f3a"
             ],
             [
              0.8888888888888888,
              "#fdca26"
             ],
             [
              1,
              "#f0f921"
             ]
            ],
            "type": "histogram2d"
           }
          ],
          "histogram2dcontour": [
           {
            "colorbar": {
             "outlinewidth": 0,
             "ticks": ""
            },
            "colorscale": [
             [
              0,
              "#0d0887"
             ],
             [
              0.1111111111111111,
              "#46039f"
             ],
             [
              0.2222222222222222,
              "#7201a8"
             ],
             [
              0.3333333333333333,
              "#9c179e"
             ],
             [
              0.4444444444444444,
              "#bd3786"
             ],
             [
              0.5555555555555556,
              "#d8576b"
             ],
             [
              0.6666666666666666,
              "#ed7953"
             ],
             [
              0.7777777777777778,
              "#fb9f3a"
             ],
             [
              0.8888888888888888,
              "#fdca26"
             ],
             [
              1,
              "#f0f921"
             ]
            ],
            "type": "histogram2dcontour"
           }
          ],
          "mesh3d": [
           {
            "colorbar": {
             "outlinewidth": 0,
             "ticks": ""
            },
            "type": "mesh3d"
           }
          ],
          "parcoords": [
           {
            "line": {
             "colorbar": {
              "outlinewidth": 0,
              "ticks": ""
             }
            },
            "type": "parcoords"
           }
          ],
          "pie": [
           {
            "automargin": true,
            "type": "pie"
           }
          ],
          "scatter": [
           {
            "fillpattern": {
             "fillmode": "overlay",
             "size": 10,
             "solidity": 0.2
            },
            "type": "scatter"
           }
          ],
          "scatter3d": [
           {
            "line": {
             "colorbar": {
              "outlinewidth": 0,
              "ticks": ""
             }
            },
            "marker": {
             "colorbar": {
              "outlinewidth": 0,
              "ticks": ""
             }
            },
            "type": "scatter3d"
           }
          ],
          "scattercarpet": [
           {
            "marker": {
             "colorbar": {
              "outlinewidth": 0,
              "ticks": ""
             }
            },
            "type": "scattercarpet"
           }
          ],
          "scattergeo": [
           {
            "marker": {
             "colorbar": {
              "outlinewidth": 0,
              "ticks": ""
             }
            },
            "type": "scattergeo"
           }
          ],
          "scattergl": [
           {
            "marker": {
             "colorbar": {
              "outlinewidth": 0,
              "ticks": ""
             }
            },
            "type": "scattergl"
           }
          ],
          "scattermapbox": [
           {
            "marker": {
             "colorbar": {
              "outlinewidth": 0,
              "ticks": ""
             }
            },
            "type": "scattermapbox"
           }
          ],
          "scatterpolar": [
           {
            "marker": {
             "colorbar": {
              "outlinewidth": 0,
              "ticks": ""
             }
            },
            "type": "scatterpolar"
           }
          ],
          "scatterpolargl": [
           {
            "marker": {
             "colorbar": {
              "outlinewidth": 0,
              "ticks": ""
             }
            },
            "type": "scatterpolargl"
           }
          ],
          "scatterternary": [
           {
            "marker": {
             "colorbar": {
              "outlinewidth": 0,
              "ticks": ""
             }
            },
            "type": "scatterternary"
           }
          ],
          "surface": [
           {
            "colorbar": {
             "outlinewidth": 0,
             "ticks": ""
            },
            "colorscale": [
             [
              0,
              "#0d0887"
             ],
             [
              0.1111111111111111,
              "#46039f"
             ],
             [
              0.2222222222222222,
              "#7201a8"
             ],
             [
              0.3333333333333333,
              "#9c179e"
             ],
             [
              0.4444444444444444,
              "#bd3786"
             ],
             [
              0.5555555555555556,
              "#d8576b"
             ],
             [
              0.6666666666666666,
              "#ed7953"
             ],
             [
              0.7777777777777778,
              "#fb9f3a"
             ],
             [
              0.8888888888888888,
              "#fdca26"
             ],
             [
              1,
              "#f0f921"
             ]
            ],
            "type": "surface"
           }
          ],
          "table": [
           {
            "cells": {
             "fill": {
              "color": "#EBF0F8"
             },
             "line": {
              "color": "white"
             }
            },
            "header": {
             "fill": {
              "color": "#C8D4E3"
             },
             "line": {
              "color": "white"
             }
            },
            "type": "table"
           }
          ]
         },
         "layout": {
          "annotationdefaults": {
           "arrowcolor": "#2a3f5f",
           "arrowhead": 0,
           "arrowwidth": 1
          },
          "autotypenumbers": "strict",
          "coloraxis": {
           "colorbar": {
            "outlinewidth": 0,
            "ticks": ""
           }
          },
          "colorscale": {
           "diverging": [
            [
             0,
             "#8e0152"
            ],
            [
             0.1,
             "#c51b7d"
            ],
            [
             0.2,
             "#de77ae"
            ],
            [
             0.3,
             "#f1b6da"
            ],
            [
             0.4,
             "#fde0ef"
            ],
            [
             0.5,
             "#f7f7f7"
            ],
            [
             0.6,
             "#e6f5d0"
            ],
            [
             0.7,
             "#b8e186"
            ],
            [
             0.8,
             "#7fbc41"
            ],
            [
             0.9,
             "#4d9221"
            ],
            [
             1,
             "#276419"
            ]
           ],
           "sequential": [
            [
             0,
             "#0d0887"
            ],
            [
             0.1111111111111111,
             "#46039f"
            ],
            [
             0.2222222222222222,
             "#7201a8"
            ],
            [
             0.3333333333333333,
             "#9c179e"
            ],
            [
             0.4444444444444444,
             "#bd3786"
            ],
            [
             0.5555555555555556,
             "#d8576b"
            ],
            [
             0.6666666666666666,
             "#ed7953"
            ],
            [
             0.7777777777777778,
             "#fb9f3a"
            ],
            [
             0.8888888888888888,
             "#fdca26"
            ],
            [
             1,
             "#f0f921"
            ]
           ],
           "sequentialminus": [
            [
             0,
             "#0d0887"
            ],
            [
             0.1111111111111111,
             "#46039f"
            ],
            [
             0.2222222222222222,
             "#7201a8"
            ],
            [
             0.3333333333333333,
             "#9c179e"
            ],
            [
             0.4444444444444444,
             "#bd3786"
            ],
            [
             0.5555555555555556,
             "#d8576b"
            ],
            [
             0.6666666666666666,
             "#ed7953"
            ],
            [
             0.7777777777777778,
             "#fb9f3a"
            ],
            [
             0.8888888888888888,
             "#fdca26"
            ],
            [
             1,
             "#f0f921"
            ]
           ]
          },
          "colorway": [
           "#636efa",
           "#EF553B",
           "#00cc96",
           "#ab63fa",
           "#FFA15A",
           "#19d3f3",
           "#FF6692",
           "#B6E880",
           "#FF97FF",
           "#FECB52"
          ],
          "font": {
           "color": "#2a3f5f"
          },
          "geo": {
           "bgcolor": "white",
           "lakecolor": "white",
           "landcolor": "#E5ECF6",
           "showlakes": true,
           "showland": true,
           "subunitcolor": "white"
          },
          "hoverlabel": {
           "align": "left"
          },
          "hovermode": "closest",
          "mapbox": {
           "style": "light"
          },
          "paper_bgcolor": "white",
          "plot_bgcolor": "#E5ECF6",
          "polar": {
           "angularaxis": {
            "gridcolor": "white",
            "linecolor": "white",
            "ticks": ""
           },
           "bgcolor": "#E5ECF6",
           "radialaxis": {
            "gridcolor": "white",
            "linecolor": "white",
            "ticks": ""
           }
          },
          "scene": {
           "xaxis": {
            "backgroundcolor": "#E5ECF6",
            "gridcolor": "white",
            "gridwidth": 2,
            "linecolor": "white",
            "showbackground": true,
            "ticks": "",
            "zerolinecolor": "white"
           },
           "yaxis": {
            "backgroundcolor": "#E5ECF6",
            "gridcolor": "white",
            "gridwidth": 2,
            "linecolor": "white",
            "showbackground": true,
            "ticks": "",
            "zerolinecolor": "white"
           },
           "zaxis": {
            "backgroundcolor": "#E5ECF6",
            "gridcolor": "white",
            "gridwidth": 2,
            "linecolor": "white",
            "showbackground": true,
            "ticks": "",
            "zerolinecolor": "white"
           }
          },
          "shapedefaults": {
           "line": {
            "color": "#2a3f5f"
           }
          },
          "ternary": {
           "aaxis": {
            "gridcolor": "white",
            "linecolor": "white",
            "ticks": ""
           },
           "baxis": {
            "gridcolor": "white",
            "linecolor": "white",
            "ticks": ""
           },
           "bgcolor": "#E5ECF6",
           "caxis": {
            "gridcolor": "white",
            "linecolor": "white",
            "ticks": ""
           }
          },
          "title": {
           "x": 0.05
          },
          "xaxis": {
           "automargin": true,
           "gridcolor": "white",
           "linecolor": "white",
           "ticks": "",
           "title": {
            "standoff": 15
           },
           "zerolinecolor": "white",
           "zerolinewidth": 2
          },
          "yaxis": {
           "automargin": true,
           "gridcolor": "white",
           "linecolor": "white",
           "ticks": "",
           "title": {
            "standoff": 15
           },
           "zerolinecolor": "white",
           "zerolinewidth": 2
          }
         }
        },
        "title": {
         "text": "Teve o Sintoma de Tosse",
         "x": 0.5
        },
        "xaxis": {
         "anchor": "y",
         "domain": [
          0,
          1
         ],
         "dtick": 1,
         "tickmode": "linear",
         "title": {
          "text": "Grupos"
         }
        },
        "yaxis": {
         "anchor": "x",
         "domain": [
          0,
          1
         ],
         "title": {
          "text": "Quantidade"
         }
        }
       }
      }
     },
     "metadata": {},
     "output_type": "display_data"
    }
   ],
   "source": [
    "fPlotaGraficos(df_teve_tosse, 'Teve o Sintoma de Tosse')"
   ]
  },
  {
   "cell_type": "code",
   "execution_count": 48,
   "metadata": {},
   "outputs": [
    {
     "data": {
      "application/vnd.plotly.v1+json": {
       "config": {
        "plotlyServerURL": "https://plot.ly"
       },
       "data": [
        {
         "alignmentgroup": "True",
         "hovertemplate": "teve_dor_garganta=Não<br>Grupos=%{x}<br>Quantidade=%{y}<extra></extra>",
         "legendgroup": "Não",
         "marker": {
          "color": "#636efa",
          "pattern": {
           "shape": ""
          }
         },
         "name": "Não",
         "offsetgroup": "Não",
         "orientation": "v",
         "showlegend": true,
         "textposition": "auto",
         "texttemplate": "%{y}",
         "type": "bar",
         "x": [
          0,
          1
         ],
         "xaxis": "x",
         "y": [
          32810,
          589
         ],
         "yaxis": "y"
        },
        {
         "alignmentgroup": "True",
         "hovertemplate": "teve_dor_garganta=Sim<br>Grupos=%{x}<br>Quantidade=%{y}<extra></extra>",
         "legendgroup": "Sim",
         "marker": {
          "color": "#EF553B",
          "pattern": {
           "shape": ""
          }
         },
         "name": "Sim",
         "offsetgroup": "Sim",
         "orientation": "v",
         "showlegend": true,
         "textposition": "auto",
         "texttemplate": "%{y}",
         "type": "bar",
         "x": [
          0,
          1
         ],
         "xaxis": "x",
         "y": [
          427,
          1602
         ],
         "yaxis": "y"
        }
       ],
       "layout": {
        "autosize": false,
        "barmode": "group",
        "height": 700,
        "legend": {
         "title": {
          "text": "teve_dor_garganta"
         },
         "tracegroupgap": 0
        },
        "template": {
         "data": {
          "bar": [
           {
            "error_x": {
             "color": "#2a3f5f"
            },
            "error_y": {
             "color": "#2a3f5f"
            },
            "marker": {
             "line": {
              "color": "#E5ECF6",
              "width": 0.5
             },
             "pattern": {
              "fillmode": "overlay",
              "size": 10,
              "solidity": 0.2
             }
            },
            "type": "bar"
           }
          ],
          "barpolar": [
           {
            "marker": {
             "line": {
              "color": "#E5ECF6",
              "width": 0.5
             },
             "pattern": {
              "fillmode": "overlay",
              "size": 10,
              "solidity": 0.2
             }
            },
            "type": "barpolar"
           }
          ],
          "carpet": [
           {
            "aaxis": {
             "endlinecolor": "#2a3f5f",
             "gridcolor": "white",
             "linecolor": "white",
             "minorgridcolor": "white",
             "startlinecolor": "#2a3f5f"
            },
            "baxis": {
             "endlinecolor": "#2a3f5f",
             "gridcolor": "white",
             "linecolor": "white",
             "minorgridcolor": "white",
             "startlinecolor": "#2a3f5f"
            },
            "type": "carpet"
           }
          ],
          "choropleth": [
           {
            "colorbar": {
             "outlinewidth": 0,
             "ticks": ""
            },
            "type": "choropleth"
           }
          ],
          "contour": [
           {
            "colorbar": {
             "outlinewidth": 0,
             "ticks": ""
            },
            "colorscale": [
             [
              0,
              "#0d0887"
             ],
             [
              0.1111111111111111,
              "#46039f"
             ],
             [
              0.2222222222222222,
              "#7201a8"
             ],
             [
              0.3333333333333333,
              "#9c179e"
             ],
             [
              0.4444444444444444,
              "#bd3786"
             ],
             [
              0.5555555555555556,
              "#d8576b"
             ],
             [
              0.6666666666666666,
              "#ed7953"
             ],
             [
              0.7777777777777778,
              "#fb9f3a"
             ],
             [
              0.8888888888888888,
              "#fdca26"
             ],
             [
              1,
              "#f0f921"
             ]
            ],
            "type": "contour"
           }
          ],
          "contourcarpet": [
           {
            "colorbar": {
             "outlinewidth": 0,
             "ticks": ""
            },
            "type": "contourcarpet"
           }
          ],
          "heatmap": [
           {
            "colorbar": {
             "outlinewidth": 0,
             "ticks": ""
            },
            "colorscale": [
             [
              0,
              "#0d0887"
             ],
             [
              0.1111111111111111,
              "#46039f"
             ],
             [
              0.2222222222222222,
              "#7201a8"
             ],
             [
              0.3333333333333333,
              "#9c179e"
             ],
             [
              0.4444444444444444,
              "#bd3786"
             ],
             [
              0.5555555555555556,
              "#d8576b"
             ],
             [
              0.6666666666666666,
              "#ed7953"
             ],
             [
              0.7777777777777778,
              "#fb9f3a"
             ],
             [
              0.8888888888888888,
              "#fdca26"
             ],
             [
              1,
              "#f0f921"
             ]
            ],
            "type": "heatmap"
           }
          ],
          "heatmapgl": [
           {
            "colorbar": {
             "outlinewidth": 0,
             "ticks": ""
            },
            "colorscale": [
             [
              0,
              "#0d0887"
             ],
             [
              0.1111111111111111,
              "#46039f"
             ],
             [
              0.2222222222222222,
              "#7201a8"
             ],
             [
              0.3333333333333333,
              "#9c179e"
             ],
             [
              0.4444444444444444,
              "#bd3786"
             ],
             [
              0.5555555555555556,
              "#d8576b"
             ],
             [
              0.6666666666666666,
              "#ed7953"
             ],
             [
              0.7777777777777778,
              "#fb9f3a"
             ],
             [
              0.8888888888888888,
              "#fdca26"
             ],
             [
              1,
              "#f0f921"
             ]
            ],
            "type": "heatmapgl"
           }
          ],
          "histogram": [
           {
            "marker": {
             "pattern": {
              "fillmode": "overlay",
              "size": 10,
              "solidity": 0.2
             }
            },
            "type": "histogram"
           }
          ],
          "histogram2d": [
           {
            "colorbar": {
             "outlinewidth": 0,
             "ticks": ""
            },
            "colorscale": [
             [
              0,
              "#0d0887"
             ],
             [
              0.1111111111111111,
              "#46039f"
             ],
             [
              0.2222222222222222,
              "#7201a8"
             ],
             [
              0.3333333333333333,
              "#9c179e"
             ],
             [
              0.4444444444444444,
              "#bd3786"
             ],
             [
              0.5555555555555556,
              "#d8576b"
             ],
             [
              0.6666666666666666,
              "#ed7953"
             ],
             [
              0.7777777777777778,
              "#fb9f3a"
             ],
             [
              0.8888888888888888,
              "#fdca26"
             ],
             [
              1,
              "#f0f921"
             ]
            ],
            "type": "histogram2d"
           }
          ],
          "histogram2dcontour": [
           {
            "colorbar": {
             "outlinewidth": 0,
             "ticks": ""
            },
            "colorscale": [
             [
              0,
              "#0d0887"
             ],
             [
              0.1111111111111111,
              "#46039f"
             ],
             [
              0.2222222222222222,
              "#7201a8"
             ],
             [
              0.3333333333333333,
              "#9c179e"
             ],
             [
              0.4444444444444444,
              "#bd3786"
             ],
             [
              0.5555555555555556,
              "#d8576b"
             ],
             [
              0.6666666666666666,
              "#ed7953"
             ],
             [
              0.7777777777777778,
              "#fb9f3a"
             ],
             [
              0.8888888888888888,
              "#fdca26"
             ],
             [
              1,
              "#f0f921"
             ]
            ],
            "type": "histogram2dcontour"
           }
          ],
          "mesh3d": [
           {
            "colorbar": {
             "outlinewidth": 0,
             "ticks": ""
            },
            "type": "mesh3d"
           }
          ],
          "parcoords": [
           {
            "line": {
             "colorbar": {
              "outlinewidth": 0,
              "ticks": ""
             }
            },
            "type": "parcoords"
           }
          ],
          "pie": [
           {
            "automargin": true,
            "type": "pie"
           }
          ],
          "scatter": [
           {
            "fillpattern": {
             "fillmode": "overlay",
             "size": 10,
             "solidity": 0.2
            },
            "type": "scatter"
           }
          ],
          "scatter3d": [
           {
            "line": {
             "colorbar": {
              "outlinewidth": 0,
              "ticks": ""
             }
            },
            "marker": {
             "colorbar": {
              "outlinewidth": 0,
              "ticks": ""
             }
            },
            "type": "scatter3d"
           }
          ],
          "scattercarpet": [
           {
            "marker": {
             "colorbar": {
              "outlinewidth": 0,
              "ticks": ""
             }
            },
            "type": "scattercarpet"
           }
          ],
          "scattergeo": [
           {
            "marker": {
             "colorbar": {
              "outlinewidth": 0,
              "ticks": ""
             }
            },
            "type": "scattergeo"
           }
          ],
          "scattergl": [
           {
            "marker": {
             "colorbar": {
              "outlinewidth": 0,
              "ticks": ""
             }
            },
            "type": "scattergl"
           }
          ],
          "scattermapbox": [
           {
            "marker": {
             "colorbar": {
              "outlinewidth": 0,
              "ticks": ""
             }
            },
            "type": "scattermapbox"
           }
          ],
          "scatterpolar": [
           {
            "marker": {
             "colorbar": {
              "outlinewidth": 0,
              "ticks": ""
             }
            },
            "type": "scatterpolar"
           }
          ],
          "scatterpolargl": [
           {
            "marker": {
             "colorbar": {
              "outlinewidth": 0,
              "ticks": ""
             }
            },
            "type": "scatterpolargl"
           }
          ],
          "scatterternary": [
           {
            "marker": {
             "colorbar": {
              "outlinewidth": 0,
              "ticks": ""
             }
            },
            "type": "scatterternary"
           }
          ],
          "surface": [
           {
            "colorbar": {
             "outlinewidth": 0,
             "ticks": ""
            },
            "colorscale": [
             [
              0,
              "#0d0887"
             ],
             [
              0.1111111111111111,
              "#46039f"
             ],
             [
              0.2222222222222222,
              "#7201a8"
             ],
             [
              0.3333333333333333,
              "#9c179e"
             ],
             [
              0.4444444444444444,
              "#bd3786"
             ],
             [
              0.5555555555555556,
              "#d8576b"
             ],
             [
              0.6666666666666666,
              "#ed7953"
             ],
             [
              0.7777777777777778,
              "#fb9f3a"
             ],
             [
              0.8888888888888888,
              "#fdca26"
             ],
             [
              1,
              "#f0f921"
             ]
            ],
            "type": "surface"
           }
          ],
          "table": [
           {
            "cells": {
             "fill": {
              "color": "#EBF0F8"
             },
             "line": {
              "color": "white"
             }
            },
            "header": {
             "fill": {
              "color": "#C8D4E3"
             },
             "line": {
              "color": "white"
             }
            },
            "type": "table"
           }
          ]
         },
         "layout": {
          "annotationdefaults": {
           "arrowcolor": "#2a3f5f",
           "arrowhead": 0,
           "arrowwidth": 1
          },
          "autotypenumbers": "strict",
          "coloraxis": {
           "colorbar": {
            "outlinewidth": 0,
            "ticks": ""
           }
          },
          "colorscale": {
           "diverging": [
            [
             0,
             "#8e0152"
            ],
            [
             0.1,
             "#c51b7d"
            ],
            [
             0.2,
             "#de77ae"
            ],
            [
             0.3,
             "#f1b6da"
            ],
            [
             0.4,
             "#fde0ef"
            ],
            [
             0.5,
             "#f7f7f7"
            ],
            [
             0.6,
             "#e6f5d0"
            ],
            [
             0.7,
             "#b8e186"
            ],
            [
             0.8,
             "#7fbc41"
            ],
            [
             0.9,
             "#4d9221"
            ],
            [
             1,
             "#276419"
            ]
           ],
           "sequential": [
            [
             0,
             "#0d0887"
            ],
            [
             0.1111111111111111,
             "#46039f"
            ],
            [
             0.2222222222222222,
             "#7201a8"
            ],
            [
             0.3333333333333333,
             "#9c179e"
            ],
            [
             0.4444444444444444,
             "#bd3786"
            ],
            [
             0.5555555555555556,
             "#d8576b"
            ],
            [
             0.6666666666666666,
             "#ed7953"
            ],
            [
             0.7777777777777778,
             "#fb9f3a"
            ],
            [
             0.8888888888888888,
             "#fdca26"
            ],
            [
             1,
             "#f0f921"
            ]
           ],
           "sequentialminus": [
            [
             0,
             "#0d0887"
            ],
            [
             0.1111111111111111,
             "#46039f"
            ],
            [
             0.2222222222222222,
             "#7201a8"
            ],
            [
             0.3333333333333333,
             "#9c179e"
            ],
            [
             0.4444444444444444,
             "#bd3786"
            ],
            [
             0.5555555555555556,
             "#d8576b"
            ],
            [
             0.6666666666666666,
             "#ed7953"
            ],
            [
             0.7777777777777778,
             "#fb9f3a"
            ],
            [
             0.8888888888888888,
             "#fdca26"
            ],
            [
             1,
             "#f0f921"
            ]
           ]
          },
          "colorway": [
           "#636efa",
           "#EF553B",
           "#00cc96",
           "#ab63fa",
           "#FFA15A",
           "#19d3f3",
           "#FF6692",
           "#B6E880",
           "#FF97FF",
           "#FECB52"
          ],
          "font": {
           "color": "#2a3f5f"
          },
          "geo": {
           "bgcolor": "white",
           "lakecolor": "white",
           "landcolor": "#E5ECF6",
           "showlakes": true,
           "showland": true,
           "subunitcolor": "white"
          },
          "hoverlabel": {
           "align": "left"
          },
          "hovermode": "closest",
          "mapbox": {
           "style": "light"
          },
          "paper_bgcolor": "white",
          "plot_bgcolor": "#E5ECF6",
          "polar": {
           "angularaxis": {
            "gridcolor": "white",
            "linecolor": "white",
            "ticks": ""
           },
           "bgcolor": "#E5ECF6",
           "radialaxis": {
            "gridcolor": "white",
            "linecolor": "white",
            "ticks": ""
           }
          },
          "scene": {
           "xaxis": {
            "backgroundcolor": "#E5ECF6",
            "gridcolor": "white",
            "gridwidth": 2,
            "linecolor": "white",
            "showbackground": true,
            "ticks": "",
            "zerolinecolor": "white"
           },
           "yaxis": {
            "backgroundcolor": "#E5ECF6",
            "gridcolor": "white",
            "gridwidth": 2,
            "linecolor": "white",
            "showbackground": true,
            "ticks": "",
            "zerolinecolor": "white"
           },
           "zaxis": {
            "backgroundcolor": "#E5ECF6",
            "gridcolor": "white",
            "gridwidth": 2,
            "linecolor": "white",
            "showbackground": true,
            "ticks": "",
            "zerolinecolor": "white"
           }
          },
          "shapedefaults": {
           "line": {
            "color": "#2a3f5f"
           }
          },
          "ternary": {
           "aaxis": {
            "gridcolor": "white",
            "linecolor": "white",
            "ticks": ""
           },
           "baxis": {
            "gridcolor": "white",
            "linecolor": "white",
            "ticks": ""
           },
           "bgcolor": "#E5ECF6",
           "caxis": {
            "gridcolor": "white",
            "linecolor": "white",
            "ticks": ""
           }
          },
          "title": {
           "x": 0.05
          },
          "xaxis": {
           "automargin": true,
           "gridcolor": "white",
           "linecolor": "white",
           "ticks": "",
           "title": {
            "standoff": 15
           },
           "zerolinecolor": "white",
           "zerolinewidth": 2
          },
          "yaxis": {
           "automargin": true,
           "gridcolor": "white",
           "linecolor": "white",
           "ticks": "",
           "title": {
            "standoff": 15
           },
           "zerolinecolor": "white",
           "zerolinewidth": 2
          }
         }
        },
        "title": {
         "text": "Teve o Sintoma de Dor de Garganta",
         "x": 0.5
        },
        "xaxis": {
         "anchor": "y",
         "domain": [
          0,
          1
         ],
         "dtick": 1,
         "tickmode": "linear",
         "title": {
          "text": "Grupos"
         }
        },
        "yaxis": {
         "anchor": "x",
         "domain": [
          0,
          1
         ],
         "title": {
          "text": "Quantidade"
         }
        }
       }
      }
     },
     "metadata": {},
     "output_type": "display_data"
    }
   ],
   "source": [
    "fPlotaGraficos(df_teve_dor_garganta, 'Teve o Sintoma de Dor de Garganta')"
   ]
  },
  {
   "cell_type": "code",
   "execution_count": 49,
   "metadata": {},
   "outputs": [
    {
     "data": {
      "application/vnd.plotly.v1+json": {
       "config": {
        "plotlyServerURL": "https://plot.ly"
       },
       "data": [
        {
         "alignmentgroup": "True",
         "hovertemplate": "teve_dificuldade_respirar=Não<br>Grupos=%{x}<br>Quantidade=%{y}<extra></extra>",
         "legendgroup": "Não",
         "marker": {
          "color": "#636efa",
          "pattern": {
           "shape": ""
          }
         },
         "name": "Não",
         "offsetgroup": "Não",
         "orientation": "v",
         "showlegend": true,
         "textposition": "auto",
         "texttemplate": "%{y}",
         "type": "bar",
         "x": [
          0,
          1
         ],
         "xaxis": "x",
         "y": [
          33040,
          1094
         ],
         "yaxis": "y"
        },
        {
         "alignmentgroup": "True",
         "hovertemplate": "teve_dificuldade_respirar=Sim<br>Grupos=%{x}<br>Quantidade=%{y}<extra></extra>",
         "legendgroup": "Sim",
         "marker": {
          "color": "#EF553B",
          "pattern": {
           "shape": ""
          }
         },
         "name": "Sim",
         "offsetgroup": "Sim",
         "orientation": "v",
         "showlegend": true,
         "textposition": "auto",
         "texttemplate": "%{y}",
         "type": "bar",
         "x": [
          0,
          1
         ],
         "xaxis": "x",
         "y": [
          197,
          1097
         ],
         "yaxis": "y"
        }
       ],
       "layout": {
        "autosize": false,
        "barmode": "group",
        "height": 700,
        "legend": {
         "title": {
          "text": "teve_dificuldade_respirar"
         },
         "tracegroupgap": 0
        },
        "template": {
         "data": {
          "bar": [
           {
            "error_x": {
             "color": "#2a3f5f"
            },
            "error_y": {
             "color": "#2a3f5f"
            },
            "marker": {
             "line": {
              "color": "#E5ECF6",
              "width": 0.5
             },
             "pattern": {
              "fillmode": "overlay",
              "size": 10,
              "solidity": 0.2
             }
            },
            "type": "bar"
           }
          ],
          "barpolar": [
           {
            "marker": {
             "line": {
              "color": "#E5ECF6",
              "width": 0.5
             },
             "pattern": {
              "fillmode": "overlay",
              "size": 10,
              "solidity": 0.2
             }
            },
            "type": "barpolar"
           }
          ],
          "carpet": [
           {
            "aaxis": {
             "endlinecolor": "#2a3f5f",
             "gridcolor": "white",
             "linecolor": "white",
             "minorgridcolor": "white",
             "startlinecolor": "#2a3f5f"
            },
            "baxis": {
             "endlinecolor": "#2a3f5f",
             "gridcolor": "white",
             "linecolor": "white",
             "minorgridcolor": "white",
             "startlinecolor": "#2a3f5f"
            },
            "type": "carpet"
           }
          ],
          "choropleth": [
           {
            "colorbar": {
             "outlinewidth": 0,
             "ticks": ""
            },
            "type": "choropleth"
           }
          ],
          "contour": [
           {
            "colorbar": {
             "outlinewidth": 0,
             "ticks": ""
            },
            "colorscale": [
             [
              0,
              "#0d0887"
             ],
             [
              0.1111111111111111,
              "#46039f"
             ],
             [
              0.2222222222222222,
              "#7201a8"
             ],
             [
              0.3333333333333333,
              "#9c179e"
             ],
             [
              0.4444444444444444,
              "#bd3786"
             ],
             [
              0.5555555555555556,
              "#d8576b"
             ],
             [
              0.6666666666666666,
              "#ed7953"
             ],
             [
              0.7777777777777778,
              "#fb9f3a"
             ],
             [
              0.8888888888888888,
              "#fdca26"
             ],
             [
              1,
              "#f0f921"
             ]
            ],
            "type": "contour"
           }
          ],
          "contourcarpet": [
           {
            "colorbar": {
             "outlinewidth": 0,
             "ticks": ""
            },
            "type": "contourcarpet"
           }
          ],
          "heatmap": [
           {
            "colorbar": {
             "outlinewidth": 0,
             "ticks": ""
            },
            "colorscale": [
             [
              0,
              "#0d0887"
             ],
             [
              0.1111111111111111,
              "#46039f"
             ],
             [
              0.2222222222222222,
              "#7201a8"
             ],
             [
              0.3333333333333333,
              "#9c179e"
             ],
             [
              0.4444444444444444,
              "#bd3786"
             ],
             [
              0.5555555555555556,
              "#d8576b"
             ],
             [
              0.6666666666666666,
              "#ed7953"
             ],
             [
              0.7777777777777778,
              "#fb9f3a"
             ],
             [
              0.8888888888888888,
              "#fdca26"
             ],
             [
              1,
              "#f0f921"
             ]
            ],
            "type": "heatmap"
           }
          ],
          "heatmapgl": [
           {
            "colorbar": {
             "outlinewidth": 0,
             "ticks": ""
            },
            "colorscale": [
             [
              0,
              "#0d0887"
             ],
             [
              0.1111111111111111,
              "#46039f"
             ],
             [
              0.2222222222222222,
              "#7201a8"
             ],
             [
              0.3333333333333333,
              "#9c179e"
             ],
             [
              0.4444444444444444,
              "#bd3786"
             ],
             [
              0.5555555555555556,
              "#d8576b"
             ],
             [
              0.6666666666666666,
              "#ed7953"
             ],
             [
              0.7777777777777778,
              "#fb9f3a"
             ],
             [
              0.8888888888888888,
              "#fdca26"
             ],
             [
              1,
              "#f0f921"
             ]
            ],
            "type": "heatmapgl"
           }
          ],
          "histogram": [
           {
            "marker": {
             "pattern": {
              "fillmode": "overlay",
              "size": 10,
              "solidity": 0.2
             }
            },
            "type": "histogram"
           }
          ],
          "histogram2d": [
           {
            "colorbar": {
             "outlinewidth": 0,
             "ticks": ""
            },
            "colorscale": [
             [
              0,
              "#0d0887"
             ],
             [
              0.1111111111111111,
              "#46039f"
             ],
             [
              0.2222222222222222,
              "#7201a8"
             ],
             [
              0.3333333333333333,
              "#9c179e"
             ],
             [
              0.4444444444444444,
              "#bd3786"
             ],
             [
              0.5555555555555556,
              "#d8576b"
             ],
             [
              0.6666666666666666,
              "#ed7953"
             ],
             [
              0.7777777777777778,
              "#fb9f3a"
             ],
             [
              0.8888888888888888,
              "#fdca26"
             ],
             [
              1,
              "#f0f921"
             ]
            ],
            "type": "histogram2d"
           }
          ],
          "histogram2dcontour": [
           {
            "colorbar": {
             "outlinewidth": 0,
             "ticks": ""
            },
            "colorscale": [
             [
              0,
              "#0d0887"
             ],
             [
              0.1111111111111111,
              "#46039f"
             ],
             [
              0.2222222222222222,
              "#7201a8"
             ],
             [
              0.3333333333333333,
              "#9c179e"
             ],
             [
              0.4444444444444444,
              "#bd3786"
             ],
             [
              0.5555555555555556,
              "#d8576b"
             ],
             [
              0.6666666666666666,
              "#ed7953"
             ],
             [
              0.7777777777777778,
              "#fb9f3a"
             ],
             [
              0.8888888888888888,
              "#fdca26"
             ],
             [
              1,
              "#f0f921"
             ]
            ],
            "type": "histogram2dcontour"
           }
          ],
          "mesh3d": [
           {
            "colorbar": {
             "outlinewidth": 0,
             "ticks": ""
            },
            "type": "mesh3d"
           }
          ],
          "parcoords": [
           {
            "line": {
             "colorbar": {
              "outlinewidth": 0,
              "ticks": ""
             }
            },
            "type": "parcoords"
           }
          ],
          "pie": [
           {
            "automargin": true,
            "type": "pie"
           }
          ],
          "scatter": [
           {
            "fillpattern": {
             "fillmode": "overlay",
             "size": 10,
             "solidity": 0.2
            },
            "type": "scatter"
           }
          ],
          "scatter3d": [
           {
            "line": {
             "colorbar": {
              "outlinewidth": 0,
              "ticks": ""
             }
            },
            "marker": {
             "colorbar": {
              "outlinewidth": 0,
              "ticks": ""
             }
            },
            "type": "scatter3d"
           }
          ],
          "scattercarpet": [
           {
            "marker": {
             "colorbar": {
              "outlinewidth": 0,
              "ticks": ""
             }
            },
            "type": "scattercarpet"
           }
          ],
          "scattergeo": [
           {
            "marker": {
             "colorbar": {
              "outlinewidth": 0,
              "ticks": ""
             }
            },
            "type": "scattergeo"
           }
          ],
          "scattergl": [
           {
            "marker": {
             "colorbar": {
              "outlinewidth": 0,
              "ticks": ""
             }
            },
            "type": "scattergl"
           }
          ],
          "scattermapbox": [
           {
            "marker": {
             "colorbar": {
              "outlinewidth": 0,
              "ticks": ""
             }
            },
            "type": "scattermapbox"
           }
          ],
          "scatterpolar": [
           {
            "marker": {
             "colorbar": {
              "outlinewidth": 0,
              "ticks": ""
             }
            },
            "type": "scatterpolar"
           }
          ],
          "scatterpolargl": [
           {
            "marker": {
             "colorbar": {
              "outlinewidth": 0,
              "ticks": ""
             }
            },
            "type": "scatterpolargl"
           }
          ],
          "scatterternary": [
           {
            "marker": {
             "colorbar": {
              "outlinewidth": 0,
              "ticks": ""
             }
            },
            "type": "scatterternary"
           }
          ],
          "surface": [
           {
            "colorbar": {
             "outlinewidth": 0,
             "ticks": ""
            },
            "colorscale": [
             [
              0,
              "#0d0887"
             ],
             [
              0.1111111111111111,
              "#46039f"
             ],
             [
              0.2222222222222222,
              "#7201a8"
             ],
             [
              0.3333333333333333,
              "#9c179e"
             ],
             [
              0.4444444444444444,
              "#bd3786"
             ],
             [
              0.5555555555555556,
              "#d8576b"
             ],
             [
              0.6666666666666666,
              "#ed7953"
             ],
             [
              0.7777777777777778,
              "#fb9f3a"
             ],
             [
              0.8888888888888888,
              "#fdca26"
             ],
             [
              1,
              "#f0f921"
             ]
            ],
            "type": "surface"
           }
          ],
          "table": [
           {
            "cells": {
             "fill": {
              "color": "#EBF0F8"
             },
             "line": {
              "color": "white"
             }
            },
            "header": {
             "fill": {
              "color": "#C8D4E3"
             },
             "line": {
              "color": "white"
             }
            },
            "type": "table"
           }
          ]
         },
         "layout": {
          "annotationdefaults": {
           "arrowcolor": "#2a3f5f",
           "arrowhead": 0,
           "arrowwidth": 1
          },
          "autotypenumbers": "strict",
          "coloraxis": {
           "colorbar": {
            "outlinewidth": 0,
            "ticks": ""
           }
          },
          "colorscale": {
           "diverging": [
            [
             0,
             "#8e0152"
            ],
            [
             0.1,
             "#c51b7d"
            ],
            [
             0.2,
             "#de77ae"
            ],
            [
             0.3,
             "#f1b6da"
            ],
            [
             0.4,
             "#fde0ef"
            ],
            [
             0.5,
             "#f7f7f7"
            ],
            [
             0.6,
             "#e6f5d0"
            ],
            [
             0.7,
             "#b8e186"
            ],
            [
             0.8,
             "#7fbc41"
            ],
            [
             0.9,
             "#4d9221"
            ],
            [
             1,
             "#276419"
            ]
           ],
           "sequential": [
            [
             0,
             "#0d0887"
            ],
            [
             0.1111111111111111,
             "#46039f"
            ],
            [
             0.2222222222222222,
             "#7201a8"
            ],
            [
             0.3333333333333333,
             "#9c179e"
            ],
            [
             0.4444444444444444,
             "#bd3786"
            ],
            [
             0.5555555555555556,
             "#d8576b"
            ],
            [
             0.6666666666666666,
             "#ed7953"
            ],
            [
             0.7777777777777778,
             "#fb9f3a"
            ],
            [
             0.8888888888888888,
             "#fdca26"
            ],
            [
             1,
             "#f0f921"
            ]
           ],
           "sequentialminus": [
            [
             0,
             "#0d0887"
            ],
            [
             0.1111111111111111,
             "#46039f"
            ],
            [
             0.2222222222222222,
             "#7201a8"
            ],
            [
             0.3333333333333333,
             "#9c179e"
            ],
            [
             0.4444444444444444,
             "#bd3786"
            ],
            [
             0.5555555555555556,
             "#d8576b"
            ],
            [
             0.6666666666666666,
             "#ed7953"
            ],
            [
             0.7777777777777778,
             "#fb9f3a"
            ],
            [
             0.8888888888888888,
             "#fdca26"
            ],
            [
             1,
             "#f0f921"
            ]
           ]
          },
          "colorway": [
           "#636efa",
           "#EF553B",
           "#00cc96",
           "#ab63fa",
           "#FFA15A",
           "#19d3f3",
           "#FF6692",
           "#B6E880",
           "#FF97FF",
           "#FECB52"
          ],
          "font": {
           "color": "#2a3f5f"
          },
          "geo": {
           "bgcolor": "white",
           "lakecolor": "white",
           "landcolor": "#E5ECF6",
           "showlakes": true,
           "showland": true,
           "subunitcolor": "white"
          },
          "hoverlabel": {
           "align": "left"
          },
          "hovermode": "closest",
          "mapbox": {
           "style": "light"
          },
          "paper_bgcolor": "white",
          "plot_bgcolor": "#E5ECF6",
          "polar": {
           "angularaxis": {
            "gridcolor": "white",
            "linecolor": "white",
            "ticks": ""
           },
           "bgcolor": "#E5ECF6",
           "radialaxis": {
            "gridcolor": "white",
            "linecolor": "white",
            "ticks": ""
           }
          },
          "scene": {
           "xaxis": {
            "backgroundcolor": "#E5ECF6",
            "gridcolor": "white",
            "gridwidth": 2,
            "linecolor": "white",
            "showbackground": true,
            "ticks": "",
            "zerolinecolor": "white"
           },
           "yaxis": {
            "backgroundcolor": "#E5ECF6",
            "gridcolor": "white",
            "gridwidth": 2,
            "linecolor": "white",
            "showbackground": true,
            "ticks": "",
            "zerolinecolor": "white"
           },
           "zaxis": {
            "backgroundcolor": "#E5ECF6",
            "gridcolor": "white",
            "gridwidth": 2,
            "linecolor": "white",
            "showbackground": true,
            "ticks": "",
            "zerolinecolor": "white"
           }
          },
          "shapedefaults": {
           "line": {
            "color": "#2a3f5f"
           }
          },
          "ternary": {
           "aaxis": {
            "gridcolor": "white",
            "linecolor": "white",
            "ticks": ""
           },
           "baxis": {
            "gridcolor": "white",
            "linecolor": "white",
            "ticks": ""
           },
           "bgcolor": "#E5ECF6",
           "caxis": {
            "gridcolor": "white",
            "linecolor": "white",
            "ticks": ""
           }
          },
          "title": {
           "x": 0.05
          },
          "xaxis": {
           "automargin": true,
           "gridcolor": "white",
           "linecolor": "white",
           "ticks": "",
           "title": {
            "standoff": 15
           },
           "zerolinecolor": "white",
           "zerolinewidth": 2
          },
          "yaxis": {
           "automargin": true,
           "gridcolor": "white",
           "linecolor": "white",
           "ticks": "",
           "title": {
            "standoff": 15
           },
           "zerolinecolor": "white",
           "zerolinewidth": 2
          }
         }
        },
        "title": {
         "text": "Teve o Sintoma de Dificuldade de Respirar",
         "x": 0.5
        },
        "xaxis": {
         "anchor": "y",
         "domain": [
          0,
          1
         ],
         "dtick": 1,
         "tickmode": "linear",
         "title": {
          "text": "Grupos"
         }
        },
        "yaxis": {
         "anchor": "x",
         "domain": [
          0,
          1
         ],
         "title": {
          "text": "Quantidade"
         }
        }
       }
      }
     },
     "metadata": {},
     "output_type": "display_data"
    }
   ],
   "source": [
    "fPlotaGraficos(df_teve_dificuldade_respirar, 'Teve o Sintoma de Dificuldade de Respirar')"
   ]
  },
  {
   "cell_type": "code",
   "execution_count": 50,
   "metadata": {},
   "outputs": [
    {
     "data": {
      "application/vnd.plotly.v1+json": {
       "config": {
        "plotlyServerURL": "https://plot.ly"
       },
       "data": [
        {
         "alignmentgroup": "True",
         "hovertemplate": "teve_dor_cabeca=Não<br>Grupos=%{x}<br>Quantidade=%{y}<extra></extra>",
         "legendgroup": "Não",
         "marker": {
          "color": "#636efa",
          "pattern": {
           "shape": ""
          }
         },
         "name": "Não",
         "offsetgroup": "Não",
         "orientation": "v",
         "showlegend": true,
         "textposition": "auto",
         "texttemplate": "%{y}",
         "type": "bar",
         "x": [
          0,
          1
         ],
         "xaxis": "x",
         "y": [
          32332,
          354
         ],
         "yaxis": "y"
        },
        {
         "alignmentgroup": "True",
         "hovertemplate": "teve_dor_cabeca=Sim<br>Grupos=%{x}<br>Quantidade=%{y}<extra></extra>",
         "legendgroup": "Sim",
         "marker": {
          "color": "#EF553B",
          "pattern": {
           "shape": ""
          }
         },
         "name": "Sim",
         "offsetgroup": "Sim",
         "orientation": "v",
         "showlegend": true,
         "textposition": "auto",
         "texttemplate": "%{y}",
         "type": "bar",
         "x": [
          0,
          1
         ],
         "xaxis": "x",
         "y": [
          905,
          1837
         ],
         "yaxis": "y"
        }
       ],
       "layout": {
        "autosize": false,
        "barmode": "group",
        "height": 700,
        "legend": {
         "title": {
          "text": "teve_dor_cabeca"
         },
         "tracegroupgap": 0
        },
        "template": {
         "data": {
          "bar": [
           {
            "error_x": {
             "color": "#2a3f5f"
            },
            "error_y": {
             "color": "#2a3f5f"
            },
            "marker": {
             "line": {
              "color": "#E5ECF6",
              "width": 0.5
             },
             "pattern": {
              "fillmode": "overlay",
              "size": 10,
              "solidity": 0.2
             }
            },
            "type": "bar"
           }
          ],
          "barpolar": [
           {
            "marker": {
             "line": {
              "color": "#E5ECF6",
              "width": 0.5
             },
             "pattern": {
              "fillmode": "overlay",
              "size": 10,
              "solidity": 0.2
             }
            },
            "type": "barpolar"
           }
          ],
          "carpet": [
           {
            "aaxis": {
             "endlinecolor": "#2a3f5f",
             "gridcolor": "white",
             "linecolor": "white",
             "minorgridcolor": "white",
             "startlinecolor": "#2a3f5f"
            },
            "baxis": {
             "endlinecolor": "#2a3f5f",
             "gridcolor": "white",
             "linecolor": "white",
             "minorgridcolor": "white",
             "startlinecolor": "#2a3f5f"
            },
            "type": "carpet"
           }
          ],
          "choropleth": [
           {
            "colorbar": {
             "outlinewidth": 0,
             "ticks": ""
            },
            "type": "choropleth"
           }
          ],
          "contour": [
           {
            "colorbar": {
             "outlinewidth": 0,
             "ticks": ""
            },
            "colorscale": [
             [
              0,
              "#0d0887"
             ],
             [
              0.1111111111111111,
              "#46039f"
             ],
             [
              0.2222222222222222,
              "#7201a8"
             ],
             [
              0.3333333333333333,
              "#9c179e"
             ],
             [
              0.4444444444444444,
              "#bd3786"
             ],
             [
              0.5555555555555556,
              "#d8576b"
             ],
             [
              0.6666666666666666,
              "#ed7953"
             ],
             [
              0.7777777777777778,
              "#fb9f3a"
             ],
             [
              0.8888888888888888,
              "#fdca26"
             ],
             [
              1,
              "#f0f921"
             ]
            ],
            "type": "contour"
           }
          ],
          "contourcarpet": [
           {
            "colorbar": {
             "outlinewidth": 0,
             "ticks": ""
            },
            "type": "contourcarpet"
           }
          ],
          "heatmap": [
           {
            "colorbar": {
             "outlinewidth": 0,
             "ticks": ""
            },
            "colorscale": [
             [
              0,
              "#0d0887"
             ],
             [
              0.1111111111111111,
              "#46039f"
             ],
             [
              0.2222222222222222,
              "#7201a8"
             ],
             [
              0.3333333333333333,
              "#9c179e"
             ],
             [
              0.4444444444444444,
              "#bd3786"
             ],
             [
              0.5555555555555556,
              "#d8576b"
             ],
             [
              0.6666666666666666,
              "#ed7953"
             ],
             [
              0.7777777777777778,
              "#fb9f3a"
             ],
             [
              0.8888888888888888,
              "#fdca26"
             ],
             [
              1,
              "#f0f921"
             ]
            ],
            "type": "heatmap"
           }
          ],
          "heatmapgl": [
           {
            "colorbar": {
             "outlinewidth": 0,
             "ticks": ""
            },
            "colorscale": [
             [
              0,
              "#0d0887"
             ],
             [
              0.1111111111111111,
              "#46039f"
             ],
             [
              0.2222222222222222,
              "#7201a8"
             ],
             [
              0.3333333333333333,
              "#9c179e"
             ],
             [
              0.4444444444444444,
              "#bd3786"
             ],
             [
              0.5555555555555556,
              "#d8576b"
             ],
             [
              0.6666666666666666,
              "#ed7953"
             ],
             [
              0.7777777777777778,
              "#fb9f3a"
             ],
             [
              0.8888888888888888,
              "#fdca26"
             ],
             [
              1,
              "#f0f921"
             ]
            ],
            "type": "heatmapgl"
           }
          ],
          "histogram": [
           {
            "marker": {
             "pattern": {
              "fillmode": "overlay",
              "size": 10,
              "solidity": 0.2
             }
            },
            "type": "histogram"
           }
          ],
          "histogram2d": [
           {
            "colorbar": {
             "outlinewidth": 0,
             "ticks": ""
            },
            "colorscale": [
             [
              0,
              "#0d0887"
             ],
             [
              0.1111111111111111,
              "#46039f"
             ],
             [
              0.2222222222222222,
              "#7201a8"
             ],
             [
              0.3333333333333333,
              "#9c179e"
             ],
             [
              0.4444444444444444,
              "#bd3786"
             ],
             [
              0.5555555555555556,
              "#d8576b"
             ],
             [
              0.6666666666666666,
              "#ed7953"
             ],
             [
              0.7777777777777778,
              "#fb9f3a"
             ],
             [
              0.8888888888888888,
              "#fdca26"
             ],
             [
              1,
              "#f0f921"
             ]
            ],
            "type": "histogram2d"
           }
          ],
          "histogram2dcontour": [
           {
            "colorbar": {
             "outlinewidth": 0,
             "ticks": ""
            },
            "colorscale": [
             [
              0,
              "#0d0887"
             ],
             [
              0.1111111111111111,
              "#46039f"
             ],
             [
              0.2222222222222222,
              "#7201a8"
             ],
             [
              0.3333333333333333,
              "#9c179e"
             ],
             [
              0.4444444444444444,
              "#bd3786"
             ],
             [
              0.5555555555555556,
              "#d8576b"
             ],
             [
              0.6666666666666666,
              "#ed7953"
             ],
             [
              0.7777777777777778,
              "#fb9f3a"
             ],
             [
              0.8888888888888888,
              "#fdca26"
             ],
             [
              1,
              "#f0f921"
             ]
            ],
            "type": "histogram2dcontour"
           }
          ],
          "mesh3d": [
           {
            "colorbar": {
             "outlinewidth": 0,
             "ticks": ""
            },
            "type": "mesh3d"
           }
          ],
          "parcoords": [
           {
            "line": {
             "colorbar": {
              "outlinewidth": 0,
              "ticks": ""
             }
            },
            "type": "parcoords"
           }
          ],
          "pie": [
           {
            "automargin": true,
            "type": "pie"
           }
          ],
          "scatter": [
           {
            "fillpattern": {
             "fillmode": "overlay",
             "size": 10,
             "solidity": 0.2
            },
            "type": "scatter"
           }
          ],
          "scatter3d": [
           {
            "line": {
             "colorbar": {
              "outlinewidth": 0,
              "ticks": ""
             }
            },
            "marker": {
             "colorbar": {
              "outlinewidth": 0,
              "ticks": ""
             }
            },
            "type": "scatter3d"
           }
          ],
          "scattercarpet": [
           {
            "marker": {
             "colorbar": {
              "outlinewidth": 0,
              "ticks": ""
             }
            },
            "type": "scattercarpet"
           }
          ],
          "scattergeo": [
           {
            "marker": {
             "colorbar": {
              "outlinewidth": 0,
              "ticks": ""
             }
            },
            "type": "scattergeo"
           }
          ],
          "scattergl": [
           {
            "marker": {
             "colorbar": {
              "outlinewidth": 0,
              "ticks": ""
             }
            },
            "type": "scattergl"
           }
          ],
          "scattermapbox": [
           {
            "marker": {
             "colorbar": {
              "outlinewidth": 0,
              "ticks": ""
             }
            },
            "type": "scattermapbox"
           }
          ],
          "scatterpolar": [
           {
            "marker": {
             "colorbar": {
              "outlinewidth": 0,
              "ticks": ""
             }
            },
            "type": "scatterpolar"
           }
          ],
          "scatterpolargl": [
           {
            "marker": {
             "colorbar": {
              "outlinewidth": 0,
              "ticks": ""
             }
            },
            "type": "scatterpolargl"
           }
          ],
          "scatterternary": [
           {
            "marker": {
             "colorbar": {
              "outlinewidth": 0,
              "ticks": ""
             }
            },
            "type": "scatterternary"
           }
          ],
          "surface": [
           {
            "colorbar": {
             "outlinewidth": 0,
             "ticks": ""
            },
            "colorscale": [
             [
              0,
              "#0d0887"
             ],
             [
              0.1111111111111111,
              "#46039f"
             ],
             [
              0.2222222222222222,
              "#7201a8"
             ],
             [
              0.3333333333333333,
              "#9c179e"
             ],
             [
              0.4444444444444444,
              "#bd3786"
             ],
             [
              0.5555555555555556,
              "#d8576b"
             ],
             [
              0.6666666666666666,
              "#ed7953"
             ],
             [
              0.7777777777777778,
              "#fb9f3a"
             ],
             [
              0.8888888888888888,
              "#fdca26"
             ],
             [
              1,
              "#f0f921"
             ]
            ],
            "type": "surface"
           }
          ],
          "table": [
           {
            "cells": {
             "fill": {
              "color": "#EBF0F8"
             },
             "line": {
              "color": "white"
             }
            },
            "header": {
             "fill": {
              "color": "#C8D4E3"
             },
             "line": {
              "color": "white"
             }
            },
            "type": "table"
           }
          ]
         },
         "layout": {
          "annotationdefaults": {
           "arrowcolor": "#2a3f5f",
           "arrowhead": 0,
           "arrowwidth": 1
          },
          "autotypenumbers": "strict",
          "coloraxis": {
           "colorbar": {
            "outlinewidth": 0,
            "ticks": ""
           }
          },
          "colorscale": {
           "diverging": [
            [
             0,
             "#8e0152"
            ],
            [
             0.1,
             "#c51b7d"
            ],
            [
             0.2,
             "#de77ae"
            ],
            [
             0.3,
             "#f1b6da"
            ],
            [
             0.4,
             "#fde0ef"
            ],
            [
             0.5,
             "#f7f7f7"
            ],
            [
             0.6,
             "#e6f5d0"
            ],
            [
             0.7,
             "#b8e186"
            ],
            [
             0.8,
             "#7fbc41"
            ],
            [
             0.9,
             "#4d9221"
            ],
            [
             1,
             "#276419"
            ]
           ],
           "sequential": [
            [
             0,
             "#0d0887"
            ],
            [
             0.1111111111111111,
             "#46039f"
            ],
            [
             0.2222222222222222,
             "#7201a8"
            ],
            [
             0.3333333333333333,
             "#9c179e"
            ],
            [
             0.4444444444444444,
             "#bd3786"
            ],
            [
             0.5555555555555556,
             "#d8576b"
            ],
            [
             0.6666666666666666,
             "#ed7953"
            ],
            [
             0.7777777777777778,
             "#fb9f3a"
            ],
            [
             0.8888888888888888,
             "#fdca26"
            ],
            [
             1,
             "#f0f921"
            ]
           ],
           "sequentialminus": [
            [
             0,
             "#0d0887"
            ],
            [
             0.1111111111111111,
             "#46039f"
            ],
            [
             0.2222222222222222,
             "#7201a8"
            ],
            [
             0.3333333333333333,
             "#9c179e"
            ],
            [
             0.4444444444444444,
             "#bd3786"
            ],
            [
             0.5555555555555556,
             "#d8576b"
            ],
            [
             0.6666666666666666,
             "#ed7953"
            ],
            [
             0.7777777777777778,
             "#fb9f3a"
            ],
            [
             0.8888888888888888,
             "#fdca26"
            ],
            [
             1,
             "#f0f921"
            ]
           ]
          },
          "colorway": [
           "#636efa",
           "#EF553B",
           "#00cc96",
           "#ab63fa",
           "#FFA15A",
           "#19d3f3",
           "#FF6692",
           "#B6E880",
           "#FF97FF",
           "#FECB52"
          ],
          "font": {
           "color": "#2a3f5f"
          },
          "geo": {
           "bgcolor": "white",
           "lakecolor": "white",
           "landcolor": "#E5ECF6",
           "showlakes": true,
           "showland": true,
           "subunitcolor": "white"
          },
          "hoverlabel": {
           "align": "left"
          },
          "hovermode": "closest",
          "mapbox": {
           "style": "light"
          },
          "paper_bgcolor": "white",
          "plot_bgcolor": "#E5ECF6",
          "polar": {
           "angularaxis": {
            "gridcolor": "white",
            "linecolor": "white",
            "ticks": ""
           },
           "bgcolor": "#E5ECF6",
           "radialaxis": {
            "gridcolor": "white",
            "linecolor": "white",
            "ticks": ""
           }
          },
          "scene": {
           "xaxis": {
            "backgroundcolor": "#E5ECF6",
            "gridcolor": "white",
            "gridwidth": 2,
            "linecolor": "white",
            "showbackground": true,
            "ticks": "",
            "zerolinecolor": "white"
           },
           "yaxis": {
            "backgroundcolor": "#E5ECF6",
            "gridcolor": "white",
            "gridwidth": 2,
            "linecolor": "white",
            "showbackground": true,
            "ticks": "",
            "zerolinecolor": "white"
           },
           "zaxis": {
            "backgroundcolor": "#E5ECF6",
            "gridcolor": "white",
            "gridwidth": 2,
            "linecolor": "white",
            "showbackground": true,
            "ticks": "",
            "zerolinecolor": "white"
           }
          },
          "shapedefaults": {
           "line": {
            "color": "#2a3f5f"
           }
          },
          "ternary": {
           "aaxis": {
            "gridcolor": "white",
            "linecolor": "white",
            "ticks": ""
           },
           "baxis": {
            "gridcolor": "white",
            "linecolor": "white",
            "ticks": ""
           },
           "bgcolor": "#E5ECF6",
           "caxis": {
            "gridcolor": "white",
            "linecolor": "white",
            "ticks": ""
           }
          },
          "title": {
           "x": 0.05
          },
          "xaxis": {
           "automargin": true,
           "gridcolor": "white",
           "linecolor": "white",
           "ticks": "",
           "title": {
            "standoff": 15
           },
           "zerolinecolor": "white",
           "zerolinewidth": 2
          },
          "yaxis": {
           "automargin": true,
           "gridcolor": "white",
           "linecolor": "white",
           "ticks": "",
           "title": {
            "standoff": 15
           },
           "zerolinecolor": "white",
           "zerolinewidth": 2
          }
         }
        },
        "title": {
         "text": "Teve o Sintoma de Dor de Cabeça",
         "x": 0.5
        },
        "xaxis": {
         "anchor": "y",
         "domain": [
          0,
          1
         ],
         "dtick": 1,
         "tickmode": "linear",
         "title": {
          "text": "Grupos"
         }
        },
        "yaxis": {
         "anchor": "x",
         "domain": [
          0,
          1
         ],
         "title": {
          "text": "Quantidade"
         }
        }
       }
      }
     },
     "metadata": {},
     "output_type": "display_data"
    }
   ],
   "source": [
    "fPlotaGraficos(df_teve_dor_cabeca, 'Teve o Sintoma de Dor de Cabeça')"
   ]
  },
  {
   "cell_type": "code",
   "execution_count": 51,
   "metadata": {},
   "outputs": [
    {
     "data": {
      "application/vnd.plotly.v1+json": {
       "config": {
        "plotlyServerURL": "https://plot.ly"
       },
       "data": [
        {
         "alignmentgroup": "True",
         "hovertemplate": "teve_dor_fadiga=Não<br>Grupos=%{x}<br>Quantidade=%{y}<extra></extra>",
         "legendgroup": "Não",
         "marker": {
          "color": "#636efa",
          "pattern": {
           "shape": ""
          }
         },
         "name": "Não",
         "offsetgroup": "Não",
         "orientation": "v",
         "showlegend": true,
         "textposition": "auto",
         "texttemplate": "%{y}",
         "type": "bar",
         "x": [
          0,
          1
         ],
         "xaxis": "x",
         "y": [
          32761,
          682
         ],
         "yaxis": "y"
        },
        {
         "alignmentgroup": "True",
         "hovertemplate": "teve_dor_fadiga=Sim<br>Grupos=%{x}<br>Quantidade=%{y}<extra></extra>",
         "legendgroup": "Sim",
         "marker": {
          "color": "#EF553B",
          "pattern": {
           "shape": ""
          }
         },
         "name": "Sim",
         "offsetgroup": "Sim",
         "orientation": "v",
         "showlegend": true,
         "textposition": "auto",
         "texttemplate": "%{y}",
         "type": "bar",
         "x": [
          0,
          1
         ],
         "xaxis": "x",
         "y": [
          476,
          1509
         ],
         "yaxis": "y"
        }
       ],
       "layout": {
        "autosize": false,
        "barmode": "group",
        "height": 700,
        "legend": {
         "title": {
          "text": "teve_dor_fadiga"
         },
         "tracegroupgap": 0
        },
        "template": {
         "data": {
          "bar": [
           {
            "error_x": {
             "color": "#2a3f5f"
            },
            "error_y": {
             "color": "#2a3f5f"
            },
            "marker": {
             "line": {
              "color": "#E5ECF6",
              "width": 0.5
             },
             "pattern": {
              "fillmode": "overlay",
              "size": 10,
              "solidity": 0.2
             }
            },
            "type": "bar"
           }
          ],
          "barpolar": [
           {
            "marker": {
             "line": {
              "color": "#E5ECF6",
              "width": 0.5
             },
             "pattern": {
              "fillmode": "overlay",
              "size": 10,
              "solidity": 0.2
             }
            },
            "type": "barpolar"
           }
          ],
          "carpet": [
           {
            "aaxis": {
             "endlinecolor": "#2a3f5f",
             "gridcolor": "white",
             "linecolor": "white",
             "minorgridcolor": "white",
             "startlinecolor": "#2a3f5f"
            },
            "baxis": {
             "endlinecolor": "#2a3f5f",
             "gridcolor": "white",
             "linecolor": "white",
             "minorgridcolor": "white",
             "startlinecolor": "#2a3f5f"
            },
            "type": "carpet"
           }
          ],
          "choropleth": [
           {
            "colorbar": {
             "outlinewidth": 0,
             "ticks": ""
            },
            "type": "choropleth"
           }
          ],
          "contour": [
           {
            "colorbar": {
             "outlinewidth": 0,
             "ticks": ""
            },
            "colorscale": [
             [
              0,
              "#0d0887"
             ],
             [
              0.1111111111111111,
              "#46039f"
             ],
             [
              0.2222222222222222,
              "#7201a8"
             ],
             [
              0.3333333333333333,
              "#9c179e"
             ],
             [
              0.4444444444444444,
              "#bd3786"
             ],
             [
              0.5555555555555556,
              "#d8576b"
             ],
             [
              0.6666666666666666,
              "#ed7953"
             ],
             [
              0.7777777777777778,
              "#fb9f3a"
             ],
             [
              0.8888888888888888,
              "#fdca26"
             ],
             [
              1,
              "#f0f921"
             ]
            ],
            "type": "contour"
           }
          ],
          "contourcarpet": [
           {
            "colorbar": {
             "outlinewidth": 0,
             "ticks": ""
            },
            "type": "contourcarpet"
           }
          ],
          "heatmap": [
           {
            "colorbar": {
             "outlinewidth": 0,
             "ticks": ""
            },
            "colorscale": [
             [
              0,
              "#0d0887"
             ],
             [
              0.1111111111111111,
              "#46039f"
             ],
             [
              0.2222222222222222,
              "#7201a8"
             ],
             [
              0.3333333333333333,
              "#9c179e"
             ],
             [
              0.4444444444444444,
              "#bd3786"
             ],
             [
              0.5555555555555556,
              "#d8576b"
             ],
             [
              0.6666666666666666,
              "#ed7953"
             ],
             [
              0.7777777777777778,
              "#fb9f3a"
             ],
             [
              0.8888888888888888,
              "#fdca26"
             ],
             [
              1,
              "#f0f921"
             ]
            ],
            "type": "heatmap"
           }
          ],
          "heatmapgl": [
           {
            "colorbar": {
             "outlinewidth": 0,
             "ticks": ""
            },
            "colorscale": [
             [
              0,
              "#0d0887"
             ],
             [
              0.1111111111111111,
              "#46039f"
             ],
             [
              0.2222222222222222,
              "#7201a8"
             ],
             [
              0.3333333333333333,
              "#9c179e"
             ],
             [
              0.4444444444444444,
              "#bd3786"
             ],
             [
              0.5555555555555556,
              "#d8576b"
             ],
             [
              0.6666666666666666,
              "#ed7953"
             ],
             [
              0.7777777777777778,
              "#fb9f3a"
             ],
             [
              0.8888888888888888,
              "#fdca26"
             ],
             [
              1,
              "#f0f921"
             ]
            ],
            "type": "heatmapgl"
           }
          ],
          "histogram": [
           {
            "marker": {
             "pattern": {
              "fillmode": "overlay",
              "size": 10,
              "solidity": 0.2
             }
            },
            "type": "histogram"
           }
          ],
          "histogram2d": [
           {
            "colorbar": {
             "outlinewidth": 0,
             "ticks": ""
            },
            "colorscale": [
             [
              0,
              "#0d0887"
             ],
             [
              0.1111111111111111,
              "#46039f"
             ],
             [
              0.2222222222222222,
              "#7201a8"
             ],
             [
              0.3333333333333333,
              "#9c179e"
             ],
             [
              0.4444444444444444,
              "#bd3786"
             ],
             [
              0.5555555555555556,
              "#d8576b"
             ],
             [
              0.6666666666666666,
              "#ed7953"
             ],
             [
              0.7777777777777778,
              "#fb9f3a"
             ],
             [
              0.8888888888888888,
              "#fdca26"
             ],
             [
              1,
              "#f0f921"
             ]
            ],
            "type": "histogram2d"
           }
          ],
          "histogram2dcontour": [
           {
            "colorbar": {
             "outlinewidth": 0,
             "ticks": ""
            },
            "colorscale": [
             [
              0,
              "#0d0887"
             ],
             [
              0.1111111111111111,
              "#46039f"
             ],
             [
              0.2222222222222222,
              "#7201a8"
             ],
             [
              0.3333333333333333,
              "#9c179e"
             ],
             [
              0.4444444444444444,
              "#bd3786"
             ],
             [
              0.5555555555555556,
              "#d8576b"
             ],
             [
              0.6666666666666666,
              "#ed7953"
             ],
             [
              0.7777777777777778,
              "#fb9f3a"
             ],
             [
              0.8888888888888888,
              "#fdca26"
             ],
             [
              1,
              "#f0f921"
             ]
            ],
            "type": "histogram2dcontour"
           }
          ],
          "mesh3d": [
           {
            "colorbar": {
             "outlinewidth": 0,
             "ticks": ""
            },
            "type": "mesh3d"
           }
          ],
          "parcoords": [
           {
            "line": {
             "colorbar": {
              "outlinewidth": 0,
              "ticks": ""
             }
            },
            "type": "parcoords"
           }
          ],
          "pie": [
           {
            "automargin": true,
            "type": "pie"
           }
          ],
          "scatter": [
           {
            "fillpattern": {
             "fillmode": "overlay",
             "size": 10,
             "solidity": 0.2
            },
            "type": "scatter"
           }
          ],
          "scatter3d": [
           {
            "line": {
             "colorbar": {
              "outlinewidth": 0,
              "ticks": ""
             }
            },
            "marker": {
             "colorbar": {
              "outlinewidth": 0,
              "ticks": ""
             }
            },
            "type": "scatter3d"
           }
          ],
          "scattercarpet": [
           {
            "marker": {
             "colorbar": {
              "outlinewidth": 0,
              "ticks": ""
             }
            },
            "type": "scattercarpet"
           }
          ],
          "scattergeo": [
           {
            "marker": {
             "colorbar": {
              "outlinewidth": 0,
              "ticks": ""
             }
            },
            "type": "scattergeo"
           }
          ],
          "scattergl": [
           {
            "marker": {
             "colorbar": {
              "outlinewidth": 0,
              "ticks": ""
             }
            },
            "type": "scattergl"
           }
          ],
          "scattermapbox": [
           {
            "marker": {
             "colorbar": {
              "outlinewidth": 0,
              "ticks": ""
             }
            },
            "type": "scattermapbox"
           }
          ],
          "scatterpolar": [
           {
            "marker": {
             "colorbar": {
              "outlinewidth": 0,
              "ticks": ""
             }
            },
            "type": "scatterpolar"
           }
          ],
          "scatterpolargl": [
           {
            "marker": {
             "colorbar": {
              "outlinewidth": 0,
              "ticks": ""
             }
            },
            "type": "scatterpolargl"
           }
          ],
          "scatterternary": [
           {
            "marker": {
             "colorbar": {
              "outlinewidth": 0,
              "ticks": ""
             }
            },
            "type": "scatterternary"
           }
          ],
          "surface": [
           {
            "colorbar": {
             "outlinewidth": 0,
             "ticks": ""
            },
            "colorscale": [
             [
              0,
              "#0d0887"
             ],
             [
              0.1111111111111111,
              "#46039f"
             ],
             [
              0.2222222222222222,
              "#7201a8"
             ],
             [
              0.3333333333333333,
              "#9c179e"
             ],
             [
              0.4444444444444444,
              "#bd3786"
             ],
             [
              0.5555555555555556,
              "#d8576b"
             ],
             [
              0.6666666666666666,
              "#ed7953"
             ],
             [
              0.7777777777777778,
              "#fb9f3a"
             ],
             [
              0.8888888888888888,
              "#fdca26"
             ],
             [
              1,
              "#f0f921"
             ]
            ],
            "type": "surface"
           }
          ],
          "table": [
           {
            "cells": {
             "fill": {
              "color": "#EBF0F8"
             },
             "line": {
              "color": "white"
             }
            },
            "header": {
             "fill": {
              "color": "#C8D4E3"
             },
             "line": {
              "color": "white"
             }
            },
            "type": "table"
           }
          ]
         },
         "layout": {
          "annotationdefaults": {
           "arrowcolor": "#2a3f5f",
           "arrowhead": 0,
           "arrowwidth": 1
          },
          "autotypenumbers": "strict",
          "coloraxis": {
           "colorbar": {
            "outlinewidth": 0,
            "ticks": ""
           }
          },
          "colorscale": {
           "diverging": [
            [
             0,
             "#8e0152"
            ],
            [
             0.1,
             "#c51b7d"
            ],
            [
             0.2,
             "#de77ae"
            ],
            [
             0.3,
             "#f1b6da"
            ],
            [
             0.4,
             "#fde0ef"
            ],
            [
             0.5,
             "#f7f7f7"
            ],
            [
             0.6,
             "#e6f5d0"
            ],
            [
             0.7,
             "#b8e186"
            ],
            [
             0.8,
             "#7fbc41"
            ],
            [
             0.9,
             "#4d9221"
            ],
            [
             1,
             "#276419"
            ]
           ],
           "sequential": [
            [
             0,
             "#0d0887"
            ],
            [
             0.1111111111111111,
             "#46039f"
            ],
            [
             0.2222222222222222,
             "#7201a8"
            ],
            [
             0.3333333333333333,
             "#9c179e"
            ],
            [
             0.4444444444444444,
             "#bd3786"
            ],
            [
             0.5555555555555556,
             "#d8576b"
            ],
            [
             0.6666666666666666,
             "#ed7953"
            ],
            [
             0.7777777777777778,
             "#fb9f3a"
            ],
            [
             0.8888888888888888,
             "#fdca26"
            ],
            [
             1,
             "#f0f921"
            ]
           ],
           "sequentialminus": [
            [
             0,
             "#0d0887"
            ],
            [
             0.1111111111111111,
             "#46039f"
            ],
            [
             0.2222222222222222,
             "#7201a8"
            ],
            [
             0.3333333333333333,
             "#9c179e"
            ],
            [
             0.4444444444444444,
             "#bd3786"
            ],
            [
             0.5555555555555556,
             "#d8576b"
            ],
            [
             0.6666666666666666,
             "#ed7953"
            ],
            [
             0.7777777777777778,
             "#fb9f3a"
            ],
            [
             0.8888888888888888,
             "#fdca26"
            ],
            [
             1,
             "#f0f921"
            ]
           ]
          },
          "colorway": [
           "#636efa",
           "#EF553B",
           "#00cc96",
           "#ab63fa",
           "#FFA15A",
           "#19d3f3",
           "#FF6692",
           "#B6E880",
           "#FF97FF",
           "#FECB52"
          ],
          "font": {
           "color": "#2a3f5f"
          },
          "geo": {
           "bgcolor": "white",
           "lakecolor": "white",
           "landcolor": "#E5ECF6",
           "showlakes": true,
           "showland": true,
           "subunitcolor": "white"
          },
          "hoverlabel": {
           "align": "left"
          },
          "hovermode": "closest",
          "mapbox": {
           "style": "light"
          },
          "paper_bgcolor": "white",
          "plot_bgcolor": "#E5ECF6",
          "polar": {
           "angularaxis": {
            "gridcolor": "white",
            "linecolor": "white",
            "ticks": ""
           },
           "bgcolor": "#E5ECF6",
           "radialaxis": {
            "gridcolor": "white",
            "linecolor": "white",
            "ticks": ""
           }
          },
          "scene": {
           "xaxis": {
            "backgroundcolor": "#E5ECF6",
            "gridcolor": "white",
            "gridwidth": 2,
            "linecolor": "white",
            "showbackground": true,
            "ticks": "",
            "zerolinecolor": "white"
           },
           "yaxis": {
            "backgroundcolor": "#E5ECF6",
            "gridcolor": "white",
            "gridwidth": 2,
            "linecolor": "white",
            "showbackground": true,
            "ticks": "",
            "zerolinecolor": "white"
           },
           "zaxis": {
            "backgroundcolor": "#E5ECF6",
            "gridcolor": "white",
            "gridwidth": 2,
            "linecolor": "white",
            "showbackground": true,
            "ticks": "",
            "zerolinecolor": "white"
           }
          },
          "shapedefaults": {
           "line": {
            "color": "#2a3f5f"
           }
          },
          "ternary": {
           "aaxis": {
            "gridcolor": "white",
            "linecolor": "white",
            "ticks": ""
           },
           "baxis": {
            "gridcolor": "white",
            "linecolor": "white",
            "ticks": ""
           },
           "bgcolor": "#E5ECF6",
           "caxis": {
            "gridcolor": "white",
            "linecolor": "white",
            "ticks": ""
           }
          },
          "title": {
           "x": 0.05
          },
          "xaxis": {
           "automargin": true,
           "gridcolor": "white",
           "linecolor": "white",
           "ticks": "",
           "title": {
            "standoff": 15
           },
           "zerolinecolor": "white",
           "zerolinewidth": 2
          },
          "yaxis": {
           "automargin": true,
           "gridcolor": "white",
           "linecolor": "white",
           "ticks": "",
           "title": {
            "standoff": 15
           },
           "zerolinecolor": "white",
           "zerolinewidth": 2
          }
         }
        },
        "title": {
         "text": "Teve o Sintoma de Fatiga",
         "x": 0.5
        },
        "xaxis": {
         "anchor": "y",
         "domain": [
          0,
          1
         ],
         "dtick": 1,
         "tickmode": "linear",
         "title": {
          "text": "Grupos"
         }
        },
        "yaxis": {
         "anchor": "x",
         "domain": [
          0,
          1
         ],
         "title": {
          "text": "Quantidade"
         }
        }
       }
      }
     },
     "metadata": {},
     "output_type": "display_data"
    }
   ],
   "source": [
    "fPlotaGraficos(df_teve_dor_fadiga, 'Teve o Sintoma de Fatiga')"
   ]
  },
  {
   "cell_type": "code",
   "execution_count": 52,
   "metadata": {},
   "outputs": [],
   "source": [
    "contagen_sintomas = dados_Escalonados[['teve_febre', 'teve_tosse','teve_dor_garganta','teve_dificuldade_respirar','teve_dor_cabeca','teve_dor_fadiga']]"
   ]
  },
  {
   "cell_type": "code",
   "execution_count": 53,
   "metadata": {},
   "outputs": [
    {
     "data": {
      "text/plain": [
       "teve_febre  teve_tosse  teve_dor_garganta  teve_dificuldade_respirar  teve_dor_cabeca  teve_dor_fadiga\n",
       "0           0           0                  0                          0                0                  31091\n",
       "1           1           1                  1                          1                1                    494\n",
       "0           0           0                  0                          1                0                    440\n",
       "            1           0                  0                          0                0                    218\n",
       "1           1           1                  0                          1                1                    200\n",
       "                                                                                                          ...  \n",
       "            0           0                  1                          1                0                     10\n",
       "0           0           1                  1                          1                0                      8\n",
       "1           0           1                  1                          0                0                      6\n",
       "                                                                                       1                      5\n",
       "0           0           1                  1                          0                1                      3\n",
       "Name: count, Length: 64, dtype: int64"
      ]
     },
     "execution_count": 53,
     "metadata": {},
     "output_type": "execute_result"
    }
   ],
   "source": [
    "contagen_sintomas.value_counts()"
   ]
  },
  {
   "cell_type": "code",
   "execution_count": 54,
   "metadata": {},
   "outputs": [],
   "source": [
    "df_ListaSintomas = dados_Escalonados[['teve_febre', 'teve_tosse','teve_dor_garganta','teve_dificuldade_respirar','teve_dor_cabeca','teve_dor_fadiga']]"
   ]
  },
  {
   "cell_type": "code",
   "execution_count": 55,
   "metadata": {},
   "outputs": [
    {
     "data": {
      "text/html": [
       "<div>\n",
       "<style scoped>\n",
       "    .dataframe tbody tr th:only-of-type {\n",
       "        vertical-align: middle;\n",
       "    }\n",
       "\n",
       "    .dataframe tbody tr th {\n",
       "        vertical-align: top;\n",
       "    }\n",
       "\n",
       "    .dataframe thead th {\n",
       "        text-align: right;\n",
       "    }\n",
       "</style>\n",
       "<table border=\"1\" class=\"dataframe\">\n",
       "  <thead>\n",
       "    <tr style=\"text-align: right;\">\n",
       "      <th></th>\n",
       "      <th>teve_febre</th>\n",
       "      <th>teve_tosse</th>\n",
       "      <th>teve_dor_garganta</th>\n",
       "      <th>teve_dificuldade_respirar</th>\n",
       "      <th>teve_dor_cabeca</th>\n",
       "      <th>teve_dor_fadiga</th>\n",
       "    </tr>\n",
       "  </thead>\n",
       "  <tbody>\n",
       "    <tr>\n",
       "      <th>23</th>\n",
       "      <td>0</td>\n",
       "      <td>0</td>\n",
       "      <td>0</td>\n",
       "      <td>0</td>\n",
       "      <td>0</td>\n",
       "      <td>0</td>\n",
       "    </tr>\n",
       "    <tr>\n",
       "      <th>30</th>\n",
       "      <td>0</td>\n",
       "      <td>0</td>\n",
       "      <td>0</td>\n",
       "      <td>0</td>\n",
       "      <td>0</td>\n",
       "      <td>0</td>\n",
       "    </tr>\n",
       "    <tr>\n",
       "      <th>31</th>\n",
       "      <td>0</td>\n",
       "      <td>0</td>\n",
       "      <td>0</td>\n",
       "      <td>0</td>\n",
       "      <td>0</td>\n",
       "      <td>0</td>\n",
       "    </tr>\n",
       "    <tr>\n",
       "      <th>51</th>\n",
       "      <td>0</td>\n",
       "      <td>0</td>\n",
       "      <td>0</td>\n",
       "      <td>0</td>\n",
       "      <td>0</td>\n",
       "      <td>0</td>\n",
       "    </tr>\n",
       "    <tr>\n",
       "      <th>52</th>\n",
       "      <td>0</td>\n",
       "      <td>0</td>\n",
       "      <td>0</td>\n",
       "      <td>0</td>\n",
       "      <td>0</td>\n",
       "      <td>0</td>\n",
       "    </tr>\n",
       "    <tr>\n",
       "      <th>...</th>\n",
       "      <td>...</td>\n",
       "      <td>...</td>\n",
       "      <td>...</td>\n",
       "      <td>...</td>\n",
       "      <td>...</td>\n",
       "      <td>...</td>\n",
       "    </tr>\n",
       "    <tr>\n",
       "      <th>1149129</th>\n",
       "      <td>0</td>\n",
       "      <td>0</td>\n",
       "      <td>0</td>\n",
       "      <td>0</td>\n",
       "      <td>0</td>\n",
       "      <td>0</td>\n",
       "    </tr>\n",
       "    <tr>\n",
       "      <th>1149130</th>\n",
       "      <td>0</td>\n",
       "      <td>0</td>\n",
       "      <td>0</td>\n",
       "      <td>0</td>\n",
       "      <td>0</td>\n",
       "      <td>0</td>\n",
       "    </tr>\n",
       "    <tr>\n",
       "      <th>1149131</th>\n",
       "      <td>0</td>\n",
       "      <td>0</td>\n",
       "      <td>0</td>\n",
       "      <td>0</td>\n",
       "      <td>0</td>\n",
       "      <td>0</td>\n",
       "    </tr>\n",
       "    <tr>\n",
       "      <th>1149132</th>\n",
       "      <td>0</td>\n",
       "      <td>0</td>\n",
       "      <td>0</td>\n",
       "      <td>0</td>\n",
       "      <td>0</td>\n",
       "      <td>0</td>\n",
       "    </tr>\n",
       "    <tr>\n",
       "      <th>1149133</th>\n",
       "      <td>0</td>\n",
       "      <td>0</td>\n",
       "      <td>0</td>\n",
       "      <td>0</td>\n",
       "      <td>0</td>\n",
       "      <td>0</td>\n",
       "    </tr>\n",
       "  </tbody>\n",
       "</table>\n",
       "<p>35428 rows × 6 columns</p>\n",
       "</div>"
      ],
      "text/plain": [
       "         teve_febre  teve_tosse  teve_dor_garganta  teve_dificuldade_respirar  \\\n",
       "23                0           0                  0                          0   \n",
       "30                0           0                  0                          0   \n",
       "31                0           0                  0                          0   \n",
       "51                0           0                  0                          0   \n",
       "52                0           0                  0                          0   \n",
       "...             ...         ...                ...                        ...   \n",
       "1149129           0           0                  0                          0   \n",
       "1149130           0           0                  0                          0   \n",
       "1149131           0           0                  0                          0   \n",
       "1149132           0           0                  0                          0   \n",
       "1149133           0           0                  0                          0   \n",
       "\n",
       "         teve_dor_cabeca  teve_dor_fadiga  \n",
       "23                     0                0  \n",
       "30                     0                0  \n",
       "31                     0                0  \n",
       "51                     0                0  \n",
       "52                     0                0  \n",
       "...                  ...              ...  \n",
       "1149129                0                0  \n",
       "1149130                0                0  \n",
       "1149131                0                0  \n",
       "1149132                0                0  \n",
       "1149133                0                0  \n",
       "\n",
       "[35428 rows x 6 columns]"
      ]
     },
     "execution_count": 55,
     "metadata": {},
     "output_type": "execute_result"
    }
   ],
   "source": [
    "df_ListaSintomas"
   ]
  },
  {
   "cell_type": "code",
   "execution_count": 56,
   "metadata": {},
   "outputs": [
    {
     "data": {
      "text/plain": [
       "2369"
      ]
     },
     "execution_count": 56,
     "metadata": {},
     "output_type": "execute_result"
    }
   ],
   "source": [
    "contagen_sintomas['teve_tosse'].loc[lambda x:x==1].value_counts().values[0]"
   ]
  },
  {
   "cell_type": "code",
   "execution_count": 57,
   "metadata": {},
   "outputs": [
    {
     "data": {
      "text/plain": [
       "{'teve_febre': [2148],\n",
       " 'teve_tosse': [2369],\n",
       " 'teve_dor_garganta': [2029],\n",
       " 'teve_dificuldade_respirar': [1294],\n",
       " 'teve_dor_cabeca': [2742],\n",
       " 'teve_dor_fadiga': [1985]}"
      ]
     },
     "execution_count": 57,
     "metadata": {},
     "output_type": "execute_result"
    }
   ],
   "source": [
    "vListaSintomas = ['teve_febre', 'teve_tosse','teve_dor_garganta','teve_dificuldade_respirar','teve_dor_cabeca','teve_dor_fadiga']\n",
    "dSintomas = {}\n",
    "vValores = []\n",
    "for sintomas in vListaSintomas:\n",
    "    dSintomas.update({sintomas:[df_ListaSintomas[sintomas].loc[lambda x:x==1].value_counts().values[0]]})\n",
    "\n",
    "dSintomas"
   ]
  },
  {
   "cell_type": "code",
   "execution_count": 60,
   "metadata": {},
   "outputs": [],
   "source": [
    "df_total_sintomas = pd.DataFrame(dSintomas)"
   ]
  },
  {
   "cell_type": "code",
   "execution_count": 64,
   "metadata": {},
   "outputs": [
    {
     "data": {
      "text/html": [
       "<div>\n",
       "<style scoped>\n",
       "    .dataframe tbody tr th:only-of-type {\n",
       "        vertical-align: middle;\n",
       "    }\n",
       "\n",
       "    .dataframe tbody tr th {\n",
       "        vertical-align: top;\n",
       "    }\n",
       "\n",
       "    .dataframe thead th {\n",
       "        text-align: right;\n",
       "    }\n",
       "</style>\n",
       "<table border=\"1\" class=\"dataframe\">\n",
       "  <thead>\n",
       "    <tr style=\"text-align: right;\">\n",
       "      <th></th>\n",
       "      <th>0</th>\n",
       "    </tr>\n",
       "  </thead>\n",
       "  <tbody>\n",
       "    <tr>\n",
       "      <th>teve_febre</th>\n",
       "      <td>2148</td>\n",
       "    </tr>\n",
       "    <tr>\n",
       "      <th>teve_tosse</th>\n",
       "      <td>2369</td>\n",
       "    </tr>\n",
       "    <tr>\n",
       "      <th>teve_dor_garganta</th>\n",
       "      <td>2029</td>\n",
       "    </tr>\n",
       "    <tr>\n",
       "      <th>teve_dificuldade_respirar</th>\n",
       "      <td>1294</td>\n",
       "    </tr>\n",
       "    <tr>\n",
       "      <th>teve_dor_cabeca</th>\n",
       "      <td>2742</td>\n",
       "    </tr>\n",
       "    <tr>\n",
       "      <th>teve_dor_fadiga</th>\n",
       "      <td>1985</td>\n",
       "    </tr>\n",
       "  </tbody>\n",
       "</table>\n",
       "</div>"
      ],
      "text/plain": [
       "                              0\n",
       "teve_febre                 2148\n",
       "teve_tosse                 2369\n",
       "teve_dor_garganta          2029\n",
       "teve_dificuldade_respirar  1294\n",
       "teve_dor_cabeca            2742\n",
       "teve_dor_fadiga            1985"
      ]
     },
     "execution_count": 64,
     "metadata": {},
     "output_type": "execute_result"
    }
   ],
   "source": [
    "df_total_sintomas.T"
   ]
  },
  {
   "cell_type": "code",
   "execution_count": null,
   "metadata": {},
   "outputs": [],
   "source": []
  },
  {
   "cell_type": "code",
   "execution_count": 76,
   "metadata": {},
   "outputs": [
    {
     "data": {
      "application/vnd.plotly.v1+json": {
       "config": {
        "plotlyServerURL": "https://plot.ly"
       },
       "data": [
        {
         "alignmentgroup": "True",
         "hovertemplate": "variable=0<br>Sintomas=%{x}<br>Quantidade=%{y}<extra></extra>",
         "legendgroup": "0",
         "marker": {
          "color": "#636efa",
          "pattern": {
           "shape": ""
          }
         },
         "name": "0",
         "offsetgroup": "0",
         "orientation": "v",
         "showlegend": true,
         "textposition": "auto",
         "texttemplate": "%{y}",
         "type": "bar",
         "x": [
          "teve_febre",
          "teve_tosse",
          "teve_dor_garganta",
          "teve_dificuldade_respirar",
          "teve_dor_cabeca",
          "teve_dor_fadiga"
         ],
         "xaxis": "x",
         "y": [
          2148,
          2369,
          2029,
          1294,
          2742,
          1985
         ],
         "yaxis": "y"
        }
       ],
       "layout": {
        "autosize": false,
        "barmode": "relative",
        "height": 700,
        "legend": {
         "title": {
          "text": "variable"
         },
         "tracegroupgap": 0
        },
        "showlegend": false,
        "template": {
         "data": {
          "bar": [
           {
            "error_x": {
             "color": "#2a3f5f"
            },
            "error_y": {
             "color": "#2a3f5f"
            },
            "marker": {
             "line": {
              "color": "#E5ECF6",
              "width": 0.5
             },
             "pattern": {
              "fillmode": "overlay",
              "size": 10,
              "solidity": 0.2
             }
            },
            "type": "bar"
           }
          ],
          "barpolar": [
           {
            "marker": {
             "line": {
              "color": "#E5ECF6",
              "width": 0.5
             },
             "pattern": {
              "fillmode": "overlay",
              "size": 10,
              "solidity": 0.2
             }
            },
            "type": "barpolar"
           }
          ],
          "carpet": [
           {
            "aaxis": {
             "endlinecolor": "#2a3f5f",
             "gridcolor": "white",
             "linecolor": "white",
             "minorgridcolor": "white",
             "startlinecolor": "#2a3f5f"
            },
            "baxis": {
             "endlinecolor": "#2a3f5f",
             "gridcolor": "white",
             "linecolor": "white",
             "minorgridcolor": "white",
             "startlinecolor": "#2a3f5f"
            },
            "type": "carpet"
           }
          ],
          "choropleth": [
           {
            "colorbar": {
             "outlinewidth": 0,
             "ticks": ""
            },
            "type": "choropleth"
           }
          ],
          "contour": [
           {
            "colorbar": {
             "outlinewidth": 0,
             "ticks": ""
            },
            "colorscale": [
             [
              0,
              "#0d0887"
             ],
             [
              0.1111111111111111,
              "#46039f"
             ],
             [
              0.2222222222222222,
              "#7201a8"
             ],
             [
              0.3333333333333333,
              "#9c179e"
             ],
             [
              0.4444444444444444,
              "#bd3786"
             ],
             [
              0.5555555555555556,
              "#d8576b"
             ],
             [
              0.6666666666666666,
              "#ed7953"
             ],
             [
              0.7777777777777778,
              "#fb9f3a"
             ],
             [
              0.8888888888888888,
              "#fdca26"
             ],
             [
              1,
              "#f0f921"
             ]
            ],
            "type": "contour"
           }
          ],
          "contourcarpet": [
           {
            "colorbar": {
             "outlinewidth": 0,
             "ticks": ""
            },
            "type": "contourcarpet"
           }
          ],
          "heatmap": [
           {
            "colorbar": {
             "outlinewidth": 0,
             "ticks": ""
            },
            "colorscale": [
             [
              0,
              "#0d0887"
             ],
             [
              0.1111111111111111,
              "#46039f"
             ],
             [
              0.2222222222222222,
              "#7201a8"
             ],
             [
              0.3333333333333333,
              "#9c179e"
             ],
             [
              0.4444444444444444,
              "#bd3786"
             ],
             [
              0.5555555555555556,
              "#d8576b"
             ],
             [
              0.6666666666666666,
              "#ed7953"
             ],
             [
              0.7777777777777778,
              "#fb9f3a"
             ],
             [
              0.8888888888888888,
              "#fdca26"
             ],
             [
              1,
              "#f0f921"
             ]
            ],
            "type": "heatmap"
           }
          ],
          "heatmapgl": [
           {
            "colorbar": {
             "outlinewidth": 0,
             "ticks": ""
            },
            "colorscale": [
             [
              0,
              "#0d0887"
             ],
             [
              0.1111111111111111,
              "#46039f"
             ],
             [
              0.2222222222222222,
              "#7201a8"
             ],
             [
              0.3333333333333333,
              "#9c179e"
             ],
             [
              0.4444444444444444,
              "#bd3786"
             ],
             [
              0.5555555555555556,
              "#d8576b"
             ],
             [
              0.6666666666666666,
              "#ed7953"
             ],
             [
              0.7777777777777778,
              "#fb9f3a"
             ],
             [
              0.8888888888888888,
              "#fdca26"
             ],
             [
              1,
              "#f0f921"
             ]
            ],
            "type": "heatmapgl"
           }
          ],
          "histogram": [
           {
            "marker": {
             "pattern": {
              "fillmode": "overlay",
              "size": 10,
              "solidity": 0.2
             }
            },
            "type": "histogram"
           }
          ],
          "histogram2d": [
           {
            "colorbar": {
             "outlinewidth": 0,
             "ticks": ""
            },
            "colorscale": [
             [
              0,
              "#0d0887"
             ],
             [
              0.1111111111111111,
              "#46039f"
             ],
             [
              0.2222222222222222,
              "#7201a8"
             ],
             [
              0.3333333333333333,
              "#9c179e"
             ],
             [
              0.4444444444444444,
              "#bd3786"
             ],
             [
              0.5555555555555556,
              "#d8576b"
             ],
             [
              0.6666666666666666,
              "#ed7953"
             ],
             [
              0.7777777777777778,
              "#fb9f3a"
             ],
             [
              0.8888888888888888,
              "#fdca26"
             ],
             [
              1,
              "#f0f921"
             ]
            ],
            "type": "histogram2d"
           }
          ],
          "histogram2dcontour": [
           {
            "colorbar": {
             "outlinewidth": 0,
             "ticks": ""
            },
            "colorscale": [
             [
              0,
              "#0d0887"
             ],
             [
              0.1111111111111111,
              "#46039f"
             ],
             [
              0.2222222222222222,
              "#7201a8"
             ],
             [
              0.3333333333333333,
              "#9c179e"
             ],
             [
              0.4444444444444444,
              "#bd3786"
             ],
             [
              0.5555555555555556,
              "#d8576b"
             ],
             [
              0.6666666666666666,
              "#ed7953"
             ],
             [
              0.7777777777777778,
              "#fb9f3a"
             ],
             [
              0.8888888888888888,
              "#fdca26"
             ],
             [
              1,
              "#f0f921"
             ]
            ],
            "type": "histogram2dcontour"
           }
          ],
          "mesh3d": [
           {
            "colorbar": {
             "outlinewidth": 0,
             "ticks": ""
            },
            "type": "mesh3d"
           }
          ],
          "parcoords": [
           {
            "line": {
             "colorbar": {
              "outlinewidth": 0,
              "ticks": ""
             }
            },
            "type": "parcoords"
           }
          ],
          "pie": [
           {
            "automargin": true,
            "type": "pie"
           }
          ],
          "scatter": [
           {
            "fillpattern": {
             "fillmode": "overlay",
             "size": 10,
             "solidity": 0.2
            },
            "type": "scatter"
           }
          ],
          "scatter3d": [
           {
            "line": {
             "colorbar": {
              "outlinewidth": 0,
              "ticks": ""
             }
            },
            "marker": {
             "colorbar": {
              "outlinewidth": 0,
              "ticks": ""
             }
            },
            "type": "scatter3d"
           }
          ],
          "scattercarpet": [
           {
            "marker": {
             "colorbar": {
              "outlinewidth": 0,
              "ticks": ""
             }
            },
            "type": "scattercarpet"
           }
          ],
          "scattergeo": [
           {
            "marker": {
             "colorbar": {
              "outlinewidth": 0,
              "ticks": ""
             }
            },
            "type": "scattergeo"
           }
          ],
          "scattergl": [
           {
            "marker": {
             "colorbar": {
              "outlinewidth": 0,
              "ticks": ""
             }
            },
            "type": "scattergl"
           }
          ],
          "scattermapbox": [
           {
            "marker": {
             "colorbar": {
              "outlinewidth": 0,
              "ticks": ""
             }
            },
            "type": "scattermapbox"
           }
          ],
          "scatterpolar": [
           {
            "marker": {
             "colorbar": {
              "outlinewidth": 0,
              "ticks": ""
             }
            },
            "type": "scatterpolar"
           }
          ],
          "scatterpolargl": [
           {
            "marker": {
             "colorbar": {
              "outlinewidth": 0,
              "ticks": ""
             }
            },
            "type": "scatterpolargl"
           }
          ],
          "scatterternary": [
           {
            "marker": {
             "colorbar": {
              "outlinewidth": 0,
              "ticks": ""
             }
            },
            "type": "scatterternary"
           }
          ],
          "surface": [
           {
            "colorbar": {
             "outlinewidth": 0,
             "ticks": ""
            },
            "colorscale": [
             [
              0,
              "#0d0887"
             ],
             [
              0.1111111111111111,
              "#46039f"
             ],
             [
              0.2222222222222222,
              "#7201a8"
             ],
             [
              0.3333333333333333,
              "#9c179e"
             ],
             [
              0.4444444444444444,
              "#bd3786"
             ],
             [
              0.5555555555555556,
              "#d8576b"
             ],
             [
              0.6666666666666666,
              "#ed7953"
             ],
             [
              0.7777777777777778,
              "#fb9f3a"
             ],
             [
              0.8888888888888888,
              "#fdca26"
             ],
             [
              1,
              "#f0f921"
             ]
            ],
            "type": "surface"
           }
          ],
          "table": [
           {
            "cells": {
             "fill": {
              "color": "#EBF0F8"
             },
             "line": {
              "color": "white"
             }
            },
            "header": {
             "fill": {
              "color": "#C8D4E3"
             },
             "line": {
              "color": "white"
             }
            },
            "type": "table"
           }
          ]
         },
         "layout": {
          "annotationdefaults": {
           "arrowcolor": "#2a3f5f",
           "arrowhead": 0,
           "arrowwidth": 1
          },
          "autotypenumbers": "strict",
          "coloraxis": {
           "colorbar": {
            "outlinewidth": 0,
            "ticks": ""
           }
          },
          "colorscale": {
           "diverging": [
            [
             0,
             "#8e0152"
            ],
            [
             0.1,
             "#c51b7d"
            ],
            [
             0.2,
             "#de77ae"
            ],
            [
             0.3,
             "#f1b6da"
            ],
            [
             0.4,
             "#fde0ef"
            ],
            [
             0.5,
             "#f7f7f7"
            ],
            [
             0.6,
             "#e6f5d0"
            ],
            [
             0.7,
             "#b8e186"
            ],
            [
             0.8,
             "#7fbc41"
            ],
            [
             0.9,
             "#4d9221"
            ],
            [
             1,
             "#276419"
            ]
           ],
           "sequential": [
            [
             0,
             "#0d0887"
            ],
            [
             0.1111111111111111,
             "#46039f"
            ],
            [
             0.2222222222222222,
             "#7201a8"
            ],
            [
             0.3333333333333333,
             "#9c179e"
            ],
            [
             0.4444444444444444,
             "#bd3786"
            ],
            [
             0.5555555555555556,
             "#d8576b"
            ],
            [
             0.6666666666666666,
             "#ed7953"
            ],
            [
             0.7777777777777778,
             "#fb9f3a"
            ],
            [
             0.8888888888888888,
             "#fdca26"
            ],
            [
             1,
             "#f0f921"
            ]
           ],
           "sequentialminus": [
            [
             0,
             "#0d0887"
            ],
            [
             0.1111111111111111,
             "#46039f"
            ],
            [
             0.2222222222222222,
             "#7201a8"
            ],
            [
             0.3333333333333333,
             "#9c179e"
            ],
            [
             0.4444444444444444,
             "#bd3786"
            ],
            [
             0.5555555555555556,
             "#d8576b"
            ],
            [
             0.6666666666666666,
             "#ed7953"
            ],
            [
             0.7777777777777778,
             "#fb9f3a"
            ],
            [
             0.8888888888888888,
             "#fdca26"
            ],
            [
             1,
             "#f0f921"
            ]
           ]
          },
          "colorway": [
           "#636efa",
           "#EF553B",
           "#00cc96",
           "#ab63fa",
           "#FFA15A",
           "#19d3f3",
           "#FF6692",
           "#B6E880",
           "#FF97FF",
           "#FECB52"
          ],
          "font": {
           "color": "#2a3f5f"
          },
          "geo": {
           "bgcolor": "white",
           "lakecolor": "white",
           "landcolor": "#E5ECF6",
           "showlakes": true,
           "showland": true,
           "subunitcolor": "white"
          },
          "hoverlabel": {
           "align": "left"
          },
          "hovermode": "closest",
          "mapbox": {
           "style": "light"
          },
          "paper_bgcolor": "white",
          "plot_bgcolor": "#E5ECF6",
          "polar": {
           "angularaxis": {
            "gridcolor": "white",
            "linecolor": "white",
            "ticks": ""
           },
           "bgcolor": "#E5ECF6",
           "radialaxis": {
            "gridcolor": "white",
            "linecolor": "white",
            "ticks": ""
           }
          },
          "scene": {
           "xaxis": {
            "backgroundcolor": "#E5ECF6",
            "gridcolor": "white",
            "gridwidth": 2,
            "linecolor": "white",
            "showbackground": true,
            "ticks": "",
            "zerolinecolor": "white"
           },
           "yaxis": {
            "backgroundcolor": "#E5ECF6",
            "gridcolor": "white",
            "gridwidth": 2,
            "linecolor": "white",
            "showbackground": true,
            "ticks": "",
            "zerolinecolor": "white"
           },
           "zaxis": {
            "backgroundcolor": "#E5ECF6",
            "gridcolor": "white",
            "gridwidth": 2,
            "linecolor": "white",
            "showbackground": true,
            "ticks": "",
            "zerolinecolor": "white"
           }
          },
          "shapedefaults": {
           "line": {
            "color": "#2a3f5f"
           }
          },
          "ternary": {
           "aaxis": {
            "gridcolor": "white",
            "linecolor": "white",
            "ticks": ""
           },
           "baxis": {
            "gridcolor": "white",
            "linecolor": "white",
            "ticks": ""
           },
           "bgcolor": "#E5ECF6",
           "caxis": {
            "gridcolor": "white",
            "linecolor": "white",
            "ticks": ""
           }
          },
          "title": {
           "x": 0.05
          },
          "xaxis": {
           "automargin": true,
           "gridcolor": "white",
           "linecolor": "white",
           "ticks": "",
           "title": {
            "standoff": 15
           },
           "zerolinecolor": "white",
           "zerolinewidth": 2
          },
          "yaxis": {
           "automargin": true,
           "gridcolor": "white",
           "linecolor": "white",
           "ticks": "",
           "title": {
            "standoff": 15
           },
           "zerolinecolor": "white",
           "zerolinewidth": 2
          }
         }
        },
        "title": {
         "text": "Total de Sintomas das Amostras Positivadas",
         "x": 0.5
        },
        "xaxis": {
         "anchor": "y",
         "domain": [
          0,
          1
         ],
         "dtick": 1,
         "tickmode": "linear",
         "title": {
          "text": "Sintomas"
         }
        },
        "yaxis": {
         "anchor": "x",
         "domain": [
          0,
          1
         ],
         "title": {
          "text": "Quantidade"
         }
        }
       }
      }
     },
     "metadata": {},
     "output_type": "display_data"
    }
   ],
   "source": [
    "fig = px.bar(df_total_sintomas.T,\n",
    "            labels={\n",
    "                'value':'Quantidade',\n",
    "                'index':'Sintomas'\n",
    "            },\n",
    "            title='Total de Sintomas das Amostras Positivadas',\n",
    "            text_auto=True\n",
    ")\n",
    "fig.update_layout(\n",
    "    autosize=False,\n",
    "    height=700,\n",
    "    title_x=0.5,\n",
    "    showlegend=False,\n",
    "    xaxis = dict(\n",
    "        tickmode='linear',\n",
    "        dtick=1\n",
    "\n",
    "    )\n",
    ")\n",
    "# fig.update_traces(\n",
    "#     marker_color='green'\n",
    "# )\n",
    "fig.show() "
   ]
  }
 ],
 "metadata": {
  "kernelspec": {
   "display_name": "Python 3 (ipykernel)",
   "language": "python",
   "name": "python3"
  },
  "language_info": {
   "codemirror_mode": {
    "name": "ipython",
    "version": 3
   },
   "file_extension": ".py",
   "mimetype": "text/x-python",
   "name": "python",
   "nbconvert_exporter": "python",
   "pygments_lexer": "ipython3",
   "version": "3.9.13"
  }
 },
 "nbformat": 4,
 "nbformat_minor": 2
}
